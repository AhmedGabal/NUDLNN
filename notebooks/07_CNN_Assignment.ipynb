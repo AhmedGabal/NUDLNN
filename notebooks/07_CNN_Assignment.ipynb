{
 "cells": [
  {
   "cell_type": "code",
   "execution_count": 8,
   "metadata": {},
   "outputs": [],
   "source": [
    "] activate ."
   ]
  },
  {
   "cell_type": "code",
   "execution_count": 9,
   "metadata": {},
   "outputs": [],
   "source": [
    "using Flux, Flux.Data.MNIST, Statistics\n",
    "using Flux: onehotbatch, onecold, crossentropy, throttle\n",
    "using Base.Iterators: repeated, partition\n",
    "using Images"
   ]
  },
  {
   "cell_type": "code",
   "execution_count": 10,
   "metadata": {},
   "outputs": [],
   "source": [
    "using MLDatasets\n",
    "# load full training set\n",
    "train_x, train_y = CIFAR10.traindata();\n",
    "train_y = onehotbatch(train_y, 0:9);\n",
    "# load full test set\n",
    "test_x,  test_y  = CIFAR10.testdata();\n",
    "test_y = onehotbatch(test_y, 0:9);"
   ]
  },
  {
   "cell_type": "code",
   "execution_count": 11,
   "metadata": {},
   "outputs": [
    {
     "data": {
      "text/plain": [
       "float2RGB (generic function with 1 method)"
      ]
     },
     "execution_count": 11,
     "metadata": {},
     "output_type": "execute_result"
    }
   ],
   "source": [
    "float2RGB(img)= colorview(RGB,PermutedDimsArray(train_x[:,:,:,6],[3,2,1]))\n"
   ]
  },
  {
   "cell_type": "code",
   "execution_count": 12,
   "metadata": {},
   "outputs": [
    {
     "data": {
      "text/plain": [
       "shiftToLeft (generic function with 1 method)"
      ]
     },
     "execution_count": 12,
     "metadata": {},
     "output_type": "execute_result"
    }
   ],
   "source": [
    "function shiftToLeft(img, n)\n",
    "    r, g, b = img[:, n+1:end, 1], img[:, n+1:end, 2], img[:, n+1:end, 3]\n",
    "    r_shift = hcat(r, zeros(size(img, 1), n))\n",
    "    g_shift = hcat(g, zeros(size(img, 1), n))\n",
    "    b_shift = hcat(b, zeros(size(img, 1), n))\n",
    "    shifted_img = zeros(size(img, 1), size(img, 2), 3)\n",
    "    shifted_img[:, :, 1] = r_shift\n",
    "    shifted_img[:, :, 2] = g_shift\n",
    "    shifted_img[:, :, 3] = b_shift\n",
    "    shifted_img\n",
    "end"
   ]
  },
  {
   "cell_type": "code",
   "execution_count": 13,
   "metadata": {},
   "outputs": [
    {
     "data": {
      "text/plain": [
       "rotate_right (generic function with 1 method)"
      ]
     },
     "execution_count": 13,
     "metadata": {},
     "output_type": "execute_result"
    }
   ],
   "source": [
    "function rotate_right(img)\n",
    "    r, g, b = img[:, :, 1], img[:, :, 2], img[:, :, 3]\n",
    "    rotated_img = zeros(size(img, 1), size(img, 2), 3)\n",
    "    rotated_img[:, :, 1] = r'\n",
    "    rotated_img[:, :, 2] = g'\n",
    "    rotated_img[:, :, 3] = b'\n",
    "    rotated_img\n",
    "end"
   ]
  },
  {
   "cell_type": "markdown",
   "metadata": {},
   "source": [
    "# At this point!\n",
    "\n",
    "**Q1:** In one line of code: Extract the last 250 from CIFAR training set and store them into X_CNN\n",
    "\n",
    "\n",
    "**Q2:** In one line of code: Extract their corresponding classes and store them into Y_CNN\n",
    "\n",
    "\n",
    "**Q3:** How many classes are there the last 250 samples? Write code that extract the number. \n",
    "\n",
    "\n",
    "**Q4:** How what does each class stand for? (e.g. 1. Horse, 2. Cars...etc) Write code how you display a sample image from each class. \n"
   ]
  },
  {
   "cell_type": "markdown",
   "metadata": {},
   "source": [
    "# CNN"
   ]
  },
  {
   "cell_type": "code",
   "execution_count": 14,
   "metadata": {},
   "outputs": [
    {
     "data": {
      "text/plain": [
       "test_CNN (generic function with 1 method)"
      ]
     },
     "execution_count": 14,
     "metadata": {},
     "output_type": "execute_result"
    }
   ],
   "source": [
    "\n",
    "m = Chain(\n",
    "    Conv((2,2), 3=>16, relu),\n",
    "    x -> maxpool(x, (2,2)), # maxpool default stride = k e.g. (2,2)\n",
    "    x -> reshape(x, :, size(x, 4)),\n",
    "    Dense(3600, 10), \n",
    "    softmax\n",
    ")\n",
    "loss(x, y) = crossentropy(m(x), y)\n",
    "accuracy(x, y) = mean(onecold(m(x)) .== onecold(y))\n",
    "\n",
    "function train_CNN(X, Y, dataset)\n",
    "    evalcb = throttle(() -> @show(accuracy(X, Y)), 10)\n",
    "    opt = ADAM(params(m))\n",
    "    Flux.train!(loss, dataset, opt, cb = evalcb)\n",
    "end\n",
    "\n",
    "function test_CNN(X, Y)\n",
    "    accuracy(X, Y)\n",
    "end"
   ]
  },
  {
   "cell_type": "markdown",
   "metadata": {},
   "source": [
    "# At this point!"
   ]
  },
  {
   "cell_type": "markdown",
   "metadata": {},
   "source": [
    "**Q5** In 3 lines of code: Run the CNN model on X_CNN and Y_CNN using 150 iterations and using train_CNN function\n",
    "_Note:_ we need 3 lines because CNN will fire an error and we have to make some pre-processing over the input first\n",
    "\n",
    "\n",
    "\n"
   ]
  },
  {
   "cell_type": "markdown",
   "metadata": {},
   "source": [
    "**Q6:** In 4 lines of code: Get the 5th image and its class from the training data then test if the CNN will recognize it or not (and in case that CNN did't recognize the true class, select any other image that CNN will correctlt classify so you will be able to run all below questions). Finally,plot the selected image\n",
    "\n",
    "\n",
    "\n"
   ]
  },
  {
   "cell_type": "code",
   "execution_count": 15,
   "metadata": {},
   "outputs": [],
   "source": [
    "w1 = params(m)[1];"
   ]
  },
  {
   "cell_type": "code",
   "execution_count": 16,
   "metadata": {},
   "outputs": [
    {
     "data": {
      "text/plain": [
       "my_init (generic function with 1 method)"
      ]
     },
     "execution_count": 16,
     "metadata": {},
     "output_type": "execute_result"
    }
   ],
   "source": [
    "function my_init(k1,k2,ch1,ch2)\n",
    "    Tracker.data(w1)\n",
    "end\n"
   ]
  },
  {
   "cell_type": "code",
   "execution_count": 17,
   "metadata": {},
   "outputs": [
    {
     "data": {
      "text/plain": [
       "Chain(Conv((2, 2), 3=>16, NNlib.relu), getfield(Main, Symbol(\"##9#10\"))())"
      ]
     },
     "execution_count": 17,
     "metadata": {},
     "output_type": "execute_result"
    }
   ],
   "source": [
    "m_final = Chain(\n",
    "    Conv((2,2), 3=>16, relu, init= my_init),\n",
    "    x -> maxpool(x, (2,2))\n",
    ")"
   ]
  },
  {
   "cell_type": "code",
   "execution_count": 18,
   "metadata": {},
   "outputs": [
    {
     "data": {
      "text/plain": [
       "displayChannels (generic function with 1 method)"
      ]
     },
     "execution_count": 18,
     "metadata": {},
     "output_type": "execute_result"
    }
   ],
   "source": [
    "function displayChannels(output_conv)\n",
    "    imgChannels=[]\n",
    "    for j=1:size(output_conv, 3)\n",
    "        ch = output_conv[:, :, j];\n",
    "        imgrgb = convert(Array{ColorTypes.Gray,2}, Tracker.data(ch))\n",
    "        push!(imgChannels,imgrgb)\n",
    "    end\n",
    "    [imgChannels...]\n",
    "end"
   ]
  },
  {
   "cell_type": "code",
   "execution_count": 15,
   "metadata": {
    "scrolled": false
   },
   "outputs": [
    {
     "data": {
      "text/html": [
       "<table><tbody><tr><td style='text-align:center;vertical-align:middle; margin: 0.5em;border:1px #90999f solid;border-collapse:collapse'><img style='max-width: 100px; max-height:100px;display:inline' src=\"data:image/png;base64,iVBORw0KGgoAAAANSUhEUgAAAGkAAABpAQAAAAAR+TCXAAAABGdBTUEAALGPC/xhBQAAACBjSFJNAAB6JgAAgIQAAPoAAACA6AAAdTAAAOpgAAA6mAAAF3CculE8AAAAAmJLR0QAAd2KE6QAAAAVSURBVDjLY2AYBaNgFIyCUTAKcAIABicAAUZAVxIAAAAASUVORK5C\"></td><td style='text-align:center;vertical-align:middle; margin: 0.5em;border:1px #90999f solid;border-collapse:collapse'><img style='max-width: 100px; max-height:100px;display:inline' src=\"data:image/png;base64,iVBORw0KGgoAAAANSUhEUgAAAGkAAABpAQAAAAAR+TCXAAAABGdBTUEAALGPC/xhBQAAACBjSFJNAAB6JgAAgIQAAPoAAACA6AAAdTAAAOpgAAA6mAAAF3CculE8AAAAAmJLR0QAAd2KE6QAAAAVSURBVDjLY2AYBaNgFIyCUTAKcAIABicAAUZAVxIAAAAASUVORK5C\"></td><td style='text-align:center;vertical-align:middle; margin: 0.5em;border:1px #90999f solid;border-collapse:collapse'><img style='max-width: 100px; max-height:100px;display:inline' src=\"data:image/png;base64,iVBORw0KGgoAAAANSUhEUgAAAGkAAABpCAAAAAAc6VLmAAAABGdBTUEAALGPC/xhBQAAACBjSFJNAAB6JgAAgIQAAPoAAACA6AAAdTAAAOpgAAA6mAAAF3CculE8AAAAAmJLR0QA/4ePzL8AAAE5SURBVGje7Zk9SgNRFIUdDQQLnSIoIkxh4QpEcAMWNql1J/bZhJ1r0D1oY2Er+IMYAjaCEhTUjFp8t7kwBN4rZi54TvMxhPBx4PB4yRS/Cy1lsS2RTDLJJNO/M/Vyv3gKDsFypE4yyeSTvfJbcAZKcBCik0wy+SSsfOyepuACaOUyBTYlrLwCV6AGa2AAbPorYNZRJ5lk8km/sXyBIXgCe8D+sHkDZUedZJLJJ2HlE2CH+Du4BzfgCOx220kmmXzmrvwD2Hn9DK7d0yvogypEJ5lk8mle+SNYAqvgE2yBHXDpPqtDdJJJJp/mlduZfAcewAnYBHYF/wE2/QK8gG+w0XYnmWTyKXLf8B8Du7iMgG4sMkU0Zb8V2gfnYD1SJ5lk8sk+y+0mbr9MtyN1kkkmn+yVB+4kk0w+fyxPLnSZo0/BAAAAAElFTkSuQmCC\"></td><td style='text-align:center;vertical-align:middle; margin: 0.5em;border:1px #90999f solid;border-collapse:collapse'><img style='max-width: 100px; max-height:100px;display:inline' src=\"data:image/png;base64,iVBORw0KGgoAAAANSUhEUgAAAGkAAABpCAAAAAAc6VLmAAAABGdBTUEAALGPC/xhBQAAACBjSFJNAAB6JgAAgIQAAPoAAACA6AAAdTAAAOpgAAA6mAAAF3CculE8AAAAAmJLR0QA/4ePzL8AAAFQSURBVGje7ZrLagJBFEQ1UWIUX2iQrJT8/0cFIig+EnxEo6iTRdWmxEX3ZmyHqs3BmWnP3OEyXGxLJccpesrRK16BAfAZvO4pt5pssklTiV4xBC5y8B2YJFGTTTZp4rv8BfiSg/WUarLJJk1Il7fkpvgS3wDPwCylmmyySRPS5Wu5qT1wBjjXs+erwBuwAI5512STTZqIiaUNsL2bwA7oAQdgCujoXsSnZ9NjmMoBJ7sAX+Jsb44q33LlXxI12WST5naXN+U22NANWTGWSy6CO9dkk02aq4mFDd0BfoAakMnBEcCJha90juBVqeKQd0022aS56nIO3XOAowpbny28Bdi72a0vbcg5d7lNdzaF7H1yt5Nz+QewBH6BU0o12WSTJuQ3lr18WgF9YJ1gTTbZpInf++RLnFugWfC6Ij49mx7DFP9vLYbD+jnBmmyySfMPqocxarXES18AAAAASUVORK5C\"></td><td style='text-align:center;vertical-align:middle; margin: 0.5em;border:1px #90999f solid;border-collapse:collapse'><img style='max-width: 100px; max-height:100px;display:inline' src=\"data:image/png;base64,iVBORw0KGgoAAAANSUhEUgAAAGkAAABpCAAAAAAc6VLmAAAABGdBTUEAALGPC/xhBQAAACBjSFJNAAB6JgAAgIQAAPoAAACA6AAAdTAAAOpgAAA6mAAAF3CculE8AAAAAmJLR0QA/4ePzL8AAAG7SURBVGje7Zq9SsRAFIUnMivi6vpfCIJYiSiI3da+xr6cTyGKL2BhJ9hYqIUi/iCKirvuJhbnWBy5DFbZJNzbfExyMycznB1uLpudhBBCCIVAo7BGReJebqVMhLLClVxJI5qmzaxUTckTmeZzTdw9V6qHUjSvqoUJunUEHAFdYAZoWZNlZa/JlVxJI5o1iqnPzCFwB5wCHaBrPZeXvSZXciWN37M8Vbjw9L4B6PIP4AKgy/eASZFwl7vSmJVi6mOSr8FfwjpwDtD600AbeAfo+W/AKxZXGrNSTPVK6GTalGcyvbsNPAGbwACg2dvyeBN3z5XqoRS1SWJ2TujrW4AW/gIegHtgH9gBvJPoStVQSvZYPoFr4Bm4Al6BvkyzWIk1uZIraURtE3LEo/kN4MfkFLACbACXAEuVvBJrciVX0vjTSaTLlwD2UViVHAILwECeW+NswIukLJe9JldyJY3sWIZ6pOtnZ19GB8Aj0ANWgZZMNip7Ta7kShp2xRLkIqHe3QXOgHlJMX8kTdw9V6qHUkz5WkMztwCWI7Py3swcyqiJu+dK9VCK//i7lRlzQMe6Z9b6Tdw9V6qH0g+elGUuONZNZQAAAABJRU5ErkJg\"></td><td style='text-align:center;vertical-align:middle; margin: 0.5em;border:1px #90999f solid;border-collapse:collapse'><img style='max-width: 100px; max-height:100px;display:inline' src=\"data:image/png;base64,iVBORw0KGgoAAAANSUhEUgAAAGkAAABpCAAAAAAc6VLmAAAABGdBTUEAALGPC/xhBQAAACBjSFJNAAB6JgAAgIQAAPoAAACA6AAAdTAAAOpgAAA6mAAAF3CculE8AAAAAmJLR0QA/4ePzL8AAAGcSURBVGje7ZpPSwMxEMWzNVariCIIWm+Cn8cP792bf0AoKNWKtbse3uvhlSF42rjLm8tjku38NmEYJuk2dymllFITSSfeRLwUeUl+pzZJfZlJJqnlrjCpKdxFXhYvDNb1vSaTTFLL4WhTGOS7PUBuoiddy036V6SsXQm9VjzOadl+h7zI4Fx+3lZak0kmqW1reZjsWtK/ond7FW8eIdyxmFSZlEuT2m1PIQsIC/WhzP1A9iSKdjo9mEkmqeWwbIce85opzIZ8BTmHHEA+INNKazLJJLW4lodNhlbvNWQJeYNcQk4lSu9rMskktbgvp63F+4bw2PkJWUmYY4miDc8Yd8+kYZB2ajkzkhX6DMLOg1m+gVxAnmWwdPk+xt0zaRikbZZrET+C8FblEfIEYe+9D2kjbymrmPW9JpNMUsvhQVOvxq8g1/LkPYR5fQthss/kSXcsJlUm7dRyzXl9DZ1j6rPOs6nh/csmijnG3TNpGKS//MOvHjOZd4fsbVjE9Qyrh9Ax7p5JwyDl8GPEkulnWicymKIoruUmVSb9AvN5SKILhwZ6AAAAAElFTkSuQmCC\"></td><td style='text-align:center;vertical-align:middle; margin: 0.5em;border:1px #90999f solid;border-collapse:collapse'><img style='max-width: 100px; max-height:100px;display:inline' src=\"data:image/png;base64,iVBORw0KGgoAAAANSUhEUgAAAGkAAABpCAAAAAAc6VLmAAAABGdBTUEAALGPC/xhBQAAACBjSFJNAAB6JgAAgIQAAPoAAACA6AAAdTAAAOpgAAA6mAAAF3CculE8AAAAAmJLR0QA/4ePzL8AAABVSURBVGje7dixDsAQFEBRbYz+/0uNHQwmG2loyTnLm+RiIwQAgL+7hlfEOp7RdfeyMykpteKyvZ14e0p7lAAAAGC+np/EVEd+Vzrx7a60RwkAAPheAZrnAi3iFNrVAAAAAElFTkSuQmCC\"></td><td style='text-align:center;vertical-align:middle; margin: 0.5em;border:1px #90999f solid;border-collapse:collapse'><img style='max-width: 100px; max-height:100px;display:inline' src=\"data:image/png;base64,iVBORw0KGgoAAAANSUhEUgAAAGkAAABpCAAAAAAc6VLmAAAABGdBTUEAALGPC/xhBQAAACBjSFJNAAB6JgAAgIQAAPoAAACA6AAAdTAAAOpgAAA6mAAAF3CculE8AAAAAmJLR0QA/4ePzL8AAAE0SURBVGje7ZkxS0JhFIa90iBoeEESHIJwbXL0NzQ29m8cW/sVDg79hqDR0QYbIqJaQ6kIK4fnLAcEu19wPer7Lg/CvTycy8vHud7st1JSqmWJZJJJJpn2znSQeuMInAecSSaZfJJbfgeuQRv0Q8wkk0w+BVo+B7bIv4EbkAO1XKaIpgItb4B7sABHoBVpJplk8im+sXwBW8gfQH/9fbv49GTaDlOBlr8Da/kHsJN9Ai7A6WZnkkkmn7+0/Bm8gDF4BLae18BJiJlkkslndctn7lcT2CF+DHrgFnyC7xAzySSTz+qWH4JXMAVXoOOutH9cuiADP8CWmnrZM8kkk0+W+oV/AJ7AJchDzCSTTD7JX4XOwBDkkWaSSSaf5LPcYq+knfVX7uLTk2k7TP9tecSZZJLJZwnsIih0xDBcTQAAAABJRU5ErkJg\"></td><td style='text-align:center;vertical-align:middle; margin: 0.5em;border:1px #90999f solid;border-collapse:collapse'><img style='max-width: 100px; max-height:100px;display:inline' src=\"data:image/png;base64,iVBORw0KGgoAAAANSUhEUgAAAGkAAABpAQAAAAAR+TCXAAAABGdBTUEAALGPC/xhBQAAACBjSFJNAAB6JgAAgIQAAPoAAACA6AAAdTAAAOpgAAA6mAAAF3CculE8AAAAAmJLR0QAAd2KE6QAAAAVSURBVDjLY2AYBaNgFIyCUTAKcAIABicAAUZAVxIAAAAASUVORK5C\"></td><td style='text-align:center;vertical-align:middle; margin: 0.5em;border:1px #90999f solid;border-collapse:collapse'><img style='max-width: 100px; max-height:100px;display:inline' src=\"data:image/png;base64,iVBORw0KGgoAAAANSUhEUgAAAGkAAABpCAAAAAAc6VLmAAAABGdBTUEAALGPC/xhBQAAACBjSFJNAAB6JgAAgIQAAPoAAACA6AAAdTAAAOpgAAA6mAAAF3CculE8AAAAAmJLR0QA/4ePzL8AAAEWSURBVGje7ZgxagJRFEUdkURLQ8RCsBFLF5DK1s5FuJpg6RZcRCqxtBeLFGkSu0BiIxNRjMX5zWsG5wv61HubwxR6uMNl+DPJf+FMKZ5LJJNMMsl0d6ZS7A/fQM9hJ5lksole+QI8gBrouOgkk0w20StfgQmoAq1cJo+m/Cv/BjtQB8+eOskkk02S+xvLF/gFH6ALnlx0kkkmm/zP8i1Yg3cwBwPQuGwnmWSyOWblKViCmbn6AWXQyPiXW7x7Ml2H6ZiVV0A4e7fAC5iC1FMnmWSyyVz5HwinklfQBOE8vwdtT51kkskm/9tnyBB8gpGnTjLJZBP9vbwPxg47ySSTTfSzPGQDHj11kkkmm1NX7rGTTDLZHAD+yiJlJCXyGgAAAABJRU5ErkJg\"></td><td style='text-align:center;vertical-align:middle; margin: 0.5em;border:1px #90999f solid;border-collapse:collapse'><img style='max-width: 100px; max-height:100px;display:inline' src=\"data:image/png;base64,iVBORw0KGgoAAAANSUhEUgAAAGkAAABpCAAAAAAc6VLmAAAABGdBTUEAALGPC/xhBQAAACBjSFJNAAB6JgAAgIQAAPoAAACA6AAAdTAAAOpgAAA6mAAAF3CculE8AAAAAmJLR0QA/4ePzL8AAAGvSURBVGje7Zq9SgQxFIVn3AGFERR/CxFLsVEQfAELER/CJ9vCzsfwGRQbQWELURFUVBRF3Vics8WRS1ybjQn3Nh9JNjmbcDncyUx9WhlR/94ZIr8MFsaqUYUruZJGEyKDmsJ9q9VIZ4igxNNzpTyUolnOMG37CNgApoBxmZBqT67kShp2lmtem5Z+DlwAW8CmTA8yocTTc6U8lLTiqGLOfikz7oFX4BFYAyaAvqDE03OlPJT+ULEsAdfAJ7AIsFR5AOaBj0R7ciVX0hh4uVl7B6v1DmwDNPhVYBJ4BlrZTImn50p5KDVmJjM05++AF4B1yBXQA9aBXVnM71hcKbHSj7qcec3EfANuAZbgJ8CNdHKZFfn7X7JYiafnSnkoNeZrHdp2B2hlbAZgjXIGPAEs1v0m0ZX+lVJj9k4DNHFWJYfAHMCKhQm9LKvR4Gn3avAjCFdyJY36ODKoj6TMaxp8F+gB+wATupUJfpPoSomVBl4+xJcrHWntAAfALKDpnWpPruRKGvbT5xAt2vYesADEbLvE03OlPJRqXpmYL/P5N8yHydjHiOZYiafnSnkofQMbiFbJx9GHVAAAAABJRU5ErkJg\"></td><td style='text-align:center;vertical-align:middle; margin: 0.5em;border:1px #90999f solid;border-collapse:collapse'><img style='max-width: 100px; max-height:100px;display:inline' src=\"data:image/png;base64,iVBORw0KGgoAAAANSUhEUgAAAGkAAABpCAAAAAAc6VLmAAAABGdBTUEAALGPC/xhBQAAACBjSFJNAAB6JgAAgIQAAPoAAACA6AAAdTAAAOpgAAA6mAAAF3CculE8AAAAAmJLR0QA/4ePzL8AAAExSURBVGje7ZkxagJRFEUdEZEwBAJaBSTBwh0Ei+wgnQvIZqyFrCNFqmwgWFoHC0EbsTApDCQaFNHi/OaBkPwRxpd4b3OqmTN3eHz+/Em2hZxSzEskk0wyyXRyplLWC59A22EnmWSyyTzlA/AMqqDlopNMMtlETPkChI38B3gBF0BTLpNHU8SUn4ER2IAaqHrqJJNMNkn0GUvYqszBGNyCuotOMslkE7GWf4M1+AJD8AruQfO4nWSSyeY3Uz4DU9AHEzAHFXDlopNMMtnsn/JP8xjnIKzl1+AG9MASbFx0kkkmm/1TnoI3EHYlD+ASbA0aIDF3WYFy3p1kkskm/uszpAPCxqULUhedZJLJJvNfoTvwCNKfL/iPb0+mv2HKvJaHvAOdl8vk2HTolHvsJJNMNjuu9yoOfQWMwQAAAABJRU5ErkJg\"></td><td style='text-align:center;vertical-align:middle; margin: 0.5em;border:1px #90999f solid;border-collapse:collapse'><img style='max-width: 100px; max-height:100px;display:inline' src=\"data:image/png;base64,iVBORw0KGgoAAAANSUhEUgAAAGkAAABpCAAAAAAc6VLmAAAABGdBTUEAALGPC/xhBQAAACBjSFJNAAB6JgAAgIQAAPoAAACA6AAAdTAAAOpgAAA6mAAAF3CculE8AAAAAmJLR0QA/4ePzL8AAAFASURBVGje7ZjNSsNAFIXjT7Ui1oIIhS7cCKLP4XO77aLURygushBsShFCxJDq4tzNgaFpJjCThHM2H0xm5uOGy5BMkijK0HPiu/AeqIBt/YLTYDXJJBPn3HfhDTAHlsAU+Ixbk0wycby7fA08A7fAE6Aul6lTpgZdPgJKGlzQNtedqEkmmTgNurx0DX4DE6CgZ3dAFrommWTieH+xWC4B6/J3enYWqSaZZOJ437E48wq8AftINckkE+eYs9zO5OrAlAsgB/auKUN8ezL1w+TucvuitoN+Q89mwA6whv517WLL/0LXJJNMHHeXZwem2pH+A1gnPwI5LXgA0tA1ySQTp8Hfp/1oftGgHdQvAP99fkSqSSaZOA26PHcNjmmbtBM1ySQTp+1Noh3iqy7VJJNMnLY3iVdAUT9ziG9Ppn6Y/gGkYyQ3EqHhFwAAAABJRU5ErkJg\"></td><td style='text-align:center;vertical-align:middle; margin: 0.5em;border:1px #90999f solid;border-collapse:collapse'><img style='max-width: 100px; max-height:100px;display:inline' src=\"data:image/png;base64,iVBORw0KGgoAAAANSUhEUgAAAGkAAABpAQAAAAAR+TCXAAAABGdBTUEAALGPC/xhBQAAACBjSFJNAAB6JgAAgIQAAPoAAACA6AAAdTAAAOpgAAA6mAAAF3CculE8AAAAAmJLR0QAAd2KE6QAAAAVSURBVDjLY2AYBaNgFIyCUTAKcAIABicAAUZAVxIAAAAASUVORK5C\"></td><td style='text-align:center;vertical-align:middle; margin: 0.5em;border:1px #90999f solid;border-collapse:collapse'><img style='max-width: 100px; max-height:100px;display:inline' src=\"data:image/png;base64,iVBORw0KGgoAAAANSUhEUgAAAGkAAABpCAAAAAAc6VLmAAAABGdBTUEAALGPC/xhBQAAACBjSFJNAAB6JgAAgIQAAPoAAACA6AAAdTAAAOpgAAA6mAAAF3CculE8AAAAAmJLR0QA/4ePzL8AAAExSURBVGje7Zm7agJRFEUdSWEj3EAaCwmktLJMk942jV2+xQ9I70ekSJMfsLG3U4iND5I2kiLEoKZYtzkgiXOF8ah7N4thZljsy2E4MNmmVFDKRYlkkkkmmc7OdJH64hNoO+wkk0w2yVM+Ai8ggDsXnWSSySbHlH+CNViAHrgEmnKZPJpyTHkVxI/4ClwZ+Ogkk0w2+TeWb3APJuAWrP9ocYqnJ9NxmPJvLD/gC4zBEDyAxmE7ySSTzS5TPgNvYACmIK7nFXDtopNMMtlsn/IPcxXAEtRBE/TNvZWLTjLJZLN9ygOYg1fQBTXzZNzEb0AG4uoeR79adCeZZLLJUv/wd0BcYx5BcNFJJplskv8KtcAzCJ46ySSTTfK3POYd1P5/8hRPT6bjMO075R47ySSTzS8P+ilu/SKAoAAAAABJRU5ErkJg\"></td><td style='text-align:center;vertical-align:middle; margin: 0.5em;border:1px #90999f solid;border-collapse:collapse'><img style='max-width: 100px; max-height:100px;display:inline' src=\"data:image/png;base64,iVBORw0KGgoAAAANSUhEUgAAAGkAAABpCAAAAAAc6VLmAAAABGdBTUEAALGPC/xhBQAAACBjSFJNAAB6JgAAgIQAAPoAAACA6AAAdTAAAOpgAAA6mAAAF3CculE8AAAAAmJLR0QA/4ePzL8AAAGrSURBVGje7Zq7TsQwFEQdMLA8hUSBoEMrOuj4L/6RL6ClQQhRUPASKxAPkVDMbDGrq4gqwdbc5sh27Ems2asbb5rzlFJKqYmQesb0Eo0uai2locJKVtLI2lR/NlEno5X54SVjPZOVrKSRQ39SX13eyNglcCpj4c/CudxKIytltTDjR1ocY9pmEn8GruWGp0AXocbds1IZSvOKJTS7tmZybzT7HbAMTGVeK0vXuHtWKkNpweUMrTyIDeAeoIU3gQnwBaxEi9W4e1YqQymuWDQ0NbN1ArwCB8Aa8AZMZEKNu2elMpRy2KtFBm36CdDJH8AL8ACwYtmXVVyxWGlkpdjl9DULEL6LMkM/AqzS32WZHZlOe7dDP5OVrKQRu/wJ2AXW5VJ6njXKrXRq9ma4YrHSyEpzl2tdzpzM7H0DXAH0/CrQSidbM1lsa+hnspKVNHJ4dkjvbwP0/LFceQF8A2cAzc4zFtflVvofSgu5vO+8XDuPAE3wWtTomjXunpXKUOp9+9QWwT+ADgGmex68dNEE53IrjayU//DBYWhaViV70qm3H37/MkBYyUoav/RzStr3fKPDAAAAAElFTkSuQmCC\"></td></tr></tbody></table><div><small>(a vector displayed as a row to save space)</small></div>"
      ],
      "text/plain": [
       "16-element Array{Array{Gray{Float64},2},1}:\n",
       " [Gray{Float64}(0.0) Gray{Float64}(0.0) … Gray{Float64}(0.0) Gray{Float64}(0.0); Gray{Float64}(0.0) Gray{Float64}(0.0) … Gray{Float64}(0.0) Gray{Float64}(0.0); … ; Gray{Float64}(0.0) Gray{Float64}(0.0) … Gray{Float64}(0.0) Gray{Float64}(0.0); Gray{Float64}(0.0) Gray{Float64}(0.0) … Gray{Float64}(0.0) Gray{Float64}(0.0)]                                                                               \n",
       " [Gray{Float64}(0.0) Gray{Float64}(0.0) … Gray{Float64}(0.0) Gray{Float64}(0.0); Gray{Float64}(0.0) Gray{Float64}(0.0) … Gray{Float64}(0.0) Gray{Float64}(0.0); … ; Gray{Float64}(0.0) Gray{Float64}(0.0) … Gray{Float64}(0.0) Gray{Float64}(0.0); Gray{Float64}(0.0) Gray{Float64}(0.0) … Gray{Float64}(0.0) Gray{Float64}(0.0)]                                                                               \n",
       " [Gray{Float64}(1.04468) Gray{Float64}(1.04406) … Gray{Float64}(1.03226) Gray{Float64}(1.02655); Gray{Float64}(1.04225) Gray{Float64}(1.0387) … Gray{Float64}(1.03022) Gray{Float64}(1.02283); … ; Gray{Float64}(1.03328) Gray{Float64}(1.03646) … Gray{Float64}(1.04157) Gray{Float64}(1.03397); Gray{Float64}(1.03849) Gray{Float64}(1.04118) … Gray{Float64}(1.04239) Gray{Float64}(1.04239)]                \n",
       " [Gray{Float64}(0.0) Gray{Float64}(0.0) … Gray{Float64}(0.0) Gray{Float64}(0.0); Gray{Float64}(0.0) Gray{Float64}(0.0) … Gray{Float64}(0.0) Gray{Float64}(0.0); … ; Gray{Float64}(0.0) Gray{Float64}(0.0) … Gray{Float64}(0.0) Gray{Float64}(0.0); Gray{Float64}(0.0) Gray{Float64}(0.0) … Gray{Float64}(0.0) Gray{Float64}(0.0)]                                                                               \n",
       " [Gray{Float64}(0.731711) Gray{Float64}(0.728163) … Gray{Float64}(0.693424) Gray{Float64}(0.689686); Gray{Float64}(0.730363) Gray{Float64}(0.725664) … Gray{Float64}(0.693348) Gray{Float64}(0.687455); … ; Gray{Float64}(0.733727) Gray{Float64}(0.728978) … Gray{Float64}(0.699389) Gray{Float64}(0.69405); Gray{Float64}(0.736929) Gray{Float64}(0.731672) … Gray{Float64}(0.699395) Gray{Float64}(0.699395)]\n",
       " [Gray{Float64}(0.308505) Gray{Float64}(0.313597) … Gray{Float64}(0.33445) Gray{Float64}(0.331701); Gray{Float64}(0.307157) Gray{Float64}(0.311092) … Gray{Float64}(0.332591) Gray{Float64}(0.329975); … ; Gray{Float64}(0.302265) Gray{Float64}(0.310882) … Gray{Float64}(0.337911) Gray{Float64}(0.335071); Gray{Float64}(0.304051) Gray{Float64}(0.312487) … Gray{Float64}(0.338123) Gray{Float64}(0.338123)]\n",
       " [Gray{Float64}(0.0) Gray{Float64}(0.0) … Gray{Float64}(0.0) Gray{Float64}(0.0); Gray{Float64}(0.0) Gray{Float64}(0.0) … Gray{Float64}(0.0) Gray{Float64}(0.0); … ; Gray{Float64}(0.0) Gray{Float64}(0.0) … Gray{Float64}(0.0) Gray{Float64}(0.0); Gray{Float64}(0.0) Gray{Float64}(0.0) … Gray{Float64}(0.0) Gray{Float64}(0.0)]                                                                               \n",
       " [Gray{Float64}(1.11854) Gray{Float64}(1.11757) … Gray{Float64}(1.10419) Gray{Float64}(1.09817); Gray{Float64}(1.11622) Gray{Float64}(1.11201) … Gray{Float64}(1.1018) Gray{Float64}(1.09396); … ; Gray{Float64}(1.10608) Gray{Float64}(1.10899) … Gray{Float64}(1.11389) Gray{Float64}(1.10606); Gray{Float64}(1.11153) Gray{Float64}(1.1141) … Gray{Float64}(1.11474) Gray{Float64}(1.11474)]                 \n",
       " [Gray{Float64}(0.0) Gray{Float64}(0.0) … Gray{Float64}(0.0) Gray{Float64}(0.0); Gray{Float64}(0.0) Gray{Float64}(0.0) … Gray{Float64}(0.0) Gray{Float64}(0.0); … ; Gray{Float64}(0.0) Gray{Float64}(0.0) … Gray{Float64}(0.0) Gray{Float64}(0.0); Gray{Float64}(0.0) Gray{Float64}(0.0) … Gray{Float64}(0.0) Gray{Float64}(0.0)]                                                                               \n",
       " [Gray{Float64}(1.19584) Gray{Float64}(1.19482) … Gray{Float64}(1.18018) Gray{Float64}(1.17373); Gray{Float64}(1.19311) Gray{Float64}(1.18879) … Gray{Float64}(1.17776) Gray{Float64}(1.16936); … ; Gray{Float64}(1.18276) Gray{Float64}(1.18594) … Gray{Float64}(1.19063) Gray{Float64}(1.1822); Gray{Float64}(1.18868) Gray{Float64}(1.19137) … Gray{Float64}(1.19159) Gray{Float64}(1.19159)]                \n",
       " [Gray{Float64}(0.831358) Gray{Float64}(0.831659) … Gray{Float64}(0.83146) Gray{Float64}(0.826894); Gray{Float64}(0.829314) Gray{Float64}(0.827544) … Gray{Float64}(0.82931) Gray{Float64}(0.823264); … ; Gray{Float64}(0.820408) Gray{Float64}(0.824839) … Gray{Float64}(0.838888) Gray{Float64}(0.83298); Gray{Float64}(0.824551) Gray{Float64}(0.828609) … Gray{Float64}(0.838898) Gray{Float64}(0.838898)]  \n",
       " [Gray{Float64}(1.13308) Gray{Float64}(1.13198) … Gray{Float64}(1.11788) Gray{Float64}(1.11178); Gray{Float64}(1.13052) Gray{Float64}(1.12632) … Gray{Float64}(1.11565) Gray{Float64}(1.10769); … ; Gray{Float64}(1.12074) Gray{Float64}(1.12361) … Gray{Float64}(1.1278) Gray{Float64}(1.1198); Gray{Float64}(1.12633) Gray{Float64}(1.12875) … Gray{Float64}(1.1287) Gray{Float64}(1.1287)]                   \n",
       " [Gray{Float64}(0.0) Gray{Float64}(0.0) … Gray{Float64}(0.0) Gray{Float64}(0.0); Gray{Float64}(0.0) Gray{Float64}(0.0) … Gray{Float64}(0.0) Gray{Float64}(0.0); … ; Gray{Float64}(0.0) Gray{Float64}(0.0) … Gray{Float64}(0.0) Gray{Float64}(0.0); Gray{Float64}(0.0) Gray{Float64}(0.0) … Gray{Float64}(0.0) Gray{Float64}(0.0)]                                                                               \n",
       " [Gray{Float64}(0.0) Gray{Float64}(0.0) … Gray{Float64}(0.0) Gray{Float64}(0.0); Gray{Float64}(0.0) Gray{Float64}(0.0) … Gray{Float64}(0.0) Gray{Float64}(0.0); … ; Gray{Float64}(0.0) Gray{Float64}(0.0) … Gray{Float64}(0.0) Gray{Float64}(0.0); Gray{Float64}(0.0) Gray{Float64}(0.0) … Gray{Float64}(0.0) Gray{Float64}(0.0)]                                                                               \n",
       " [Gray{Float64}(1.1122) Gray{Float64}(1.11102) … Gray{Float64}(1.09534) Gray{Float64}(1.08939); Gray{Float64}(1.11) Gray{Float64}(1.10569) … Gray{Float64}(1.09313) Gray{Float64}(1.08525); … ; Gray{Float64}(1.10065) Gray{Float64}(1.10296) … Gray{Float64}(1.10493) Gray{Float64}(1.09705); Gray{Float64}(1.10612) Gray{Float64}(1.10794) … Gray{Float64}(1.10586) Gray{Float64}(1.10586)]                   \n",
       " [Gray{Float64}(0.435891) Gray{Float64}(0.440734) … Gray{Float64}(0.459556) Gray{Float64}(0.456215); Gray{Float64}(0.434251) Gray{Float64}(0.437351) … Gray{Float64}(0.457463) Gray{Float64}(0.454002); … ; Gray{Float64}(0.428021) Gray{Float64}(0.43685) … Gray{Float64}(0.464253) Gray{Float64}(0.460181); Gray{Float64}(0.430439) Gray{Float64}(0.439048) … Gray{Float64}(0.464508) Gray{Float64}(0.464508)]"
      ]
     },
     "execution_count": 15,
     "metadata": {},
     "output_type": "execute_result"
    }
   ],
   "source": [
    "output_conv = m_final(test_example_x);\n",
    "displayChannels(output_conv)"
   ]
  },
  {
   "cell_type": "markdown",
   "metadata": {},
   "source": [
    "# At this point!"
   ]
  },
  {
   "cell_type": "markdown",
   "metadata": {},
   "source": [
    "**Q7:** In 2 lines of code, get the optimal w and b of the dense layer obtained from our convolutional model(m)\n",
    "    and call them dense_layer_w and dense_layer_b\n",
    "\n",
    "\n",
    "\n"
   ]
  },
  {
   "cell_type": "markdown",
   "metadata": {},
   "source": [
    "**Q8:** After we have the \"output_conv\" which is the result of conv + max_pool layers, we need to make a new chain\n",
    "    like m_final but this time it will be named \"m_final_2\", it will be responsible for 3 things:\n",
    "     1. reshaping the input(which will be output_conv later when we will call it)\n",
    "     2. creating the dense layer of size = the_reshaped_input * 10.. The dense layer should be initlized by the \n",
    "        dense_layer_w and dense_layer_b which you get above\n",
    "     3. a softmax layer\n",
    " Note to do the second step above for initilization: write first two functions below (like my_init used before)\n",
    " and you can know the number of parameters sent to these functions if you checked the implementation\n",
    " of Dense layer at the flux github\n",
    " write below first function\n",
    "\n",
    "\n",
    "\n",
    "\n",
    "\n",
    "\n",
    "write below second function\n",
    "\n",
    "\n",
    "\n",
    "\n",
    "\n",
    "Then below write your model m_final_2 using the two functions that you just wrote and let the first parameter to\n",
    "Dense layer to be named \"n\" and \"n\" will depends on another variable named \"num_channels\" which should\n",
    "be initially set to 16 (we will set it later by different values at each run):\n",
    "\n",
    "\n",
    "\n"
   ]
  },
  {
   "cell_type": "markdown",
   "metadata": {},
   "source": [
    "**Q9:** Now, in one line of code we will set num_channels with 16\n",
    "  then will call the m_final_2 and pass to it the output_conv of all the 16 channels\n",
    "\n",
    "\n",
    "\n",
    "\n"
   ]
  },
  {
   "cell_type": "markdown",
   "metadata": {},
   "source": [
    "**Q10:** In one line of code: Get the class output of the above call(the maximum propability output from the softmax) ..\n",
    " it should indicate class 1 (because we are using all the 16 channels as they are)\n",
    "\n",
    "\n",
    "\n",
    "\n",
    "\n"
   ]
  },
  {
   "cell_type": "markdown",
   "metadata": {},
   "source": [
    "**Q11:** Repeat Question 7 but set the num_channels=4 and update the n and also create a new chain \n",
    " named m_final_3 (to get use of the new dimensions set in the n)\n",
    " Now the input to m_final_3 will be the first 10 channels only\n",
    "\n",
    "\n"
   ]
  },
  {
   "cell_type": "markdown",
   "metadata": {},
   "source": [
    "**Q12:** get the output class of the above call and see if it is not 1 (we are now testing the effect of channels)\n",
    "on the last decision of the CNN\n",
    "\n",
    "\n",
    "\n"
   ]
  },
  {
   "cell_type": "markdown",
   "metadata": {},
   "source": [
    "**Q13:** To deterime which channel has great effect on the classification:\n",
    "1. Make a loop from 1 to 16\n",
    "2. at each time, ignore one channel and consider the remainings (for example: at i=2, we will take the channels number 1,3,4,5,6,7,... till 16)\n",
    "3. then create a new chain that will take the new n value based on the selected channels\n",
    "4. then call it using your test example and check if it still sees the right class or not\n",
    "5. After the loop print the reults like this:\n",
    "-ignoring channel 1 -> true classification\n",
    "-ignoring channel 2 -> true classification\n",
    "-ignoring channel 3 -> mis classification\n",
    "......\n",
    "-ignoring channel 16 -> mis classification"
   ]
  },
  {
   "cell_type": "code",
   "execution_count": null,
   "metadata": {},
   "outputs": [],
   "source": []
  }
 ],
 "metadata": {
  "kernelspec": {
   "display_name": "Julia 1.0.1",
   "language": "julia",
   "name": "julia-1.0"
  },
  "language_info": {
   "file_extension": ".jl",
   "mimetype": "application/julia",
   "name": "julia",
   "version": "1.0.1"
  },
  "latex_envs": {
   "LaTeX_envs_menu_present": true,
   "autoclose": false,
   "autocomplete": true,
   "bibliofile": "biblio.bib",
   "cite_by": "apalike",
   "current_citInitial": 1,
   "eqLabelWithNumbers": true,
   "eqNumInitial": 1,
   "hotkeys": {
    "equation": "Ctrl-E",
    "itemize": "Ctrl-I"
   },
   "labels_anchors": false,
   "latex_user_defs": false,
   "report_style_numbering": false,
   "user_envs_cfg": false
  }
 },
 "nbformat": 4,
 "nbformat_minor": 2
}
