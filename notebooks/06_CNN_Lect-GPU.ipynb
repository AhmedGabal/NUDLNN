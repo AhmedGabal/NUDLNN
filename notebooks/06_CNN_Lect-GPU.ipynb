{
 "cells": [
  {
   "cell_type": "markdown",
   "metadata": {},
   "source": [
    "# A first journey through CNN"
   ]
  },
  {
   "cell_type": "markdown",
   "metadata": {},
   "source": [
    "Some enhancements and GPU support"
   ]
  },
  {
   "cell_type": "code",
   "execution_count": 1,
   "metadata": {},
   "outputs": [],
   "source": [
    "] activate ."
   ]
  },
  {
   "cell_type": "markdown",
   "metadata": {},
   "source": [
    "The above is to make sure we are using the same libraries  "
   ]
  },
  {
   "cell_type": "code",
   "execution_count": 2,
   "metadata": {},
   "outputs": [],
   "source": [
    "using Flux, Statistics\n",
    "using Flux: onehotbatch, onecold, crossentropy, throttle\n",
    "using Base.Iterators: repeated, partition\n",
    "using Images\n",
    "using Random: shuffle!"
   ]
  },
  {
   "cell_type": "code",
   "execution_count": 3,
   "metadata": {},
   "outputs": [],
   "source": [
    "using CuArrays"
   ]
  },
  {
   "cell_type": "markdown",
   "metadata": {},
   "source": [
    "## Getting our Data Set"
   ]
  },
  {
   "cell_type": "code",
   "execution_count": 4,
   "metadata": {
    "scrolled": true
   },
   "outputs": [],
   "source": [
    "using MLDatasets\n",
    "# load full training set\n",
    "train_x, train_y = CIFAR10.traindata();\n",
    "train_y = onehotbatch(train_y, 0:9);\n",
    "# load full test set\n",
    "test_x,  test_y  = CIFAR10.testdata();\n",
    "test_y = onehotbatch(test_y, 0:9);"
   ]
  },
  {
   "cell_type": "markdown",
   "metadata": {},
   "source": [
    "The CIFAR10 data set will be downloaded....if run this for the first time. \n",
    "CIFAR10 is a collection of small image... lets have a look "
   ]
  },
  {
   "cell_type": "code",
   "execution_count": 5,
   "metadata": {},
   "outputs": [
    {
     "data": {
      "text/plain": [
       "(32, 32, 3, 50000)"
      ]
     },
     "execution_count": 5,
     "metadata": {},
     "output_type": "execute_result"
    }
   ],
   "source": [
    "train_x |> size"
   ]
  },
  {
   "cell_type": "markdown",
   "metadata": {},
   "source": [
    "From the that we can assume that we have 50,000 image. Each image is 32x32 in RGB space. Julia provides a convenient `colorview` function for make conversion for the matrix to a viewable image.  "
   ]
  },
  {
   "cell_type": "markdown",
   "metadata": {},
   "source": [
    "## Looking at our images"
   ]
  },
  {
   "cell_type": "code",
   "execution_count": 6,
   "metadata": {},
   "outputs": [
    {
     "data": {
      "image/png": "[encoded data removed]",
      "text/plain": [
       "32×32 mappedarray(RGB{Normed{UInt8,8}}, ImageCore.extractchannels, ::Array{N0f8,2}, ::Array{N0f8,2}, ::Array{N0f8,2}) with eltype RGB{Normed{UInt8,8}}:\n",
       " RGB{N0f8}(0.624,0.4,0.396)    …  RGB{N0f8}(0.965,0.545,0.322)\n",
       " RGB{N0f8}(0.588,0.357,0.373)     RGB{N0f8}(0.953,0.522,0.306)\n",
       " RGB{N0f8}(0.6,0.373,0.38)        RGB{N0f8}(0.957,0.518,0.302)\n",
       " RGB{N0f8}(0.604,0.486,0.478)     RGB{N0f8}(0.957,0.533,0.318)\n",
       " RGB{N0f8}(0.541,0.525,0.514)     RGB{N0f8}(0.941,0.494,0.271)\n",
       " RGB{N0f8}(0.722,0.584,0.537)  …  RGB{N0f8}(0.929,0.424,0.204)\n",
       " RGB{N0f8}(0.604,0.404,0.345)     RGB{N0f8}(0.925,0.42,0.188) \n",
       " RGB{N0f8}(0.302,0.18,0.157)      RGB{N0f8}(0.918,0.447,0.227)\n",
       " RGB{N0f8}(0.239,0.153,0.137)     RGB{N0f8}(0.816,0.384,0.208)\n",
       " RGB{N0f8}(0.251,0.165,0.145)     RGB{N0f8}(0.608,0.22,0.094) \n",
       " RGB{N0f8}(0.255,0.169,0.149)  …  RGB{N0f8}(0.467,0.129,0.039)\n",
       " RGB{N0f8}(0.275,0.196,0.18)      RGB{N0f8}(0.376,0.086,0.02) \n",
       " RGB{N0f8}(0.345,0.278,0.259)     RGB{N0f8}(0.31,0.071,0.024) \n",
       " ⋮                             ⋱                              \n",
       " RGB{N0f8}(0.298,0.243,0.216)  …  RGB{N0f8}(0.275,0.071,0.039)\n",
       " RGB{N0f8}(0.298,0.259,0.224)     RGB{N0f8}(0.29,0.063,0.039) \n",
       " RGB{N0f8}(0.325,0.278,0.231)     RGB{N0f8}(0.333,0.075,0.059)\n",
       " RGB{N0f8}(0.384,0.298,0.251)     RGB{N0f8}(0.361,0.078,0.071)\n",
       " RGB{N0f8}(0.408,0.314,0.239)     RGB{N0f8}(0.388,0.09,0.063) \n",
       " RGB{N0f8}(0.384,0.294,0.22)   …  RGB{N0f8}(0.443,0.106,0.047)\n",
       " RGB{N0f8}(0.369,0.275,0.224)     RGB{N0f8}(0.525,0.125,0.051)\n",
       " RGB{N0f8}(0.369,0.271,0.216)     RGB{N0f8}(0.58,0.145,0.063) \n",
       " RGB{N0f8}(0.396,0.282,0.243)     RGB{N0f8}(0.616,0.165,0.055)\n",
       " RGB{N0f8}(0.357,0.278,0.22)      RGB{N0f8}(0.651,0.184,0.055)\n",
       " RGB{N0f8}(0.29,0.247,0.216)   …  RGB{N0f8}(0.678,0.2,0.067)  \n",
       " RGB{N0f8}(0.298,0.227,0.216)     RGB{N0f8}(0.714,0.224,0.075)"
      ]
     },
     "execution_count": 6,
     "metadata": {},
     "output_type": "execute_result"
    }
   ],
   "source": [
    "colorview(RGB, [train_x[:,:,i,6] for i=1:3]...)"
   ]
  },
  {
   "cell_type": "markdown",
   "metadata": {},
   "source": [
    "So form the above we can guess that this rather low-res image of red car. In the above code, we have generated an array for arrays (`[train_x[:,:,i,6] for i=1:3]`) where each element is 2D array for each color channel (i.e. Red, Green, Blue). We take that array and splat it (using `...`) into the [`colorview`](http://juliaimages.github.io/latest/function_reference.html#ImageCore.colorview) function. So we can get viewable image. For the `Julia` beginner this might look a bit complex. Julia save us a great deal of for loops if we know how handle array indices. We can write a function with loops to get the same effect. Here is one:"
   ]
  },
  {
   "cell_type": "code",
   "execution_count": 7,
   "metadata": {},
   "outputs": [
    {
     "data": {
      "text/plain": [
       "float2RGB (generic function with 1 method)"
      ]
     },
     "execution_count": 7,
     "metadata": {},
     "output_type": "execute_result"
    }
   ],
   "source": [
    "function float2RGB(img)\n",
    "    imgrgb = zeros(RGB{Normed{UInt8,8}}, size(img, 1),size(img, 2))\n",
    "    for i=1:size(img, 1)\n",
    "        for j=1:size(img, 2)\n",
    "            imgrgb[i, j] = RGB(img[i, j, 1], img[i, j, 2], img[i, j,3])\n",
    "        end\n",
    "    end\n",
    "    imgrgb\n",
    "end"
   ]
  },
  {
   "cell_type": "markdown",
   "metadata": {},
   "source": [
    "We test it"
   ]
  },
  {
   "cell_type": "code",
   "execution_count": 8,
   "metadata": {},
   "outputs": [
    {
     "data": {
      "image/png": "[encoded data removed]",
      "text/plain": [
       "32×32 Array{RGB{N0f8},2} with eltype RGB{Normed{UInt8,8}}:\n",
       " RGB{N0f8}(0.624,0.4,0.396)    …  RGB{N0f8}(0.965,0.545,0.322)\n",
       " RGB{N0f8}(0.588,0.357,0.373)     RGB{N0f8}(0.953,0.522,0.306)\n",
       " RGB{N0f8}(0.6,0.373,0.38)        RGB{N0f8}(0.957,0.518,0.302)\n",
       " RGB{N0f8}(0.604,0.486,0.478)     RGB{N0f8}(0.957,0.533,0.318)\n",
       " RGB{N0f8}(0.541,0.525,0.514)     RGB{N0f8}(0.941,0.494,0.271)\n",
       " RGB{N0f8}(0.722,0.584,0.537)  …  RGB{N0f8}(0.929,0.424,0.204)\n",
       " RGB{N0f8}(0.604,0.404,0.345)     RGB{N0f8}(0.925,0.42,0.188) \n",
       " RGB{N0f8}(0.302,0.18,0.157)      RGB{N0f8}(0.918,0.447,0.227)\n",
       " RGB{N0f8}(0.239,0.153,0.137)     RGB{N0f8}(0.816,0.384,0.208)\n",
       " RGB{N0f8}(0.251,0.165,0.145)     RGB{N0f8}(0.608,0.22,0.094) \n",
       " RGB{N0f8}(0.255,0.169,0.149)  …  RGB{N0f8}(0.467,0.129,0.039)\n",
       " RGB{N0f8}(0.275,0.196,0.18)      RGB{N0f8}(0.376,0.086,0.02) \n",
       " RGB{N0f8}(0.345,0.278,0.259)     RGB{N0f8}(0.31,0.071,0.024) \n",
       " ⋮                             ⋱                              \n",
       " RGB{N0f8}(0.298,0.243,0.216)  …  RGB{N0f8}(0.275,0.071,0.039)\n",
       " RGB{N0f8}(0.298,0.259,0.224)     RGB{N0f8}(0.29,0.063,0.039) \n",
       " RGB{N0f8}(0.325,0.278,0.231)     RGB{N0f8}(0.333,0.075,0.059)\n",
       " RGB{N0f8}(0.384,0.298,0.251)     RGB{N0f8}(0.361,0.078,0.071)\n",
       " RGB{N0f8}(0.408,0.314,0.239)     RGB{N0f8}(0.388,0.09,0.063) \n",
       " RGB{N0f8}(0.384,0.294,0.22)   …  RGB{N0f8}(0.443,0.106,0.047)\n",
       " RGB{N0f8}(0.369,0.275,0.224)     RGB{N0f8}(0.525,0.125,0.051)\n",
       " RGB{N0f8}(0.369,0.271,0.216)     RGB{N0f8}(0.58,0.145,0.063) \n",
       " RGB{N0f8}(0.396,0.282,0.243)     RGB{N0f8}(0.616,0.165,0.055)\n",
       " RGB{N0f8}(0.357,0.278,0.22)      RGB{N0f8}(0.651,0.184,0.055)\n",
       " RGB{N0f8}(0.29,0.247,0.216)   …  RGB{N0f8}(0.678,0.2,0.067)  \n",
       " RGB{N0f8}(0.298,0.227,0.216)     RGB{N0f8}(0.714,0.224,0.075)"
      ]
     },
     "execution_count": 8,
     "metadata": {},
     "output_type": "execute_result"
    }
   ],
   "source": [
    "float2RGB(train_x[:,:,:,6])"
   ]
  },
  {
   "cell_type": "markdown",
   "metadata": {},
   "source": [
    "...see same result. But if we are really good a `Julia`, an even more compact way, without creating array of arrays etc... is to use [`permutedims`](https://docs.julialang.org/en/v1/base/arrays/index.html#Base.permutedims). "
   ]
  },
  {
   "cell_type": "code",
   "execution_count": 9,
   "metadata": {},
   "outputs": [
    {
     "data": {
      "image/png": "[encoded data removed]",
      "text/plain": [
       "32×32 reshape(reinterpret(RGB{N0f8}, ::Array{N0f8,3}), 32, 32) with eltype RGB{Normed{UInt8,8}}:\n",
       " RGB{N0f8}(0.624,0.4,0.396)    …  RGB{N0f8}(0.965,0.545,0.322)\n",
       " RGB{N0f8}(0.588,0.357,0.373)     RGB{N0f8}(0.953,0.522,0.306)\n",
       " RGB{N0f8}(0.6,0.373,0.38)        RGB{N0f8}(0.957,0.518,0.302)\n",
       " RGB{N0f8}(0.604,0.486,0.478)     RGB{N0f8}(0.957,0.533,0.318)\n",
       " RGB{N0f8}(0.541,0.525,0.514)     RGB{N0f8}(0.941,0.494,0.271)\n",
       " RGB{N0f8}(0.722,0.584,0.537)  …  RGB{N0f8}(0.929,0.424,0.204)\n",
       " RGB{N0f8}(0.604,0.404,0.345)     RGB{N0f8}(0.925,0.42,0.188) \n",
       " RGB{N0f8}(0.302,0.18,0.157)      RGB{N0f8}(0.918,0.447,0.227)\n",
       " RGB{N0f8}(0.239,0.153,0.137)     RGB{N0f8}(0.816,0.384,0.208)\n",
       " RGB{N0f8}(0.251,0.165,0.145)     RGB{N0f8}(0.608,0.22,0.094) \n",
       " RGB{N0f8}(0.255,0.169,0.149)  …  RGB{N0f8}(0.467,0.129,0.039)\n",
       " RGB{N0f8}(0.275,0.196,0.18)      RGB{N0f8}(0.376,0.086,0.02) \n",
       " RGB{N0f8}(0.345,0.278,0.259)     RGB{N0f8}(0.31,0.071,0.024) \n",
       " ⋮                             ⋱                              \n",
       " RGB{N0f8}(0.298,0.243,0.216)  …  RGB{N0f8}(0.275,0.071,0.039)\n",
       " RGB{N0f8}(0.298,0.259,0.224)     RGB{N0f8}(0.29,0.063,0.039) \n",
       " RGB{N0f8}(0.325,0.278,0.231)     RGB{N0f8}(0.333,0.075,0.059)\n",
       " RGB{N0f8}(0.384,0.298,0.251)     RGB{N0f8}(0.361,0.078,0.071)\n",
       " RGB{N0f8}(0.408,0.314,0.239)     RGB{N0f8}(0.388,0.09,0.063) \n",
       " RGB{N0f8}(0.384,0.294,0.22)   …  RGB{N0f8}(0.443,0.106,0.047)\n",
       " RGB{N0f8}(0.369,0.275,0.224)     RGB{N0f8}(0.525,0.125,0.051)\n",
       " RGB{N0f8}(0.369,0.271,0.216)     RGB{N0f8}(0.58,0.145,0.063) \n",
       " RGB{N0f8}(0.396,0.282,0.243)     RGB{N0f8}(0.616,0.165,0.055)\n",
       " RGB{N0f8}(0.357,0.278,0.22)      RGB{N0f8}(0.651,0.184,0.055)\n",
       " RGB{N0f8}(0.29,0.247,0.216)   …  RGB{N0f8}(0.678,0.2,0.067)  \n",
       " RGB{N0f8}(0.298,0.227,0.216)     RGB{N0f8}(0.714,0.224,0.075)"
      ]
     },
     "execution_count": 9,
     "metadata": {},
     "output_type": "execute_result"
    }
   ],
   "source": [
    "colorview(RGB, permutedims(train_x[:,:,:,6],[3,1,2]))"
   ]
  },
  {
   "cell_type": "markdown",
   "metadata": {},
   "source": [
    "Same result. But with `permutedims` we get more flexibility...if our necks get tired looking sideways for the car we can do "
   ]
  },
  {
   "cell_type": "code",
   "execution_count": 10,
   "metadata": {},
   "outputs": [
    {
     "data": {
      "image/png": "[encoded data removed]",
      "text/plain": [
       "32×32 reshape(reinterpret(RGB{N0f8}, ::Array{N0f8,3}), 32, 32) with eltype RGB{Normed{UInt8,8}}:\n",
       " RGB{N0f8}(0.624,0.4,0.396)    …  RGB{N0f8}(0.298,0.227,0.216)\n",
       " RGB{N0f8}(0.557,0.294,0.267)     RGB{N0f8}(0.337,0.271,0.239)\n",
       " RGB{N0f8}(0.427,0.263,0.294)     RGB{N0f8}(0.365,0.282,0.278)\n",
       " RGB{N0f8}(0.392,0.275,0.298)     RGB{N0f8}(0.333,0.235,0.282)\n",
       " RGB{N0f8}(0.42,0.278,0.227)      RGB{N0f8}(0.412,0.314,0.392)\n",
       " RGB{N0f8}(0.443,0.322,0.243)  …  RGB{N0f8}(0.671,0.573,0.627)\n",
       " RGB{N0f8}(0.396,0.298,0.263)     RGB{N0f8}(0.729,0.541,0.498)\n",
       " RGB{N0f8}(0.478,0.31,0.294)      RGB{N0f8}(0.596,0.396,0.353)\n",
       " RGB{N0f8}(0.635,0.361,0.333)     RGB{N0f8}(0.737,0.592,0.588)\n",
       " RGB{N0f8}(0.565,0.259,0.2)       RGB{N0f8}(0.682,0.533,0.518)\n",
       " RGB{N0f8}(0.49,0.212,0.137)   …  RGB{N0f8}(0.631,0.459,0.412)\n",
       " RGB{N0f8}(0.424,0.18,0.106)      RGB{N0f8}(0.651,0.478,0.435)\n",
       " RGB{N0f8}(0.537,0.294,0.216)     RGB{N0f8}(0.678,0.541,0.518)\n",
       " ⋮                             ⋱                              \n",
       " RGB{N0f8}(0.973,0.471,0.208)  …  RGB{N0f8}(0.576,0.216,0.192)\n",
       " RGB{N0f8}(0.945,0.447,0.169)     RGB{N0f8}(0.69,0.278,0.208) \n",
       " RGB{N0f8}(0.949,0.459,0.184)     RGB{N0f8}(0.827,0.396,0.239)\n",
       " RGB{N0f8}(0.945,0.455,0.188)     RGB{N0f8}(0.957,0.514,0.322)\n",
       " RGB{N0f8}(0.937,0.459,0.196)     RGB{N0f8}(0.988,0.529,0.345)\n",
       " RGB{N0f8}(0.961,0.494,0.239)  …  RGB{N0f8}(0.949,0.455,0.282)\n",
       " RGB{N0f8}(0.961,0.502,0.251)     RGB{N0f8}(0.922,0.392,0.216)\n",
       " RGB{N0f8}(0.961,0.494,0.259)     RGB{N0f8}(0.867,0.353,0.196)\n",
       " RGB{N0f8}(0.949,0.486,0.255)     RGB{N0f8}(0.812,0.318,0.169)\n",
       " RGB{N0f8}(0.957,0.506,0.275)     RGB{N0f8}(0.784,0.286,0.141)\n",
       " RGB{N0f8}(0.965,0.522,0.29)   …  RGB{N0f8}(0.753,0.255,0.106)\n",
       " RGB{N0f8}(0.965,0.545,0.322)     RGB{N0f8}(0.714,0.224,0.075)"
      ]
     },
     "execution_count": 10,
     "metadata": {},
     "output_type": "execute_result"
    }
   ],
   "source": [
    "colorview(RGB, permutedims(train_x[:,:,:,6],[3,2,1]))"
   ]
  },
  {
   "cell_type": "markdown",
   "metadata": {},
   "source": [
    "... a little better...don't you think?"
   ]
  },
  {
   "cell_type": "markdown",
   "metadata": {},
   "source": [
    "Now if we memory conscious, we don't like allocate new memory to look at the image. We can use [PermutedDimsArray](https://docs.julialang.org/en/v1/base/arrays/index.html#Base.PermutedDimsArrays.PermutedDimsArray) to get a [view](https://docs.julialang.org/en/v1/base/arrays/index.html#Views-(SubArrays-and-other-view-types)-1) of our permuted image. "
   ]
  },
  {
   "cell_type": "code",
   "execution_count": 11,
   "metadata": {},
   "outputs": [
    {
     "data": {
      "image/png": "[encoded data removed]",
      "text/plain": [
       "32×32 reshape(reinterpret(RGB{N0f8}, PermutedDimsArray(::Array{N0f8,3}, (3, 2, 1))), 32, 32) with eltype RGB{Normed{UInt8,8}}:\n",
       " RGB{N0f8}(0.624,0.4,0.396)    …  RGB{N0f8}(0.298,0.227,0.216)\n",
       " RGB{N0f8}(0.557,0.294,0.267)     RGB{N0f8}(0.337,0.271,0.239)\n",
       " RGB{N0f8}(0.427,0.263,0.294)     RGB{N0f8}(0.365,0.282,0.278)\n",
       " RGB{N0f8}(0.392,0.275,0.298)     RGB{N0f8}(0.333,0.235,0.282)\n",
       " RGB{N0f8}(0.42,0.278,0.227)      RGB{N0f8}(0.412,0.314,0.392)\n",
       " RGB{N0f8}(0.443,0.322,0.243)  …  RGB{N0f8}(0.671,0.573,0.627)\n",
       " RGB{N0f8}(0.396,0.298,0.263)     RGB{N0f8}(0.729,0.541,0.498)\n",
       " RGB{N0f8}(0.478,0.31,0.294)      RGB{N0f8}(0.596,0.396,0.353)\n",
       " RGB{N0f8}(0.635,0.361,0.333)     RGB{N0f8}(0.737,0.592,0.588)\n",
       " RGB{N0f8}(0.565,0.259,0.2)       RGB{N0f8}(0.682,0.533,0.518)\n",
       " RGB{N0f8}(0.49,0.212,0.137)   …  RGB{N0f8}(0.631,0.459,0.412)\n",
       " RGB{N0f8}(0.424,0.18,0.106)      RGB{N0f8}(0.651,0.478,0.435)\n",
       " RGB{N0f8}(0.537,0.294,0.216)     RGB{N0f8}(0.678,0.541,0.518)\n",
       " ⋮                             ⋱                              \n",
       " RGB{N0f8}(0.973,0.471,0.208)  …  RGB{N0f8}(0.576,0.216,0.192)\n",
       " RGB{N0f8}(0.945,0.447,0.169)     RGB{N0f8}(0.69,0.278,0.208) \n",
       " RGB{N0f8}(0.949,0.459,0.184)     RGB{N0f8}(0.827,0.396,0.239)\n",
       " RGB{N0f8}(0.945,0.455,0.188)     RGB{N0f8}(0.957,0.514,0.322)\n",
       " RGB{N0f8}(0.937,0.459,0.196)     RGB{N0f8}(0.988,0.529,0.345)\n",
       " RGB{N0f8}(0.961,0.494,0.239)  …  RGB{N0f8}(0.949,0.455,0.282)\n",
       " RGB{N0f8}(0.961,0.502,0.251)     RGB{N0f8}(0.922,0.392,0.216)\n",
       " RGB{N0f8}(0.961,0.494,0.259)     RGB{N0f8}(0.867,0.353,0.196)\n",
       " RGB{N0f8}(0.949,0.486,0.255)     RGB{N0f8}(0.812,0.318,0.169)\n",
       " RGB{N0f8}(0.957,0.506,0.275)     RGB{N0f8}(0.784,0.286,0.141)\n",
       " RGB{N0f8}(0.965,0.522,0.29)   …  RGB{N0f8}(0.753,0.255,0.106)\n",
       " RGB{N0f8}(0.965,0.545,0.322)     RGB{N0f8}(0.714,0.224,0.075)"
      ]
     },
     "execution_count": 11,
     "metadata": {},
     "output_type": "execute_result"
    }
   ],
   "source": [
    "colorview(RGB,PermutedDimsArray(train_x[:,:,:,6],[3,2,1]))"
   ]
  },
  {
   "cell_type": "markdown",
   "metadata": {},
   "source": [
    "Same result, but we saved some memory. "
   ]
  },
  {
   "cell_type": "markdown",
   "metadata": {},
   "source": [
    "## Manipulating our images"
   ]
  },
  {
   "cell_type": "markdown",
   "metadata": {},
   "source": [
    "Before we even start doing CNNs we want to write a few simple functions to allow us to manipulate our images. "
   ]
  },
  {
   "cell_type": "code",
   "execution_count": 12,
   "metadata": {},
   "outputs": [
    {
     "data": {
      "text/plain": [
       "shiftToLeft (generic function with 1 method)"
      ]
     },
     "execution_count": 12,
     "metadata": {},
     "output_type": "execute_result"
    }
   ],
   "source": [
    "function shiftToLeft(img, n)\n",
    "    r, g, b = img[:, n+1:end, 1], img[:, n+1:end, 2], img[:, n+1:end, 3]\n",
    "    r_shift = hcat(r, zeros(size(img, 1), n))\n",
    "    g_shift = hcat(g, zeros(size(img, 1), n))\n",
    "    b_shift = hcat(b, zeros(size(img, 1), n))\n",
    "    shifted_img = zeros(size(img, 1), size(img, 2), 3)\n",
    "    shifted_img[:, :, 1] = r_shift\n",
    "    shifted_img[:, :, 2] = g_shift\n",
    "    shifted_img[:, :, 3] = b_shift\n",
    "    shifted_img\n",
    "end"
   ]
  },
  {
   "cell_type": "markdown",
   "metadata": {},
   "source": [
    "Lets see what this does"
   ]
  },
  {
   "cell_type": "code",
   "execution_count": 13,
   "metadata": {},
   "outputs": [
    {
     "data": {
      "image/png": "[encoded data removed]",
      "text/plain": [
       "32×32 reshape(reinterpret(RGB{Float64}, PermutedDimsArray(::Array{Float64,3}, (3, 1, 2))), 32, 32) with eltype RGB{Float64}:\n",
       " RGB{Float64}(0.396078,0.298039,0.262745)  …  RGB{Float64}(0.0,0.0,0.0)\n",
       " RGB{Float64}(0.635294,0.384314,0.356863)     RGB{Float64}(0.0,0.0,0.0)\n",
       " RGB{Float64}(0.686275,0.305882,0.290196)     RGB{Float64}(0.0,0.0,0.0)\n",
       " RGB{Float64}(0.65098,0.243137,0.223529)      RGB{Float64}(0.0,0.0,0.0)\n",
       " RGB{Float64}(0.784314,0.427451,0.380392)     RGB{Float64}(0.0,0.0,0.0)\n",
       " RGB{Float64}(0.74902,0.403922,0.337255)   …  RGB{Float64}(0.0,0.0,0.0)\n",
       " RGB{Float64}(0.423529,0.239216,0.137255)     RGB{Float64}(0.0,0.0,0.0)\n",
       " RGB{Float64}(0.34902,0.203922,0.121569)      RGB{Float64}(0.0,0.0,0.0)\n",
       " RGB{Float64}(0.623529,0.443137,0.376471)     RGB{Float64}(0.0,0.0,0.0)\n",
       " RGB{Float64}(0.788235,0.54902,0.498039)      RGB{Float64}(0.0,0.0,0.0)\n",
       " RGB{Float64}(0.74902,0.458824,0.415686)   …  RGB{Float64}(0.0,0.0,0.0)\n",
       " RGB{Float64}(0.670588,0.352941,0.305882)     RGB{Float64}(0.0,0.0,0.0)\n",
       " RGB{Float64}(0.631373,0.294118,0.239216)     RGB{Float64}(0.0,0.0,0.0)\n",
       " ⋮                                         ⋱                           \n",
       " RGB{Float64}(0.533333,0.407843,0.380392)  …  RGB{Float64}(0.0,0.0,0.0)\n",
       " RGB{Float64}(0.352941,0.305882,0.278431)     RGB{Float64}(0.0,0.0,0.0)\n",
       " RGB{Float64}(0.266667,0.243137,0.235294)     RGB{Float64}(0.0,0.0,0.0)\n",
       " RGB{Float64}(0.380392,0.372549,0.384314)     RGB{Float64}(0.0,0.0,0.0)\n",
       " RGB{Float64}(0.839216,0.854902,0.843137)     RGB{Float64}(0.0,0.0,0.0)\n",
       " RGB{Float64}(0.882353,0.827451,0.807843)  …  RGB{Float64}(0.0,0.0,0.0)\n",
       " RGB{Float64}(0.792157,0.698039,0.701961)     RGB{Float64}(0.0,0.0,0.0)\n",
       " RGB{Float64}(0.360784,0.345098,0.388235)     RGB{Float64}(0.0,0.0,0.0)\n",
       " RGB{Float64}(0.396078,0.364706,0.462745)     RGB{Float64}(0.0,0.0,0.0)\n",
       " RGB{Float64}(0.415686,0.368627,0.478431)     RGB{Float64}(0.0,0.0,0.0)\n",
       " RGB{Float64}(0.32549,0.278431,0.341176)   …  RGB{Float64}(0.0,0.0,0.0)\n",
       " RGB{Float64}(0.729412,0.541176,0.498039)     RGB{Float64}(0.0,0.0,0.0)"
      ]
     },
     "execution_count": 13,
     "metadata": {},
     "output_type": "execute_result"
    }
   ],
   "source": [
    "red_car=train_x[:,:,:,6]\n",
    "shifted_red_car=shiftToLeft(red_car,6) # Shifted five pixels to the right\n",
    "colorview(RGB,PermutedDimsArray(shifted_red_car,[3,1,2]))"
   ]
  },
  {
   "cell_type": "code",
   "execution_count": 14,
   "metadata": {},
   "outputs": [
    {
     "data": {
      "text/plain": [
       "rotate_right (generic function with 1 method)"
      ]
     },
     "execution_count": 14,
     "metadata": {},
     "output_type": "execute_result"
    }
   ],
   "source": [
    "function rotate_right(img)\n",
    "    r, g, b = img[:, :, 1], img[:, :, 2], img[:, :, 3]\n",
    "    rotated_img = zeros(size(img, 2), size(img, 1), 3)\n",
    "    rotated_img[:, :, 1] = r'\n",
    "    rotated_img[:, :, 2] = g'\n",
    "    rotated_img[:, :, 3] = b'\n",
    "    rotated_img\n",
    "end"
   ]
  },
  {
   "cell_type": "markdown",
   "metadata": {},
   "source": [
    "The name says it all. Lets see some rotation in action"
   ]
  },
  {
   "cell_type": "code",
   "execution_count": 15,
   "metadata": {},
   "outputs": [
    {
     "data": {
      "image/png": "[encoded data removed]",
      "text/plain": [
       "32×32 reshape(reinterpret(RGB{Float64}, PermutedDimsArray(::Array{Float64,3}, (3, 1, 2))), 32, 32) with eltype RGB{Float64}:\n",
       " RGB{Float64}(0.623529,0.4,0.396078)       …  RGB{Float64}(0.298039,0.227451,0.215686) \n",
       " RGB{Float64}(0.556863,0.294118,0.266667)     RGB{Float64}(0.337255,0.270588,0.239216) \n",
       " RGB{Float64}(0.427451,0.262745,0.294118)     RGB{Float64}(0.364706,0.282353,0.278431) \n",
       " RGB{Float64}(0.392157,0.27451,0.298039)      RGB{Float64}(0.333333,0.235294,0.282353) \n",
       " RGB{Float64}(0.419608,0.278431,0.227451)     RGB{Float64}(0.411765,0.313725,0.392157) \n",
       " RGB{Float64}(0.443137,0.321569,0.243137)  …  RGB{Float64}(0.670588,0.572549,0.627451) \n",
       " RGB{Float64}(0.396078,0.298039,0.262745)     RGB{Float64}(0.729412,0.541176,0.498039) \n",
       " RGB{Float64}(0.478431,0.309804,0.294118)     RGB{Float64}(0.596078,0.396078,0.352941) \n",
       " RGB{Float64}(0.635294,0.360784,0.333333)     RGB{Float64}(0.737255,0.592157,0.588235) \n",
       " RGB{Float64}(0.564706,0.258824,0.2)          RGB{Float64}(0.682353,0.533333,0.517647) \n",
       " RGB{Float64}(0.490196,0.211765,0.137255)  …  RGB{Float64}(0.631373,0.458824,0.411765) \n",
       " RGB{Float64}(0.423529,0.180392,0.105882)     RGB{Float64}(0.65098,0.478431,0.435294)  \n",
       " RGB{Float64}(0.537255,0.294118,0.215686)     RGB{Float64}(0.678431,0.541176,0.517647) \n",
       " ⋮                                         ⋱                                           \n",
       " RGB{Float64}(0.972549,0.470588,0.207843)  …  RGB{Float64}(0.576471,0.215686,0.192157) \n",
       " RGB{Float64}(0.945098,0.447059,0.168627)     RGB{Float64}(0.690196,0.278431,0.207843) \n",
       " RGB{Float64}(0.94902,0.458824,0.184314)      RGB{Float64}(0.827451,0.396078,0.239216) \n",
       " RGB{Float64}(0.945098,0.454902,0.188235)     RGB{Float64}(0.956863,0.513725,0.321569) \n",
       " RGB{Float64}(0.937255,0.458824,0.196078)     RGB{Float64}(0.988235,0.529412,0.345098) \n",
       " RGB{Float64}(0.960784,0.494118,0.239216)  …  RGB{Float64}(0.94902,0.454902,0.282353)  \n",
       " RGB{Float64}(0.960784,0.501961,0.25098)      RGB{Float64}(0.921569,0.392157,0.215686) \n",
       " RGB{Float64}(0.960784,0.494118,0.258824)     RGB{Float64}(0.866667,0.352941,0.196078) \n",
       " RGB{Float64}(0.94902,0.486275,0.254902)      RGB{Float64}(0.811765,0.317647,0.168627) \n",
       " RGB{Float64}(0.956863,0.505882,0.27451)      RGB{Float64}(0.784314,0.286275,0.141176) \n",
       " RGB{Float64}(0.964706,0.521569,0.290196)  …  RGB{Float64}(0.752941,0.254902,0.105882) \n",
       " RGB{Float64}(0.964706,0.545098,0.321569)     RGB{Float64}(0.713725,0.223529,0.0745098)"
      ]
     },
     "execution_count": 15,
     "metadata": {},
     "output_type": "execute_result"
    }
   ],
   "source": [
    "rotated_red_car=rotate_right(red_car)\n",
    "colorview(RGB,PermutedDimsArray(rotated_red_car,[3,1,2]))"
   ]
  },
  {
   "cell_type": "markdown",
   "metadata": {},
   "source": [
    "Note here that unlike what we did in the previous section via dimension permutation, here we rotated the original 3-dimensional input. "
   ]
  },
  {
   "cell_type": "markdown",
   "metadata": {},
   "source": [
    "A question for those who love elegant  students: **Can we write `rotate_right` and `shiftToLeft` more compactly and elegantly?**"
   ]
  },
  {
   "cell_type": "markdown",
   "metadata": {},
   "source": [
    "Finally we write a convenience method to just show our images with minimum fuss. "
   ]
  },
  {
   "cell_type": "code",
   "execution_count": 16,
   "metadata": {},
   "outputs": [
    {
     "data": {
      "text/plain": [
       "showImage (generic function with 1 method)"
      ]
     },
     "execution_count": 16,
     "metadata": {},
     "output_type": "execute_result"
    }
   ],
   "source": [
    "function showImage(img)\n",
    "    colorview(RGB,PermutedDimsArray(img,[3,1,2]))\n",
    "end"
   ]
  },
  {
   "cell_type": "code",
   "execution_count": 17,
   "metadata": {},
   "outputs": [
    {
     "data": {
      "image/png": "[encoded data removed]",
      "text/plain": [
       "32×32 reshape(reinterpret(RGB{N0f8}, PermutedDimsArray(::Array{N0f8,3}, (3, 1, 2))), 32, 32) with eltype RGB{Normed{UInt8,8}}:\n",
       " RGB{N0f8}(0.624,0.4,0.396)    …  RGB{N0f8}(0.965,0.545,0.322)\n",
       " RGB{N0f8}(0.588,0.357,0.373)     RGB{N0f8}(0.953,0.522,0.306)\n",
       " RGB{N0f8}(0.6,0.373,0.38)        RGB{N0f8}(0.957,0.518,0.302)\n",
       " RGB{N0f8}(0.604,0.486,0.478)     RGB{N0f8}(0.957,0.533,0.318)\n",
       " RGB{N0f8}(0.541,0.525,0.514)     RGB{N0f8}(0.941,0.494,0.271)\n",
       " RGB{N0f8}(0.722,0.584,0.537)  …  RGB{N0f8}(0.929,0.424,0.204)\n",
       " RGB{N0f8}(0.604,0.404,0.345)     RGB{N0f8}(0.925,0.42,0.188) \n",
       " RGB{N0f8}(0.302,0.18,0.157)      RGB{N0f8}(0.918,0.447,0.227)\n",
       " RGB{N0f8}(0.239,0.153,0.137)     RGB{N0f8}(0.816,0.384,0.208)\n",
       " RGB{N0f8}(0.251,0.165,0.145)     RGB{N0f8}(0.608,0.22,0.094) \n",
       " RGB{N0f8}(0.255,0.169,0.149)  …  RGB{N0f8}(0.467,0.129,0.039)\n",
       " RGB{N0f8}(0.275,0.196,0.18)      RGB{N0f8}(0.376,0.086,0.02) \n",
       " RGB{N0f8}(0.345,0.278,0.259)     RGB{N0f8}(0.31,0.071,0.024) \n",
       " ⋮                             ⋱                              \n",
       " RGB{N0f8}(0.298,0.243,0.216)  …  RGB{N0f8}(0.275,0.071,0.039)\n",
       " RGB{N0f8}(0.298,0.259,0.224)     RGB{N0f8}(0.29,0.063,0.039) \n",
       " RGB{N0f8}(0.325,0.278,0.231)     RGB{N0f8}(0.333,0.075,0.059)\n",
       " RGB{N0f8}(0.384,0.298,0.251)     RGB{N0f8}(0.361,0.078,0.071)\n",
       " RGB{N0f8}(0.408,0.314,0.239)     RGB{N0f8}(0.388,0.09,0.063) \n",
       " RGB{N0f8}(0.384,0.294,0.22)   …  RGB{N0f8}(0.443,0.106,0.047)\n",
       " RGB{N0f8}(0.369,0.275,0.224)     RGB{N0f8}(0.525,0.125,0.051)\n",
       " RGB{N0f8}(0.369,0.271,0.216)     RGB{N0f8}(0.58,0.145,0.063) \n",
       " RGB{N0f8}(0.396,0.282,0.243)     RGB{N0f8}(0.616,0.165,0.055)\n",
       " RGB{N0f8}(0.357,0.278,0.22)      RGB{N0f8}(0.651,0.184,0.055)\n",
       " RGB{N0f8}(0.29,0.247,0.216)   …  RGB{N0f8}(0.678,0.2,0.067)  \n",
       " RGB{N0f8}(0.298,0.227,0.216)     RGB{N0f8}(0.714,0.224,0.075)"
      ]
     },
     "execution_count": 17,
     "metadata": {},
     "output_type": "execute_result"
    }
   ],
   "source": [
    "showImage(red_car)"
   ]
  },
  {
   "cell_type": "markdown",
   "metadata": {},
   "source": [
    "## Some function for shifting and manipulating the  whole data set around"
   ]
  },
  {
   "cell_type": "code",
   "execution_count": 18,
   "metadata": {},
   "outputs": [
    {
     "data": {
      "text/plain": [
       "createShiftedTrainDataSet"
      ]
     },
     "execution_count": 18,
     "metadata": {},
     "output_type": "execute_result"
    }
   ],
   "source": [
    "\"\"\"\n",
    "Takes a particular class in a data set. Makes copy of it, shifts the copy\n",
    "by a random amount and appends to the bottom of new (shifted) data set\n",
    "\"\"\"\n",
    "function createShiftedTrainDataSet(X::Array{T,4}, Y,  class_num) where T\n",
    "    indxs = findall(Y[class_num, :] .== true) # finding all the incides of the `class_num`\n",
    "    X_temp = zeros(32, 32, 3, length(indxs))\n",
    "    counter = 1\n",
    "    for indx in indxs\n",
    "        X_temp[:, :, :, counter] = shiftToLeft(X[:, :, :, indx], rand(1:32));\n",
    "        counter += 1;\n",
    "    end\n",
    "    l=size(X,4)\n",
    "    m=length(indxs)\n",
    "    newIdx=shuffle!([1:l+m...])\n",
    "    X_shifted = zeros(T,32, 32, 3, l+m)\n",
    "    y=Array{Int}(undef,l+m)\n",
    "    Y_shifted = zeros(Bool, size(Y,1), l+m)\n",
    "    counter = 1\n",
    "    for i in newIdx\n",
    "        X_shifted[:, :, :, counter] = (i<=l) ? X[:,:,:,i] : X_temp[:,:,:,i-l]\n",
    "        y[counter]= (i<=l) ? onecold(Y[:,i]) : class_num\n",
    "        counter += 1;\n",
    "    end\n",
    "    X_shifted, onehotbatch(y,1:10)\n",
    "end"
   ]
  },
  {
   "cell_type": "code",
   "execution_count": 19,
   "metadata": {},
   "outputs": [
    {
     "data": {
      "text/plain": [
       "createShiftedTestDataSet"
      ]
     },
     "execution_count": 19,
     "metadata": {},
     "output_type": "execute_result"
    }
   ],
   "source": [
    "\"\"\"\n",
    "Takes the original data, selects the a particular class (class_num), and outputs\n",
    "a shifted copy of that class\n",
    "\"\"\"\n",
    "function createShiftedTestDataSet(X, Y,  class_num)\n",
    "    indxs = findall(Y[class_num, :] .== true)\n",
    "    X_shifted = zeros(32, 32, 3, length(indxs))\n",
    "    counter = 1\n",
    "    for indx in indxs\n",
    "        X_shifted[:, :, :, counter] = shiftToLeft(X[:, :, :, indx], rand(1:32));\n",
    "        counter += 1;\n",
    "    end\n",
    "    #Y_shifted = hcat(Y[:, indxs], Y[:, indxs])\n",
    "    Y_shifted = Y[:, indxs]\n",
    "    X_shifted, Y_shifted\n",
    "end"
   ]
  },
  {
   "cell_type": "code",
   "execution_count": 20,
   "metadata": {},
   "outputs": [
    {
     "data": {
      "text/plain": [
       "createDataSetForClasses"
      ]
     },
     "execution_count": 20,
     "metadata": {},
     "output_type": "execute_result"
    }
   ],
   "source": [
    "\"\"\"\n",
    "Creates a data set for training out of a list of `classes` \n",
    "\"\"\"\n",
    "function createDataSetForClasses(X, Y, classes)\n",
    "    indxs = []\n",
    "    for class_num in classes\n",
    "        append!(indxs, findall(Y[class_num, :] .== true))\n",
    "    end\n",
    "    shuffle!(indxs)\n",
    "    X_dataSet = X[:, :, :, indxs]\n",
    "    Y_dataSet = Y[:, indxs]\n",
    "    X_dataSet, Y_dataSet\n",
    "end"
   ]
  },
  {
   "cell_type": "markdown",
   "metadata": {},
   "source": [
    "## Straight forward Training DataSet"
   ]
  },
  {
   "cell_type": "markdown",
   "metadata": {},
   "source": [
    "Here we just work on three classes. Can you get example images to find out what those classes are"
   ]
  },
  {
   "cell_type": "code",
   "execution_count": 21,
   "metadata": {},
   "outputs": [
    {
     "data": {
      "text/plain": [
       "(32, 32, 3, 15000)"
      ]
     },
     "execution_count": 21,
     "metadata": {},
     "output_type": "execute_result"
    }
   ],
   "source": [
    "X, Y = createDataSetForClasses(train_x, train_y, [8, 9, 10]);\n",
    "size(X)"
   ]
  },
  {
   "cell_type": "markdown",
   "metadata": {},
   "source": [
    "## Shifted Training DataSet Trucks"
   ]
  },
  {
   "cell_type": "code",
   "execution_count": 22,
   "metadata": {},
   "outputs": [
    {
     "data": {
      "text/plain": [
       "(32, 32, 3, 20000)"
      ]
     },
     "execution_count": 22,
     "metadata": {},
     "output_type": "execute_result"
    }
   ],
   "source": [
    "X_shifted_trucks, Y_shifted_trucks = createShiftedTrainDataSet(X, Y, 10) |> gpu;\n",
    "size(X_shifted_trucks)"
   ]
  },
  {
   "cell_type": "markdown",
   "metadata": {},
   "source": [
    "## Shifted Testing DataSet Trucks"
   ]
  },
  {
   "cell_type": "code",
   "execution_count": 23,
   "metadata": {},
   "outputs": [
    {
     "data": {
      "text/plain": [
       "(32, 32, 3, 1000)"
      ]
     },
     "execution_count": 23,
     "metadata": {},
     "output_type": "execute_result"
    }
   ],
   "source": [
    "X_test_shifted_trucks, Y_test_shifted_trucks = createShiftedTestDataSet(test_x, test_y, 10) |> gpu;\n",
    "size(X_test_shifted_trucks)"
   ]
  },
  {
   "cell_type": "code",
   "execution_count": 24,
   "metadata": {},
   "outputs": [
    {
     "data": {
      "image/png": "[encoded data removed]",
      "text/plain": [
       "32×32 reshape(reinterpret(RGB{N0f8}, PermutedDimsArray(::Array{N0f8,3}, (3, 1, 2))), 32, 32) with eltype RGB{Normed{UInt8,8}}:\n",
       " RGB{N0f8}(0.039,0.067,0.024)  …  RGB{N0f8}(0.38,0.337,0.239) \n",
       " RGB{N0f8}(0.071,0.106,0.043)     RGB{N0f8}(0.353,0.318,0.239)\n",
       " RGB{N0f8}(0.078,0.129,0.047)     RGB{N0f8}(0.357,0.329,0.275)\n",
       " RGB{N0f8}(0.063,0.11,0.039)      RGB{N0f8}(0.388,0.369,0.357)\n",
       " RGB{N0f8}(0.031,0.047,0.024)     RGB{N0f8}(0.388,0.384,0.373)\n",
       " RGB{N0f8}(0.024,0.035,0.012)  …  RGB{N0f8}(0.427,0.431,0.42) \n",
       " RGB{N0f8}(0.059,0.098,0.039)     RGB{N0f8}(0.435,0.443,0.431)\n",
       " RGB{N0f8}(0.047,0.094,0.031)     RGB{N0f8}(0.451,0.459,0.443)\n",
       " RGB{N0f8}(0.027,0.067,0.012)     RGB{N0f8}(0.475,0.482,0.471)\n",
       " RGB{N0f8}(0.039,0.067,0.024)     RGB{N0f8}(0.494,0.498,0.486)\n",
       " RGB{N0f8}(0.047,0.059,0.035)  …  RGB{N0f8}(0.502,0.51,0.498) \n",
       " RGB{N0f8}(0.043,0.059,0.035)     RGB{N0f8}(0.49,0.506,0.49)  \n",
       " RGB{N0f8}(0.051,0.094,0.035)     RGB{N0f8}(0.482,0.494,0.478)\n",
       " ⋮                             ⋱                              \n",
       " RGB{N0f8}(0.122,0.22,0.09)    …  RGB{N0f8}(0.369,0.416,0.42) \n",
       " RGB{N0f8}(0.114,0.2,0.102)       RGB{N0f8}(0.392,0.443,0.455)\n",
       " RGB{N0f8}(0.118,0.188,0.11)      RGB{N0f8}(0.42,0.475,0.486) \n",
       " RGB{N0f8}(0.102,0.176,0.106)     RGB{N0f8}(0.439,0.482,0.506)\n",
       " RGB{N0f8}(0.188,0.29,0.227)      RGB{N0f8}(0.439,0.478,0.502)\n",
       " RGB{N0f8}(0.259,0.388,0.341)  …  RGB{N0f8}(0.435,0.475,0.502)\n",
       " RGB{N0f8}(0.247,0.38,0.345)      RGB{N0f8}(0.435,0.471,0.498)\n",
       " RGB{N0f8}(0.243,0.365,0.341)     RGB{N0f8}(0.443,0.471,0.49) \n",
       " RGB{N0f8}(0.235,0.349,0.333)     RGB{N0f8}(0.467,0.486,0.506)\n",
       " RGB{N0f8}(0.243,0.345,0.337)     RGB{N0f8}(0.506,0.525,0.545)\n",
       " RGB{N0f8}(0.243,0.345,0.341)  …  RGB{N0f8}(0.529,0.545,0.557)\n",
       " RGB{N0f8}(0.231,0.333,0.329)     RGB{N0f8}(0.557,0.569,0.565)"
      ]
     },
     "execution_count": 24,
     "metadata": {},
     "output_type": "execute_result"
    }
   ],
   "source": [
    "# 10 is truck class\n",
    "index = findall(Y[10, :] .== true)\n",
    "truck_train = X[:, :, :, index]\n",
    "showImage(truck_train[:,:,:,42])"
   ]
  },
  {
   "cell_type": "code",
   "execution_count": 25,
   "metadata": {},
   "outputs": [
    {
     "data": {
      "image/png": "[encoded data removed]",
      "text/plain": [
       "32×32 reshape(reinterpret(RGB{N0f8}, PermutedDimsArray(::Array{N0f8,3}, (3, 1, 2))), 32, 32) with eltype RGB{Normed{UInt8,8}}:\n",
       " RGB{N0f8}(0.812,0.847,0.871)  …  RGB{N0f8}(0.529,0.525,0.404)\n",
       " RGB{N0f8}(0.835,0.863,0.878)     RGB{N0f8}(0.518,0.514,0.392)\n",
       " RGB{N0f8}(0.945,0.961,0.973)     RGB{N0f8}(0.518,0.514,0.392)\n",
       " RGB{N0f8}(0.957,0.969,0.973)     RGB{N0f8}(0.498,0.486,0.373)\n",
       " RGB{N0f8}(0.953,0.969,0.965)     RGB{N0f8}(0.494,0.463,0.357)\n",
       " RGB{N0f8}(0.933,0.949,0.953)  …  RGB{N0f8}(0.482,0.471,0.353)\n",
       " RGB{N0f8}(0.89,0.902,0.918)      RGB{N0f8}(0.506,0.506,0.376)\n",
       " RGB{N0f8}(0.906,0.918,0.941)     RGB{N0f8}(0.553,0.525,0.396)\n",
       " RGB{N0f8}(0.922,0.933,0.957)     RGB{N0f8}(0.541,0.51,0.384) \n",
       " RGB{N0f8}(0.925,0.945,0.961)     RGB{N0f8}(0.514,0.494,0.373)\n",
       " RGB{N0f8}(0.929,0.961,0.969)  …  RGB{N0f8}(0.498,0.478,0.365)\n",
       " RGB{N0f8}(0.796,0.812,0.824)     RGB{N0f8}(0.482,0.463,0.357)\n",
       " RGB{N0f8}(0.659,0.647,0.663)     RGB{N0f8}(0.427,0.404,0.306)\n",
       " ⋮                             ⋱                              \n",
       " RGB{N0f8}(0.667,0.698,0.671)  …  RGB{N0f8}(0.478,0.459,0.345)\n",
       " RGB{N0f8}(0.761,0.788,0.769)     RGB{N0f8}(0.494,0.475,0.361)\n",
       " RGB{N0f8}(0.937,0.961,0.957)     RGB{N0f8}(0.506,0.486,0.38) \n",
       " RGB{N0f8}(0.961,0.976,0.976)     RGB{N0f8}(0.506,0.49,0.392) \n",
       " RGB{N0f8}(0.965,0.976,0.973)     RGB{N0f8}(0.478,0.463,0.353)\n",
       " RGB{N0f8}(0.969,0.969,0.969)  …  RGB{N0f8}(0.494,0.482,0.365)\n",
       " RGB{N0f8}(0.969,0.965,0.969)     RGB{N0f8}(0.51,0.498,0.376) \n",
       " RGB{N0f8}(0.957,0.961,0.976)     RGB{N0f8}(0.51,0.482,0.369) \n",
       " RGB{N0f8}(0.941,0.957,0.98)      RGB{N0f8}(0.514,0.471,0.369)\n",
       " RGB{N0f8}(0.941,0.953,0.976)     RGB{N0f8}(0.49,0.451,0.357) \n",
       " RGB{N0f8}(0.937,0.949,0.973)  …  RGB{N0f8}(0.525,0.482,0.4)  \n",
       " RGB{N0f8}(0.929,0.945,0.969)     RGB{N0f8}(0.529,0.482,0.408)"
      ]
     },
     "execution_count": 25,
     "metadata": {},
     "output_type": "execute_result"
    }
   ],
   "source": [
    "showImage(X[:, :, :, 220])"
   ]
  },
  {
   "cell_type": "markdown",
   "metadata": {},
   "source": [
    "# CNN"
   ]
  },
  {
   "cell_type": "code",
   "execution_count": 26,
   "metadata": {},
   "outputs": [
    {
     "data": {
      "text/plain": [
       "test_CNN (generic function with 1 method)"
      ]
     },
     "execution_count": 26,
     "metadata": {},
     "output_type": "execute_result"
    }
   ],
   "source": [
    "m = Chain(\n",
    "    Conv((2,2), 3=>16, relu),\n",
    "    x -> maxpool(x, (2,2)), # maxpool default stride = k e.g. (2,2)\n",
    "    x -> reshape(x, :, size(x, 4)),\n",
    "    Dense(3600, 10), \n",
    "    softmax\n",
    ") |> gpu\n",
    "loss(x, y) = crossentropy(m(x), y)\n",
    "accuracy(x, y) = mean(onecold(m(x)) .== onecold(y))\n",
    "\n",
    "function train_CNN_n(X, Y, dataset,n)\n",
    "    evalcb = throttle(() -> @show(accuracy(X, Y)), 10)\n",
    "    opt = ADAM(params(m))\n",
    "    for i=1:n\n",
    "        Flux.train!(loss, dataset, opt, cb = evalcb)\n",
    "    end\n",
    "end\n",
    "\n",
    "function test_CNN(X, Y)\n",
    "    accuracy(X, Y)\n",
    "end"
   ]
  },
  {
   "cell_type": "markdown",
   "metadata": {},
   "source": [
    "## Training on normal DataSet "
   ]
  },
  {
   "cell_type": "code",
   "execution_count": 27,
   "metadata": {},
   "outputs": [],
   "source": [
    "X = convert(Array{Float32,4}, X) |> gpu;\n",
    "Y = Y|> gpu;"
   ]
  },
  {
   "cell_type": "code",
   "execution_count": 28,
   "metadata": {},
   "outputs": [],
   "source": [
    "batches=[(X[:,:,:,i],Y[:,i]) for i in partition(1:size(X,4),500)] ;"
   ]
  },
  {
   "cell_type": "code",
   "execution_count": 29,
   "metadata": {},
   "outputs": [
    {
     "name": "stdout",
     "output_type": "stream",
     "text": [
      "accuracy(X, Y) = 0.3528\n",
      "accuracy(X, Y) = 0.7514\n",
      "accuracy(X, Y) = 0.7864\n",
      "accuracy(X, Y) = 0.8135333333333333\n",
      "accuracy(X, Y) = 0.8464666666666667\n",
      "accuracy(X, Y) = 0.8662\n"
     ]
    }
   ],
   "source": [
    "train_CNN_n(X, Y, batches,100);"
   ]
  },
  {
   "cell_type": "code",
   "execution_count": 30,
   "metadata": {},
   "outputs": [
    {
     "data": {
      "text/plain": [
       "0.872"
      ]
     },
     "execution_count": 30,
     "metadata": {},
     "output_type": "execute_result"
    }
   ],
   "source": [
    "test_CNN(X,Y)"
   ]
  },
  {
   "cell_type": "code",
   "execution_count": 31,
   "metadata": {},
   "outputs": [
    {
     "data": {
      "text/plain": [
       "0.516"
      ]
     },
     "execution_count": 31,
     "metadata": {},
     "output_type": "execute_result"
    }
   ],
   "source": [
    "test_CNN(X_test_shifted_trucks, Y_test_shifted_trucks)"
   ]
  },
  {
   "cell_type": "markdown",
   "metadata": {},
   "source": [
    "## Training on shifted DataSet"
   ]
  },
  {
   "cell_type": "code",
   "execution_count": 32,
   "metadata": {},
   "outputs": [
    {
     "name": "stdout",
     "output_type": "stream",
     "text": [
      "accuracy(X, Y) = 0.7921\n",
      "accuracy(X, Y) = 0.89395\n",
      "accuracy(X, Y) = 0.90155\n",
      "accuracy(X, Y) = 0.90435\n",
      "accuracy(X, Y) = 0.90875\n",
      "accuracy(X, Y) = 0.91035\n",
      "accuracy(X, Y) = 0.9167\n",
      "accuracy(X, Y) = 0.9179\n",
      "accuracy(X, Y) = 0.9202\n",
      "accuracy(X, Y) = 0.92145\n"
     ]
    }
   ],
   "source": [
    "batches=[(X_shifted_trucks[:,:,:,i],Y_shifted_trucks[:,i]) for i in partition(1:size(X_shifted_trucks,4),500)] ;\n",
    "train_CNN_n(X_shifted_trucks, Y_shifted_trucks, batches,100);"
   ]
  },
  {
   "cell_type": "code",
   "execution_count": 33,
   "metadata": {},
   "outputs": [
    {
     "data": {
      "text/plain": [
       "0.8976"
      ]
     },
     "execution_count": 33,
     "metadata": {},
     "output_type": "execute_result"
    }
   ],
   "source": [
    "test_CNN(X,Y)"
   ]
  },
  {
   "cell_type": "code",
   "execution_count": 34,
   "metadata": {},
   "outputs": [
    {
     "data": {
      "text/plain": [
       "0.983"
      ]
     },
     "execution_count": 34,
     "metadata": {},
     "output_type": "execute_result"
    }
   ],
   "source": [
    "test_CNN(X_test_shifted_trucks, Y_test_shifted_trucks)"
   ]
  },
  {
   "cell_type": "markdown",
   "metadata": {},
   "source": [
    "Why is this value quite high?"
   ]
  },
  {
   "cell_type": "markdown",
   "metadata": {},
   "source": [
    "## Test on random input from the normal training Dataset"
   ]
  },
  {
   "cell_type": "code",
   "execution_count": 35,
   "metadata": {},
   "outputs": [
    {
     "data": {
      "image/png": "[encoded data removed]",
      "text/plain": [
       "32×32 reshape(reinterpret(RGB{Float64}, PermutedDimsArray(::Array{Float64,3}, (3, 1, 2))), 32, 32) with eltype RGB{Float64}:\n",
       " RGB{Float64}(0.701961,0.713726,0.815686)  …  RGB{Float64}(0.360784,0.356863,0.278431)\n",
       " RGB{Float64}(0.701961,0.713726,0.815686)     RGB{Float64}(0.356863,0.356863,0.278431)\n",
       " RGB{Float64}(0.713726,0.721569,0.823529)     RGB{Float64}(0.356863,0.356863,0.278431)\n",
       " RGB{Float64}(0.733333,0.741176,0.831373)     RGB{Float64}(0.341176,0.356863,0.266667)\n",
       " RGB{Float64}(0.74902,0.752941,0.843137)      RGB{Float64}(0.321569,0.34902,0.247059) \n",
       " RGB{Float64}(0.756863,0.760784,0.847059)  …  RGB{Float64}(0.337255,0.360784,0.262745)\n",
       " RGB{Float64}(0.760784,0.764706,0.854902)     RGB{Float64}(0.333333,0.356863,0.258824)\n",
       " RGB{Float64}(0.776471,0.776471,0.858824)     RGB{Float64}(0.321569,0.345098,0.239216)\n",
       " RGB{Float64}(0.788235,0.780392,0.858824)     RGB{Float64}(0.317647,0.337255,0.223529)\n",
       " RGB{Float64}(0.788235,0.784314,0.858824)     RGB{Float64}(0.321569,0.341176,0.227451)\n",
       " RGB{Float64}(0.792157,0.784314,0.862745)  …  RGB{Float64}(0.317647,0.337255,0.227451)\n",
       " RGB{Float64}(0.792157,0.788235,0.862745)     RGB{Float64}(0.333333,0.345098,0.239216)\n",
       " RGB{Float64}(0.796079,0.788235,0.866667)     RGB{Float64}(0.345098,0.345098,0.25098) \n",
       " ⋮                                         ⋱                                          \n",
       " RGB{Float64}(0.772549,0.772549,0.858824)  …  RGB{Float64}(0.333333,0.352941,0.235294)\n",
       " RGB{Float64}(0.764706,0.768628,0.858824)     RGB{Float64}(0.32549,0.34902,0.239216)  \n",
       " RGB{Float64}(0.760784,0.764706,0.854902)     RGB{Float64}(0.321569,0.341176,0.239216)\n",
       " RGB{Float64}(0.764706,0.768628,0.854902)     RGB{Float64}(0.356863,0.356863,0.266667)\n",
       " RGB{Float64}(0.772549,0.780392,0.866667)     RGB{Float64}(0.376471,0.368627,0.278431)\n",
       " RGB{Float64}(0.780392,0.788235,0.87451)   …  RGB{Float64}(0.360784,0.368627,0.266667)\n",
       " RGB{Float64}(0.784314,0.792157,0.878431)     RGB{Float64}(0.345098,0.364706,0.25098) \n",
       " RGB{Float64}(0.780392,0.788235,0.878431)     RGB{Float64}(0.321569,0.356863,0.231373)\n",
       " RGB{Float64}(0.776471,0.784314,0.870588)     RGB{Float64}(0.301961,0.345098,0.203922)\n",
       " RGB{Float64}(0.768628,0.776471,0.870588)     RGB{Float64}(0.298039,0.337255,0.2)     \n",
       " RGB{Float64}(0.756863,0.764706,0.870588)  …  RGB{Float64}(0.298039,0.337255,0.215686)\n",
       " RGB{Float64}(0.737255,0.741176,0.862745)     RGB{Float64}(0.301961,0.333333,0.239216)"
      ]
     },
     "execution_count": 35,
     "metadata": {},
     "output_type": "execute_result"
    }
   ],
   "source": [
    "i=16\n",
    "random_test_example_X = convert(Array{Float64},X[:, :, :, i])\n",
    "random_test_example_Y = Y[:, i]\n",
    "showImage(random_test_example_X)"
   ]
  },
  {
   "cell_type": "code",
   "execution_count": 36,
   "metadata": {},
   "outputs": [
    {
     "data": {
      "text/plain": [
       "1.0"
      ]
     },
     "execution_count": 36,
     "metadata": {},
     "output_type": "execute_result"
    }
   ],
   "source": [
    "random_test_example_X_4d = reshape(random_test_example_X, 32, 32, 3, 1) |> gpu\n",
    "test_CNN(random_test_example_X_4d, random_test_example_Y)"
   ]
  },
  {
   "cell_type": "markdown",
   "metadata": {},
   "source": [
    "So far so good!"
   ]
  },
  {
   "cell_type": "markdown",
   "metadata": {},
   "source": [
    "## Test on shifted input"
   ]
  },
  {
   "cell_type": "code",
   "execution_count": 37,
   "metadata": {},
   "outputs": [
    {
     "data": {
      "image/png": "[encoded data removed]",
      "text/plain": [
       "32×32 reshape(reinterpret(RGB{Float64}, PermutedDimsArray(::Array{Float64,3}, (3, 1, 2))), 32, 32) with eltype RGB{Float64}:\n",
       " RGB{Float64}(0.337255,0.392157,0.286275)     …  RGB{Float64}(0.0,0.0,0.0)\n",
       " RGB{Float64}(0.345098,0.392157,0.27451)         RGB{Float64}(0.0,0.0,0.0)\n",
       " RGB{Float64}(0.345098,0.392157,0.258824)        RGB{Float64}(0.0,0.0,0.0)\n",
       " RGB{Float64}(0.345098,0.388235,0.25098)         RGB{Float64}(0.0,0.0,0.0)\n",
       " RGB{Float64}(0.364706,0.411765,0.266667)        RGB{Float64}(0.0,0.0,0.0)\n",
       " RGB{Float64}(0.34902,0.396078,0.25098)       …  RGB{Float64}(0.0,0.0,0.0)\n",
       " RGB{Float64}(0.313726,0.360784,0.223529)        RGB{Float64}(0.0,0.0,0.0)\n",
       " RGB{Float64}(0.317647,0.34902,0.235294)         RGB{Float64}(0.0,0.0,0.0)\n",
       " RGB{Float64}(0.309804,0.329412,0.239216)        RGB{Float64}(0.0,0.0,0.0)\n",
       " RGB{Float64}(0.309804,0.333333,0.239216)        RGB{Float64}(0.0,0.0,0.0)\n",
       " RGB{Float64}(0.141176,0.152941,0.109804)     …  RGB{Float64}(0.0,0.0,0.0)\n",
       " RGB{Float64}(0.0666667,0.0745098,0.0901961)     RGB{Float64}(0.0,0.0,0.0)\n",
       " RGB{Float64}(0.356863,0.356863,0.352941)        RGB{Float64}(0.0,0.0,0.0)\n",
       " ⋮                                            ⋱                           \n",
       " RGB{Float64}(0.313726,0.227451,0.215686)     …  RGB{Float64}(0.0,0.0,0.0)\n",
       " RGB{Float64}(0.0980392,0.0705882,0.0705882)     RGB{Float64}(0.0,0.0,0.0)\n",
       " RGB{Float64}(0.141176,0.141176,0.156863)        RGB{Float64}(0.0,0.0,0.0)\n",
       " RGB{Float64}(0.466667,0.486275,0.486275)        RGB{Float64}(0.0,0.0,0.0)\n",
       " RGB{Float64}(0.611765,0.65098,0.647059)         RGB{Float64}(0.0,0.0,0.0)\n",
       " RGB{Float64}(0.45098,0.498039,0.490196)      …  RGB{Float64}(0.0,0.0,0.0)\n",
       " RGB{Float64}(0.376471,0.427451,0.415686)        RGB{Float64}(0.0,0.0,0.0)\n",
       " RGB{Float64}(0.301961,0.352941,0.352941)        RGB{Float64}(0.0,0.0,0.0)\n",
       " RGB{Float64}(0.458824,0.521569,0.533333)        RGB{Float64}(0.0,0.0,0.0)\n",
       " RGB{Float64}(0.623529,0.698039,0.709804)        RGB{Float64}(0.0,0.0,0.0)\n",
       " RGB{Float64}(0.556863,0.623529,0.647059)     …  RGB{Float64}(0.0,0.0,0.0)\n",
       " RGB{Float64}(0.564706,0.619608,0.654902)        RGB{Float64}(0.0,0.0,0.0)"
      ]
     },
     "execution_count": 37,
     "metadata": {},
     "output_type": "execute_result"
    }
   ],
   "source": [
    "shifted_random_test_example_X = shiftToLeft(random_test_example_X, 10)\n",
    "showImage(shifted_random_test_example_X)"
   ]
  },
  {
   "cell_type": "code",
   "execution_count": 38,
   "metadata": {},
   "outputs": [
    {
     "data": {
      "text/plain": [
       "0.0"
      ]
     },
     "execution_count": 38,
     "metadata": {},
     "output_type": "execute_result"
    }
   ],
   "source": [
    "shifted_random_test_example_X_4d = convert(Array{Float64,4},reshape(shifted_random_test_example_X, 32, 32, 3, 1)) |> gpu;\n",
    "test_CNN(shifted_random_test_example_X_4d, random_test_example_Y)"
   ]
  },
  {
   "cell_type": "markdown",
   "metadata": {},
   "source": [
    "So the shifting threw the classifier off!"
   ]
  },
  {
   "cell_type": "markdown",
   "metadata": {},
   "source": [
    "## Test on rotated input"
   ]
  },
  {
   "cell_type": "code",
   "execution_count": 39,
   "metadata": {},
   "outputs": [
    {
     "data": {
      "image/png": "[encoded data removed]",
      "text/plain": [
       "32×32 reshape(reinterpret(RGB{Float64}, PermutedDimsArray(::Array{Float64,3}, (3, 1, 2))), 32, 32) with eltype RGB{Float64}:\n",
       " RGB{Float64}(0.701961,0.713726,0.815686)  …  RGB{Float64}(0.737255,0.741176,0.862745)\n",
       " RGB{Float64}(0.682353,0.701961,0.792157)     RGB{Float64}(0.745098,0.74902,0.862745) \n",
       " RGB{Float64}(0.682353,0.709804,0.784314)     RGB{Float64}(0.74902,0.752941,0.862745) \n",
       " RGB{Float64}(0.658824,0.686275,0.756863)     RGB{Float64}(0.74902,0.756863,0.862745) \n",
       " RGB{Float64}(0.47451,0.509804,0.556863)      RGB{Float64}(0.737255,0.74902,0.847059) \n",
       " RGB{Float64}(0.364706,0.392157,0.4)       …  RGB{Float64}(0.721569,0.741176,0.831373)\n",
       " RGB{Float64}(0.286275,0.298039,0.286275)     RGB{Float64}(0.705882,0.733333,0.815686)\n",
       " RGB{Float64}(0.282353,0.278431,0.27451)      RGB{Float64}(0.690196,0.721569,0.796079)\n",
       " RGB{Float64}(0.231373,0.239216,0.219608)     RGB{Float64}(0.67451,0.713726,0.784314) \n",
       " RGB{Float64}(0.262745,0.305882,0.223529)     RGB{Float64}(0.666667,0.713726,0.776471)\n",
       " RGB{Float64}(0.337255,0.392157,0.286275)  …  RGB{Float64}(0.564706,0.619608,0.654902)\n",
       " RGB{Float64}(0.403922,0.423529,0.317647)     RGB{Float64}(0.258824,0.305882,0.32549) \n",
       " RGB{Float64}(0.392157,0.396078,0.278431)     RGB{Float64}(0.145098,0.180392,0.156863)\n",
       " ⋮                                         ⋱                                          \n",
       " RGB{Float64}(0.313726,0.360784,0.188235)  …  RGB{Float64}(0.313726,0.341176,0.219608)\n",
       " RGB{Float64}(0.356863,0.364706,0.231373)     RGB{Float64}(0.368627,0.392157,0.278431)\n",
       " RGB{Float64}(0.443137,0.427451,0.32549)      RGB{Float64}(0.517647,0.509804,0.423529)\n",
       " RGB{Float64}(0.521569,0.490196,0.415686)     RGB{Float64}(0.541176,0.513726,0.454902)\n",
       " RGB{Float64}(0.490196,0.454902,0.4)          RGB{Float64}(0.541176,0.501961,0.462745)\n",
       " RGB{Float64}(0.494118,0.466667,0.411765)  …  RGB{Float64}(0.54902,0.513726,0.470588) \n",
       " RGB{Float64}(0.513726,0.498039,0.435294)     RGB{Float64}(0.47451,0.45098,0.392157)  \n",
       " RGB{Float64}(0.439216,0.419608,0.34902)      RGB{Float64}(0.372549,0.364706,0.290196)\n",
       " RGB{Float64}(0.392157,0.376471,0.301961)     RGB{Float64}(0.329412,0.345098,0.235294)\n",
       " RGB{Float64}(0.388235,0.376471,0.301961)     RGB{Float64}(0.298039,0.333333,0.2)     \n",
       " RGB{Float64}(0.360784,0.356863,0.278431)  …  RGB{Float64}(0.305882,0.34902,0.219608) \n",
       " RGB{Float64}(0.360784,0.356863,0.278431)     RGB{Float64}(0.301961,0.333333,0.239216)"
      ]
     },
     "execution_count": 39,
     "metadata": {},
     "output_type": "execute_result"
    }
   ],
   "source": [
    "rotated_random_test_example_X = rotate_right(random_test_example_X);\n",
    "showImage(rotated_random_test_example_X)"
   ]
  },
  {
   "cell_type": "code",
   "execution_count": 40,
   "metadata": {},
   "outputs": [
    {
     "data": {
      "text/plain": [
       "0.0"
      ]
     },
     "execution_count": 40,
     "metadata": {},
     "output_type": "execute_result"
    }
   ],
   "source": [
    "rotated_random_test_example_X_4d = convert(Array{Float64,4},reshape(rotated_random_test_example_X, 32, 32, 3, 1))|> gpu;\n",
    "accuracy(rotated_random_test_example_X_4d, random_test_example_Y)"
   ]
  },
  {
   "cell_type": "code",
   "execution_count": 41,
   "metadata": {},
   "outputs": [],
   "source": [
    "w1 = params(m)[1];"
   ]
  },
  {
   "cell_type": "code",
   "execution_count": 42,
   "metadata": {},
   "outputs": [
    {
     "data": {
      "text/plain": [
       "my_init (generic function with 1 method)"
      ]
     },
     "execution_count": 42,
     "metadata": {},
     "output_type": "execute_result"
    }
   ],
   "source": [
    "function my_init(k1,k2,ch1,ch2)\n",
    "    Tracker.data(w1) |> cpu\n",
    "end"
   ]
  },
  {
   "cell_type": "code",
   "execution_count": 43,
   "metadata": {},
   "outputs": [
    {
     "data": {
      "text/plain": [
       "Chain(Conv((2, 2), 3=>16, NNlib.relu), getfield(Main, Symbol(\"##5#7\"))())"
      ]
     },
     "execution_count": 43,
     "metadata": {},
     "output_type": "execute_result"
    }
   ],
   "source": [
    "m_final = m[1:2]"
   ]
  },
  {
   "cell_type": "code",
   "execution_count": 44,
   "metadata": {},
   "outputs": [
    {
     "data": {
      "text/plain": [
       "displayChannels (generic function with 1 method)"
      ]
     },
     "execution_count": 44,
     "metadata": {},
     "output_type": "execute_result"
    }
   ],
   "source": [
    "function displayChannels(output_conv)\n",
    "    imgChannels=[]\n",
    "    for j=1:size(output_conv, 3)\n",
    "        ch = output_conv[:, :, j];\n",
    "        imgrgb = convert(Array{ColorTypes.Gray,2}, cpu(Tracker.data(ch)))\n",
    "        push!(imgChannels,imgrgb)\n",
    "    end\n",
    "    [imgChannels...]\n",
    "end"
   ]
  },
  {
   "cell_type": "code",
   "execution_count": 45,
   "metadata": {
    "scrolled": false
   },
   "outputs": [
    {
     "data": {
      "text/html": [
       "<table><tbody><tr><td style='text-align:center;vertical-align:middle; margin: 0.5em;border:1px #90999f solid;border-collapse:collapse'><img style='max-width: 100px; max-height:100px;display:inline' src=\"data:image/png;base64,iVBORw0KGgoAAAANSUhEUgAAAGkAAABpCAAAAAAc6VLmAAAABGdBTUEAALGPC/xhBQAAACBjSFJNAAB6JgAAgIQAAPoAAACA6AAAdTAAAOpgAAA6mAAAF3CculE8AAAAAmJLR0QA/4ePzL8AAAHCSURBVGje7ZrBTsMwEESdxoEWCcqFj+Aj+P/v4MKtICQoDaUJh5lKPMlCnBwS7V5GjdeZtTXZrjdpHlJKKaVR8CF4FWTBFcaa9NO+BFvBGi694ChYpVoWTMFEy1ay1Xop6DwoaBHUiPnUPONucesl7l4wzYMpW6YG5+uToMWYfw2ApnRTe/p5ONReUzAFEy0z4brkcK0xwLXDWDFgT2Dyr76mYAomWl6B8VHgDL2FKzP0gF+Mu5jgl7h7wTQPpky8F7wIfAi1vDvENmDeCGBRM9ZeUzAFEy0Xr/oQeidwlf4mcG1j7W4ErNlbzAuVB9PETNkZ+gSwWncC65p1yI3AbcINXFjPsyaqYMEUTLTMrorz9Q4+Ls/fBT59/qG5MsJzibsXTPNgOncSnZMtTOvaSdxvhfaCC4RIsTOJ8/9hibsXTPNgyta1tcv65VngdL9HbEfMY1XCSnyovaZgCiba+fTJitr8t4InXFxj4m/txRawxN0LpnkwZaZfA7sj1wKr1e3FA25TPH1GXR5M/4Op3Emk5n0ktdjdXPkU9PDk61E/CPG1VjBNzJQp6OKnWDyZMjbX5T3G/Og4pcfXWsE0MdM3a1Rk8zruCpAAAAAASUVORK5C\"></td><td style='text-align:center;vertical-align:middle; margin: 0.5em;border:1px #90999f solid;border-collapse:collapse'><img style='max-width: 100px; max-height:100px;display:inline' src=\"data:image/png;base64,iVBORw0KGgoAAAANSUhEUgAAAGkAAABpCAAAAAAc6VLmAAAABGdBTUEAALGPC/xhBQAAACBjSFJNAAB6JgAAgIQAAPoAAACA6AAAdTAAAOpgAAA6mAAAF3CculE8AAAAAmJLR0QA/4ePzL8AAAITSURBVGje7ZpNTxNRFIandoBS0RRoAGNjTDQGdiRsdUviH/H/sOUPsGJNFBNW7ElIwLgxaoyBLmiJaOmni+d18TazcHWbNudsntw7H+/cyZmTd85M6XeWZVmWDcAPsGeTdfATjEDPdnkCXoDH4NrO+SBLFaEUSh55Bd4DZetz8F37gCrogKGhbBjZcaPUawqlUPLIS6b4FTTAJ6BavgD+gIEdp4TWE/AQLAJXSBChFEoeuQ/74D1og2dASduyA1Woldclm6zYnrN490JpOpTGsvwQXICnQGVbdsRL89Am3bH4Kmbx7oXSdCiVRjZU0h6DA/ANyJc/Ano8NkDNts3bKj6nXlMohZLHWC2X8EuwBeRY1CtRq0XeZh3MF52tC9zBJ4hQCiWPvHD2A5ATvwM18AvMgZ6NqjbZm9CaQimUPPJ9eAO+APVRXoGPQEl7BXZBxy5Y9rxt24ap1xRKoeSRv4Mt0ARK6COwBs6B2ilqoJTtgrs2Ug8+HEsoTVjpn2OpGVR+z4Ca6Ld2hN4pN4Fc+jLQ91SZ9V7qNYVSKHkU+3I5j7fgEqiyL4FtULfT9G20Apqp1xRKoeRRnOVuMlSTd0ALnAB1El8D/cCid1HlfHz7DKUJKxVnuf+kcgpkTmpAvlx2RPW6YSf1V9lZvHuhNB1K+X9sfAP075Z+Z9HXJH0HWgUq2yr+quXehkkQoRRKHn8BglFgDapirXgAAAAASUVORK5C\"></td><td style='text-align:center;vertical-align:middle; margin: 0.5em;border:1px #90999f solid;border-collapse:collapse'><img style='max-width: 100px; max-height:100px;display:inline' src=\"data:image/png;base64,iVBORw0KGgoAAAANSUhEUgAAAGkAAABpAQAAAAAR+TCXAAAABGdBTUEAALGPC/xhBQAAACBjSFJNAAB6JgAAgIQAAPoAAACA6AAAdTAAAOpgAAA6mAAAF3CculE8AAAAAmJLR0QAAd2KE6QAAAAVSURBVDjLY2AYBaNgFIyCUTAKcAIABicAAUZAVxIAAAAASUVORK5C\"></td><td style='text-align:center;vertical-align:middle; margin: 0.5em;border:1px #90999f solid;border-collapse:collapse'><img style='max-width: 100px; max-height:100px;display:inline' src=\"data:image/png;base64,iVBORw0KGgoAAAANSUhEUgAAAGkAAABpCAAAAAAc6VLmAAAABGdBTUEAALGPC/xhBQAAACBjSFJNAAB6JgAAgIQAAPoAAACA6AAAdTAAAOpgAAA6mAAAF3CculE8AAAAAmJLR0QA/4ePzL8AAAHsSURBVGje7Zm7TsNAEEXjeJ2E8BAC0UQg0YNExf9/BlQgOkA8wiNAEuxQ3OPiotSObM00R+td+65XN5PZddZT7BgqYWwX94RfYSkUwo/wbq1DYS70e01FKIWSR4JY8VyYCTg5Nyzt/sxa/DpGwsru6+LqhVI7lGqXD4VXYSBsCWTvyubm1ucinl+ta3Vx9UKpHUqJkuNSwNAk4ythW6gMfUOy1kLA5UXT7xRKoeSRyLQPwouATUnU1OWMxOX4OrMJ59bXtxu6uHqh1A6lumK5tea+wGayFMjJVPDYe2lDcmth76hYQmnDSplXHgfCxMZ8CL4lHdoNBAUPfwWjDb1TKIWSRzqy5oVwJ9wIDMHlfj7IPtWPF+nzo5Yurl4otUMpkYzx7pfhRJgKu0JpU6RGIXtT8GD9tfvUBiKUQskj8+1jaZ3HAvbG+lNhYn1v9pSZ9blCAxFKoeRRn7F4WcFHz1PhWfi2IZ92X24tglw+aPqdQimUPOozFv+GSX19LYztInPDu5yl801/vu5hi6bfKZRCyaN2uX+uJKhY2EU+CWRo7O3bzqFNv7C+Lq5eKLVDKXkTs+NdbEo5QpnNZ38y9KPglThmL02ii6sXSu1Qyv7R9Dl4ORPuBQ5lKE74WVCzY31P6bH7DKUNK/0Btb5f4/EpwvoAAAAASUVORK5C\"></td><td style='text-align:center;vertical-align:middle; margin: 0.5em;border:1px #90999f solid;border-collapse:collapse'><img style='max-width: 100px; max-height:100px;display:inline' src=\"data:image/png;base64,iVBORw0KGgoAAAANSUhEUgAAAGkAAABpCAAAAAAc6VLmAAAABGdBTUEAALGPC/xhBQAAACBjSFJNAAB6JgAAgIQAAPoAAACA6AAAdTAAAOpgAAA6mAAAF3CculE8AAAAAmJLR0QA/4ePzL8AAAHISURBVGje7ZlNT8JAFEUpDBgUFPFrYzT+/z+kK6MrN0aiRhEKdXGPi0smhlWbNu9tTjqd5s40ty+Xoejl6lqYC0NhbVdLIQljYSW8Cz92r9+rq0IplLxSdvRTOBEOhK2wsavK4MvnswiXh1LDSnmXj4RTgba9sicGQiHg8q0tv58brKFCKZS8dlxO350ImL0U1rY29zXt/kMobOam7j2FUih57bj8QsDeG5sztkGqMFT2OIPRy0OpYaUdlz8LGBp/uvWHBu/XPbvnm+ni2wuldijlc/m3gFufBBILaeZMwPpLm+LWH9S9p1AKJa80Exc2eiNwIsiJC4b+Eu4EkjgfCxkla+8uvr1QaodSuhKPBLr3ufAo3Aocfw8MeP5YIJcvbRep7j2FUih5pQcoTAUMjfVp4p5YKHxd2hUtfWhXXXx7odQOpb9cjk3fcsuY2yCZnS/gUMDQfA+crPPjNXJ5KDWslP67iU1fhamtjexNLsfzpd2jqrr3FEqh5JX2mDMTSB4EF36SEsj5l5SUTi/3IN/FtxdK7VDax+XM4Xfqi0Bwod1fChObMrLHu/j2QqkdSvu4/F7ghLywB8FCKG1K0dCeQimUvH4BxRdOq0rx8BQAAAAASUVORK5C\"></td><td style='text-align:center;vertical-align:middle; margin: 0.5em;border:1px #90999f solid;border-collapse:collapse'><img style='max-width: 100px; max-height:100px;display:inline' src=\"data:image/png;base64,iVBORw0KGgoAAAANSUhEUgAAAGkAAABpCAAAAAAc6VLmAAAABGdBTUEAALGPC/xhBQAAACBjSFJNAAB6JgAAgIQAAPoAAACA6AAAdTAAAOpgAAA6mAAAF3CculE8AAAAAmJLR0QA/4ePzL8AAAHPSURBVGje7ZrLTsMwEEUdMuUpQALBGr6H/9+CWCMhHqWlKW1Y3NPFlSyWKYlmNkex3dzYurEm4zYPpZRSSi98GGhcC0vhQNgIjYG+EL6EmfUNEKmUSh6xFbHpOa0CNu1sSKld8cB9bYi/AQNEKqWSB37e+RNffwvYe2NDiMYaufoRWmscfE6plEoeu72cOBXwZ1e7CntE+vD1SnDrb4eeUyqlkkewUePPV+s8ErB+V/u9pyNNDf3Qc0qlVPIIrHgs3ArPAgnIpXAtsDXj3c4aW3t8T3GmuHqpNA6l8OSZdOROWAiYnVqJl1rOhE+htbt44jLF1UulcSgFVZW1ga35pvZQLwLFRj5XWxvJa5EuT6X/oRS4le2X4gqZ+InwJODWhV3hcpKa3u5SbOQUVy+VxqEU7MJzAdO+G3gRyMsxbRg8Wa/OYoqrl0rjUAqkSFwurPNNuBJ8Tz4U2MSXNgRQvvFP0gEilVLJI6qt7Mn3wqOAr93CjfWt7S5bwxRXL5XGobRzuR/0E1RV+Agl217ZkGpp3O+d9fJU2rNSVP+d4gf21MTxPBn80vp4EfwI1E9Jp7h6qTQOpfjr8HJmV/7vFLewVyDJXzZ7mlMqpZLHL+yYWPpmcHyXAAAAAElFTkSuQmCC\"></td><td style='text-align:center;vertical-align:middle; margin: 0.5em;border:1px #90999f solid;border-collapse:collapse'><img style='max-width: 100px; max-height:100px;display:inline' src=\"data:image/png;base64,iVBORw0KGgoAAAANSUhEUgAAAGkAAABpAQAAAAAR+TCXAAAABGdBTUEAALGPC/xhBQAAACBjSFJNAAB6JgAAgIQAAPoAAACA6AAAdTAAAOpgAAA6mAAAF3CculE8AAAAAmJLR0QAAd2KE6QAAAAVSURBVDjLY2AYBaNgFIyCUTAKcAIABicAAUZAVxIAAAAASUVORK5C\"></td><td style='text-align:center;vertical-align:middle; margin: 0.5em;border:1px #90999f solid;border-collapse:collapse'><img style='max-width: 100px; max-height:100px;display:inline' src=\"data:image/png;base64,iVBORw0KGgoAAAANSUhEUgAAAGkAAABpCAAAAAAc6VLmAAAABGdBTUEAALGPC/xhBQAAACBjSFJNAAB6JgAAgIQAAPoAAACA6AAAdTAAAOpgAAA6mAAAF3CculE8AAAAAmJLR0QA/4ePzL8AAAH5SURBVGje7ZpJS8NQFIVTfU51qnVcCCr+A1e680f7H9wIblwqKFLBCafi0Fbr4nwBDwR3Jrbcu/nIS9OTF+67PbmvtbUsy7IsGxFuhS9hSZgULoQp4S37GZvCmPAqtIRxUyghQimUPBJSNWFeuBO6wrhd8Vn0NbVfbn+k7DmFUih5JMo2eBQWhQXBy7ZnuS+S96Lb75Y9p1AKJY+8lvcM98K2cGdXjAoke19gPZwLM4J7m2F8eqE0GEqJpG0XnfQqXLdBv1O/4QnhNxvzlxFKoeSRSEVeNLEcVO9jYdXO1Q1NwVOfIt6paE6hFEoeCeLLx+zksnBtg1T9DWFa6Ni38PvQq2hOoRRKHgkP3TbMCusC7UVWQNc+QnrTm2HNjFY7p1AKJY/0JLZsdF84Ewo75GT5obAnUMsviyYzjE8vlAZDKe8kYrMbwpVAtq4IZDkOnjdMqveH0LFzWP6vsucUSqHkkfAhTRt9tqMbO/Idoy2BjSMaii9Cv6I5hVIoeSSXogtOFXbPTswJJPSpwE8BtZz0xtS8lD2nUAolj0RG+hYowVtkQyD1H4QDAc++I2Dyaa746hjGpxdKg6GU98v7BnfUVOhd4URgexSzjhPnr19HQnQSQ+l/KOW1HEXftyd3sRwkOysAP49V4XW1Z4Pu7ofx6YXSYCh9A5gJX4VIG4r2AAAAAElFTkSuQmCC\"></td><td style='text-align:center;vertical-align:middle; margin: 0.5em;border:1px #90999f solid;border-collapse:collapse'><img style='max-width: 100px; max-height:100px;display:inline' src=\"data:image/png;base64,iVBORw0KGgoAAAANSUhEUgAAAGkAAABpCAAAAAAc6VLmAAAABGdBTUEAALGPC/xhBQAAACBjSFJNAAB6JgAAgIQAAPoAAACA6AAAdTAAAOpgAAA6mAAAF3CculE8AAAAAmJLR0QA/4ePzL8AAAGvSURBVGje7ZpbT8JAEIW3sEUUb9H//wM1MfESI4gtPswh8TMTHlvanHn5spfhbJthmR22aUoppZSLwDrwE7gNtBhbBD4D14GvwGugCyzLX1uUocxKVqJVUYHZo1fLWGatJvuYHp1qtUM/k5WsRKuHoIK2xWCfeaiToS/3w1k8k5WsRKuS0l7+gsGHwCqwx9oY5dyv9UVogDm+PStNQ6kqBm8CainN/sZUtS7liJUyrnuMOcqtNLLSMWPZBjaADqFPWNRj4Cog9x6tkZ/JSlaiHQ+RS4BR3gOK5IqZ+pgd/Cowx7dnpWkoVSbPCuF3DQY6TFHrLrBBp34ReGp1xmKlkZWqjpbpgXF3yjHAmniavzjKrTSy0rHGojNlml9/0COwQid3bx47WY0ZwKxkJVpVOUVlQgUmM2pu8Eq6nwP3J9a9yDCAWclKtH95uUxbs/Zrlc23mLnOHJijqLMb+pmsZCVaw6yZf/koyhW7KiFqL9c9li6bqR8G11isdB5K9VTBO73OIuh6lxIe7fP646jNMMe3Z6VpKFU20/xFYZreNJS/bi++BfiV8enTSiMr/QLDBk6E8Pf0/AAAAABJRU5ErkJg\"></td><td style='text-align:center;vertical-align:middle; margin: 0.5em;border:1px #90999f solid;border-collapse:collapse'><img style='max-width: 100px; max-height:100px;display:inline' src=\"data:image/png;base64,iVBORw0KGgoAAAANSUhEUgAAAGkAAABpAQAAAAAR+TCXAAAABGdBTUEAALGPC/xhBQAAACBjSFJNAAB6JgAAgIQAAPoAAACA6AAAdTAAAOpgAAA6mAAAF3CculE8AAAAAmJLR0QAAd2KE6QAAAAVSURBVDjLY2AYBaNgFIyCUTAKcAIABicAAUZAVxIAAAAASUVORK5C\"></td><td style='text-align:center;vertical-align:middle; margin: 0.5em;border:1px #90999f solid;border-collapse:collapse'><img style='max-width: 100px; max-height:100px;display:inline' src=\"data:image/png;base64,iVBORw0KGgoAAAANSUhEUgAAAGkAAABpCAAAAAAc6VLmAAAABGdBTUEAALGPC/xhBQAAACBjSFJNAAB6JgAAgIQAAPoAAACA6AAAdTAAAOpgAAA6mAAAF3CculE8AAAAAmJLR0QA/4ePzL8AAAH8SURBVGje7Zm7TsNAEEUdsiQ8RXgKBSEqEPAB/AX/xl9RUFJRIKVASIhXeENIYop7KK5k0eHI1kxzFMezd3c1ntysGydZlmVZlgtPwqkwLXSEd2EsDC1vVli1vIFwL0xlZUUohZJHaokjoSNsCM9CU/DabdgwjaJ5//XpPyOUQskjUcJ06AdhRrjzW4WBXaS8GYUG37LvCp+A/4xQCiWP3yr/FtrCo0AvX+dWS/Sngz5PQed2S7PsNYVSKHkkpChFDPmFsCZQyakon3Tv17ndEr08lCaslKhBTMaxcCicCZfCokDb5rHA2+SGgd1Z+ppCKZQ8kptnQBPvCrhtzl+w7licXZsw6aMi1HH3QqkaSoU2JOsJ9OQ3gWLHv6wIXwIniW7WJ7WmUAolj4QTp9o52+4JHCheC/TkD4Gjcf8NYJRPgYckL3tNoRRKHulIfBE6wo5AeS8It5bYtpm6VaGux3axjrsXStVQStQglmNboD7x3ufCi83tRuhaAr280LjUcfdCqRpKyc/5qHku0tL3BKwKnX1TmLP0saW37Ls67l4oVUMp0X7dZPCJauUI8UDoC1fCktD1QYtGqePuhVI1lJK/riTcUfOOaEugoF8F/mj2hWWbPm9Qh2WvKZRCySN59/ZiZxr7AucvOHjy5gVsjB+18JBElYfShJV+ANUNX8yGNJddAAAAAElFTkSuQmCC\"></td><td style='text-align:center;vertical-align:middle; margin: 0.5em;border:1px #90999f solid;border-collapse:collapse'><img style='max-width: 100px; max-height:100px;display:inline' src=\"data:image/png;base64,iVBORw0KGgoAAAANSUhEUgAAAGkAAABpCAAAAAAc6VLmAAAABGdBTUEAALGPC/xhBQAAACBjSFJNAAB6JgAAgIQAAPoAAACA6AAAdTAAAOpgAAA6mAAAF3CculE8AAAAAmJLR0QA/4ePzL8AAAHWSURBVGje7Zq9SgNBFIWdZP3FH1QURBRSiZ2NNj6D7+CD+gJ2FmkEGxXUQpOVGI352VicY3FgWK1m2XBu85HszJy9y5nh7k3CHGIFOAR6wCcwAKYxBKABFMA8MJKRHJIgrGQljRAV3gaGwLcMoWkLmU9MgEWZ3kidk5WspPHrciqeAx3gBXiXIXR5Uz5xmUKgE2bx6VmpHkoh+i0tvAwM/56hnh9Xm5OVrKSRkWdAC2gDjwB9PZYZ0Sp9Ip94pDdT52QlK2kE5QUwjuEa6Mv8PYAvqLncPj1vl1upYqV4xbIKrAEHwBLwBdwBXYAtmqmsQuvb5VaqWCmUXTwBOjKU7UVan76+lfvmfngFFlLnZCUraYRL8ArIAVbUNPQmwJdQHs3sFrL/wh0wkrW1uTKLT89K9VDKeAqfijAtfAN8AE8Ae+nsv7CXTntzB/D0HlSUk5WspFFasewCPNK1W7gjI7kDuDv6srZ2zxOElaykkZVdPALo6zeAZl8HngG+p3ZlUd1Bs/j0rFQPpfD/occAK5YcaMsy0d/73WOxUsVKpS7fANhXZMuEVUlL7pSl+wPAupw9x0nqnKxkJY1Sl7MO2QfuAf2nIedvAXzf7EkWWeqcrGQljR/VAVrq2L9rXAAAAABJRU5ErkJg\"></td><td style='text-align:center;vertical-align:middle; margin: 0.5em;border:1px #90999f solid;border-collapse:collapse'><img style='max-width: 100px; max-height:100px;display:inline' src=\"data:image/png;base64,iVBORw0KGgoAAAANSUhEUgAAAGkAAABpCAAAAAAc6VLmAAAABGdBTUEAALGPC/xhBQAAACBjSFJNAAB6JgAAgIQAAPoAAACA6AAAdTAAAOpgAAA6mAAAF3CculE8AAAAAmJLR0QA/4ePzL8AAAGlSURBVGje7ZrBTgMxDESzXZfSUrhx4/8/DokLVEDZbdODZw9Psjhulci+jJLUmcQaWY67w76UUkqpDleHjcODw4vD7HBxGBz+HJ7hoF1kZ+y5giVTMtHMHC+YnRweHQaArGJSozFySJUn052ZLJSw1KqcTEFzjSovmCT0GL1kaoPJto5U+RWgNWV91Sj1n02HaLLH6CVTG0wmKmVoVReUMHO5aptrBGFmX/1OyZRMNKMijw5S66/DpwOflhK74cAVcK87JVMy0YzVBR+he0ye5OEgsUv62kVtmIpbcLSCJVMy0ZaKhSWH1PoeeRwcnqKTjhhR3j1GL5naYFo6iez6fTvoZfqGyVN0UvZfZDPWeoxeMrXBZNKuFKmULum/OuwcfhwoaEo4fLXOa98pmZKJZmFPnE1D/Uf0ER3xiBHrnoKte4xeMrXBJD0vwmRj8AtrG3gYtmFxQtiufadkSibaIlYVIDUCrR3gOME/VDJ36TF6ydQGk4Wz/HZLiVofbY2A8NxyPwN6jF4ytcG0qDxM4lL5FDnynaqf7PATVkE9Ri+Z2mC6Ad/0WgaDQHyjAAAAAElFTkSuQmCC\"></td><td style='text-align:center;vertical-align:middle; margin: 0.5em;border:1px #90999f solid;border-collapse:collapse'><img style='max-width: 100px; max-height:100px;display:inline' src=\"data:image/png;base64,iVBORw0KGgoAAAANSUhEUgAAAGkAAABpCAAAAAAc6VLmAAAABGdBTUEAALGPC/xhBQAAACBjSFJNAAB6JgAAgIQAAPoAAACA6AAAdTAAAOpgAAA6mAAAF3CculE8AAAAAmJLR0QA/4ePzL8AAAIUSURBVGje7do9L0NhGMbxUz1UECTi3UDiJZEgsYnBYmKW+Ao+gtniGxjMYjMQYpKYDCRiIEJCCAYvAyqlWgz/y3DLSWM6TZv7WX5pT0+vPs3dJ/d5ThP5IAiCIMjBKcxDCnrgCnTCB2ShF4ahEe7gDCqCuIYneZIdoaKqYAD64c4cq4U3nQg584H1ym9ImUfl+O15UmkkhfbhIQzCOSTBVnneHNPbZKAe6iAR95w8yZPs+FPljbABtzACKtp7qASt5Q2ggv6CGqiKe06e5El2/KnyBdgGLemqZNX1d9TbqLyT5iXJIs3JkzzJjkRk0W7CIjxAM6jbVs13QQe0gFZv/YIO4p6TJ3mSHWHks9ormYAXUJd+AerLu0GlnzDHPiEb95w8yZPsiK7yNVB9PoG6bRV0O+haVCu7Wvd3ULH71acnFTkpXEIVpvZYTmAUdkAbKM+gHXLbs4tH0C/AdxI9qchJ4Rym4RJU8+ugTfRdc6KW7dB8YN0q0uqdMU+W47fnSaWR9NuxqGiHzMEjWI46cR/GIGfe5RV0Eep9uScVOSksdHAW9mAFtNUyDm2gVsUWtHZcruOekyd5kh0Fq1wXmqrrKbiBLeiGaWiCarB3/8vx2/Ok0kgqWOXqqFdhEjqhFdTP6y5pH+h20DG8xD0nT/IkO8J/HJwBLeK6b699RW0oarlX46J/vKh/Scc9J0/yJDt+AHmiWaZMGymfAAAAAElFTkSuQmCC\"></td><td style='text-align:center;vertical-align:middle; margin: 0.5em;border:1px #90999f solid;border-collapse:collapse'><img style='max-width: 100px; max-height:100px;display:inline' src=\"data:image/png;base64,iVBORw0KGgoAAAANSUhEUgAAAGkAAABpCAAAAAAc6VLmAAAABGdBTUEAALGPC/xhBQAAACBjSFJNAAB6JgAAgIQAAPoAAACA6AAAdTAAAOpgAAA6mAAAF3CculE8AAAAAmJLR0QA/4ePzL8AAAISSURBVGje7Zq5TkMxEEVfwBCRKOxQULE0gIREQUXDt/B7SNDAF/AJFAiJAlEEAWILEiRAFop7UlxE7SjRTHPkPNvXfhrPG9spHRVFURRFTxgTToVvoSw8Ckn4EkrCnDArVK1B07rOYKEUSm4Jp+0IbWFGeBdYAcnG5kOk1BVw/XErjeLbC6XhUEr4IJ5M2F4W6gKhmZodK9EOh/4yMIt27jmFUii5JY/C5wIZy46NhhXwae1xbxbCjzWYEhq55xRKoeSWPB1ZEbYEwnbXBuV5SM+qFPajYxTfXigNh1I/lk8I6/wq3AgfwqVQEYjsq9YbDs3qIHHxAJ/BQimU3P7k5VjFhrEg7AnPwqvwIiwJkwLhvmulUXx7oTQcSn0vJ5azUzwTDoQnoSa8CYvCtFC2XpLVzD6nUAolt8Rm8li4E9aEK+FCoCYLYdcabAjkKCwLDso9rc9goRRKbolc41DwVOVEIF6To3ABRNj2U8aWPWsPaE6hFEpuqWFFwi9ZOvvGe6oKNGCHOS8Qr1kBrAec3U/PM1gohZJbYsOIX3/bw317di0QtrcFzl+a1hz3JnVv5Z5TKIWSW/IbTYxcgyhM7k3Y5q6H+6NbgX1q1XrxD8Movr1QGg6l5Fc3mB+88HeWmlWhxPWo3x/xfXgQ4rw8lAaslP69tcQ46d4U6vaMVIWFQIBn88qyoOtO7jmFUii5/QKU7WsFyVtEIwAAAABJRU5ErkJg\"></td><td style='text-align:center;vertical-align:middle; margin: 0.5em;border:1px #90999f solid;border-collapse:collapse'><img style='max-width: 100px; max-height:100px;display:inline' src=\"data:image/png;base64,iVBORw0KGgoAAAANSUhEUgAAAGkAAABpCAAAAAAc6VLmAAAABGdBTUEAALGPC/xhBQAAACBjSFJNAAB6JgAAgIQAAPoAAACA6AAAdTAAAOpgAAA6mAAAF3CculE8AAAAAmJLR0QA/4ePzL8AAAIbSURBVGje7ZrNShxBFIW7MzVOJtEwTBJRJBFUAgZCyD7Z5iHyUnkAl+I7uNBllipuslFhQkAxRkISf+fXxXdmcWDWPXRz7+aDrqo5U8WpO7drKj/PsizLsh7ogA0wAC/BBehbWxcsgDUwC/6BH+BRVlSEUih5pMcwB8vgDTgGNdAE12Bk31Sog+GkWVRx9UKpHEopQeXyI9ACN0C5vAHc5dod2gjK7E9A07pUcfVCqRxKY5crXoAzcAleAWV9T+I1axsaZkC96DmFUih5JEnJmF/BN/AaqBJvTBrvibpmH1ab0pxCKZQ8cjlStcYd2AZbQC5vW099xTnw3KDfByXxk6LnFEqh5JG8sJY/18F7a1MZ8wdcgUUwYz37JtErek6hFEoeaeLTA/AM/AK+H5TZ5fkWkNmV7kdTmlMohZJH2oTyrqqLQ/AO7AF599LaRjZcLv8P7q1LFVcvlMqhlL7An0CHhh/APngKTsHQHqr2Vp7vWZe+Pazi6oVSOZSSrDgP9Pqoh3/BDlASV75Wlb5iA/zssGttVVy9UCqH0vjtU8YcmP5HoIpFdwG0EVZB24b7EaL+6G8UPadQCiWPpPQre/shiby7BD6BDvgO5Pm3QC7XK+3ESwAFRCiFksf4jCU3eGG9C3THRaeMurulSwC/gf5G0pZRrX9b9JxCKZQ8xi4fGRTK7J+BHy+qZ9seaoDusaguD5eH0pSVHgBET2TJqbvDiAAAAABJRU5ErkJg\"></td></tr></tbody></table><div><small>(a vector displayed as a row to save space)</small></div>"
      ],
      "text/plain": [
       "16-element Array{Array{Gray{Float32},2},1}:\n",
       " [Gray{Float32}(0.239885) Gray{Float32}(0.23411) … Gray{Float32}(0.217047) Gray{Float32}(0.19684); Gray{Float32}(0.253251) Gray{Float32}(0.240707) … Gray{Float32}(0.225719) Gray{Float32}(0.19834); … ; Gray{Float32}(0.269441) Gray{Float32}(0.265233) … Gray{Float32}(0.20501) Gray{Float32}(0.175749); Gray{Float32}(0.26773) Gray{Float32}(0.264567) … Gray{Float32}(0.195302) Gray{Float32}(0.1601)]                  \n",
       " [Gray{Float32}(0.965471) Gray{Float32}(0.951505) … Gray{Float32}(0.549633) Gray{Float32}(0.443437); Gray{Float32}(0.997999) Gray{Float32}(0.96961) … Gray{Float32}(0.566608) Gray{Float32}(0.440696); … ; Gray{Float32}(1.0623) Gray{Float32}(1.04401) … Gray{Float32}(0.468983) Gray{Float32}(0.39572); Gray{Float32}(1.05212) Gray{Float32}(1.03986) … Gray{Float32}(0.454537) Gray{Float32}(0.362786)]                  \n",
       " [Gray{Float32}(0.0) Gray{Float32}(0.0) … Gray{Float32}(0.0) Gray{Float32}(0.0); Gray{Float32}(0.0) Gray{Float32}(0.0) … Gray{Float32}(0.0) Gray{Float32}(0.0); … ; Gray{Float32}(0.0) Gray{Float32}(0.0) … Gray{Float32}(0.0) Gray{Float32}(0.0); Gray{Float32}(0.0) Gray{Float32}(0.0) … Gray{Float32}(0.0) Gray{Float32}(0.0)]                                                                                           \n",
       " [Gray{Float32}(0.0) Gray{Float32}(0.0454547) … Gray{Float32}(0.169852) Gray{Float32}(0.141826); Gray{Float32}(0.0) Gray{Float32}(0.0186412) … Gray{Float32}(0.16595) Gray{Float32}(0.153413); … ; Gray{Float32}(0.0) Gray{Float32}(0.00753411) … Gray{Float32}(0.169472) Gray{Float32}(0.178192); Gray{Float32}(0.0) Gray{Float32}(0.00218568) … Gray{Float32}(0.177032) Gray{Float32}(0.182128)]                          \n",
       " [Gray{Float32}(0.0) Gray{Float32}(0.0) … Gray{Float32}(0.112946) Gray{Float32}(0.147347); Gray{Float32}(0.0) Gray{Float32}(0.0) … Gray{Float32}(0.0929651) Gray{Float32}(0.150176); … ; Gray{Float32}(0.0) Gray{Float32}(0.0) … Gray{Float32}(0.136356) Gray{Float32}(0.155872); Gray{Float32}(0.0) Gray{Float32}(0.0) … Gray{Float32}(0.142003) Gray{Float32}(0.155243)]                                                  \n",
       " [Gray{Float32}(0.293943) Gray{Float32}(0.290499) … Gray{Float32}(0.106745) Gray{Float32}(0.124261); Gray{Float32}(0.288119) Gray{Float32}(0.290337) … Gray{Float32}(0.108855) Gray{Float32}(0.130129); … ; Gray{Float32}(0.293515) Gray{Float32}(0.283627) … Gray{Float32}(0.127996) Gray{Float32}(0.131641); Gray{Float32}(0.299511) Gray{Float32}(0.292043) … Gray{Float32}(0.123771) Gray{Float32}(0.127728)]           \n",
       " [Gray{Float32}(0.0) Gray{Float32}(0.0) … Gray{Float32}(0.0) Gray{Float32}(0.0); Gray{Float32}(0.0) Gray{Float32}(0.0) … Gray{Float32}(0.0) Gray{Float32}(0.0); … ; Gray{Float32}(0.0) Gray{Float32}(0.0) … Gray{Float32}(0.0) Gray{Float32}(0.0); Gray{Float32}(0.0) Gray{Float32}(0.0) … Gray{Float32}(0.0) Gray{Float32}(0.0)]                                                                                           \n",
       " [Gray{Float32}(0.0950673) Gray{Float32}(0.103417) … Gray{Float32}(0.0) Gray{Float32}(0.0250966); Gray{Float32}(0.101787) Gray{Float32}(0.105032) … Gray{Float32}(0.0) Gray{Float32}(0.0331434); … ; Gray{Float32}(0.12385) Gray{Float32}(0.105791) … Gray{Float32}(0.0) Gray{Float32}(0.0); Gray{Float32}(0.12283) Gray{Float32}(0.113217) … Gray{Float32}(0.0) Gray{Float32}(0.0)]                                        \n",
       " [Gray{Float32}(0.00278665) Gray{Float32}(0.0325496) … Gray{Float32}(0.0670302) Gray{Float32}(0.0682002); Gray{Float32}(0.0029622) Gray{Float32}(0.018869) … Gray{Float32}(0.0597013) Gray{Float32}(0.0783941); … ; Gray{Float32}(0.00106369) Gray{Float32}(0.00528419) … Gray{Float32}(0.0910354) Gray{Float32}(0.108614); Gray{Float32}(0.0) Gray{Float32}(0.00325697) … Gray{Float32}(0.0860588) Gray{Float32}(0.123068)]\n",
       " [Gray{Float32}(0.0) Gray{Float32}(0.0) … Gray{Float32}(0.0) Gray{Float32}(0.0); Gray{Float32}(0.0) Gray{Float32}(0.0) … Gray{Float32}(0.0) Gray{Float32}(0.0); … ; Gray{Float32}(0.0) Gray{Float32}(0.0) … Gray{Float32}(0.0) Gray{Float32}(0.0); Gray{Float32}(0.0) Gray{Float32}(0.0) … Gray{Float32}(0.0) Gray{Float32}(0.0)]                                                                                           \n",
       " [Gray{Float32}(0.566079) Gray{Float32}(0.561781) … Gray{Float32}(0.401855) Gray{Float32}(0.327288); Gray{Float32}(0.587115) Gray{Float32}(0.574773) … Gray{Float32}(0.405932) Gray{Float32}(0.326661); … ; Gray{Float32}(0.625691) Gray{Float32}(0.619989) … Gray{Float32}(0.356341) Gray{Float32}(0.312493); Gray{Float32}(0.619432) Gray{Float32}(0.616452) … Gray{Float32}(0.34539) Gray{Float32}(0.296819)]            \n",
       " [Gray{Float32}(0.0) Gray{Float32}(0.0388668) … Gray{Float32}(0.0291506) Gray{Float32}(0.0234464); Gray{Float32}(0.0) Gray{Float32}(0.0) … Gray{Float32}(0.0178751) Gray{Float32}(0.0255718); … ; Gray{Float32}(0.0) Gray{Float32}(0.0) … Gray{Float32}(0.0157314) Gray{Float32}(0.00374683); Gray{Float32}(0.0) Gray{Float32}(0.0) … Gray{Float32}(0.01172) Gray{Float32}(0.02582)]                                        \n",
       " [Gray{Float32}(0.0356068) Gray{Float32}(0.0307002) … Gray{Float32}(0.128244) Gray{Float32}(0.103886); Gray{Float32}(0.0517576) Gray{Float32}(0.0397052) … Gray{Float32}(0.143421) Gray{Float32}(0.102315); … ; Gray{Float32}(0.0600727) Gray{Float32}(0.0618044) … Gray{Float32}(0.111807) Gray{Float32}(0.0843078); Gray{Float32}(0.0582385) Gray{Float32}(0.0577755) … Gray{Float32}(0.116197) Gray{Float32}(0.0744067)] \n",
       " [Gray{Float32}(0.99199) Gray{Float32}(0.975575) … Gray{Float32}(0.543971) Gray{Float32}(0.395514); Gray{Float32}(1.04158) Gray{Float32}(1.00372) … Gray{Float32}(0.574126) Gray{Float32}(0.390555); … ; Gray{Float32}(1.12893) Gray{Float32}(1.11021) … Gray{Float32}(0.442629) Gray{Float32}(0.333774); Gray{Float32}(1.11551) Gray{Float32}(1.1022) … Gray{Float32}(0.420892) Gray{Float32}(0.286779)]                   \n",
       " [Gray{Float32}(0.666091) Gray{Float32}(0.663082) … Gray{Float32}(0.365097) Gray{Float32}(0.327713); Gray{Float32}(0.684119) Gray{Float32}(0.672523) … Gray{Float32}(0.374721) Gray{Float32}(0.33141); … ; Gray{Float32}(0.713232) Gray{Float32}(0.697017) … Gray{Float32}(0.320082) Gray{Float32}(0.28133); Gray{Float32}(0.70579) Gray{Float32}(0.697363) … Gray{Float32}(0.311961) Gray{Float32}(0.271149)]              \n",
       " [Gray{Float32}(0.914076) Gray{Float32}(0.895111) … Gray{Float32}(0.53657) Gray{Float32}(0.416622); Gray{Float32}(0.943405) Gray{Float32}(0.916337) … Gray{Float32}(0.544639) Gray{Float32}(0.417112); … ; Gray{Float32}(1.00688) Gray{Float32}(0.99119) … Gray{Float32}(0.460914) Gray{Float32}(0.379268); Gray{Float32}(0.998496) Gray{Float32}(0.987859) … Gray{Float32}(0.439837) Gray{Float32}(0.34583)]               "
      ]
     },
     "execution_count": 45,
     "metadata": {},
     "output_type": "execute_result"
    }
   ],
   "source": [
    "output_conv = m_final(random_test_example_X_4d);\n",
    "displayChannels(output_conv)"
   ]
  },
  {
   "cell_type": "code",
   "execution_count": 46,
   "metadata": {},
   "outputs": [
    {
     "data": {
      "text/html": [
       "<table><tbody><tr><td style='text-align:center;vertical-align:middle; margin: 0.5em;border:1px #90999f solid;border-collapse:collapse'><img style='max-width: 100px; max-height:100px;display:inline' src=\"data:image/png;base64,iVBORw0KGgoAAAANSUhEUgAAAGkAAABpCAAAAAAc6VLmAAAABGdBTUEAALGPC/xhBQAAACBjSFJNAAB6JgAAgIQAAPoAAACA6AAAdTAAAOpgAAA6mAAAF3CculE8AAAAAmJLR0QA/4ePzL8AAAFqSURBVGje7ZnBTsNADEQ31EUUCfgX/v9/OPSEVEoDacPBU4knhTan4lbjyyjKrt5uNFnZ3u61tdZa+0zp2u8YUl5SHjCkT/nGyLf2d9y1S4VJJjFiAeKIl/Q8F6V5w9S8f96TSSYxQk6WaQ+QbmqGRsrXO0yosSeTTGKEdJnSn1iNnMzDv+KeTDKJcXQ5T+gDnrioyQPeGYtJhUmhsnMJsFyuX2CEMKkZZy/4Fr+eSddBCnVONiksJlcpzNn1tMfIrp2NW/x6Jl0HKdaptOlzitqEKwxhoamVDpX2ZJJJjFAz/CNF1eeM5sr8Q/ziezLJJEY8pm5T7sGnhXmI7yHuJJpUmHSsPrcAK1Wh53lxxDq11J5MMokR7yCqFlVz5VR7cQFx9WlSYVI8pcqt8vwOYyarT+bldrlJhUmhFqLMrubKV4pqURma16P6EZTbOC83qTApZNPJ2x3l5T3eKZuRrwc81diTSSYxfgBPQkneT2ksvgAAAABJRU5ErkJg\"></td><td style='text-align:center;vertical-align:middle; margin: 0.5em;border:1px #90999f solid;border-collapse:collapse'><img style='max-width: 100px; max-height:100px;display:inline' src=\"data:image/png;base64,iVBORw0KGgoAAAANSUhEUgAAAGkAAABpCAAAAAAc6VLmAAAABGdBTUEAALGPC/xhBQAAACBjSFJNAAB6JgAAgIQAAPoAAACA6AAAdTAAAOpgAAA6mAAAF3CculE8AAAAAmJLR0QA/4ePzL8AAAGzSURBVGje7Zo5TgNBEEV7cLGZRWYRi0RGQohECikRJ+IoXIQEiYgTkJEghBACEoMAGy9jgv8d/ADJESrQr+SpxzN+3Va5p6bs6rSUUkp5BEZAHxgC28AusAw8Aw/AB3BWfo6p8lthk00aEWAT6AK1oCHgFyFkVGdak002aQRVs0AHGMo0mND8BiwA80AFjDKtySabNIL5yaRt8yjA15jXmtBzcqb3cpsSm4LbNsuRSvy1HNSKRaf4lWlNNtmkEVcg6/IlHgW25FTmfEemWMsFOdZkk00acQiyV8JWywDYBGZ4qlzYA3grcMViU2LTOHVbwDswDfRl1JSDfXmbKtOabLJJIy5AJu0TcAx0ZTbM5Fd5rZ54wv/x07Ppb5hiA7wG2E5hA6Uhs+nJiM+brlhsym+KO/CNQ+AG2ANYpa8AnwCLdd4D3C+3KbEpTsBzYBHYB9Z5DjCQ0SrwAjjLbUpsCu7JB0AbuATYSWQbhn9g4bMoc36Cx85fX5NNNmmM++UsTloA63KWI9yvd3gFcAuwe+5fhWxKbIoj8B7g31lYgPA3ojWA2zY3f+7lXUGONdlkk8Y3zgBPcpsqAskAAAAASUVORK5C\"></td><td style='text-align:center;vertical-align:middle; margin: 0.5em;border:1px #90999f solid;border-collapse:collapse'><img style='max-width: 100px; max-height:100px;display:inline' src=\"data:image/png;base64,iVBORw0KGgoAAAANSUhEUgAAAGkAAABpAQAAAAAR+TCXAAAABGdBTUEAALGPC/xhBQAAACBjSFJNAAB6JgAAgIQAAPoAAACA6AAAdTAAAOpgAAA6mAAAF3CculE8AAAAAmJLR0QAAd2KE6QAAAAVSURBVDjLY2AYBaNgFIyCUTAKcAIABicAAUZAVxIAAAAASUVORK5C\"></td><td style='text-align:center;vertical-align:middle; margin: 0.5em;border:1px #90999f solid;border-collapse:collapse'><img style='max-width: 100px; max-height:100px;display:inline' src=\"data:image/png;base64,iVBORw0KGgoAAAANSUhEUgAAAGkAAABpCAAAAAAc6VLmAAAABGdBTUEAALGPC/xhBQAAACBjSFJNAAB6JgAAgIQAAPoAAACA6AAAdTAAAOpgAAA6mAAAF3CculE8AAAAAmJLR0QA/4ePzL8AAAGSSURBVGje7ZrdSsNAEIU3zaS19edCEUHwDfr+D9FX8A1ERMRabW3qxTm9OLDCXrWbcObmY7MJ324Ylsm0zTKllFK6AX6BHdAB38CHjO6AH+AJWKX/Y5JOFTbZpBEtSOxkspFRD1wAB3muqj3ZZJNGMHd7EWvq8yJz/pAbVbUnm2zSiC2YTXYiZMQHmOVdhXuyySaN0DOZWc68bmQ1rcxN5IGCI32Mb8+mYZhiD/JM5sck05tVOm9pZVSe3iffk002aRzr8meAeT0DbuXWRtDXuyebbNKIDbgGtD84BbS9yDlttVS1J5ts0gi2v6+BvfhZo/B7kwU5Uz/blKljTzbZpBEP4BfwDjwCWp5zUVqllzcUx/j2bBqGiQd02oj4E9BffjSTeZZPc3Nn3pNNNmkEC3I9r5m7lwCLGu2/MLa5i2fek002aQSLk1eAJzTTWz87Z7K2TuYKFjzGt2fTMEzH/7Hw63MO8IR+AdZyC5Od5TkrHlcsNlVsChYnb8BCJu+BK0BbLfrnloLu+Rjfnk3DMP0BS9VKICXd8P4AAAAASUVORK5C\"></td><td style='text-align:center;vertical-align:middle; margin: 0.5em;border:1px #90999f solid;border-collapse:collapse'><img style='max-width: 100px; max-height:100px;display:inline' src=\"data:image/png;base64,iVBORw0KGgoAAAANSUhEUgAAAGkAAABpCAAAAAAc6VLmAAAABGdBTUEAALGPC/xhBQAAACBjSFJNAAB6JgAAgIQAAPoAAACA6AAAdTAAAOpgAAA6mAAAF3CculE8AAAAAmJLR0QA/4ePzL8AAAGQSURBVGje7ZnNSgNBEIRnTUeJRlEEPYrP4Pu/h1dvXgRR0Wh+9FDl4YNF4iXZhOrLx+6M1HSobcrd7q611lqbC2NhJpQwEb6EF+ETaw1/0FsHbVMVpSixylIrYYmrb4Bn82Mx6duy5Z6iFCVW2Z8e1B7GI6ETvGWFs/HpiMujNGClsq/nEKavj4RXocNOD//RkHqKUpRYxey9xGIH2PqHuLnCzWH0FKUosYreHQOc1w1r/z7pPv56UdoNpXoQnVimwqVg68+wpTeqrHHgffz1orQbSvUm2tDvwq3gJO5Q44zSa+8Vbm65pyhFiVU3ol9/jwB7/kxwtpnhiIW1YfQUpSixykOcicVl7y5w5ZE+xlVcHqUBK9Uclx/CiXAs2NB+HvxmnRnlr4+eG+8pSlFi1ZN4CmFnb+dye36BNRc/j3aD6ClKUWLVuWh/erL7X1IH8gvBKd2znEE+szxKA1b6/Sp0LTwKDi5OJVfCFFucX9aw98Z7ilKUWHUv+g25R3oBz8ICWxhO+EJxyz1FKUqsH00qSWfq6oYNAAAAAElFTkSuQmCC\"></td><td style='text-align:center;vertical-align:middle; margin: 0.5em;border:1px #90999f solid;border-collapse:collapse'><img style='max-width: 100px; max-height:100px;display:inline' src=\"data:image/png;base64,iVBORw0KGgoAAAANSUhEUgAAAGkAAABpCAAAAAAc6VLmAAAABGdBTUEAALGPC/xhBQAAACBjSFJNAAB6JgAAgIQAAPoAAACA6AAAdTAAAOpgAAA6mAAAF3CculE8AAAAAmJLR0QA/4ePzL8AAAF8SURBVGje7ZnNTsMwEISdZgsSHJBAHHgD3v+JOCJx46800IbDTiU+yRWc6LaauYxix/280cbd2MN9a621tkpbpG3SBpj6Iu0tbdl+6qzt16L9l0wyiYo5fUArrzSbuXfL0Btw4JhMMokKLdvdFOYb8JU2orFiTCaZRIWyddIl+OpTXq/TmPrbP0/4FJ+eScdBiov0qdfJgrxboyjn9Y+wbPt1ik/PpOMgxXn6TZqWZuXuhMYRc5t//+1DxWSSSVQohbUKc6vlMu0lTVmuooaFi78+TSpMijsQn9Ke07RbOGKEPkK75XmNmEwyiYrHdGXrO66U5VdpyusPjGd5XiMmk0yi4iFddbmSNmAs1rtTdMViUmFSXKdzO0VnmFrEV7hFpl2VEVYjJpNMokL7KMprpvCAvk8M3MJKxWSSSVTcpqvaXqOzuzW+G9hrrBGTSSZRu7VcO4mvaapR1KcXgUegPCUtFZNJJlHBU3x+fWoaKlVUnKh+2dSNySSTqG8L7zwjzzp1NgAAAABJRU5ErkJg\"></td><td style='text-align:center;vertical-align:middle; margin: 0.5em;border:1px #90999f solid;border-collapse:collapse'><img style='max-width: 100px; max-height:100px;display:inline' src=\"data:image/png;base64,iVBORw0KGgoAAAANSUhEUgAAAGkAAABpAQAAAAAR+TCXAAAABGdBTUEAALGPC/xhBQAAACBjSFJNAAB6JgAAgIQAAPoAAACA6AAAdTAAAOpgAAA6mAAAF3CculE8AAAAAmJLR0QAAd2KE6QAAAAVSURBVDjLY2AYBaNgFIyCUTAKcAIABicAAUZAVxIAAAAASUVORK5C\"></td><td style='text-align:center;vertical-align:middle; margin: 0.5em;border:1px #90999f solid;border-collapse:collapse'><img style='max-width: 100px; max-height:100px;display:inline' src=\"data:image/png;base64,iVBORw0KGgoAAAANSUhEUgAAAGkAAABpCAAAAAAc6VLmAAAABGdBTUEAALGPC/xhBQAAACBjSFJNAAB6JgAAgIQAAPoAAACA6AAAdTAAAOpgAAA6mAAAF3CculE8AAAAAmJLR0QA/4ePzL8AAAGcSURBVGje7Zk7T8NAEITPyQIivBEFHfAvoOPf01Ai0VCAEEggEIggHsEQipmCkQ4rNOZszTafznYyt6fJZW9d7aSUUkoXwCLwmn7GLjAHvABXwDxQA1/p9xiktsJKVtIINeZn7pmqYW4cNdm79ZysZCWNRpdzGnT5W25uHwXmZCUracSCDIcAzT4FNoBzYBnI1jZl5GQlK2kEpUaAbs2D3Gz4s6jSH6OPq2elbijFGGQ5MhJsAmp9buKTcnOykpU04kaGzwAbL0sADc0KnkVNXW5OVrKSRpBsE3LbXgFo7zV5dFh8TlaykkZkT5F0+RFwAHAvv8zN1J1EKxWsFDQ0Xb4F8ITJ3fsdmMg9nj5nsHfrOVnJShpxK8M7gIXLHsD3m2wo8rg6lc9VuYv/lZOVrKQROlwFaOgzgB0X7uV0Mv8DxvI1Te+I+rh6VuqGUrVOAg9ykzX7IXAKsA3zCLDVwu2+qb3Yx9WzUjeUggX5PnAC3AO8x0p8GzgGtJM4Q/e8j6tnpW4ohR4tuaWzr8hS5Rqo5eJTuTlZyUoa3zzCQ8dWHFYUAAAAAElFTkSuQmCC\"></td><td style='text-align:center;vertical-align:middle; margin: 0.5em;border:1px #90999f solid;border-collapse:collapse'><img style='max-width: 100px; max-height:100px;display:inline' src=\"data:image/png;base64,iVBORw0KGgoAAAANSUhEUgAAAGkAAABpCAAAAAAc6VLmAAAABGdBTUEAALGPC/xhBQAAACBjSFJNAAB6JgAAgIQAAPoAAACA6AAAdTAAAOpgAAA6mAAAF3CculE8AAAAAmJLR0QA/4ePzL8AAAFrSURBVGje7ZrNSgQxEISTmV5dXVFRPPv+j6YXFRF/Z/RQ5aGgHQaE3cxQfSnSmeVLh96mE1JvSymllC2kg7xAziCvkEfIAOlLYg/lb+vKvswkk9SiFyJHVb+BjOLkaDN7wWvcPZOWQQodMnc19Znz3/9b8Bp3z6RlkIJ5/SlgzXKt1/xBFWkqJpNMUvut5R+QE/GmeT3K3PxkX+PumbQMUtwJ8RpyCmGPMsootam5vcdkkklqofX6nl7IDlInhOk9tBSTSSapxTuUSctsvYDsxPkG0auWOnvBa9w9k5ZBiq/UC9E78bR/qdmXB47JJJPUIh0eiVOrtx470wv2A8dkkklqoW02Kzvb88uJRXUiPn2a1DAprqBsupnsW/km7VHoHGSujZhMMkkteFF+A2Et5zuWZwj7FzYnens+yKiNmEwySS2Oob0InXymxTrP/8MmE9+xmNQwKZim6UtDnkXPIU8Q7V98+jSpfdIPAE85Qf5efcAAAAAASUVORK5C\"></td><td style='text-align:center;vertical-align:middle; margin: 0.5em;border:1px #90999f solid;border-collapse:collapse'><img style='max-width: 100px; max-height:100px;display:inline' src=\"data:image/png;base64,iVBORw0KGgoAAAANSUhEUgAAAGkAAABpAQAAAAAR+TCXAAAABGdBTUEAALGPC/xhBQAAACBjSFJNAAB6JgAAgIQAAPoAAACA6AAAdTAAAOpgAAA6mAAAF3CculE8AAAAAmJLR0QAAd2KE6QAAAAVSURBVDjLY2AYBaNgFIyCUTAKcAIABicAAUZAVxIAAAAASUVORK5C\"></td><td style='text-align:center;vertical-align:middle; margin: 0.5em;border:1px #90999f solid;border-collapse:collapse'><img style='max-width: 100px; max-height:100px;display:inline' src=\"data:image/png;base64,iVBORw0KGgoAAAANSUhEUgAAAGkAAABpCAAAAAAc6VLmAAAABGdBTUEAALGPC/xhBQAAACBjSFJNAAB6JgAAgIQAAPoAAACA6AAAdTAAAOpgAAA6mAAAF3CculE8AAAAAmJLR0QA/4ePzL8AAAGWSURBVGje7ZrNSsNQEIVvzFj/EetGKrhT9J18V5/DhTsRRKqVij+pNi7O2RyIkJVMwpnNh7mR794wHSbTVtellFLKO7AGvoEW2AGOgU2gAebACrgpf8dG+a+wySaNqEHN3Uruqbo2pX+1mc5kk00aoWxkkenNDwIL/ETWqtI3xvj0bBqGKViFQ64yr9m/sM4zoVu5pZaLOc5kk00awUyOrkVuQzsWTWiu/WQ6k002acQdeACwbLNCbwOtoJE7+294jE/PpmGY4gx8BZ4BjkzOZTdathXuWGxKbIolyFdL9i9T4AvgJFGbdY0eL6FjfHo2DcMUDyBr8gfA0bjOUdi6fwJsXNreGx7j07NpGKbYB5/k6pZsQ1sV5vW662KOM9lkk0a8gUsRPwIzQMcwnY2Ls9ymxKa4ANmqsLKfALuyG+Y1K/tE1upMZ7LJJo3gCPEKWAD3wCEw0/8AWL393adN+U1xC54CTGi2MXzRXABHsrcXQGczOc5kk00acQnyt4UcGjJp9wC2MTpq4Wsns3yV6Uw22aTxC+DWR5cIm5mYAAAAAElFTkSuQmCC\"></td><td style='text-align:center;vertical-align:middle; margin: 0.5em;border:1px #90999f solid;border-collapse:collapse'><img style='max-width: 100px; max-height:100px;display:inline' src=\"data:image/png;base64,iVBORw0KGgoAAAANSUhEUgAAAGkAAABpCAAAAAAc6VLmAAAABGdBTUEAALGPC/xhBQAAACBjSFJNAAB6JgAAgIQAAPoAAACA6AAAdTAAAOpgAAA6mAAAF3CculE8AAAAAmJLR0QA/4ePzL8AAAGhSURBVGje7Zq9SwNBEMV3ktUYUUGDhYiCnXZWNv7/hb2NYKNFbBQjfkXj5Szes3iwBKvcKm+aH7dfbyfMTWY3iWFKKaXUlhBAD5gDK8CsNIF9ReulZZmVrKSW21KrNjK8G86QRu70C3CUW6lGpciiyPDuyxNT+lxQnLBo3//x07PS31DKKqWxq40hfTrkE1irwicrWUktM3ZZcjCzF6v0Rp6Y0n+RxJfuk5WspJbPwQvgVTr3gCkwWbC3fk0+WclKanEGstZ4B66BR2Ad0BqFoc/w5jeCT59WqlEpDkngDTgAGNdXsim+D/fAqvT59GmlGpViG+Txkal5ADxxDDCTia3sNMv0jn2ykpXU8iY4BkYAfyr6ABjeDGFm76ks08iQjn2ykpXUYgPUG/JdGcM3gAmeB1S9RHddbqWKlfIp+AAw2LeAO4DpnmdRFichy+hdesc+WclKaj/BegKwYpkAlzJGUaxRBlX4ZCUrqcU+yCsThumRbOMFuAVYl/POsZHVhlX4ZCUrqcUxeAPoPw2ZtncAnjefZYtZVvPp00o1Kn0Dzr1JSkDnoFMAAAAASUVORK5C\"></td><td style='text-align:center;vertical-align:middle; margin: 0.5em;border:1px #90999f solid;border-collapse:collapse'><img style='max-width: 100px; max-height:100px;display:inline' src=\"data:image/png;base64,iVBORw0KGgoAAAANSUhEUgAAAGkAAABpCAAAAAAc6VLmAAAABGdBTUEAALGPC/xhBQAAACBjSFJNAAB6JgAAgIQAAPoAAACA6AAAdTAAAOpgAAA6mAAAF3CculE8AAAAAmJLR0QA/4ePzL8AAAFeSURBVGje7ZrNTgJBEIRn3F5J8OcJvPj+T+bBg0pUEHY5dJn4mRE5wWiqLpXuZfN1k84ws0u9K6WUUrZpu7Satkm7SbtMm8pXrXHfQ/lZF+VUMskkKjTQFdkZSUUDkjJN+VR+1X/89kz6G6TgQGuSJyRn3FFb5ik3qWPS51oeadqjzAfuqEcnz9WTSSZR39Zy7a+nljVX9oJrffRkkklUPKfzaKlhD1QzwyhPuUkdk2JMXylM07Br9DXCegwzo0T+FPTRk0kmUfGIcJl21SpjQMRh3/XUk0kmUXGf/pq2apXB5y/SFte66skkk6hYpL+lcaArquGGXBHfJvXRk0kmUfGUzo2L+NeI+KhFOnQkPVdPJplExQuIAZO4OaGNiProySSTqBBqieyHLqaNraKOX8RP3pNJJlHxnn6bNsCaRWmu1zC/4TepY1JsWlkNrdZyrewLfIR/YPHp06SOSXv5l0DfptGTUgAAAABJRU5ErkJg\"></td><td style='text-align:center;vertical-align:middle; margin: 0.5em;border:1px #90999f solid;border-collapse:collapse'><img style='max-width: 100px; max-height:100px;display:inline' src=\"data:image/png;base64,iVBORw0KGgoAAAANSUhEUgAAAGkAAABpCAAAAAAc6VLmAAAABGdBTUEAALGPC/xhBQAAACBjSFJNAAB6JgAAgIQAAPoAAACA6AAAdTAAAOpgAAA6mAAAF3CculE8AAAAAmJLR0QA/4ePzL8AAAG7SURBVGje7Zo9SwNBEIb3vPEDFRXEL7RIodjZi61YaO0f8T+JhZWNpWBtLYiCoKiFKPgRiYnGs3jeZiBCKtmEmeYhe3u8u8d7w9xsir2UUkrpBrRBE7TAMlgDU+ABXIIXcJj+joH0XxFKoeTDhuAY+NAo+Har0cwKDLtfPzntKZRCyYeV0LtcKV3X5PkGmADjoADh8lDKWMmUjGXaRzAIlMsngTf0KFCCb+e0p1AKJR8mJ8vXVac5snfpppRuSjOnPYVSKPmwIzgDVG3L80vAJ/G6bgSVuyGPPYVSKPmwLXgFroEKkBqQ9Qt37QuoDRN1eShlrGTPUDaVoReAvkWVqFW6fwKZveh6wf349EKpN5TsBKqB8grUIfc1u/AE9AZUXS+4H59eKPWGkq3CUzeqtG1uNfrCVPZuuMHosYRSxkp20Wn0DKwDpXRZ/x2ohRh1eSjlr2Q7cB+o1bIB5oFKlZZb2yy4BeHyUMpYyeTrbXAHjkEN6EWYBiPAn/4XOe0plELJhx3ATbAI5oBa4/dgBeg46By8gUZOewqlUPJhu1BJXOf2KkDUUFS6V+Gif7yofqk75LGnUAolH7/AbU+ehlUvCAAAAABJRU5ErkJg\"></td><td style='text-align:center;vertical-align:middle; margin: 0.5em;border:1px #90999f solid;border-collapse:collapse'><img style='max-width: 100px; max-height:100px;display:inline' src=\"data:image/png;base64,iVBORw0KGgoAAAANSUhEUgAAAGkAAABpCAAAAAAc6VLmAAAABGdBTUEAALGPC/xhBQAAACBjSFJNAAB6JgAAgIQAAPoAAACA6AAAdTAAAOpgAAA6mAAAF3CculE8AAAAAmJLR0QA/4ePzL8AAAGrSURBVGje7Zk7SwNREEZvdFQ0RHz2go0IgoW9+Ev8pxbWqW2sLBQV36BJNNlYfCfFBxGs9CozzWGzu54dmR3m3m0dl1JKKbdCCAOhJawKK0LbbujZDd3ydcyUn4o0pckjxtDE7ueoESj9WTtqasopTWnymFQ51TqyI85R0AMDjzi0S+rIKU1p8ghUC8KbnaR2mVE+7NkWhWehV1NOaUqTRzRm9DmEXu7jyHgaRjXllKY0ecSceCYsCXT2LbvUC5rBhQYfNeWUpjR5xLp4INwLj8KDsCnMC7T7xo4GNeWUpjR5TObyjvAkbAjLAp2drh92JZGrzzRVbIoTkWUnWyb7wpWwLdCv7wTWm7T0cU05pSlNHkG/ZkbhAxBtm80V1qJ9Oze0P5NVnqaKTXENBTYGWWGuCfRr3gDeB4rdd8/ryClNafKII/FcoG3vCq8Cw8m7QHkzuvcrzClNafIIZm/aNt96ToUL4VBo242U/tQt9V/OKU1p8ogXsWO/crQnML9QyWwo3gjsl+dcnqaKTbEjXtqvjCoMJzR4vhjxWlDzo28/8H/876Xpb5g+AZTFUFBcvMcmAAAAAElFTkSuQmCC\"></td><td style='text-align:center;vertical-align:middle; margin: 0.5em;border:1px #90999f solid;border-collapse:collapse'><img style='max-width: 100px; max-height:100px;display:inline' src=\"data:image/png;base64,iVBORw0KGgoAAAANSUhEUgAAAGkAAABpCAAAAAAc6VLmAAAABGdBTUEAALGPC/xhBQAAACBjSFJNAAB6JgAAgIQAAPoAAACA6AAAdTAAAOpgAAA6mAAAF3CculE8AAAAAmJLR0QA/4ePzL8AAAGxSURBVGje7Zq9SgNREIXvmtEYFZHYKIKC2ijYiZ2t7+Mb+SI+gtgJdoqgiIr4EzWbTWJxTnNgxVR6E840H9m74dsJk2Hu7hbHKaWU0gNQAX2gBFaAbWABeAWugQ/gJP0cU+mvwiabNKIBtoAOMJTLIKaBQd0lDnPKySabNIKqJqBVXgD8I7CzzwEtOcVVblPGpmBrngW0iTdkbSCYAdjg+znlZJNNGsFJvFm3WMjVsOYH8olR5pSTTTZpxCXYBirxLwI6lXwB2r0b6deYxF/PpvEwxQF4BzwD78AqwOGElVzJ93sZ5mSTTRrB/aZuNNnZWfNLAIudw8kI+83/yskmmzTiDGTtPgF7ACuZpc8qfwO6csoIFzyJv55N42GKefAW4NaSB3kDhX2+J6dUdQfzyMkmmzTiBWQTZ7/mlL4JVLLG0i9lzVVuU8am2AfvgWVgC+B4rg89Ob/wQT/vQPp+uU0Zm2INPASugAuANb8LsMoD0IG8yCknm2zSiFNwA9gB+O4W38F6BNYBtu0b4BPo5pSTTTZpxBF4DvA5EBt1Ww5yVOF7LJzLWeWdnHKyySaNb/ecUJosGhNdAAAAAElFTkSuQmCC\"></td></tr></tbody></table><div><small>(a vector displayed as a row to save space)</small></div>"
      ],
      "text/plain": [
       "16-element Array{Array{Gray{Float32},2},1}:\n",
       " [Gray{Float32}(0.196541) Gray{Float32}(0.161708) … Gray{Float32}(0.0818555) Gray{Float32}(0.0818555); Gray{Float32}(0.206845) Gray{Float32}(0.166729) … Gray{Float32}(0.0818555) Gray{Float32}(0.0818555); … ; Gray{Float32}(0.134967) Gray{Float32}(0.182568) … Gray{Float32}(0.0818555) Gray{Float32}(0.0818555); Gray{Float32}(0.114951) Gray{Float32}(0.178957) … Gray{Float32}(0.0818555) Gray{Float32}(0.0818555)]               \n",
       " [Gray{Float32}(0.47849) Gray{Float32}(0.381874) … Gray{Float32}(0.000473729) Gray{Float32}(0.000473729); Gray{Float32}(0.494981) Gray{Float32}(0.418399) … Gray{Float32}(0.000473729) Gray{Float32}(0.000473729); … ; Gray{Float32}(0.280226) Gray{Float32}(0.435024) … Gray{Float32}(0.000473729) Gray{Float32}(0.000473729); Gray{Float32}(0.519037) Gray{Float32}(0.403699) … Gray{Float32}(0.000473729) Gray{Float32}(0.000473729)]\n",
       " [Gray{Float32}(0.0) Gray{Float32}(0.0) … Gray{Float32}(0.0) Gray{Float32}(0.0); Gray{Float32}(0.0) Gray{Float32}(0.0) … Gray{Float32}(0.0) Gray{Float32}(0.0); … ; Gray{Float32}(0.0) Gray{Float32}(0.0) … Gray{Float32}(0.0) Gray{Float32}(0.0); Gray{Float32}(0.0) Gray{Float32}(0.0) … Gray{Float32}(0.0) Gray{Float32}(0.0)]                                                                                                       \n",
       " [Gray{Float32}(0.174395) Gray{Float32}(0.228185) … Gray{Float32}(0.0450119) Gray{Float32}(0.0450119); Gray{Float32}(0.185696) Gray{Float32}(0.239707) … Gray{Float32}(0.0450119) Gray{Float32}(0.0450119); … ; Gray{Float32}(0.230305) Gray{Float32}(0.190962) … Gray{Float32}(0.0450119) Gray{Float32}(0.0450119); Gray{Float32}(0.254871) Gray{Float32}(0.160977) … Gray{Float32}(0.0450119) Gray{Float32}(0.0450119)]               \n",
       " [Gray{Float32}(0.200557) Gray{Float32}(0.179397) … Gray{Float32}(0.16653) Gray{Float32}(0.16653); Gray{Float32}(0.207794) Gray{Float32}(0.170963) … Gray{Float32}(0.16653) Gray{Float32}(0.16653); … ; Gray{Float32}(0.191342) Gray{Float32}(0.284255) … Gray{Float32}(0.16653) Gray{Float32}(0.16653); Gray{Float32}(0.0362491) Gray{Float32}(0.267417) … Gray{Float32}(0.16653) Gray{Float32}(0.16653)]                              \n",
       " [Gray{Float32}(0.158296) Gray{Float32}(0.122403) … Gray{Float32}(0.150494) Gray{Float32}(0.150494); Gray{Float32}(0.151313) Gray{Float32}(0.124956) … Gray{Float32}(0.150494) Gray{Float32}(0.150494); … ; Gray{Float32}(0.188483) Gray{Float32}(0.199476) … Gray{Float32}(0.150494) Gray{Float32}(0.150494); Gray{Float32}(0.190491) Gray{Float32}(0.20987) … Gray{Float32}(0.150494) Gray{Float32}(0.150494)]                        \n",
       " [Gray{Float32}(0.0) Gray{Float32}(0.0) … Gray{Float32}(0.0) Gray{Float32}(0.0); Gray{Float32}(0.0) Gray{Float32}(0.0) … Gray{Float32}(0.0) Gray{Float32}(0.0); … ; Gray{Float32}(0.0) Gray{Float32}(0.0) … Gray{Float32}(0.0) Gray{Float32}(0.0); Gray{Float32}(0.0) Gray{Float32}(0.0) … Gray{Float32}(0.0) Gray{Float32}(0.0)]                                                                                                       \n",
       " [Gray{Float32}(0.120613) Gray{Float32}(0.0) … Gray{Float32}(0.0) Gray{Float32}(0.0); Gray{Float32}(0.114745) Gray{Float32}(0.0) … Gray{Float32}(0.0) Gray{Float32}(0.0); … ; Gray{Float32}(0.0278391) Gray{Float32}(0.246893) … Gray{Float32}(0.0) Gray{Float32}(0.0); Gray{Float32}(0.0) Gray{Float32}(0.222956) … Gray{Float32}(0.0) Gray{Float32}(0.0)]                                                                             \n",
       " [Gray{Float32}(0.122031) Gray{Float32}(0.152781) … Gray{Float32}(0.0) Gray{Float32}(0.0); Gray{Float32}(0.132252) Gray{Float32}(0.162434) … Gray{Float32}(0.0) Gray{Float32}(0.0); … ; Gray{Float32}(0.0769369) Gray{Float32}(0.137707) … Gray{Float32}(0.0) Gray{Float32}(0.0); Gray{Float32}(0.0994405) Gray{Float32}(0.126786) … Gray{Float32}(0.0) Gray{Float32}(0.0)]                                                             \n",
       " [Gray{Float32}(0.0) Gray{Float32}(0.0) … Gray{Float32}(0.0) Gray{Float32}(0.0); Gray{Float32}(0.0) Gray{Float32}(0.0) … Gray{Float32}(0.0) Gray{Float32}(0.0); … ; Gray{Float32}(0.0) Gray{Float32}(0.0) … Gray{Float32}(0.0) Gray{Float32}(0.0); Gray{Float32}(0.0) Gray{Float32}(0.0) … Gray{Float32}(0.0) Gray{Float32}(0.0)]                                                                                                       \n",
       " [Gray{Float32}(0.362536) Gray{Float32}(0.32083) … Gray{Float32}(0.0491353) Gray{Float32}(0.0491353); Gray{Float32}(0.371022) Gray{Float32}(0.340973) … Gray{Float32}(0.0491353) Gray{Float32}(0.0491353); … ; Gray{Float32}(0.234718) Gray{Float32}(0.342377) … Gray{Float32}(0.0491353) Gray{Float32}(0.0491353); Gray{Float32}(0.39113) Gray{Float32}(0.316315) … Gray{Float32}(0.0491353) Gray{Float32}(0.0491353)]                 \n",
       " [Gray{Float32}(0.0367306) Gray{Float32}(0.032663) … Gray{Float32}(0.0392925) Gray{Float32}(0.0392925); Gray{Float32}(0.0321497) Gray{Float32}(0.0304076) … Gray{Float32}(0.0392925) Gray{Float32}(0.0392925); … ; Gray{Float32}(0.106052) Gray{Float32}(0.0255606) … Gray{Float32}(0.0392925) Gray{Float32}(0.0392925); Gray{Float32}(0.156795) Gray{Float32}(0.0343895) … Gray{Float32}(0.0392925) Gray{Float32}(0.0392925)]          \n",
       " [Gray{Float32}(0.109915) Gray{Float32}(0.0956995) … Gray{Float32}(0.0) Gray{Float32}(0.0); Gray{Float32}(0.113636) Gray{Float32}(0.0965576) … Gray{Float32}(0.0) Gray{Float32}(0.0); … ; Gray{Float32}(0.02401) Gray{Float32}(0.0769704) … Gray{Float32}(0.0) Gray{Float32}(0.0); Gray{Float32}(0.0) Gray{Float32}(0.076884) … Gray{Float32}(0.0) Gray{Float32}(0.0)]                                                                  \n",
       " [Gray{Float32}(0.447938) Gray{Float32}(0.327042) … Gray{Float32}(0.0) Gray{Float32}(0.0); Gray{Float32}(0.469959) Gray{Float32}(0.370261) … Gray{Float32}(0.0) Gray{Float32}(0.0); … ; Gray{Float32}(0.115983) Gray{Float32}(0.385217) … Gray{Float32}(0.0) Gray{Float32}(0.0); Gray{Float32}(0.449761) Gray{Float32}(0.33955) … Gray{Float32}(0.0) Gray{Float32}(0.0)]                                                                \n",
       " [Gray{Float32}(0.373375) Gray{Float32}(0.287221) … Gray{Float32}(0.0994293) Gray{Float32}(0.0994293); Gray{Float32}(0.368481) Gray{Float32}(0.303687) … Gray{Float32}(0.0994293) Gray{Float32}(0.0994293); … ; Gray{Float32}(0.266854) Gray{Float32}(0.318072) … Gray{Float32}(0.0994293) Gray{Float32}(0.0994293); Gray{Float32}(0.422552) Gray{Float32}(0.316053) … Gray{Float32}(0.0994293) Gray{Float32}(0.0994293)]               \n",
       " [Gray{Float32}(0.441366) Gray{Float32}(0.36071) … Gray{Float32}(0.000502489) Gray{Float32}(0.000502489); Gray{Float32}(0.455832) Gray{Float32}(0.394624) … Gray{Float32}(0.000502489) Gray{Float32}(0.000502489); … ; Gray{Float32}(0.288159) Gray{Float32}(0.407973) … Gray{Float32}(0.000502489) Gray{Float32}(0.000502489); Gray{Float32}(0.560185) Gray{Float32}(0.367509) … Gray{Float32}(0.000502489) Gray{Float32}(0.000502489)]"
      ]
     },
     "execution_count": 46,
     "metadata": {},
     "output_type": "execute_result"
    }
   ],
   "source": [
    "output_conv = m_final(shifted_random_test_example_X_4d);\n",
    "displayChannels(output_conv)"
   ]
  },
  {
   "cell_type": "code",
   "execution_count": 47,
   "metadata": {},
   "outputs": [
    {
     "data": {
      "text/html": [
       "<table><tbody><tr><td style='text-align:center;vertical-align:middle; margin: 0.5em;border:1px #90999f solid;border-collapse:collapse'><img style='max-width: 100px; max-height:100px;display:inline' src=\"data:image/png;base64,iVBORw0KGgoAAAANSUhEUgAAAGkAAABpCAAAAAAc6VLmAAAABGdBTUEAALGPC/xhBQAAACBjSFJNAAB6JgAAgIQAAPoAAACA6AAAdTAAAOpgAAA6mAAAF3CculE8AAAAAmJLR0QA/4ePzL8AAAG6SURBVGje7ZrNTsMwEISddgkU2h45cOJNeP834YCgVEWUnxIOOz18ktWjo0Szl9E6dke2JqP1Nt1TKaWUskzoEqJUQs+GhO+Em4SfCzMVi9IqzGQmRkiKp4QO2TpBgv7DwteE+9ry5bh7MpOZGGfXlkyvE3YJ0vUm4QuDR2QDgDG03pOZzMQIebIqj33CO+AxQS/CLqGqcsUvMqvcTCMzhSpqqfWEh1LrW0KfIHkH1rGsPyLrWu/JTGZihMoRlhx3CZLwZ4LsXi/CNkGCfkl4SDgkqMTZtN6TmczECN4bRSxrluZVxnwk6C7aI9OL8Jywxo8dWu/JTGZihAyX1YViwCDrEGqXvUMN0vzneHpmmgZTXKKiaGXbtwmqZq6wQJnMf4V1czw9M02DKaRBmrgyKXmFjD1xgWoUubf6NoEFczw9M02DKXTRrHa62UCRUbM4UaY+u5oyW2TL1nsyk5kY5x6LgtqlwUvzURtcINOv6LVwXW6mkZmi+p8N/fqEjFMKppTazOZ7MpOZGEHb5hcodHZql1+1VM1/j83M8fTMNA2mUBeclt7VpvL2OWBQ0OMZP3yZ4+mZaRpM/3G7Z7ELJS3CAAAAAElFTkSuQmCC\"></td><td style='text-align:center;vertical-align:middle; margin: 0.5em;border:1px #90999f solid;border-collapse:collapse'><img style='max-width: 100px; max-height:100px;display:inline' src=\"data:image/png;base64,iVBORw0KGgoAAAANSUhEUgAAAGkAAABpCAAAAAAc6VLmAAAABGdBTUEAALGPC/xhBQAAACBjSFJNAAB6JgAAgIQAAPoAAACA6AAAdTAAAOpgAAA6mAAAF3CculE8AAAAAmJLR0QA/4ePzL8AAAIMSURBVGje7Zq7SgNREIY3euJdMXhHFFREBBHBRhAs7C19BUHfx5dQfAIra7GwUdTGxgvxDsZbNFp8f4qBLYzg6i4zzceanP1yDnMms8fknqMoiqKoKaoxNsHytwfU1Wr4cbjJTTbCO3yNEweQixu4C5bANzZJFlfPTekwhVtYADegCPbAatzAM3AP+v/TnNzkJhthHY6AHrABzsEMGAZb4A2UwSdQ1f8AFfNaFlfPTekw5VZgAyiBC/OeUTAG8kDlfhz0gnmg9M6ZyWRx9dyUDlNQfioj1bgMAvXsh2AIvIBtsA+OwRp4BAdgLuk5uclNNsIVbAEq1I0Gat1PQDdQx3IE7oAOXqaBtsx+0nNyk5tsBB2uqGxX4j6GmnV16erEr4E2gu3LdTrZBZqSnpOb3GSjepKoNNVzYzB/VJqqpKuIL4JWoKZmFuyASXPPLK6em9Jhqma5UlHFuGKgwxV18GUDtThTYAB0GIXXcjf9san69CmjinizfQ9oB8pr7Yd6UDZ3WQCXoC/pObnJTTbCBFTSvhi/oJKuZG8D6mbUv2hb6IuhE4yZW2dx9dyUDlNQY61UbDZXamOewKe50mmhUl+7I28+fiwSCDe5yUZ4EIH+OaSTE7UjSnb7nKoiXjLjCmaAzsu9lrvpj03h1FwqI23vrY5Fuasst0+tuiqacdoBsT8E+81wk5tsfAFN5mCLxKO+aAAAAABJRU5ErkJg\"></td><td style='text-align:center;vertical-align:middle; margin: 0.5em;border:1px #90999f solid;border-collapse:collapse'><img style='max-width: 100px; max-height:100px;display:inline' src=\"data:image/png;base64,iVBORw0KGgoAAAANSUhEUgAAAGkAAABpAQAAAAAR+TCXAAAABGdBTUEAALGPC/xhBQAAACBjSFJNAAB6JgAAgIQAAPoAAACA6AAAdTAAAOpgAAA6mAAAF3CculE8AAAAAmJLR0QAAd2KE6QAAAAVSURBVDjLY2AYBaNgFIyCUTAKcAIABicAAUZAVxIAAAAASUVORK5C\"></td><td style='text-align:center;vertical-align:middle; margin: 0.5em;border:1px #90999f solid;border-collapse:collapse'><img style='max-width: 100px; max-height:100px;display:inline' src=\"data:image/png;base64,iVBORw0KGgoAAAANSUhEUgAAAGkAAABpCAAAAAAc6VLmAAAABGdBTUEAALGPC/xhBQAAACBjSFJNAAB6JgAAgIQAAPoAAACA6AAAdTAAAOpgAAA6mAAAF3CculE8AAAAAmJLR0QA/4ePzL8AAAHdSURBVGje7ZrdSsNAEIWN3f6oLfUHQQSxIKjgC/j+l96KiC8gKohVtDVtTbw4pxcfhHojKS0zNx+7mezZCbPTzTbZRpUloRQyoRAGwqFwA89Ftvm3yz9ZKIUSLTXRbAnXwoPwApeJsC+UmHCGzrLKpQYLpVCipR3xUngVGsIIs+kLF8JswaDZcmMKpVCizWv5WGi7V/gRvBCOhWfhA8N0BKa+b8/qjimUQok2r+VTwTuWO6ErfGJSt8JA2BXOBG9xTgWn91PdMYVSKNGyK9El3W+YM0zDyIURcCC4+D8K55BIdccUSqFES67X3ok7y0u0esK94Kq/JTj1hxj0Dfd91R1TKIUSLTmhpxAuAO9YfLji3PWmeyg0AY/p7U+77phCKZRoacIm9BtobQszXDsRctzu3wevnHj7DKUlKyUXXKdiAy3Deb0nNKum6KrfRadfO4/qjimUQomW8iphlnRneYmW89r12qvjGy4jdK7j0wul1VBK72IBYVZ2zsbLogUX5/UY13q4YR2fXiithtK8lnfQ6wpd+fc9i3gOT7skjMnzyBoslEKJlvpoOluZn/wexUcmPmNhLd+AS7GkmEIplGiJG+uyqsUPDiv3Nl4WruzOeX4Ito5PL5RWQ+kXaq5ee/+VzXwAAAAASUVORK5C\"></td><td style='text-align:center;vertical-align:middle; margin: 0.5em;border:1px #90999f solid;border-collapse:collapse'><img style='max-width: 100px; max-height:100px;display:inline' src=\"data:image/png;base64,iVBORw0KGgoAAAANSUhEUgAAAGkAAABpCAAAAAAc6VLmAAAABGdBTUEAALGPC/xhBQAAACBjSFJNAAB6JgAAgIQAAPoAAACA6AAAdTAAAOpgAAA6mAAAF3CculE8AAAAAmJLR0QA/4ePzL8AAAHXSURBVGje7ZrLSgNBEEUzphPFByoSVPCFojtB/8Tvde/SjeBWAqJiXBjxlZj4WNybxYHBbGTMDFWbQ093z6Wa6qK6Z7LaL5YJ33l9J8KVcFEba1Pjh/yRhVIo0dKi+OSmMBSOhUuhj4ltYV2IKA+lCVZKG+KXcCCcC9tCSzgVnNkHwvQE+hRKoURz8q6tCg7hPaEjLAtbwr3wKWQT6FMohRItOVobQh+tR8FFzbwwJ3TQOsLIM8E757Von0IplGjJydxJnBnaD13NrAjXwo7QFLqC65c1oYWXVXH1QqkcSslp+wvCGR62hU1M9H54xoR3YV+4+yefQimUaKOKxca861z+JnCkr2G8ST7Q59pmVugV7VMohRItOxQd0HV0+qFD2AHtavtBcI3irL+Ell92W7RPoRRKtMS0bePNyYLg82YLfd4BLs99XO0Ku3hZFVcvlMqhNLpJdPrNrVhcqvg65UZoYMKLwMzOHVDF1Qulcihl/g7EisWxO0Afb2OGmOC+HoY04EwVVy+UyqGUmMR5isz9gWVG8C14HfP4g4CTeL9on0IplGiJ502GqUsVFi78yMO0XcdIpvsqrl4olUMp5X4Asn49bwbD22A930QfC5cCLJRCifYDY29bdX9qZVoAAAAASUVORK5C\"></td><td style='text-align:center;vertical-align:middle; margin: 0.5em;border:1px #90999f solid;border-collapse:collapse'><img style='max-width: 100px; max-height:100px;display:inline' src=\"data:image/png;base64,iVBORw0KGgoAAAANSUhEUgAAAGkAAABpCAAAAAAc6VLmAAAABGdBTUEAALGPC/xhBQAAACBjSFJNAAB6JgAAgIQAAPoAAACA6AAAdTAAAOpgAAA6mAAAF3CculE8AAAAAmJLR0QA/4ePzL8AAAHRSURBVGje7ZpLT8MwEIQTspSSohKohDhw59fw0zly4gYSEuJVKBT6IOEwU4mRfE6UaPbyyc66Y1vr7cZtfpX9txpogG2WsFxQAR/SmcmnsHMva8usZCW1GIPfbAIb4Bx4AngCCuAFmAEa+nW3a7KSldSCUiPgALgDToAjgPmaGfoLWAO5PMtTGOLuWakfSjEHD4E3YAHcAjOZ1CvAlK6RTKtTnUPcPSv1QykeQEYk65elYAK8AxcAc/kK4HfASDwrYNP2mqxkJbVgJLPyaOShJuOpuDwDN8ApcAmwZmfMH7e9JitZSY2vm7uKJfne+AicAQz9T2AinvcAq5lroGl7TVayklowiTMwawGnwfuXqXjyWPzIAF498iCUgCsWK3WsFCrF+Axp0YXVNpP4XMaVMoDBziJ/1faarGQltdDaO/mzDl8tWcGX4lKIJ8ObB6GSZ0PcPSv1Q2lXsWj21qvArbgsxSWTTtpChvu+3EodKwUvQn4FhfiwsKbnWKaYywB2VtJyXW6ljpUiRJFR3qRc9V8taxnHzB7SYujvt70mK1lJLRiDWpVoea43JzwBI+lMVveaxIe4e1bqh1LoDUjyV6FkCDcCnXCd6hzi7lmpH0p/ly1ZfTpETdEAAAAASUVORK5C\"></td><td style='text-align:center;vertical-align:middle; margin: 0.5em;border:1px #90999f solid;border-collapse:collapse'><img style='max-width: 100px; max-height:100px;display:inline' src=\"data:image/png;base64,iVBORw0KGgoAAAANSUhEUgAAAGkAAABpAQAAAAAR+TCXAAAABGdBTUEAALGPC/xhBQAAACBjSFJNAAB6JgAAgIQAAPoAAACA6AAAdTAAAOpgAAA6mAAAF3CculE8AAAAAmJLR0QAAd2KE6QAAAAVSURBVDjLY2AYBaNgFIyCUTAKcAIABicAAUZAVxIAAAAASUVORK5C\"></td><td style='text-align:center;vertical-align:middle; margin: 0.5em;border:1px #90999f solid;border-collapse:collapse'><img style='max-width: 100px; max-height:100px;display:inline' src=\"data:image/png;base64,iVBORw0KGgoAAAANSUhEUgAAAGkAAABpCAAAAAAc6VLmAAAABGdBTUEAALGPC/xhBQAAACBjSFJNAAB6JgAAgIQAAPoAAACA6AAAdTAAAOpgAAA6mAAAF3CculE8AAAAAmJLR0QA/4ePzL8AAAIJSURBVGje7Zq9SsRAFIVndHZXVJRVwT9QQawUK1stBAWfwLfwebS3FsTSXhDsZEXQYkVRUXRF8XezrsU5FgdCylkS7m0+kknmzITDzZ1J/JRzzjnXDfzKkZeTGlvAJbAPVOSSRG7vcrHClExJI/SB70CPHK0DR8AXUAZ2gE0ZMA3dTkMRn54p5UMpTIM1YBXYBpjnJ4Bd4Bu4lyM6mdlb3wHmclPqsFK4ApnSz6RxD1gGmMQvMkaqZtcEX8SnZ0r5UAoPIP35DJQAJvgFgMX6GnAIHMuAV4ADYIwSsedkSqakEZogXc6CXI35CcwCt0AvwNUn3wgN4AWoAqOx52RKpqThuS3CRP0DMJe3ABYgG0AdqKX1Ni/DP+3QnEzJlDT+czmdTF+zlNZV5CvQkPt1i4YxDlxLWxGfninlQ8lTKnUjhCfpcu4yLgLnwBC7AeaAO4CviZPYczIlU9II+smnJfpsmwHqvAPQDD0JPAIsVZY6NCdTMiUNz1Uk0zZzMp3MMqYf4FehkrR1yX2DwA3A5epH7DmZkilp+BGQFuYilE7mWpSGZgnOwuVNuqnKyaZcWYk9J1MyJY1AD6p3tUonWM0wz9PJzPNckpalb/b5FHtOpmRKGn4Y1H9OdF8xkZNJxoAHgEbGJRHClExJI7BqZmHdlkYe8V8VTdRZv6wkaZcU8emZUj6U/gA2om1bNI2BrgAAAABJRU5ErkJg\"></td><td style='text-align:center;vertical-align:middle; margin: 0.5em;border:1px #90999f solid;border-collapse:collapse'><img style='max-width: 100px; max-height:100px;display:inline' src=\"data:image/png;base64,iVBORw0KGgoAAAANSUhEUgAAAGkAAABpCAAAAAAc6VLmAAAABGdBTUEAALGPC/xhBQAAACBjSFJNAAB6JgAAgIQAAPoAAACA6AAAdTAAAOpgAAA6mAAAF3CculE8AAAAAmJLR0QA/4ePzL8AAAGbSURBVGje7ZpRawMhEITPu72koaVQ6GP//88rNBSuTaLpg5OHD5YQKNyh7LwMuuqojIt4lwYPCSSUSobKy/Aoxodb/hehFEqETZVl6Oud2SSU1K94Ey7eYD3uXii1oXTLzHMlOfkMGhC7guhyNdEJuKCyx90LpTaUTFJyuxx5QmkEFW+m6s7sbd4oKyCUQolIH1BkLv+t9FVph0rmcuGAUZTL57XXFEqhRJi8y4SrLCzTytDf6Fi80ZZKb5X2lX7WXlMohRJhvJDL0MrlGTH5ekL/jAmLdDqe0a/H3QulNpSMl2f3jUU5+bMS3w5laB0L+XpBbPU1hVIoEXas7N5YeKPWPeSAJoodEVu2XVMohRJhL5Xpcr4IKsHLwk9ootgeJZ0AWr/H3QulNpRMTyZMzSplUAGNXumM7os39AoIpVAi0ntlZeHMIEr8HMRcLifzJ4ATSj3uXii1oZRexSAa2n1VyXcG5TeieGMJpY2VzP26wySevcoJM+V3IFXOG60plEKJMNetyWvKq8oE4r1cR2aHWI+7F0ptKP0Bj/JKifeqc0UAAAAASUVORK5C\"></td><td style='text-align:center;vertical-align:middle; margin: 0.5em;border:1px #90999f solid;border-collapse:collapse'><img style='max-width: 100px; max-height:100px;display:inline' src=\"data:image/png;base64,iVBORw0KGgoAAAANSUhEUgAAAGkAAABpAQAAAAAR+TCXAAAABGdBTUEAALGPC/xhBQAAACBjSFJNAAB6JgAAgIQAAPoAAACA6AAAdTAAAOpgAAA6mAAAF3CculE8AAAAAmJLR0QAAd2KE6QAAAAVSURBVDjLY2AYBaNgFIyCUTAKcAIABicAAUZAVxIAAAAASUVORK5C\"></td><td style='text-align:center;vertical-align:middle; margin: 0.5em;border:1px #90999f solid;border-collapse:collapse'><img style='max-width: 100px; max-height:100px;display:inline' src=\"data:image/png;base64,iVBORw0KGgoAAAANSUhEUgAAAGkAAABpCAAAAAAc6VLmAAAABGdBTUEAALGPC/xhBQAAACBjSFJNAAB6JgAAgIQAAPoAAACA6AAAdTAAAOpgAAA6mAAAF3CculE8AAAAAmJLR0QA/4ePzL8AAAHeSURBVGje7Zq7TgMxFEQd9i6Ep3goIEFBgaCjpoRf5IP4APgBhGh4CBpeCQgCJBsoZpqRXDtKNLc5stebWa9mr67ttE5TSimlGqiAAFo5MM6AE2AkQypp8dpMKhVWspJG0IMNwNYQUOur2dnZz438y2Ea356VJkMpvsAl4BOgy6+AY0BzeQ94AzqAfivjmpOVrKQR5+AmwJz8CFwDe8AqQOvfAodANnur2afx7VlpMpSC6fcZYGbvAosAP4QtoC+tJ2AknWr24nOykpU0Yh1kObICMLPTu5fAGvADMN2/A13gCGB5fgPsl56TlaykEd+gLh9rGUPrv0jnAHgFWKVfAPQ1P4uH0nOykpU0gm4dSq/WGm2gJ8/2CzRywyzANewGMF96TlaykkYMc4pssYyhd1mqsMThkpQWvge2gTuAX4d3Eq00ZqXQ/RD6WnM5F6EHwEAekdgFloEPGTlXek5WspJG0IMtEda6XI+D2rlOPd/cAVjIL5Sek5WspBE8z6FbG2nxMTTP17lrlbR4rZP7sQJhJStphP5lRZO4nv43uU61sKLOdRYIK1lJIzRR0/OVjNGqhMFVayMPPCs3sGLx6tNKY1YKHl6qFbP/z9LNxpEg5e7TzcZpfHtWmgylfyRJYJTYTznkAAAAAElFTkSuQmCC\"></td><td style='text-align:center;vertical-align:middle; margin: 0.5em;border:1px #90999f solid;border-collapse:collapse'><img style='max-width: 100px; max-height:100px;display:inline' src=\"data:image/png;base64,iVBORw0KGgoAAAANSUhEUgAAAGkAAABpCAAAAAAc6VLmAAAABGdBTUEAALGPC/xhBQAAACBjSFJNAAB6JgAAgIQAAPoAAACA6AAAdTAAAOpgAAA6mAAAF3CculE8AAAAAmJLR0QA/4ePzL8AAAGUSURBVGje7ZnNTgJBEIRtGEBlDWBMDE/g+7+JNw/e9aKuGvEHcNdDlYdKJgqSDKhVly+zu701TZqmd4m9ddUDBsDTynGdtZ1+KjvZybL+m2LDeH4fm5WvLCA72UkVfXAODIFXYB+YSUQFnAFXwPUu5WQnO6niBFwAx8AIWAKXACfxCXAPPOxgTnaykypOwRZ4B9jgE8Bi1349kStZ7PwNGEkWdemc7GQn1efEwsF6KSf7suJQ05Mtpty+uwCHmkXpnOxkJ1UcgWziLHY+k7LBHwLPAPs1x/Mx8AhwqKklLkrnZCc7qYLNmOXNLtwKxgDrml+LA9kpr+TNzoFs8y8gO9lJlTriqE2cB1nQLGG27Qu5ZArUEsDxx1Vupy07xVSXwFBWrNY3gK8X2fW1X78AvCfH+pvSOdnJTqrEUYXdm0+Kd3KQamRvOshXEs52ry8p/+KnZ6ff4RSVLmXFZswBpCvnbiWAj6Q66cy3lJOd7KTa9B/+7L6bL84VkJ3spEpJHDldtN8H6suVNhcXuYACspOdVB86zUQJPu0qqAAAAABJRU5ErkJg\"></td><td style='text-align:center;vertical-align:middle; margin: 0.5em;border:1px #90999f solid;border-collapse:collapse'><img style='max-width: 100px; max-height:100px;display:inline' src=\"data:image/png;base64,iVBORw0KGgoAAAANSUhEUgAAAGkAAABpCAAAAAAc6VLmAAAABGdBTUEAALGPC/xhBQAAACBjSFJNAAB6JgAAgIQAAPoAAACA6AAAdTAAAOpgAAA6mAAAF3CculE8AAAAAmJLR0QA/4ePzL8AAAGWSURBVGje7ZrBTsMwEETtxKGAqODIif//NS5IgKq0tHU47FwesnojUaLZy8hZ20+ONu7EaX5IKaWUSkgOGUK6kAm5Hl2+0YU9GV2aK0wyiVFUmNeQDOnQUkzIXZDjuOaAGcIkkxjliiY342PIE3I1ZAzR8B45Rp17TSaZxChC/YSoWs8hLFpu9yNaCv4w0MZs8e6ZtA5S3oN4y788hryHyMi/hpxCDpilQrZ490xaB6k8h6qSJyTV+gyhBX8LuQs5YxY9ASNyW7x7Jq2D9MeXC9zj4i7kgIsj5APDNUAPkB2LSQuTCndolfcVUpG7D/kKoS/XJj5hwOxrMskkRqFV4ftmbV3co6VK1izyLyfk7MtNWpiUX6SQ5ulID+EABp148xD9P8MkkxhFW3NzL2eVN+u6g8j+DOjit0+TFiYVvSnSQ/PjkFoX9OyR49PBLru512SSSYzC+mwal4pW06M0XQmn3uLdM2kdpMIDFJZw818t3Nmn1gDFcaE1mWQSo8g16wt/vtG16dJZ7ANaOmrxGYtJC5N+AfoIW/y3/QefAAAAAElFTkSuQmCC\"></td><td style='text-align:center;vertical-align:middle; margin: 0.5em;border:1px #90999f solid;border-collapse:collapse'><img style='max-width: 100px; max-height:100px;display:inline' src=\"data:image/png;base64,iVBORw0KGgoAAAANSUhEUgAAAGkAAABpCAAAAAAc6VLmAAAABGdBTUEAALGPC/xhBQAAACBjSFJNAAB6JgAAgIQAAPoAAACA6AAAdTAAAOpgAAA6mAAAF3CculE8AAAAAmJLR0QA/4ePzL8AAAH5SURBVGje7dnLShthGMbxTv2ixgO0HqhSESrYghtx7wFcdKEgXoHFa/ACuuk1VLfd9BZKQVxJobSbCkIRwXYjiKKpiSSNh3TxfzYPuKguxijvu/kxk/nmyRe+TN6ZZI1Ht6sP8Oa/Bzy+ZdDNK5IiySvVsfWmA79DrPJIav6kdIADsA/HsAEr1w38CYfQ30xziqRI8kpvcQyGYA22YRZewCrsQq0J5xRJkeSVLWIRSrBjx4zDBFRgD+bhOUzppHBpWw/x04uk+5GUXtqmruW6sl/AOryCP7AJanG+wjsowxd4nfecIimSvLIl7ALdhHbY2/gII/aaenZ9EdS4DMI0tEE57zlFUiR5pVM8s71XoF7jGfyGXqhcd7aGvfYU/CuTQ0VSJHmlc9T6VCud7JhuUCeu6/Uc9MAnmIHPMAkXec8pkiLJK9UsUTSMUdAdpg9ohwXQY5gfoF+EzrznFEmR5JUtS9BFvNOOaTVajALoF0Gd+BH8guG85xRJkeSVvUct2qpt+RNBvaknNl7LW733XxveZlsP8dOLpPuRlLosUatVy1sdtZ4darGXQI2LLv663yzYTp3zKu85RVIkeSUtYfXX6kqKtlPted0Gapwv7z7Quv4G8a9QJN1xUtpCreSCoV5Di7ZuR+o6f25027lPoJr3nCIpkrz+AXJoV7leUt8CAAAAAElFTkSuQmCC\"></td><td style='text-align:center;vertical-align:middle; margin: 0.5em;border:1px #90999f solid;border-collapse:collapse'><img style='max-width: 100px; max-height:100px;display:inline' src=\"data:image/png;base64,iVBORw0KGgoAAAANSUhEUgAAAGkAAABpCAAAAAAc6VLmAAAABGdBTUEAALGPC/xhBQAAACBjSFJNAAB6JgAAgIQAAPoAAACA6AAAdTAAAOpgAAA6mAAAF3CculE8AAAAAmJLR0QA/4ePzL8AAAH5SURBVGje7ZpLSgNBGIS7TcckYiQ+0JWvjRcQvIFbLxD0fG5cKXgCwUO4EDURBGMW0ah5uagKWDC4c4aE+jcfnZnumh5q/un+J/E8hBBCKIffsSCtkrQicA/sAmMZJUqHSdaY/xlWspJGoiPHf2AJ4Jl08jVwBlSBSVb3mPecrGQljfQBVoAecAd0gGO5qG/gDagBNPQAmIiEc7mVClZKlyDdugdcADvAJrAB3ACHgL4KGCM5ZpdbqWCl2AQT8CX6I2k1gH2gBTwDdPmJtNivnPecrGQljcQkzrUGW9xv0q2vwArwCNwCdaAlo7A7n4C1vOdkJStppCcSoK8rggdpbQHM+l254BeAS5wDQN8IOYSVrKSR6F2uoenIgbS4IO8CtPcnsApwn8rBStI99zlZyUoa0xoLFaNA95RcXy8CRwB9zceC2fsKaMhg83j3rDQbSinT3vrjNjAE6PI2wFr6OsCUzmIjV0GlvOdkJStpxFNRpCPrco6mdH4A0jKhxkBQyXtOVrKSRqKh6VYuut8BdXISMLP3gQagG81lwJVEKxWsNK0k0tDVrMvQzzpMzW35kV9C1dB9ac3j3bPSbCgllgmZoWnhmpzDBD8UsMYyku6sxnBH25FT5vHuWWk2lJL+A4Xe7QI8Rl9zzZ75h8OedA/Szy63UsFKP22xZP0s2kfsAAAAAElFTkSuQmCC\"></td><td style='text-align:center;vertical-align:middle; margin: 0.5em;border:1px #90999f solid;border-collapse:collapse'><img style='max-width: 100px; max-height:100px;display:inline' src=\"data:image/png;base64,iVBORw0KGgoAAAANSUhEUgAAAGkAAABpCAAAAAAc6VLmAAAABGdBTUEAALGPC/xhBQAAACBjSFJNAAB6JgAAgIQAAPoAAACA6AAAdTAAAOpgAAA6mAAAF3CculE8AAAAAmJLR0QA/4ePzL8AAAH9SURBVGje7Zq5SgRBFEVbLccNd1BcEoVBBBHB2J8x9Hf8Aj/CwB/QRDMV0UQRxQVx3HCbxeBcgwvGPXbzXnKYrqq+XcXtx6vq6bjPsizLsl6QDB2g034pNsEGaFjPZD1b1pZDhFIoeaSvv4Rl6IrB215ADfSBbtCyezbznlMohZJHeoSjoAbewB5Yt4cSrsEVmAMydB3ofYhcHkptVkpbsAp6wAHYBStgFuyAY/AJvGL5Bs02zSmUQskjKRk/ANUvp2oEehHmgV6EFeupcXP/Yk6hFEoeaRoq76q6GAOqPM6AcvkH2Acn4BJs2LhDsJb3nEIplDzSM9T2UdlbJy7yvN6ACzAAXsETuAHK+ktAdfl23nMKpVDy+HW5TNsyyKby/B0YBu9/jWvaxXEwmvecQimUPJL72u0tKM+fW5cFMAiOQNV+LYI4SQylNiulD1OUr7uADD0JJoCSv2ob7UVXwRS4BU3rUsbVC6ViKCVtNGVvede/7lTs4pCPB192F9XlOr4ZyXtOoRRKHsl3ip+mL3jJ0W8DdFDufwmYAct2sYyrF0rFUEp+nKK0LWPqRFBfQpWvG9amnt0GXey3yZRx9UKpGEqpboqyqRfdqtL9U2YNNKyty3Bmty7j6oVSMZSSPl7Kpp6T/TGUy5X16waZ3auZFxtXxtULpWIo/QDT12bTx0QkFwAAAABJRU5ErkJg\"></td></tr></tbody></table><div><small>(a vector displayed as a row to save space)</small></div>"
      ],
      "text/plain": [
       "16-element Array{Array{Gray{Float32},2},1}:\n",
       " [Gray{Float32}(0.246011) Gray{Float32}(0.260512) … Gray{Float32}(0.268528) Gray{Float32}(0.265062); Gray{Float32}(0.243474) Gray{Float32}(0.245784) … Gray{Float32}(0.268545) Gray{Float32}(0.264726); … ; Gray{Float32}(0.241512) Gray{Float32}(0.251878) … Gray{Float32}(0.206735) Gray{Float32}(0.215552); Gray{Float32}(0.198453) Gray{Float32}(0.196721) … Gray{Float32}(0.176964) Gray{Float32}(0.170421)]         \n",
       " [Gray{Float32}(0.970121) Gray{Float32}(1.0033) … Gray{Float32}(1.0619) Gray{Float32}(1.05074); Gray{Float32}(0.952711) Gray{Float32}(0.973302) … Gray{Float32}(1.04682) Gray{Float32}(1.04036); … ; Gray{Float32}(0.568112) Gray{Float32}(0.585161) … Gray{Float32}(0.468195) Gray{Float32}(0.469288); Gray{Float32}(0.444419) Gray{Float32}(0.441575) … Gray{Float32}(0.396617) Gray{Float32}(0.370111)]                \n",
       " [Gray{Float32}(0.0) Gray{Float32}(0.0) … Gray{Float32}(0.0) Gray{Float32}(0.0); Gray{Float32}(0.0) Gray{Float32}(0.0) … Gray{Float32}(0.0) Gray{Float32}(0.0); … ; Gray{Float32}(0.0) Gray{Float32}(0.0) … Gray{Float32}(0.0) Gray{Float32}(0.0); Gray{Float32}(0.0) Gray{Float32}(0.0) … Gray{Float32}(0.0) Gray{Float32}(0.0)]                                                                                         \n",
       " [Gray{Float32}(0.0) Gray{Float32}(0.0) … Gray{Float32}(0.0) Gray{Float32}(0.0); Gray{Float32}(0.0202127) Gray{Float32}(0.0191881) … Gray{Float32}(0.00548439) Gray{Float32}(0.00162699); … ; Gray{Float32}(0.157592) Gray{Float32}(0.157906) … Gray{Float32}(0.170097) Gray{Float32}(0.167091); Gray{Float32}(0.138127) Gray{Float32}(0.148934) … Gray{Float32}(0.179327) Gray{Float32}(0.179665)]                       \n",
       " [Gray{Float32}(0.0) Gray{Float32}(0.0) … Gray{Float32}(0.0) Gray{Float32}(0.0); Gray{Float32}(0.0569966) Gray{Float32}(0.0) … Gray{Float32}(0.0) Gray{Float32}(0.0); … ; Gray{Float32}(0.154728) Gray{Float32}(0.153814) … Gray{Float32}(0.154678) Gray{Float32}(0.154362); Gray{Float32}(0.155485) Gray{Float32}(0.153257) … Gray{Float32}(0.151807) Gray{Float32}(0.171983)]                                           \n",
       " [Gray{Float32}(0.303221) Gray{Float32}(0.301268) … Gray{Float32}(0.291998) Gray{Float32}(0.295231); Gray{Float32}(0.332628) Gray{Float32}(0.296939) … Gray{Float32}(0.289366) Gray{Float32}(0.293063); … ; Gray{Float32}(0.162382) Gray{Float32}(0.144112) … Gray{Float32}(0.13516) Gray{Float32}(0.140439); Gray{Float32}(0.134234) Gray{Float32}(0.140485) … Gray{Float32}(0.136898) Gray{Float32}(0.139522)]          \n",
       " [Gray{Float32}(0.0) Gray{Float32}(0.0) … Gray{Float32}(0.0) Gray{Float32}(0.0); Gray{Float32}(0.0) Gray{Float32}(0.0) … Gray{Float32}(0.0) Gray{Float32}(0.0); … ; Gray{Float32}(0.0) Gray{Float32}(0.0) … Gray{Float32}(0.0) Gray{Float32}(0.0); Gray{Float32}(0.0) Gray{Float32}(0.0) … Gray{Float32}(0.0) Gray{Float32}(0.0)]                                                                                         \n",
       " [Gray{Float32}(0.116235) Gray{Float32}(0.131118) … Gray{Float32}(0.120551) Gray{Float32}(0.113067); Gray{Float32}(0.162588) Gray{Float32}(0.119607) … Gray{Float32}(0.116474) Gray{Float32}(0.111659); … ; Gray{Float32}(0.0764634) Gray{Float32}(0.0699295) … Gray{Float32}(0.0314968) Gray{Float32}(0.0295323); Gray{Float32}(0.0335899) Gray{Float32}(0.0378289) … Gray{Float32}(0.0) Gray{Float32}(0.00275286)]      \n",
       " [Gray{Float32}(0.000106521) Gray{Float32}(0.0) … Gray{Float32}(0.00118359) Gray{Float32}(0.0); Gray{Float32}(0.0116476) Gray{Float32}(0.0170378) … Gray{Float32}(0.00380521) Gray{Float32}(0.00225019); … ; Gray{Float32}(0.0516803) Gray{Float32}(0.0481854) … Gray{Float32}(0.0875429) Gray{Float32}(0.0844919); Gray{Float32}(0.062872) Gray{Float32}(0.0719817) … Gray{Float32}(0.110565) Gray{Float32}(0.119091)]   \n",
       " [Gray{Float32}(0.0) Gray{Float32}(0.0) … Gray{Float32}(0.0) Gray{Float32}(0.0); Gray{Float32}(0.0) Gray{Float32}(0.0) … Gray{Float32}(0.0) Gray{Float32}(0.0); … ; Gray{Float32}(0.0) Gray{Float32}(0.0) … Gray{Float32}(0.0) Gray{Float32}(0.0); Gray{Float32}(0.0) Gray{Float32}(0.0) … Gray{Float32}(0.0) Gray{Float32}(0.0)]                                                                                         \n",
       " [Gray{Float32}(0.568737) Gray{Float32}(0.590166) … Gray{Float32}(0.625702) Gray{Float32}(0.61874); Gray{Float32}(0.5624) Gray{Float32}(0.576919) … Gray{Float32}(0.621512) Gray{Float32}(0.616665); … ; Gray{Float32}(0.412302) Gray{Float32}(0.41667) … Gray{Float32}(0.356046) Gray{Float32}(0.354041); Gray{Float32}(0.327897) Gray{Float32}(0.32485) … Gray{Float32}(0.312993) Gray{Float32}(0.301099)]              \n",
       " [Gray{Float32}(0.0) Gray{Float32}(0.0) … Gray{Float32}(0.0) Gray{Float32}(0.0); Gray{Float32}(0.0) Gray{Float32}(0.0) … Gray{Float32}(0.0) Gray{Float32}(0.0); … ; Gray{Float32}(0.0) Gray{Float32}(0.0) … Gray{Float32}(0.0) Gray{Float32}(0.0); Gray{Float32}(0.0153863) Gray{Float32}(0.0221647) … Gray{Float32}(0.00384161) Gray{Float32}(0.00328831)]                                                               \n",
       " [Gray{Float32}(0.0354465) Gray{Float32}(0.0517788) … Gray{Float32}(0.0598913) Gray{Float32}(0.0577879); Gray{Float32}(0.0301399) Gray{Float32}(0.0398525) … Gray{Float32}(0.0610823) Gray{Float32}(0.0571988); … ; Gray{Float32}(0.126897) Gray{Float32}(0.14401) … Gray{Float32}(0.113003) Gray{Float32}(0.115635); Gray{Float32}(0.104204) Gray{Float32}(0.102568) … Gray{Float32}(0.0842009) Gray{Float32}(0.0749021)]\n",
       " [Gray{Float32}(1.00069) Gray{Float32}(1.05156) … Gray{Float32}(1.12862) Gray{Float32}(1.11265); Gray{Float32}(0.977645) Gray{Float32}(1.01073) … Gray{Float32}(1.11525) Gray{Float32}(1.10295); … ; Gray{Float32}(0.578257) Gray{Float32}(0.609206) … Gray{Float32}(0.441567) Gray{Float32}(0.448809); Gray{Float32}(0.397477) Gray{Float32}(0.392156) … Gray{Float32}(0.335419) Gray{Float32}(0.300737)]                \n",
       " [Gray{Float32}(0.660058) Gray{Float32}(0.676921) … Gray{Float32}(0.713957) Gray{Float32}(0.707874); Gray{Float32}(0.661536) Gray{Float32}(0.669522) … Gray{Float32}(0.693199) Gray{Float32}(0.697805); … ; Gray{Float32}(0.332624) Gray{Float32}(0.349122) … Gray{Float32}(0.306504) Gray{Float32}(0.295142); Gray{Float32}(0.326355) Gray{Float32}(0.330301) … Gray{Float32}(0.280037) Gray{Float32}(0.26493)]          \n",
       " [Gray{Float32}(0.922063) Gray{Float32}(0.952636) … Gray{Float32}(1.00602) Gray{Float32}(0.995914); Gray{Float32}(0.897139) Gray{Float32}(0.922685) … Gray{Float32}(0.996103) Gray{Float32}(0.988637); … ; Gray{Float32}(0.568985) Gray{Float32}(0.577318) … Gray{Float32}(0.459461) Gray{Float32}(0.466194); Gray{Float32}(0.418348) Gray{Float32}(0.412947) … Gray{Float32}(0.380902) Gray{Float32}(0.35852)]           "
      ]
     },
     "execution_count": 47,
     "metadata": {},
     "output_type": "execute_result"
    }
   ],
   "source": [
    "output_conv = m_final(rotated_random_test_example_X_4d);\n",
    "displayChannels(output_conv)"
   ]
  },
  {
   "cell_type": "markdown",
   "metadata": {},
   "source": [
    "# NN"
   ]
  },
  {
   "cell_type": "code",
   "execution_count": 48,
   "metadata": {},
   "outputs": [
    {
     "name": "stdout",
     "output_type": "stream",
     "text": [
      "accuracy_nn(nn_train_x, Y) = 0.33466666666666667\n",
      "accuracy_nn(nn_train_x, Y) = 0.5983333333333334\n"
     ]
    }
   ],
   "source": [
    "nn_train_x = MLDatasets.CIFAR10.convert2features(X) ./ 255 |> gpu\n",
    "m_nn = Chain(\n",
    "    Dense(3072, 2000),\n",
    "    Dense(2000, 500, relu),\n",
    "    Dense(500, 10),\n",
    "    softmax\n",
    ") |> gpu\n",
    "\n",
    "loss_nn(x, y) = crossentropy(m_nn(x), y)\n",
    "\n",
    "accuracy_nn(x, y) = mean(onecold(m_nn(x)) .== onecold(y))\n",
    "\n",
    "dataset_nn = repeated((nn_train_x, Y), 100)\n",
    "evalcb = () -> @show(accuracy_nn(nn_train_x, Y))\n",
    "opt_nn = ADAM(params(m_nn))\n",
    "\n",
    "Flux.train!(loss_nn, dataset_nn, opt_nn, cb = throttle(evalcb, 10))"
   ]
  },
  {
   "cell_type": "code",
   "execution_count": 49,
   "metadata": {},
   "outputs": [
    {
     "data": {
      "image/png": "[encoded data removed]",
      "text/plain": [
       "32×32 Array{RGB{N0f8},2} with eltype RGB{Normed{UInt8,8}}:\n",
       " RGB{N0f8}(0.702,0.714,0.816)  …  RGB{N0f8}(0.361,0.357,0.278)\n",
       " RGB{N0f8}(0.702,0.714,0.816)     RGB{N0f8}(0.357,0.357,0.278)\n",
       " RGB{N0f8}(0.714,0.722,0.824)     RGB{N0f8}(0.357,0.357,0.278)\n",
       " RGB{N0f8}(0.733,0.741,0.831)     RGB{N0f8}(0.341,0.357,0.267)\n",
       " RGB{N0f8}(0.749,0.753,0.843)     RGB{N0f8}(0.322,0.349,0.247)\n",
       " RGB{N0f8}(0.757,0.761,0.847)  …  RGB{N0f8}(0.337,0.361,0.263)\n",
       " RGB{N0f8}(0.761,0.765,0.855)     RGB{N0f8}(0.333,0.357,0.259)\n",
       " RGB{N0f8}(0.776,0.776,0.859)     RGB{N0f8}(0.322,0.345,0.239)\n",
       " RGB{N0f8}(0.788,0.78,0.859)      RGB{N0f8}(0.318,0.337,0.224)\n",
       " RGB{N0f8}(0.788,0.784,0.859)     RGB{N0f8}(0.322,0.341,0.227)\n",
       " RGB{N0f8}(0.792,0.784,0.863)  …  RGB{N0f8}(0.318,0.337,0.227)\n",
       " RGB{N0f8}(0.792,0.788,0.863)     RGB{N0f8}(0.333,0.345,0.239)\n",
       " RGB{N0f8}(0.796,0.788,0.867)     RGB{N0f8}(0.345,0.345,0.251)\n",
       " ⋮                             ⋱                              \n",
       " RGB{N0f8}(0.773,0.773,0.859)  …  RGB{N0f8}(0.333,0.353,0.235)\n",
       " RGB{N0f8}(0.765,0.769,0.859)     RGB{N0f8}(0.325,0.349,0.239)\n",
       " RGB{N0f8}(0.761,0.765,0.855)     RGB{N0f8}(0.322,0.341,0.239)\n",
       " RGB{N0f8}(0.765,0.769,0.855)     RGB{N0f8}(0.357,0.357,0.267)\n",
       " RGB{N0f8}(0.773,0.78,0.867)      RGB{N0f8}(0.376,0.369,0.278)\n",
       " RGB{N0f8}(0.78,0.788,0.875)   …  RGB{N0f8}(0.361,0.369,0.267)\n",
       " RGB{N0f8}(0.784,0.792,0.878)     RGB{N0f8}(0.345,0.365,0.251)\n",
       " RGB{N0f8}(0.78,0.788,0.878)      RGB{N0f8}(0.322,0.357,0.231)\n",
       " RGB{N0f8}(0.776,0.784,0.871)     RGB{N0f8}(0.302,0.345,0.204)\n",
       " RGB{N0f8}(0.769,0.776,0.871)     RGB{N0f8}(0.298,0.337,0.2)  \n",
       " RGB{N0f8}(0.757,0.765,0.871)  …  RGB{N0f8}(0.298,0.337,0.216)\n",
       " RGB{N0f8}(0.737,0.741,0.863)     RGB{N0f8}(0.302,0.333,0.239)"
      ]
     },
     "execution_count": 49,
     "metadata": {},
     "output_type": "execute_result"
    }
   ],
   "source": [
    "imgrgb = float2RGB(random_test_example_X)"
   ]
  },
  {
   "cell_type": "code",
   "execution_count": 50,
   "metadata": {},
   "outputs": [
    {
     "data": {
      "text/plain": [
       "1.0"
      ]
     },
     "execution_count": 50,
     "metadata": {},
     "output_type": "execute_result"
    }
   ],
   "source": [
    "accuracy_nn(MLDatasets.CIFAR10.convert2features(random_test_example_X)./255 |> gpu, random_test_example_Y)"
   ]
  },
  {
   "cell_type": "code",
   "execution_count": 51,
   "metadata": {},
   "outputs": [
    {
     "data": {
      "text/plain": [
       "0.0"
      ]
     },
     "execution_count": 51,
     "metadata": {},
     "output_type": "execute_result"
    }
   ],
   "source": [
    "accuracy_nn(MLDatasets.CIFAR10.convert2features(shifted_random_test_example_X_4d)./255 |> gpu, random_test_example_Y)"
   ]
  },
  {
   "cell_type": "code",
   "execution_count": 52,
   "metadata": {},
   "outputs": [
    {
     "data": {
      "text/plain": [
       "1.0"
      ]
     },
     "execution_count": 52,
     "metadata": {},
     "output_type": "execute_result"
    }
   ],
   "source": [
    "accuracy_nn(MLDatasets.CIFAR10.convert2features(rotated_random_test_example_X_4d)./255 |> gpu, random_test_example_Y)"
   ]
  }
 ],
 "metadata": {
  "kernelspec": {
   "display_name": "Julia 1.0.1",
   "language": "julia",
   "name": "julia-1.0"
  },
  "language_info": {
   "file_extension": ".jl",
   "mimetype": "application/julia",
   "name": "julia",
   "version": "1.0.1"
  },
  "latex_envs": {
   "LaTeX_envs_menu_present": true,
   "autoclose": false,
   "autocomplete": true,
   "bibliofile": "biblio.bib",
   "cite_by": "apalike",
   "current_citInitial": 1,
   "eqLabelWithNumbers": true,
   "eqNumInitial": 1,
   "hotkeys": {
    "equation": "Ctrl-E",
    "itemize": "Ctrl-I"
   },
   "labels_anchors": false,
   "latex_user_defs": false,
   "report_style_numbering": false,
   "user_envs_cfg": false
  }
 },
 "nbformat": 4,
 "nbformat_minor": 2
}
