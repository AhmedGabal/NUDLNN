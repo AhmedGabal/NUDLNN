{
 "cells": [
  {
   "cell_type": "markdown",
   "metadata": {},
   "source": [
    "# A first journey through CNN"
   ]
  },
  {
   "cell_type": "code",
   "execution_count": 1,
   "metadata": {},
   "outputs": [],
   "source": [
    "] activate ."
   ]
  },
  {
   "cell_type": "markdown",
   "metadata": {},
   "source": [
    "The above is to make sure we are using the same libraries  "
   ]
  },
  {
   "cell_type": "code",
   "execution_count": 2,
   "metadata": {},
   "outputs": [],
   "source": [
    "using Flux, Statistics\n",
    "using Flux: onehotbatch, onecold, crossentropy, throttle\n",
    "using Base.Iterators: repeated, partition\n",
    "using Images"
   ]
  },
  {
   "cell_type": "markdown",
   "metadata": {},
   "source": [
    "## Getting our Data Set"
   ]
  },
  {
   "cell_type": "code",
   "execution_count": 3,
   "metadata": {
    "scrolled": true
   },
   "outputs": [],
   "source": [
    "using MLDatasets\n",
    "# load full training set\n",
    "train_x, train_y = CIFAR10.traindata();\n",
    "train_y = onehotbatch(train_y, 0:9);\n",
    "# load full test set\n",
    "test_x,  test_y  = CIFAR10.testdata();\n",
    "test_y = onehotbatch(test_y, 0:9);"
   ]
  },
  {
   "cell_type": "markdown",
   "metadata": {},
   "source": [
    "The CIFAR10 data set will be downloaded....if run this for the first time. \n",
    "CIFAR10 is a collection of small image... lets have a look "
   ]
  },
  {
   "cell_type": "code",
   "execution_count": 4,
   "metadata": {},
   "outputs": [
    {
     "data": {
      "text/plain": [
       "(32, 32, 3, 50000)"
      ]
     },
     "execution_count": 4,
     "metadata": {},
     "output_type": "execute_result"
    }
   ],
   "source": [
    "train_x |> size"
   ]
  },
  {
   "cell_type": "markdown",
   "metadata": {},
   "source": [
    "From the that we can assume that we have 50,000 image. Each image is 32x32 in RGB space. Julia provides a convenient `colorview` function for make conversion for the matrix to a viewable image.  "
   ]
  },
  {
   "cell_type": "markdown",
   "metadata": {},
   "source": [
    "## Looking at our images"
   ]
  },
  {
   "cell_type": "code",
   "execution_count": 5,
   "metadata": {},
   "outputs": [
    {
     "data": {
      "image/png": "[encoded data removed]",
      "text/plain": [
       "32×32 mappedarray(RGB{Normed{UInt8,8}}, ImageCore.extractchannels, ::Array{N0f8,2}, ::Array{N0f8,2}, ::Array{N0f8,2}) with eltype RGB{Normed{UInt8,8}}:\n",
       " RGB{N0f8}(0.624,0.4,0.396)    …  RGB{N0f8}(0.965,0.545,0.322)\n",
       " RGB{N0f8}(0.588,0.357,0.373)     RGB{N0f8}(0.953,0.522,0.306)\n",
       " RGB{N0f8}(0.6,0.373,0.38)        RGB{N0f8}(0.957,0.518,0.302)\n",
       " RGB{N0f8}(0.604,0.486,0.478)     RGB{N0f8}(0.957,0.533,0.318)\n",
       " RGB{N0f8}(0.541,0.525,0.514)     RGB{N0f8}(0.941,0.494,0.271)\n",
       " RGB{N0f8}(0.722,0.584,0.537)  …  RGB{N0f8}(0.929,0.424,0.204)\n",
       " RGB{N0f8}(0.604,0.404,0.345)     RGB{N0f8}(0.925,0.42,0.188) \n",
       " RGB{N0f8}(0.302,0.18,0.157)      RGB{N0f8}(0.918,0.447,0.227)\n",
       " RGB{N0f8}(0.239,0.153,0.137)     RGB{N0f8}(0.816,0.384,0.208)\n",
       " RGB{N0f8}(0.251,0.165,0.145)     RGB{N0f8}(0.608,0.22,0.094) \n",
       " RGB{N0f8}(0.255,0.169,0.149)  …  RGB{N0f8}(0.467,0.129,0.039)\n",
       " RGB{N0f8}(0.275,0.196,0.18)      RGB{N0f8}(0.376,0.086,0.02) \n",
       " RGB{N0f8}(0.345,0.278,0.259)     RGB{N0f8}(0.31,0.071,0.024) \n",
       " ⋮                             ⋱                              \n",
       " RGB{N0f8}(0.298,0.243,0.216)  …  RGB{N0f8}(0.275,0.071,0.039)\n",
       " RGB{N0f8}(0.298,0.259,0.224)     RGB{N0f8}(0.29,0.063,0.039) \n",
       " RGB{N0f8}(0.325,0.278,0.231)     RGB{N0f8}(0.333,0.075,0.059)\n",
       " RGB{N0f8}(0.384,0.298,0.251)     RGB{N0f8}(0.361,0.078,0.071)\n",
       " RGB{N0f8}(0.408,0.314,0.239)     RGB{N0f8}(0.388,0.09,0.063) \n",
       " RGB{N0f8}(0.384,0.294,0.22)   …  RGB{N0f8}(0.443,0.106,0.047)\n",
       " RGB{N0f8}(0.369,0.275,0.224)     RGB{N0f8}(0.525,0.125,0.051)\n",
       " RGB{N0f8}(0.369,0.271,0.216)     RGB{N0f8}(0.58,0.145,0.063) \n",
       " RGB{N0f8}(0.396,0.282,0.243)     RGB{N0f8}(0.616,0.165,0.055)\n",
       " RGB{N0f8}(0.357,0.278,0.22)      RGB{N0f8}(0.651,0.184,0.055)\n",
       " RGB{N0f8}(0.29,0.247,0.216)   …  RGB{N0f8}(0.678,0.2,0.067)  \n",
       " RGB{N0f8}(0.298,0.227,0.216)     RGB{N0f8}(0.714,0.224,0.075)"
      ]
     },
     "execution_count": 5,
     "metadata": {},
     "output_type": "execute_result"
    }
   ],
   "source": [
    "colorview(RGB, [train_x[:,:,i,6] for i=1:3]...)"
   ]
  },
  {
   "cell_type": "markdown",
   "metadata": {},
   "source": [
    "So form the above we can guess that this rather low-res image of red car. In the above code, we have generated an array for arrays (`[train_x[:,:,i,6] for i=1:3]`) where each element is 2D array for each color channel (i.e. Red, Green, Blue). We take that array and splat it (using `...`) into the [`colorview`](http://juliaimages.github.io/latest/function_reference.html#ImageCore.colorview) function. So we can get viewable image. For the `Julia` beginner this might look a bit complex. Julia save us a great deal of for loops if we know how handle array indices. We can write a function with loops to get the same effect. Here is one:"
   ]
  },
  {
   "cell_type": "code",
   "execution_count": 6,
   "metadata": {},
   "outputs": [
    {
     "data": {
      "text/plain": [
       "float2RGB (generic function with 1 method)"
      ]
     },
     "execution_count": 6,
     "metadata": {},
     "output_type": "execute_result"
    }
   ],
   "source": [
    "function float2RGB(img)\n",
    "    imgrgb = zeros(RGB{Normed{UInt8,8}}, size(img, 1),size(img, 2))\n",
    "    for i=1:size(img, 1)\n",
    "        for j=1:size(img, 2)\n",
    "            imgrgb[i, j] = RGB(img[i, j, 1], img[i, j, 2], img[i, j,3])\n",
    "        end\n",
    "    end\n",
    "    imgrgb\n",
    "end"
   ]
  },
  {
   "cell_type": "markdown",
   "metadata": {},
   "source": [
    "We test it"
   ]
  },
  {
   "cell_type": "code",
   "execution_count": 7,
   "metadata": {},
   "outputs": [
    {
     "data": {
      "image/png": "[encoded data removed]",
      "text/plain": [
       "32×32 Array{RGB{N0f8},2} with eltype RGB{Normed{UInt8,8}}:\n",
       " RGB{N0f8}(0.624,0.4,0.396)    …  RGB{N0f8}(0.965,0.545,0.322)\n",
       " RGB{N0f8}(0.588,0.357,0.373)     RGB{N0f8}(0.953,0.522,0.306)\n",
       " RGB{N0f8}(0.6,0.373,0.38)        RGB{N0f8}(0.957,0.518,0.302)\n",
       " RGB{N0f8}(0.604,0.486,0.478)     RGB{N0f8}(0.957,0.533,0.318)\n",
       " RGB{N0f8}(0.541,0.525,0.514)     RGB{N0f8}(0.941,0.494,0.271)\n",
       " RGB{N0f8}(0.722,0.584,0.537)  …  RGB{N0f8}(0.929,0.424,0.204)\n",
       " RGB{N0f8}(0.604,0.404,0.345)     RGB{N0f8}(0.925,0.42,0.188) \n",
       " RGB{N0f8}(0.302,0.18,0.157)      RGB{N0f8}(0.918,0.447,0.227)\n",
       " RGB{N0f8}(0.239,0.153,0.137)     RGB{N0f8}(0.816,0.384,0.208)\n",
       " RGB{N0f8}(0.251,0.165,0.145)     RGB{N0f8}(0.608,0.22,0.094) \n",
       " RGB{N0f8}(0.255,0.169,0.149)  …  RGB{N0f8}(0.467,0.129,0.039)\n",
       " RGB{N0f8}(0.275,0.196,0.18)      RGB{N0f8}(0.376,0.086,0.02) \n",
       " RGB{N0f8}(0.345,0.278,0.259)     RGB{N0f8}(0.31,0.071,0.024) \n",
       " ⋮                             ⋱                              \n",
       " RGB{N0f8}(0.298,0.243,0.216)  …  RGB{N0f8}(0.275,0.071,0.039)\n",
       " RGB{N0f8}(0.298,0.259,0.224)     RGB{N0f8}(0.29,0.063,0.039) \n",
       " RGB{N0f8}(0.325,0.278,0.231)     RGB{N0f8}(0.333,0.075,0.059)\n",
       " RGB{N0f8}(0.384,0.298,0.251)     RGB{N0f8}(0.361,0.078,0.071)\n",
       " RGB{N0f8}(0.408,0.314,0.239)     RGB{N0f8}(0.388,0.09,0.063) \n",
       " RGB{N0f8}(0.384,0.294,0.22)   …  RGB{N0f8}(0.443,0.106,0.047)\n",
       " RGB{N0f8}(0.369,0.275,0.224)     RGB{N0f8}(0.525,0.125,0.051)\n",
       " RGB{N0f8}(0.369,0.271,0.216)     RGB{N0f8}(0.58,0.145,0.063) \n",
       " RGB{N0f8}(0.396,0.282,0.243)     RGB{N0f8}(0.616,0.165,0.055)\n",
       " RGB{N0f8}(0.357,0.278,0.22)      RGB{N0f8}(0.651,0.184,0.055)\n",
       " RGB{N0f8}(0.29,0.247,0.216)   …  RGB{N0f8}(0.678,0.2,0.067)  \n",
       " RGB{N0f8}(0.298,0.227,0.216)     RGB{N0f8}(0.714,0.224,0.075)"
      ]
     },
     "execution_count": 7,
     "metadata": {},
     "output_type": "execute_result"
    }
   ],
   "source": [
    "float2RGB(train_x[:,:,:,6])"
   ]
  },
  {
   "cell_type": "markdown",
   "metadata": {},
   "source": [
    "...see same result. But if we are really good a `Julia`, an even more compact way, without creating array of arrays etc... is to use [`permutedims`](https://docs.julialang.org/en/v1/base/arrays/index.html#Base.permutedims). "
   ]
  },
  {
   "cell_type": "code",
   "execution_count": 8,
   "metadata": {},
   "outputs": [
    {
     "data": {
      "image/png": "[encoded data removed]",
      "text/plain": [
       "32×32 reshape(reinterpret(RGB{N0f8}, ::Array{N0f8,3}), 32, 32) with eltype RGB{Normed{UInt8,8}}:\n",
       " RGB{N0f8}(0.624,0.4,0.396)    …  RGB{N0f8}(0.965,0.545,0.322)\n",
       " RGB{N0f8}(0.588,0.357,0.373)     RGB{N0f8}(0.953,0.522,0.306)\n",
       " RGB{N0f8}(0.6,0.373,0.38)        RGB{N0f8}(0.957,0.518,0.302)\n",
       " RGB{N0f8}(0.604,0.486,0.478)     RGB{N0f8}(0.957,0.533,0.318)\n",
       " RGB{N0f8}(0.541,0.525,0.514)     RGB{N0f8}(0.941,0.494,0.271)\n",
       " RGB{N0f8}(0.722,0.584,0.537)  …  RGB{N0f8}(0.929,0.424,0.204)\n",
       " RGB{N0f8}(0.604,0.404,0.345)     RGB{N0f8}(0.925,0.42,0.188) \n",
       " RGB{N0f8}(0.302,0.18,0.157)      RGB{N0f8}(0.918,0.447,0.227)\n",
       " RGB{N0f8}(0.239,0.153,0.137)     RGB{N0f8}(0.816,0.384,0.208)\n",
       " RGB{N0f8}(0.251,0.165,0.145)     RGB{N0f8}(0.608,0.22,0.094) \n",
       " RGB{N0f8}(0.255,0.169,0.149)  …  RGB{N0f8}(0.467,0.129,0.039)\n",
       " RGB{N0f8}(0.275,0.196,0.18)      RGB{N0f8}(0.376,0.086,0.02) \n",
       " RGB{N0f8}(0.345,0.278,0.259)     RGB{N0f8}(0.31,0.071,0.024) \n",
       " ⋮                             ⋱                              \n",
       " RGB{N0f8}(0.298,0.243,0.216)  …  RGB{N0f8}(0.275,0.071,0.039)\n",
       " RGB{N0f8}(0.298,0.259,0.224)     RGB{N0f8}(0.29,0.063,0.039) \n",
       " RGB{N0f8}(0.325,0.278,0.231)     RGB{N0f8}(0.333,0.075,0.059)\n",
       " RGB{N0f8}(0.384,0.298,0.251)     RGB{N0f8}(0.361,0.078,0.071)\n",
       " RGB{N0f8}(0.408,0.314,0.239)     RGB{N0f8}(0.388,0.09,0.063) \n",
       " RGB{N0f8}(0.384,0.294,0.22)   …  RGB{N0f8}(0.443,0.106,0.047)\n",
       " RGB{N0f8}(0.369,0.275,0.224)     RGB{N0f8}(0.525,0.125,0.051)\n",
       " RGB{N0f8}(0.369,0.271,0.216)     RGB{N0f8}(0.58,0.145,0.063) \n",
       " RGB{N0f8}(0.396,0.282,0.243)     RGB{N0f8}(0.616,0.165,0.055)\n",
       " RGB{N0f8}(0.357,0.278,0.22)      RGB{N0f8}(0.651,0.184,0.055)\n",
       " RGB{N0f8}(0.29,0.247,0.216)   …  RGB{N0f8}(0.678,0.2,0.067)  \n",
       " RGB{N0f8}(0.298,0.227,0.216)     RGB{N0f8}(0.714,0.224,0.075)"
      ]
     },
     "execution_count": 8,
     "metadata": {},
     "output_type": "execute_result"
    }
   ],
   "source": [
    "colorview(RGB, permutedims(train_x[:,:,:,6],[3,1,2]))"
   ]
  },
  {
   "cell_type": "markdown",
   "metadata": {},
   "source": [
    "Same result. But with `permutedims` we get more flexibility...if our necks get tired looking sideways for the car we can do "
   ]
  },
  {
   "cell_type": "code",
   "execution_count": 9,
   "metadata": {},
   "outputs": [
    {
     "data": {
      "image/png": "[encoded data removed]",
      "text/plain": [
       "32×32 reshape(reinterpret(RGB{N0f8}, ::Array{N0f8,3}), 32, 32) with eltype RGB{Normed{UInt8,8}}:\n",
       " RGB{N0f8}(0.624,0.4,0.396)    …  RGB{N0f8}(0.298,0.227,0.216)\n",
       " RGB{N0f8}(0.557,0.294,0.267)     RGB{N0f8}(0.337,0.271,0.239)\n",
       " RGB{N0f8}(0.427,0.263,0.294)     RGB{N0f8}(0.365,0.282,0.278)\n",
       " RGB{N0f8}(0.392,0.275,0.298)     RGB{N0f8}(0.333,0.235,0.282)\n",
       " RGB{N0f8}(0.42,0.278,0.227)      RGB{N0f8}(0.412,0.314,0.392)\n",
       " RGB{N0f8}(0.443,0.322,0.243)  …  RGB{N0f8}(0.671,0.573,0.627)\n",
       " RGB{N0f8}(0.396,0.298,0.263)     RGB{N0f8}(0.729,0.541,0.498)\n",
       " RGB{N0f8}(0.478,0.31,0.294)      RGB{N0f8}(0.596,0.396,0.353)\n",
       " RGB{N0f8}(0.635,0.361,0.333)     RGB{N0f8}(0.737,0.592,0.588)\n",
       " RGB{N0f8}(0.565,0.259,0.2)       RGB{N0f8}(0.682,0.533,0.518)\n",
       " RGB{N0f8}(0.49,0.212,0.137)   …  RGB{N0f8}(0.631,0.459,0.412)\n",
       " RGB{N0f8}(0.424,0.18,0.106)      RGB{N0f8}(0.651,0.478,0.435)\n",
       " RGB{N0f8}(0.537,0.294,0.216)     RGB{N0f8}(0.678,0.541,0.518)\n",
       " ⋮                             ⋱                              \n",
       " RGB{N0f8}(0.973,0.471,0.208)  …  RGB{N0f8}(0.576,0.216,0.192)\n",
       " RGB{N0f8}(0.945,0.447,0.169)     RGB{N0f8}(0.69,0.278,0.208) \n",
       " RGB{N0f8}(0.949,0.459,0.184)     RGB{N0f8}(0.827,0.396,0.239)\n",
       " RGB{N0f8}(0.945,0.455,0.188)     RGB{N0f8}(0.957,0.514,0.322)\n",
       " RGB{N0f8}(0.937,0.459,0.196)     RGB{N0f8}(0.988,0.529,0.345)\n",
       " RGB{N0f8}(0.961,0.494,0.239)  …  RGB{N0f8}(0.949,0.455,0.282)\n",
       " RGB{N0f8}(0.961,0.502,0.251)     RGB{N0f8}(0.922,0.392,0.216)\n",
       " RGB{N0f8}(0.961,0.494,0.259)     RGB{N0f8}(0.867,0.353,0.196)\n",
       " RGB{N0f8}(0.949,0.486,0.255)     RGB{N0f8}(0.812,0.318,0.169)\n",
       " RGB{N0f8}(0.957,0.506,0.275)     RGB{N0f8}(0.784,0.286,0.141)\n",
       " RGB{N0f8}(0.965,0.522,0.29)   …  RGB{N0f8}(0.753,0.255,0.106)\n",
       " RGB{N0f8}(0.965,0.545,0.322)     RGB{N0f8}(0.714,0.224,0.075)"
      ]
     },
     "execution_count": 9,
     "metadata": {},
     "output_type": "execute_result"
    }
   ],
   "source": [
    "colorview(RGB, permutedims(train_x[:,:,:,6],[3,2,1]))"
   ]
  },
  {
   "cell_type": "markdown",
   "metadata": {},
   "source": [
    "... a little better...don't you think?"
   ]
  },
  {
   "cell_type": "markdown",
   "metadata": {},
   "source": [
    "Now if we memory conscious, we don't like allocate new memory to look at the image. We can use [PermutedDimsArray](https://docs.julialang.org/en/v1/base/arrays/index.html#Base.PermutedDimsArrays.PermutedDimsArray) to get a [view](https://docs.julialang.org/en/v1/base/arrays/index.html#Views-(SubArrays-and-other-view-types)-1) of our permuted image. "
   ]
  },
  {
   "cell_type": "code",
   "execution_count": 10,
   "metadata": {},
   "outputs": [
    {
     "data": {
      "image/png": "[encoded data removed]",
      "text/plain": [
       "32×32 reshape(reinterpret(RGB{N0f8}, PermutedDimsArray(::Array{N0f8,3}, (3, 2, 1))), 32, 32) with eltype RGB{Normed{UInt8,8}}:\n",
       " RGB{N0f8}(0.624,0.4,0.396)    …  RGB{N0f8}(0.298,0.227,0.216)\n",
       " RGB{N0f8}(0.557,0.294,0.267)     RGB{N0f8}(0.337,0.271,0.239)\n",
       " RGB{N0f8}(0.427,0.263,0.294)     RGB{N0f8}(0.365,0.282,0.278)\n",
       " RGB{N0f8}(0.392,0.275,0.298)     RGB{N0f8}(0.333,0.235,0.282)\n",
       " RGB{N0f8}(0.42,0.278,0.227)      RGB{N0f8}(0.412,0.314,0.392)\n",
       " RGB{N0f8}(0.443,0.322,0.243)  …  RGB{N0f8}(0.671,0.573,0.627)\n",
       " RGB{N0f8}(0.396,0.298,0.263)     RGB{N0f8}(0.729,0.541,0.498)\n",
       " RGB{N0f8}(0.478,0.31,0.294)      RGB{N0f8}(0.596,0.396,0.353)\n",
       " RGB{N0f8}(0.635,0.361,0.333)     RGB{N0f8}(0.737,0.592,0.588)\n",
       " RGB{N0f8}(0.565,0.259,0.2)       RGB{N0f8}(0.682,0.533,0.518)\n",
       " RGB{N0f8}(0.49,0.212,0.137)   …  RGB{N0f8}(0.631,0.459,0.412)\n",
       " RGB{N0f8}(0.424,0.18,0.106)      RGB{N0f8}(0.651,0.478,0.435)\n",
       " RGB{N0f8}(0.537,0.294,0.216)     RGB{N0f8}(0.678,0.541,0.518)\n",
       " ⋮                             ⋱                              \n",
       " RGB{N0f8}(0.973,0.471,0.208)  …  RGB{N0f8}(0.576,0.216,0.192)\n",
       " RGB{N0f8}(0.945,0.447,0.169)     RGB{N0f8}(0.69,0.278,0.208) \n",
       " RGB{N0f8}(0.949,0.459,0.184)     RGB{N0f8}(0.827,0.396,0.239)\n",
       " RGB{N0f8}(0.945,0.455,0.188)     RGB{N0f8}(0.957,0.514,0.322)\n",
       " RGB{N0f8}(0.937,0.459,0.196)     RGB{N0f8}(0.988,0.529,0.345)\n",
       " RGB{N0f8}(0.961,0.494,0.239)  …  RGB{N0f8}(0.949,0.455,0.282)\n",
       " RGB{N0f8}(0.961,0.502,0.251)     RGB{N0f8}(0.922,0.392,0.216)\n",
       " RGB{N0f8}(0.961,0.494,0.259)     RGB{N0f8}(0.867,0.353,0.196)\n",
       " RGB{N0f8}(0.949,0.486,0.255)     RGB{N0f8}(0.812,0.318,0.169)\n",
       " RGB{N0f8}(0.957,0.506,0.275)     RGB{N0f8}(0.784,0.286,0.141)\n",
       " RGB{N0f8}(0.965,0.522,0.29)   …  RGB{N0f8}(0.753,0.255,0.106)\n",
       " RGB{N0f8}(0.965,0.545,0.322)     RGB{N0f8}(0.714,0.224,0.075)"
      ]
     },
     "execution_count": 10,
     "metadata": {},
     "output_type": "execute_result"
    }
   ],
   "source": [
    "colorview(RGB,PermutedDimsArray(train_x[:,:,:,6],[3,2,1]))"
   ]
  },
  {
   "cell_type": "markdown",
   "metadata": {},
   "source": [
    "Same result, but we saved some memory. "
   ]
  },
  {
   "cell_type": "markdown",
   "metadata": {},
   "source": [
    "## Manipulating our images"
   ]
  },
  {
   "cell_type": "markdown",
   "metadata": {},
   "source": [
    "Before we even start doing CNNs we want to write a few simple functions to allow us to manipulate our images. "
   ]
  },
  {
   "cell_type": "code",
   "execution_count": 11,
   "metadata": {},
   "outputs": [
    {
     "data": {
      "text/plain": [
       "shiftToLeft (generic function with 1 method)"
      ]
     },
     "execution_count": 11,
     "metadata": {},
     "output_type": "execute_result"
    }
   ],
   "source": [
    "function shiftToLeft(img, n)\n",
    "    r, g, b = img[:, n+1:end, 1], img[:, n+1:end, 2], img[:, n+1:end, 3]\n",
    "    r_shift = hcat(r, zeros(size(img, 1), n))\n",
    "    g_shift = hcat(g, zeros(size(img, 1), n))\n",
    "    b_shift = hcat(b, zeros(size(img, 1), n))\n",
    "    shifted_img = zeros(size(img, 1), size(img, 2), 3)\n",
    "    shifted_img[:, :, 1] = r_shift\n",
    "    shifted_img[:, :, 2] = g_shift\n",
    "    shifted_img[:, :, 3] = b_shift\n",
    "    shifted_img\n",
    "end"
   ]
  },
  {
   "cell_type": "markdown",
   "metadata": {},
   "source": [
    "Lets see what this does"
   ]
  },
  {
   "cell_type": "code",
   "execution_count": 12,
   "metadata": {},
   "outputs": [
    {
     "data": {
      "image/png": "[encoded data removed]",
      "text/plain": [
       "32×32 reshape(reinterpret(RGB{Float64}, PermutedDimsArray(::Array{Float64,3}, (3, 1, 2))), 32, 32) with eltype RGB{Float64}:\n",
       " RGB{Float64}(0.396078,0.298039,0.262745)  …  RGB{Float64}(0.0,0.0,0.0)\n",
       " RGB{Float64}(0.635294,0.384314,0.356863)     RGB{Float64}(0.0,0.0,0.0)\n",
       " RGB{Float64}(0.686275,0.305882,0.290196)     RGB{Float64}(0.0,0.0,0.0)\n",
       " RGB{Float64}(0.65098,0.243137,0.223529)      RGB{Float64}(0.0,0.0,0.0)\n",
       " RGB{Float64}(0.784314,0.427451,0.380392)     RGB{Float64}(0.0,0.0,0.0)\n",
       " RGB{Float64}(0.74902,0.403922,0.337255)   …  RGB{Float64}(0.0,0.0,0.0)\n",
       " RGB{Float64}(0.423529,0.239216,0.137255)     RGB{Float64}(0.0,0.0,0.0)\n",
       " RGB{Float64}(0.34902,0.203922,0.121569)      RGB{Float64}(0.0,0.0,0.0)\n",
       " RGB{Float64}(0.623529,0.443137,0.376471)     RGB{Float64}(0.0,0.0,0.0)\n",
       " RGB{Float64}(0.788235,0.54902,0.498039)      RGB{Float64}(0.0,0.0,0.0)\n",
       " RGB{Float64}(0.74902,0.458824,0.415686)   …  RGB{Float64}(0.0,0.0,0.0)\n",
       " RGB{Float64}(0.670588,0.352941,0.305882)     RGB{Float64}(0.0,0.0,0.0)\n",
       " RGB{Float64}(0.631373,0.294118,0.239216)     RGB{Float64}(0.0,0.0,0.0)\n",
       " ⋮                                         ⋱                           \n",
       " RGB{Float64}(0.533333,0.407843,0.380392)  …  RGB{Float64}(0.0,0.0,0.0)\n",
       " RGB{Float64}(0.352941,0.305882,0.278431)     RGB{Float64}(0.0,0.0,0.0)\n",
       " RGB{Float64}(0.266667,0.243137,0.235294)     RGB{Float64}(0.0,0.0,0.0)\n",
       " RGB{Float64}(0.380392,0.372549,0.384314)     RGB{Float64}(0.0,0.0,0.0)\n",
       " RGB{Float64}(0.839216,0.854902,0.843137)     RGB{Float64}(0.0,0.0,0.0)\n",
       " RGB{Float64}(0.882353,0.827451,0.807843)  …  RGB{Float64}(0.0,0.0,0.0)\n",
       " RGB{Float64}(0.792157,0.698039,0.701961)     RGB{Float64}(0.0,0.0,0.0)\n",
       " RGB{Float64}(0.360784,0.345098,0.388235)     RGB{Float64}(0.0,0.0,0.0)\n",
       " RGB{Float64}(0.396078,0.364706,0.462745)     RGB{Float64}(0.0,0.0,0.0)\n",
       " RGB{Float64}(0.415686,0.368627,0.478431)     RGB{Float64}(0.0,0.0,0.0)\n",
       " RGB{Float64}(0.32549,0.278431,0.341176)   …  RGB{Float64}(0.0,0.0,0.0)\n",
       " RGB{Float64}(0.729412,0.541176,0.498039)     RGB{Float64}(0.0,0.0,0.0)"
      ]
     },
     "execution_count": 12,
     "metadata": {},
     "output_type": "execute_result"
    }
   ],
   "source": [
    "red_car=train_x[:,:,:,6]\n",
    "shifted_red_car=shiftToLeft(red_car,6) # Shifted five pixels to the right\n",
    "colorview(RGB,PermutedDimsArray(shifted_red_car,[3,1,2]))"
   ]
  },
  {
   "cell_type": "code",
   "execution_count": 13,
   "metadata": {},
   "outputs": [
    {
     "data": {
      "text/plain": [
       "rotate_right (generic function with 1 method)"
      ]
     },
     "execution_count": 13,
     "metadata": {},
     "output_type": "execute_result"
    }
   ],
   "source": [
    "function rotate_right(img)\n",
    "    r, g, b = img[:, :, 1], img[:, :, 2], img[:, :, 3]\n",
    "    rotated_img = zeros(size(img, 1), size(img, 2), 3)\n",
    "    rotated_img[:, :, 1] = r'\n",
    "    rotated_img[:, :, 2] = g'\n",
    "    rotated_img[:, :, 3] = b'\n",
    "    rotated_img\n",
    "end"
   ]
  },
  {
   "cell_type": "markdown",
   "metadata": {},
   "source": [
    "The name says it all. Lets see some rotation in action"
   ]
  },
  {
   "cell_type": "code",
   "execution_count": 14,
   "metadata": {},
   "outputs": [
    {
     "data": {
      "image/png": "[encoded data removed]",
      "text/plain": [
       "32×32 reshape(reinterpret(RGB{Float64}, PermutedDimsArray(::Array{Float64,3}, (3, 1, 2))), 32, 32) with eltype RGB{Float64}:\n",
       " RGB{Float64}(0.623529,0.4,0.396078)       …  RGB{Float64}(0.298039,0.227451,0.215686) \n",
       " RGB{Float64}(0.556863,0.294118,0.266667)     RGB{Float64}(0.337255,0.270588,0.239216) \n",
       " RGB{Float64}(0.427451,0.262745,0.294118)     RGB{Float64}(0.364706,0.282353,0.278431) \n",
       " RGB{Float64}(0.392157,0.27451,0.298039)      RGB{Float64}(0.333333,0.235294,0.282353) \n",
       " RGB{Float64}(0.419608,0.278431,0.227451)     RGB{Float64}(0.411765,0.313725,0.392157) \n",
       " RGB{Float64}(0.443137,0.321569,0.243137)  …  RGB{Float64}(0.670588,0.572549,0.627451) \n",
       " RGB{Float64}(0.396078,0.298039,0.262745)     RGB{Float64}(0.729412,0.541176,0.498039) \n",
       " RGB{Float64}(0.478431,0.309804,0.294118)     RGB{Float64}(0.596078,0.396078,0.352941) \n",
       " RGB{Float64}(0.635294,0.360784,0.333333)     RGB{Float64}(0.737255,0.592157,0.588235) \n",
       " RGB{Float64}(0.564706,0.258824,0.2)          RGB{Float64}(0.682353,0.533333,0.517647) \n",
       " RGB{Float64}(0.490196,0.211765,0.137255)  …  RGB{Float64}(0.631373,0.458824,0.411765) \n",
       " RGB{Float64}(0.423529,0.180392,0.105882)     RGB{Float64}(0.65098,0.478431,0.435294)  \n",
       " RGB{Float64}(0.537255,0.294118,0.215686)     RGB{Float64}(0.678431,0.541176,0.517647) \n",
       " ⋮                                         ⋱                                           \n",
       " RGB{Float64}(0.972549,0.470588,0.207843)  …  RGB{Float64}(0.576471,0.215686,0.192157) \n",
       " RGB{Float64}(0.945098,0.447059,0.168627)     RGB{Float64}(0.690196,0.278431,0.207843) \n",
       " RGB{Float64}(0.94902,0.458824,0.184314)      RGB{Float64}(0.827451,0.396078,0.239216) \n",
       " RGB{Float64}(0.945098,0.454902,0.188235)     RGB{Float64}(0.956863,0.513725,0.321569) \n",
       " RGB{Float64}(0.937255,0.458824,0.196078)     RGB{Float64}(0.988235,0.529412,0.345098) \n",
       " RGB{Float64}(0.960784,0.494118,0.239216)  …  RGB{Float64}(0.94902,0.454902,0.282353)  \n",
       " RGB{Float64}(0.960784,0.501961,0.25098)      RGB{Float64}(0.921569,0.392157,0.215686) \n",
       " RGB{Float64}(0.960784,0.494118,0.258824)     RGB{Float64}(0.866667,0.352941,0.196078) \n",
       " RGB{Float64}(0.94902,0.486275,0.254902)      RGB{Float64}(0.811765,0.317647,0.168627) \n",
       " RGB{Float64}(0.956863,0.505882,0.27451)      RGB{Float64}(0.784314,0.286275,0.141176) \n",
       " RGB{Float64}(0.964706,0.521569,0.290196)  …  RGB{Float64}(0.752941,0.254902,0.105882) \n",
       " RGB{Float64}(0.964706,0.545098,0.321569)     RGB{Float64}(0.713725,0.223529,0.0745098)"
      ]
     },
     "execution_count": 14,
     "metadata": {},
     "output_type": "execute_result"
    }
   ],
   "source": [
    "rotated_red_car=rotate_right(red_car)\n",
    "colorview(RGB,PermutedDimsArray(rotated_red_car,[3,1,2]))"
   ]
  },
  {
   "cell_type": "markdown",
   "metadata": {},
   "source": [
    "Note here that unlike what we did in the previous section via dimension permutation, here we rotated the original 3-dimensional input. "
   ]
  },
  {
   "cell_type": "markdown",
   "metadata": {},
   "source": [
    "A question for those who love elegant  students: **Can we write `rotate_right` and `shiftToLeft` more compactly and elegantly?**"
   ]
  },
  {
   "cell_type": "markdown",
   "metadata": {},
   "source": [
    "Finally we write a convenience method to just show our images with minimum fuss. "
   ]
  },
  {
   "cell_type": "code",
   "execution_count": 15,
   "metadata": {},
   "outputs": [
    {
     "data": {
      "text/plain": [
       "showImage (generic function with 1 method)"
      ]
     },
     "execution_count": 15,
     "metadata": {},
     "output_type": "execute_result"
    }
   ],
   "source": [
    "function showImage(img)\n",
    "    colorview(RGB,PermutedDimsArray(img,[3,1,2]))\n",
    "end"
   ]
  },
  {
   "cell_type": "code",
   "execution_count": 16,
   "metadata": {},
   "outputs": [
    {
     "data": {
      "image/png": "[encoded data removed]",
      "text/plain": [
       "32×32 reshape(reinterpret(RGB{N0f8}, PermutedDimsArray(::Array{N0f8,3}, (3, 1, 2))), 32, 32) with eltype RGB{Normed{UInt8,8}}:\n",
       " RGB{N0f8}(0.624,0.4,0.396)    …  RGB{N0f8}(0.965,0.545,0.322)\n",
       " RGB{N0f8}(0.588,0.357,0.373)     RGB{N0f8}(0.953,0.522,0.306)\n",
       " RGB{N0f8}(0.6,0.373,0.38)        RGB{N0f8}(0.957,0.518,0.302)\n",
       " RGB{N0f8}(0.604,0.486,0.478)     RGB{N0f8}(0.957,0.533,0.318)\n",
       " RGB{N0f8}(0.541,0.525,0.514)     RGB{N0f8}(0.941,0.494,0.271)\n",
       " RGB{N0f8}(0.722,0.584,0.537)  …  RGB{N0f8}(0.929,0.424,0.204)\n",
       " RGB{N0f8}(0.604,0.404,0.345)     RGB{N0f8}(0.925,0.42,0.188) \n",
       " RGB{N0f8}(0.302,0.18,0.157)      RGB{N0f8}(0.918,0.447,0.227)\n",
       " RGB{N0f8}(0.239,0.153,0.137)     RGB{N0f8}(0.816,0.384,0.208)\n",
       " RGB{N0f8}(0.251,0.165,0.145)     RGB{N0f8}(0.608,0.22,0.094) \n",
       " RGB{N0f8}(0.255,0.169,0.149)  …  RGB{N0f8}(0.467,0.129,0.039)\n",
       " RGB{N0f8}(0.275,0.196,0.18)      RGB{N0f8}(0.376,0.086,0.02) \n",
       " RGB{N0f8}(0.345,0.278,0.259)     RGB{N0f8}(0.31,0.071,0.024) \n",
       " ⋮                             ⋱                              \n",
       " RGB{N0f8}(0.298,0.243,0.216)  …  RGB{N0f8}(0.275,0.071,0.039)\n",
       " RGB{N0f8}(0.298,0.259,0.224)     RGB{N0f8}(0.29,0.063,0.039) \n",
       " RGB{N0f8}(0.325,0.278,0.231)     RGB{N0f8}(0.333,0.075,0.059)\n",
       " RGB{N0f8}(0.384,0.298,0.251)     RGB{N0f8}(0.361,0.078,0.071)\n",
       " RGB{N0f8}(0.408,0.314,0.239)     RGB{N0f8}(0.388,0.09,0.063) \n",
       " RGB{N0f8}(0.384,0.294,0.22)   …  RGB{N0f8}(0.443,0.106,0.047)\n",
       " RGB{N0f8}(0.369,0.275,0.224)     RGB{N0f8}(0.525,0.125,0.051)\n",
       " RGB{N0f8}(0.369,0.271,0.216)     RGB{N0f8}(0.58,0.145,0.063) \n",
       " RGB{N0f8}(0.396,0.282,0.243)     RGB{N0f8}(0.616,0.165,0.055)\n",
       " RGB{N0f8}(0.357,0.278,0.22)      RGB{N0f8}(0.651,0.184,0.055)\n",
       " RGB{N0f8}(0.29,0.247,0.216)   …  RGB{N0f8}(0.678,0.2,0.067)  \n",
       " RGB{N0f8}(0.298,0.227,0.216)     RGB{N0f8}(0.714,0.224,0.075)"
      ]
     },
     "execution_count": 16,
     "metadata": {},
     "output_type": "execute_result"
    }
   ],
   "source": [
    "showImage(red_car)"
   ]
  },
  {
   "cell_type": "markdown",
   "metadata": {},
   "source": [
    "## Some function for shifting and manipulating the  whole data set around"
   ]
  },
  {
   "cell_type": "code",
   "execution_count": 17,
   "metadata": {},
   "outputs": [
    {
     "data": {
      "text/plain": [
       "createShiftedTrainDataSet"
      ]
     },
     "execution_count": 17,
     "metadata": {},
     "output_type": "execute_result"
    }
   ],
   "source": [
    "\"\"\"\n",
    "Takes a particular class in a data set. Makes copy of it, shifts the copy\n",
    "by a random amount and appends to the bottom of new (shifted) data set\n",
    "\"\"\"\n",
    "function createShiftedTrainDataSet(X, Y,  class_num)\n",
    "    indxs = findall(Y[class_num, :] .== true) # finding all the incides of the `class_num`\n",
    "    X_shifted = zeros(32, 32, 3, size(X, 4) + length(indxs))\n",
    "    X_shifted[:,:,:, 1:size(X, 4)] = deepcopy(X)\n",
    "    counter = size(X, 4) + 1\n",
    "    for indx in indxs\n",
    "        X_shifted[:, :, :, counter] = shiftToLeft(X[:, :, :, indx], rand(1:32));\n",
    "        counter += 1;\n",
    "    end\n",
    "    Y_shifted = hcat(Y, Y[:, indxs])\n",
    "    X_shifted, Y_shifted\n",
    "end"
   ]
  },
  {
   "cell_type": "code",
   "execution_count": 18,
   "metadata": {},
   "outputs": [
    {
     "data": {
      "text/plain": [
       "createShiftedTestDataSet"
      ]
     },
     "execution_count": 18,
     "metadata": {},
     "output_type": "execute_result"
    }
   ],
   "source": [
    "\"\"\"\n",
    "Takes the original data, selects the a particular class (class_num), and outputs\n",
    "a shifted copy of that class\n",
    "\"\"\"\n",
    "function createShiftedTestDataSet(X, Y,  class_num)\n",
    "    indxs = findall(Y[class_num, :] .== true)\n",
    "    X_shifted = zeros(32, 32, 3, length(indxs))\n",
    "    counter = 1\n",
    "    for indx in indxs\n",
    "        X_shifted[:, :, :, counter] = shiftToLeft(X[:, :, :, indx], rand(1:32));\n",
    "        counter += 1;\n",
    "    end\n",
    "    #Y_shifted = hcat(Y[:, indxs], Y[:, indxs])\n",
    "    Y_shifted = Y[:, indxs]\n",
    "    X_shifted, Y_shifted\n",
    "end"
   ]
  },
  {
   "cell_type": "code",
   "execution_count": 19,
   "metadata": {},
   "outputs": [
    {
     "data": {
      "text/plain": [
       "createDataSetForClasses"
      ]
     },
     "execution_count": 19,
     "metadata": {},
     "output_type": "execute_result"
    }
   ],
   "source": [
    "\"\"\"\n",
    "Creates a data set for training out of a list of `classes` \n",
    "\"\"\"\n",
    "function createDataSetForClasses(X, Y, classes)\n",
    "    indxs = []\n",
    "    for class_num in classes\n",
    "        append!(indxs, findall(Y[class_num, :] .== true))\n",
    "    end\n",
    "    X_dataSet = X[:, :, :, indxs]\n",
    "    Y_dataSet = Y[:, indxs]\n",
    "    X_dataSet, Y_dataSet\n",
    "end"
   ]
  },
  {
   "cell_type": "markdown",
   "metadata": {},
   "source": [
    "## Straight forward Training DataSet"
   ]
  },
  {
   "cell_type": "markdown",
   "metadata": {},
   "source": [
    "Here we just work on three classes. Can you get example images to find out what those classes are"
   ]
  },
  {
   "cell_type": "code",
   "execution_count": 20,
   "metadata": {},
   "outputs": [
    {
     "data": {
      "text/plain": [
       "(32, 32, 3, 15000)"
      ]
     },
     "execution_count": 20,
     "metadata": {},
     "output_type": "execute_result"
    }
   ],
   "source": [
    "X, Y = createDataSetForClasses(train_x, train_y, [8, 9, 10]);\n",
    "size(X)"
   ]
  },
  {
   "cell_type": "markdown",
   "metadata": {},
   "source": [
    "## Shifted Training DataSet Trucks"
   ]
  },
  {
   "cell_type": "code",
   "execution_count": 21,
   "metadata": {},
   "outputs": [
    {
     "data": {
      "text/plain": [
       "(32, 32, 3, 20000)"
      ]
     },
     "execution_count": 21,
     "metadata": {},
     "output_type": "execute_result"
    }
   ],
   "source": [
    "X_shifted_trucks, Y_shifted_trucks = createShiftedTrainDataSet(X, Y, 10);\n",
    "size(X_shifted_trucks)"
   ]
  },
  {
   "cell_type": "markdown",
   "metadata": {},
   "source": [
    "## Shifted Testing DataSet Trucks"
   ]
  },
  {
   "cell_type": "code",
   "execution_count": 22,
   "metadata": {},
   "outputs": [
    {
     "data": {
      "text/plain": [
       "(32, 32, 3, 1000)"
      ]
     },
     "execution_count": 22,
     "metadata": {},
     "output_type": "execute_result"
    }
   ],
   "source": [
    "X_test_shifted_trucks, Y_test_shifted_trucks = createShiftedTestDataSet(test_x, test_y, 10);\n",
    "size(X_test_shifted_trucks)"
   ]
  },
  {
   "cell_type": "code",
   "execution_count": 23,
   "metadata": {},
   "outputs": [
    {
     "data": {
      "image/png": "[encoded data removed]",
      "text/plain": [
       "32×32 reshape(reinterpret(RGB{N0f8}, PermutedDimsArray(::Array{N0f8,3}, (3, 1, 2))), 32, 32) with eltype RGB{Normed{UInt8,8}}:\n",
       " RGB{N0f8}(0.769,0.761,0.71)   …  RGB{N0f8}(0.745,0.733,0.686)\n",
       " RGB{N0f8}(0.761,0.753,0.702)     RGB{N0f8}(0.706,0.694,0.647)\n",
       " RGB{N0f8}(0.769,0.761,0.71)      RGB{N0f8}(0.694,0.678,0.635)\n",
       " RGB{N0f8}(0.769,0.761,0.71)      RGB{N0f8}(0.69,0.678,0.639) \n",
       " RGB{N0f8}(0.769,0.761,0.71)      RGB{N0f8}(0.675,0.671,0.627)\n",
       " RGB{N0f8}(0.769,0.761,0.71)   …  RGB{N0f8}(0.69,0.694,0.647) \n",
       " RGB{N0f8}(0.773,0.761,0.718)     RGB{N0f8}(0.722,0.718,0.675)\n",
       " RGB{N0f8}(0.78,0.769,0.71)       RGB{N0f8}(0.725,0.722,0.678)\n",
       " RGB{N0f8}(0.78,0.769,0.714)      RGB{N0f8}(0.733,0.722,0.675)\n",
       " RGB{N0f8}(0.776,0.765,0.722)     RGB{N0f8}(0.729,0.722,0.678)\n",
       " RGB{N0f8}(0.773,0.776,0.725)  …  RGB{N0f8}(0.733,0.733,0.69) \n",
       " RGB{N0f8}(0.773,0.776,0.722)     RGB{N0f8}(0.745,0.745,0.702)\n",
       " RGB{N0f8}(0.784,0.773,0.718)     RGB{N0f8}(0.753,0.753,0.706)\n",
       " ⋮                             ⋱                              \n",
       " RGB{N0f8}(0.796,0.776,0.718)  …  RGB{N0f8}(0.718,0.725,0.675)\n",
       " RGB{N0f8}(0.788,0.78,0.722)      RGB{N0f8}(0.722,0.729,0.678)\n",
       " RGB{N0f8}(0.788,0.78,0.725)      RGB{N0f8}(0.722,0.729,0.678)\n",
       " RGB{N0f8}(0.788,0.78,0.718)      RGB{N0f8}(0.722,0.729,0.678)\n",
       " RGB{N0f8}(0.78,0.784,0.722)      RGB{N0f8}(0.714,0.722,0.671)\n",
       " RGB{N0f8}(0.769,0.788,0.733)  …  RGB{N0f8}(0.714,0.722,0.675)\n",
       " RGB{N0f8}(0.773,0.78,0.722)      RGB{N0f8}(0.718,0.725,0.675)\n",
       " RGB{N0f8}(0.769,0.765,0.722)     RGB{N0f8}(0.722,0.729,0.678)\n",
       " RGB{N0f8}(0.773,0.769,0.725)     RGB{N0f8}(0.725,0.733,0.682)\n",
       " RGB{N0f8}(0.78,0.773,0.725)      RGB{N0f8}(0.725,0.733,0.682)\n",
       " RGB{N0f8}(0.78,0.773,0.725)   …  RGB{N0f8}(0.722,0.729,0.682)\n",
       " RGB{N0f8}(0.788,0.78,0.733)      RGB{N0f8}(0.749,0.757,0.706)"
      ]
     },
     "execution_count": 23,
     "metadata": {},
     "output_type": "execute_result"
    }
   ],
   "source": [
    "# 10 is truck class\n",
    "index = findall(Y[10, :] .== true)\n",
    "truck_train = X[:, :, :, index]\n",
    "showImage(truck_train[:,:,:,42])"
   ]
  },
  {
   "cell_type": "code",
   "execution_count": 24,
   "metadata": {},
   "outputs": [
    {
     "data": {
      "image/png": "[encoded data removed]",
      "text/plain": [
       "32×32 reshape(reinterpret(RGB{N0f8}, PermutedDimsArray(::Array{N0f8,3}, (3, 1, 2))), 32, 32) with eltype RGB{Normed{UInt8,8}}:\n",
       " RGB{N0f8}(0.753,0.788,0.769)  …  RGB{N0f8}(0.424,0.494,0.4)  \n",
       " RGB{N0f8}(0.588,0.616,0.627)     RGB{N0f8}(0.427,0.498,0.404)\n",
       " RGB{N0f8}(0.525,0.537,0.561)     RGB{N0f8}(0.424,0.498,0.408)\n",
       " RGB{N0f8}(0.91,0.906,0.922)      RGB{N0f8}(0.427,0.475,0.396)\n",
       " RGB{N0f8}(0.914,0.929,0.941)     RGB{N0f8}(0.455,0.467,0.404)\n",
       " RGB{N0f8}(0.847,0.867,0.89)   …  RGB{N0f8}(0.51,0.518,0.475) \n",
       " RGB{N0f8}(0.776,0.792,0.812)     RGB{N0f8}(0.447,0.467,0.396)\n",
       " RGB{N0f8}(0.812,0.839,0.847)     RGB{N0f8}(0.427,0.471,0.388)\n",
       " RGB{N0f8}(0.776,0.8,0.812)       RGB{N0f8}(0.435,0.498,0.392)\n",
       " RGB{N0f8}(0.69,0.718,0.729)      RGB{N0f8}(0.459,0.502,0.412)\n",
       " RGB{N0f8}(0.714,0.729,0.749)  …  RGB{N0f8}(0.475,0.522,0.431)\n",
       " RGB{N0f8}(0.765,0.773,0.792)     RGB{N0f8}(0.463,0.522,0.424)\n",
       " RGB{N0f8}(0.863,0.878,0.886)     RGB{N0f8}(0.463,0.518,0.427)\n",
       " ⋮                             ⋱                              \n",
       " RGB{N0f8}(0.949,0.953,0.965)  …  RGB{N0f8}(0.435,0.475,0.412)\n",
       " RGB{N0f8}(0.933,0.941,0.945)     RGB{N0f8}(0.447,0.494,0.427)\n",
       " RGB{N0f8}(0.8,0.816,0.851)       RGB{N0f8}(0.455,0.506,0.427)\n",
       " RGB{N0f8}(0.737,0.753,0.835)     RGB{N0f8}(0.431,0.482,0.392)\n",
       " RGB{N0f8}(0.741,0.769,0.843)     RGB{N0f8}(0.427,0.486,0.396)\n",
       " RGB{N0f8}(0.725,0.749,0.824)  …  RGB{N0f8}(0.439,0.482,0.404)\n",
       " RGB{N0f8}(0.702,0.729,0.792)     RGB{N0f8}(0.443,0.486,0.396)\n",
       " RGB{N0f8}(0.686,0.722,0.784)     RGB{N0f8}(0.404,0.455,0.369)\n",
       " RGB{N0f8}(0.671,0.706,0.78)      RGB{N0f8}(0.38,0.431,0.365) \n",
       " RGB{N0f8}(0.643,0.671,0.741)     RGB{N0f8}(0.369,0.424,0.365)\n",
       " RGB{N0f8}(0.624,0.655,0.725)  …  RGB{N0f8}(0.376,0.424,0.376)\n",
       " RGB{N0f8}(0.612,0.639,0.71)      RGB{N0f8}(0.38,0.424,0.384) "
      ]
     },
     "execution_count": 24,
     "metadata": {},
     "output_type": "execute_result"
    }
   ],
   "source": [
    "showImage(X[:, :, :, 220])"
   ]
  },
  {
   "cell_type": "markdown",
   "metadata": {},
   "source": [
    "# CNN"
   ]
  },
  {
   "cell_type": "code",
   "execution_count": 25,
   "metadata": {},
   "outputs": [
    {
     "data": {
      "text/plain": [
       "test_CNN (generic function with 1 method)"
      ]
     },
     "execution_count": 25,
     "metadata": {},
     "output_type": "execute_result"
    }
   ],
   "source": [
    "m = Chain(\n",
    "    Conv((2,2), 3=>16, relu),\n",
    "    x -> maxpool(x, (2,2)), # maxpool default stride = k e.g. (2,2)\n",
    "    x -> reshape(x, :, size(x, 4)),\n",
    "    Dense(3600, 10), \n",
    "    softmax\n",
    ")\n",
    "loss(x, y) = crossentropy(m(x), y)\n",
    "accuracy(x, y) = mean(onecold(m(x)) .== onecold(y))\n",
    "\n",
    "function train_CNN_n(X, Y, dataset,n)\n",
    "    evalcb = throttle(() -> @show(accuracy(X, Y)), 10)\n",
    "    opt = ADAM(params(m))\n",
    "    for i=1:n\n",
    "        Flux.train!(loss, dataset, opt, cb = evalcb)\n",
    "    end\n",
    "end\n",
    "\n",
    "function test_CNN(X, Y)\n",
    "    accuracy(X, Y)\n",
    "end"
   ]
  },
  {
   "cell_type": "markdown",
   "metadata": {},
   "source": [
    "## Training on normal DataSet "
   ]
  },
  {
   "cell_type": "code",
   "execution_count": 26,
   "metadata": {},
   "outputs": [],
   "source": [
    "X = convert(Array{Float64,4}, X);"
   ]
  },
  {
   "cell_type": "code",
   "execution_count": 27,
   "metadata": {},
   "outputs": [],
   "source": [
    "batches=[(X[:,:,:,i],Y[:,i]) for i in partition(1:size(X,4),500)] ;"
   ]
  },
  {
   "cell_type": "code",
   "execution_count": 28,
   "metadata": {},
   "outputs": [
    {
     "name": "stdout",
     "output_type": "stream",
     "text": [
      "accuracy(X, Y) = 0.3328\n",
      "accuracy(X, Y) = 0.3333333333333333\n",
      "accuracy(X, Y) = 0.3333333333333333\n",
      "accuracy(X, Y) = 0.3333333333333333\n",
      "accuracy(X, Y) = 0.3334666666666667\n",
      "accuracy(X, Y) = 0.4010666666666667\n",
      "accuracy(X, Y) = 0.44066666666666665\n"
     ]
    }
   ],
   "source": [
    "train_CNN_n(X, Y, batches,5);"
   ]
  },
  {
   "cell_type": "code",
   "execution_count": 29,
   "metadata": {},
   "outputs": [
    {
     "data": {
      "text/plain": [
       "0.3474"
      ]
     },
     "execution_count": 29,
     "metadata": {},
     "output_type": "execute_result"
    }
   ],
   "source": [
    "test_CNN(X,Y)"
   ]
  },
  {
   "cell_type": "code",
   "execution_count": 30,
   "metadata": {},
   "outputs": [
    {
     "data": {
      "text/plain": [
       "0.429"
      ]
     },
     "execution_count": 30,
     "metadata": {},
     "output_type": "execute_result"
    }
   ],
   "source": [
    "test_CNN(X_test_shifted_trucks, Y_test_shifted_trucks)"
   ]
  },
  {
   "cell_type": "markdown",
   "metadata": {},
   "source": [
    "## Training on shifted DataSet"
   ]
  },
  {
   "cell_type": "code",
   "execution_count": 31,
   "metadata": {},
   "outputs": [
    {
     "name": "stdout",
     "output_type": "stream",
     "text": [
      "accuracy(X, Y) = 0.3683\n",
      "accuracy(X, Y) = 0.25635\n",
      "accuracy(X, Y) = 0.2502\n",
      "accuracy(X, Y) = 0.50315\n",
      "accuracy(X, Y) = 0.52465\n",
      "accuracy(X, Y) = 0.3789\n",
      "accuracy(X, Y) = 0.5074\n"
     ]
    }
   ],
   "source": [
    "X_shifted_trucks = convert(Array{Float64,4}, X_shifted_trucks);\n",
    "batches=[(X_shifted_trucks[:,:,:,i],Y_shifted_trucks[:,i]) for i in partition(1:size(X,4),500)] ;\n",
    "train_CNN_n(X_shifted_trucks, Y_shifted_trucks, batches,5);"
   ]
  },
  {
   "cell_type": "code",
   "execution_count": 32,
   "metadata": {},
   "outputs": [
    {
     "data": {
      "text/plain": [
       "0.4245333333333333"
      ]
     },
     "execution_count": 32,
     "metadata": {},
     "output_type": "execute_result"
    }
   ],
   "source": [
    "test_CNN(X,Y)"
   ]
  },
  {
   "cell_type": "code",
   "execution_count": 33,
   "metadata": {},
   "outputs": [
    {
     "data": {
      "text/plain": [
       "0.568"
      ]
     },
     "execution_count": 33,
     "metadata": {},
     "output_type": "execute_result"
    }
   ],
   "source": [
    "test_CNN(X_test_shifted_trucks, Y_test_shifted_trucks)"
   ]
  },
  {
   "cell_type": "markdown",
   "metadata": {},
   "source": [
    "# Focusing on a subset to improve training\n",
    "We take 500 images from the original set.. this translates to many classes. Unlike what we did before"
   ]
  },
  {
   "cell_type": "code",
   "execution_count": 34,
   "metadata": {},
   "outputs": [],
   "source": [
    "# X = train_x[:, :, :, 1:500]\n",
    "# Y = train_y[:, 1:500];"
   ]
  },
  {
   "cell_type": "markdown",
   "metadata": {},
   "source": [
    "Looking at the associated classes"
   ]
  },
  {
   "cell_type": "code",
   "execution_count": 35,
   "metadata": {},
   "outputs": [],
   "source": [
    "# @show onecold(Y) |> unique |> sort;"
   ]
  },
  {
   "cell_type": "markdown",
   "metadata": {},
   "source": [
    "So 10 classes are represented here"
   ]
  },
  {
   "cell_type": "code",
   "execution_count": 36,
   "metadata": {},
   "outputs": [],
   "source": [
    "# X = convert(Array{Float64,4}, X);\n",
    "# dataset=[(X,Y)];\n",
    "# train_CNN_n(X, Y, dataset,500);"
   ]
  },
  {
   "cell_type": "code",
   "execution_count": 37,
   "metadata": {},
   "outputs": [],
   "source": [
    "# index = findall(Y[10, :] .== true);"
   ]
  },
  {
   "cell_type": "markdown",
   "metadata": {},
   "source": [
    "## Test on random input from the normal training Dataset"
   ]
  },
  {
   "cell_type": "code",
   "execution_count": 38,
   "metadata": {},
   "outputs": [
    {
     "data": {
      "image/png": "[encoded data removed]",
      "text/plain": [
       "32×32 reshape(reinterpret(RGB{Float64}, PermutedDimsArray(::Array{Float64,3}, (3, 1, 2))), 32, 32) with eltype RGB{Float64}:\n",
       " RGB{Float64}(1.0,1.0,1.0)                 …  RGB{Float64}(0.415686,0.443137,0.411765)\n",
       " RGB{Float64}(0.992157,0.992157,0.992157)     RGB{Float64}(0.388235,0.415686,0.384314)\n",
       " RGB{Float64}(0.992157,0.992157,0.992157)     RGB{Float64}(0.372549,0.4,0.368627)     \n",
       " RGB{Float64}(0.992157,0.992157,0.992157)     RGB{Float64}(0.34902,0.376471,0.345098) \n",
       " RGB{Float64}(0.992157,0.992157,0.992157)     RGB{Float64}(0.321569,0.360784,0.341176)\n",
       " RGB{Float64}(0.992157,0.992157,0.992157)  …  RGB{Float64}(0.305882,0.352941,0.337255)\n",
       " RGB{Float64}(0.992157,0.992157,0.992157)     RGB{Float64}(0.309804,0.352941,0.337255)\n",
       " RGB{Float64}(0.992157,0.992157,0.992157)     RGB{Float64}(0.321569,0.364706,0.34902) \n",
       " RGB{Float64}(0.992157,0.992157,0.992157)     RGB{Float64}(0.329412,0.372549,0.356863)\n",
       " RGB{Float64}(0.992157,0.992157,0.992157)     RGB{Float64}(0.32549,0.380392,0.360784) \n",
       " RGB{Float64}(0.992157,0.992157,0.992157)  …  RGB{Float64}(0.305882,0.364706,0.345098)\n",
       " RGB{Float64}(0.992157,0.992157,0.992157)     RGB{Float64}(0.309804,0.368627,0.34902) \n",
       " RGB{Float64}(0.992157,0.992157,0.992157)     RGB{Float64}(0.298039,0.356863,0.337255)\n",
       " ⋮                                         ⋱                                          \n",
       " RGB{Float64}(0.980392,0.964706,0.952941)  …  RGB{Float64}(0.282353,0.337255,0.337255)\n",
       " RGB{Float64}(0.992157,0.988235,0.980392)     RGB{Float64}(0.25098,0.305882,0.305882) \n",
       " RGB{Float64}(0.988235,0.992157,0.988235)     RGB{Float64}(0.25098,0.305882,0.305882) \n",
       " RGB{Float64}(0.980392,0.992157,0.992157)     RGB{Float64}(0.270588,0.32549,0.32549)  \n",
       " RGB{Float64}(0.992157,0.992157,0.992157)     RGB{Float64}(0.258824,0.313725,0.313725)\n",
       " RGB{Float64}(0.992157,0.992157,0.992157)  …  RGB{Float64}(0.215686,0.270588,0.270588)\n",
       " RGB{Float64}(0.992157,0.992157,0.992157)     RGB{Float64}(0.203922,0.258824,0.258824)\n",
       " RGB{Float64}(0.992157,0.992157,0.992157)     RGB{Float64}(0.227451,0.282353,0.282353)\n",
       " RGB{Float64}(0.992157,0.992157,0.992157)     RGB{Float64}(0.266667,0.313725,0.309804)\n",
       " RGB{Float64}(0.992157,0.992157,0.992157)     RGB{Float64}(0.305882,0.333333,0.32549) \n",
       " RGB{Float64}(0.992157,0.992157,0.992157)  …  RGB{Float64}(0.309804,0.333333,0.32549) \n",
       " RGB{Float64}(0.992157,0.992157,0.992157)     RGB{Float64}(0.313725,0.337255,0.329412)"
      ]
     },
     "execution_count": 38,
     "metadata": {},
     "output_type": "execute_result"
    }
   ],
   "source": [
    "i=10002\n",
    "random_test_example_X = convert(Array{Float64},X[:, :, :, i])\n",
    "random_test_example_Y = Y[:, i]\n",
    "showImage(random_test_example_X)"
   ]
  },
  {
   "cell_type": "code",
   "execution_count": 39,
   "metadata": {},
   "outputs": [
    {
     "data": {
      "text/plain": [
       "1.0"
      ]
     },
     "execution_count": 39,
     "metadata": {},
     "output_type": "execute_result"
    }
   ],
   "source": [
    "random_test_example_X_4d = reshape(random_test_example_X, 32, 32, 3, 1)\n",
    "test_CNN(random_test_example_X_4d, random_test_example_Y)"
   ]
  },
  {
   "cell_type": "markdown",
   "metadata": {},
   "source": [
    "So far so good!"
   ]
  },
  {
   "cell_type": "markdown",
   "metadata": {},
   "source": [
    "## Test on shifted input"
   ]
  },
  {
   "cell_type": "code",
   "execution_count": 40,
   "metadata": {},
   "outputs": [
    {
     "data": {
      "image/png": "[encoded data removed]",
      "text/plain": [
       "32×32 reshape(reinterpret(RGB{Float64}, PermutedDimsArray(::Array{Float64,3}, (3, 1, 2))), 32, 32) with eltype RGB{Float64}:\n",
       " RGB{Float64}(1.0,1.0,1.0)                 …  RGB{Float64}(0.0,0.0,0.0)\n",
       " RGB{Float64}(0.992157,0.992157,0.996078)     RGB{Float64}(0.0,0.0,0.0)\n",
       " RGB{Float64}(0.996078,0.992157,0.996078)     RGB{Float64}(0.0,0.0,0.0)\n",
       " RGB{Float64}(0.992157,0.988235,0.992157)     RGB{Float64}(0.0,0.0,0.0)\n",
       " RGB{Float64}(0.988235,0.976471,0.976471)     RGB{Float64}(0.0,0.0,0.0)\n",
       " RGB{Float64}(0.992157,0.984314,0.976471)  …  RGB{Float64}(0.0,0.0,0.0)\n",
       " RGB{Float64}(0.996078,0.988235,0.980392)     RGB{Float64}(0.0,0.0,0.0)\n",
       " RGB{Float64}(0.870588,0.87451,0.858824)      RGB{Float64}(0.0,0.0,0.0)\n",
       " RGB{Float64}(0.537255,0.54902,0.533333)      RGB{Float64}(0.0,0.0,0.0)\n",
       " RGB{Float64}(0.482353,0.494118,0.47451)      RGB{Float64}(0.0,0.0,0.0)\n",
       " RGB{Float64}(0.709804,0.72549,0.701961)   …  RGB{Float64}(0.0,0.0,0.0)\n",
       " RGB{Float64}(0.964706,0.972549,0.960784)     RGB{Float64}(0.0,0.0,0.0)\n",
       " RGB{Float64}(0.992157,1.0,0.988235)          RGB{Float64}(0.0,0.0,0.0)\n",
       " ⋮                                         ⋱                           \n",
       " RGB{Float64}(0.156863,0.133333,0.152941)  …  RGB{Float64}(0.0,0.0,0.0)\n",
       " RGB{Float64}(0.2,0.168627,0.168627)          RGB{Float64}(0.0,0.0,0.0)\n",
       " RGB{Float64}(0.423529,0.278431,0.298039)     RGB{Float64}(0.0,0.0,0.0)\n",
       " RGB{Float64}(0.533333,0.313725,0.352941)     RGB{Float64}(0.0,0.0,0.0)\n",
       " RGB{Float64}(0.6,0.470588,0.486275)          RGB{Float64}(0.0,0.0,0.0)\n",
       " RGB{Float64}(0.835294,0.827451,0.807843)  …  RGB{Float64}(0.0,0.0,0.0)\n",
       " RGB{Float64}(0.843137,0.917647,0.870588)     RGB{Float64}(0.0,0.0,0.0)\n",
       " RGB{Float64}(0.8,0.854902,0.811765)          RGB{Float64}(0.0,0.0,0.0)\n",
       " RGB{Float64}(0.819608,0.847059,0.8)          RGB{Float64}(0.0,0.0,0.0)\n",
       " RGB{Float64}(0.721569,0.792157,0.690196)     RGB{Float64}(0.0,0.0,0.0)\n",
       " RGB{Float64}(0.662745,0.741176,0.631373)  …  RGB{Float64}(0.0,0.0,0.0)\n",
       " RGB{Float64}(0.631373,0.709804,0.6)          RGB{Float64}(0.0,0.0,0.0)"
      ]
     },
     "execution_count": 40,
     "metadata": {},
     "output_type": "execute_result"
    }
   ],
   "source": [
    "shifted_random_test_example_X = shiftToLeft(random_test_example_X, 10)\n",
    "showImage(shifted_random_test_example_X)"
   ]
  },
  {
   "cell_type": "code",
   "execution_count": 41,
   "metadata": {},
   "outputs": [
    {
     "data": {
      "text/plain": [
       "0.0"
      ]
     },
     "execution_count": 41,
     "metadata": {},
     "output_type": "execute_result"
    }
   ],
   "source": [
    "shifted_random_test_example_X_4d = convert(Array{Float64,4},reshape(shifted_random_test_example_X, 32, 32, 3, 1));\n",
    "test_CNN(shifted_random_test_example_X_4d, random_test_example_Y)"
   ]
  },
  {
   "cell_type": "markdown",
   "metadata": {},
   "source": [
    "So the shifting threw the classifier off!"
   ]
  },
  {
   "cell_type": "markdown",
   "metadata": {},
   "source": [
    "## Test on rotated input"
   ]
  },
  {
   "cell_type": "code",
   "execution_count": 42,
   "metadata": {},
   "outputs": [
    {
     "data": {
      "image/png": "[encoded data removed]",
      "text/plain": [
       "32×32 reshape(reinterpret(RGB{Float64}, PermutedDimsArray(::Array{Float64,3}, (3, 1, 2))), 32, 32) with eltype RGB{Float64}:\n",
       " RGB{Float64}(1.0,1.0,1.0)                 …  RGB{Float64}(0.992157,0.992157,0.992157)\n",
       " RGB{Float64}(1.0,1.0,1.0)                    RGB{Float64}(1.0,1.0,1.0)               \n",
       " RGB{Float64}(1.0,1.0,1.0)                    RGB{Float64}(0.996078,0.996078,0.996078)\n",
       " RGB{Float64}(1.0,1.0,1.0)                    RGB{Float64}(1.0,1.0,1.0)               \n",
       " RGB{Float64}(1.0,1.0,1.0)                    RGB{Float64}(1.0,1.0,1.0)               \n",
       " RGB{Float64}(1.0,1.0,1.0)                 …  RGB{Float64}(1.0,1.0,1.0)               \n",
       " RGB{Float64}(1.0,1.0,1.0)                    RGB{Float64}(1.0,0.996078,0.992157)     \n",
       " RGB{Float64}(1.0,1.0,1.0)                    RGB{Float64}(0.996078,0.992157,0.992157)\n",
       " RGB{Float64}(1.0,1.0,1.0)                    RGB{Float64}(0.984314,0.992157,0.992157)\n",
       " RGB{Float64}(1.0,1.0,1.0)                    RGB{Float64}(0.870588,0.909804,0.870588)\n",
       " RGB{Float64}(1.0,1.0,1.0)                 …  RGB{Float64}(0.631373,0.709804,0.6)     \n",
       " RGB{Float64}(1.0,1.0,1.0)                    RGB{Float64}(0.533333,0.627451,0.482353)\n",
       " RGB{Float64}(1.0,1.0,0.972549)               RGB{Float64}(0.505882,0.588235,0.482353)\n",
       " ⋮                                         ⋱                                          \n",
       " RGB{Float64}(0.501961,0.580392,0.458824)  …  RGB{Float64}(0.290196,0.341176,0.313725)\n",
       " RGB{Float64}(0.439216,0.517647,0.407843)     RGB{Float64}(0.282353,0.32549,0.317647) \n",
       " RGB{Float64}(0.439216,0.482353,0.427451)     RGB{Float64}(0.290196,0.329412,0.333333)\n",
       " RGB{Float64}(0.454902,0.486275,0.447059)     RGB{Float64}(0.27451,0.313725,0.317647) \n",
       " RGB{Float64}(0.407843,0.435294,0.4)          RGB{Float64}(0.301961,0.341176,0.345098)\n",
       " RGB{Float64}(0.329412,0.360784,0.32549)   …  RGB{Float64}(0.329412,0.368627,0.372549)\n",
       " RGB{Float64}(0.309804,0.341176,0.301961)     RGB{Float64}(0.286275,0.32549,0.329412) \n",
       " RGB{Float64}(0.384314,0.415686,0.376471)     RGB{Float64}(0.262745,0.301961,0.305882)\n",
       " RGB{Float64}(0.439216,0.470588,0.431373)     RGB{Float64}(0.298039,0.333333,0.337255)\n",
       " RGB{Float64}(0.443137,0.470588,0.439216)     RGB{Float64}(0.282353,0.313725,0.309804)\n",
       " RGB{Float64}(0.435294,0.462745,0.431373)  …  RGB{Float64}(0.305882,0.329412,0.321569)\n",
       " RGB{Float64}(0.415686,0.443137,0.411765)     RGB{Float64}(0.313725,0.337255,0.329412)"
      ]
     },
     "execution_count": 42,
     "metadata": {},
     "output_type": "execute_result"
    }
   ],
   "source": [
    "rotated_random_test_example_X = rotate_right(random_test_example_X);\n",
    "showImage(rotated_random_test_example_X)"
   ]
  },
  {
   "cell_type": "code",
   "execution_count": 43,
   "metadata": {},
   "outputs": [
    {
     "data": {
      "text/plain": [
       "0.0"
      ]
     },
     "execution_count": 43,
     "metadata": {},
     "output_type": "execute_result"
    }
   ],
   "source": [
    "rotated_random_test_example_X_4d = convert(Array{Float64,4},reshape(rotated_random_test_example_X, 32, 32, 3, 1));\n",
    "accuracy(rotated_random_test_example_X_4d, random_test_example_Y)"
   ]
  },
  {
   "cell_type": "code",
   "execution_count": 44,
   "metadata": {},
   "outputs": [],
   "source": [
    "w1 = params(m)[1];"
   ]
  },
  {
   "cell_type": "code",
   "execution_count": 45,
   "metadata": {},
   "outputs": [
    {
     "data": {
      "text/plain": [
       "my_init (generic function with 1 method)"
      ]
     },
     "execution_count": 45,
     "metadata": {},
     "output_type": "execute_result"
    }
   ],
   "source": [
    "function my_init(k1,k2,ch1,ch2)\n",
    "    Tracker.data(w1)\n",
    "end"
   ]
  },
  {
   "cell_type": "code",
   "execution_count": 46,
   "metadata": {},
   "outputs": [
    {
     "data": {
      "text/plain": [
       "Chain(Conv((2, 2), 3=>16, NNlib.relu), getfield(Main, Symbol(\"##15#16\"))())"
      ]
     },
     "execution_count": 46,
     "metadata": {},
     "output_type": "execute_result"
    }
   ],
   "source": [
    "m_final = Chain(\n",
    "    Conv((2,2), 3=>16, relu, init= my_init),\n",
    "    x -> maxpool(x, (2,2))\n",
    ")"
   ]
  },
  {
   "cell_type": "code",
   "execution_count": 47,
   "metadata": {},
   "outputs": [
    {
     "data": {
      "text/plain": [
       "displayChannels (generic function with 1 method)"
      ]
     },
     "execution_count": 47,
     "metadata": {},
     "output_type": "execute_result"
    }
   ],
   "source": [
    "function displayChannels(output_conv)\n",
    "    imgChannels=[]\n",
    "    for j=1:size(output_conv, 3)\n",
    "        ch = output_conv[:, :, j];\n",
    "        imgrgb = convert(Array{ColorTypes.Gray,2}, Tracker.data(ch))\n",
    "        push!(imgChannels,imgrgb)\n",
    "    end\n",
    "    [imgChannels...]\n",
    "end"
   ]
  },
  {
   "cell_type": "code",
   "execution_count": 48,
   "metadata": {
    "scrolled": false
   },
   "outputs": [
    {
     "data": {
      "text/html": [
       "<table><tbody><tr><td style='text-align:center;vertical-align:middle; margin: 0.5em;border:1px #90999f solid;border-collapse:collapse'><img style='max-width: 100px; max-height:100px;display:inline' src=\"data:image/png;base64,iVBORw0KGgoAAAANSUhEUgAAAGkAAABpAQAAAAAR+TCXAAAABGdBTUEAALGPC/xhBQAAACBjSFJNAAB6JgAAgIQAAPoAAACA6AAAdTAAAOpgAAA6mAAAF3CculE8AAAAAmJLR0QAAd2KE6QAAAAVSURBVDjLY2AYBaNgFIyCUTAKcAIABicAAUZAVxIAAAAASUVORK5C\"></td><td style='text-align:center;vertical-align:middle; margin: 0.5em;border:1px #90999f solid;border-collapse:collapse'><img style='max-width: 100px; max-height:100px;display:inline' src=\"data:image/png;base64,iVBORw0KGgoAAAANSUhEUgAAAGkAAABpAQAAAAAR+TCXAAAABGdBTUEAALGPC/xhBQAAACBjSFJNAAB6JgAAgIQAAPoAAACA6AAAdTAAAOpgAAA6mAAAF3CculE8AAAAAmJLR0QAAd2KE6QAAAAVSURBVDjLY2AYBaNgFIyCUTAKcAIABicAAUZAVxIAAAAASUVORK5C\"></td><td style='text-align:center;vertical-align:middle; margin: 0.5em;border:1px #90999f solid;border-collapse:collapse'><img style='max-width: 100px; max-height:100px;display:inline' src=\"data:image/png;base64,iVBORw0KGgoAAAANSUhEUgAAAGkAAABpAQAAAAAR+TCXAAAABGdBTUEAALGPC/xhBQAAACBjSFJNAAB6JgAAgIQAAPoAAACA6AAAdTAAAOpgAAA6mAAAF3CculE8AAAAAmJLR0QAAd2KE6QAAAAVSURBVDjLY2AYBaNgFIyCUTAKcAIABicAAUZAVxIAAAAASUVORK5C\"></td><td style='text-align:center;vertical-align:middle; margin: 0.5em;border:1px #90999f solid;border-collapse:collapse'><img style='max-width: 100px; max-height:100px;display:inline' src=\"data:image/png;base64,iVBORw0KGgoAAAANSUhEUgAAAGkAAABpAQAAAAAR+TCXAAAABGdBTUEAALGPC/xhBQAAACBjSFJNAAB6JgAAgIQAAPoAAACA6AAAdTAAAOpgAAA6mAAAF3CculE8AAAAAmJLR0QAAd2KE6QAAAAVSURBVDjLY2AYBaNgFIyCUTAKcAIABicAAUZAVxIAAAAASUVORK5C\"></td><td style='text-align:center;vertical-align:middle; margin: 0.5em;border:1px #90999f solid;border-collapse:collapse'><img style='max-width: 100px; max-height:100px;display:inline' src=\"data:image/png;base64,iVBORw0KGgoAAAANSUhEUgAAAGkAAABpAQAAAAAR+TCXAAAABGdBTUEAALGPC/xhBQAAACBjSFJNAAB6JgAAgIQAAPoAAACA6AAAdTAAAOpgAAA6mAAAF3CculE8AAAAAmJLR0QAAd2KE6QAAAAVSURBVDjLY2AYBaNgFIyCUTAKcAIABicAAUZAVxIAAAAASUVORK5C\"></td><td style='text-align:center;vertical-align:middle; margin: 0.5em;border:1px #90999f solid;border-collapse:collapse'><img style='max-width: 100px; max-height:100px;display:inline' src=\"data:image/png;base64,iVBORw0KGgoAAAANSUhEUgAAAGkAAABpAQAAAAAR+TCXAAAABGdBTUEAALGPC/xhBQAAACBjSFJNAAB6JgAAgIQAAPoAAACA6AAAdTAAAOpgAAA6mAAAF3CculE8AAAAAmJLR0QAAd2KE6QAAAAVSURBVDjLY2AYBaNgFIyCUTAKcAIABicAAUZAVxIAAAAASUVORK5C\"></td><td style='text-align:center;vertical-align:middle; margin: 0.5em;border:1px #90999f solid;border-collapse:collapse'><img style='max-width: 100px; max-height:100px;display:inline' src=\"data:image/png;base64,iVBORw0KGgoAAAANSUhEUgAAAGkAAABpCAAAAAAc6VLmAAAABGdBTUEAALGPC/xhBQAAACBjSFJNAAB6JgAAgIQAAPoAAACA6AAAdTAAAOpgAAA6mAAAF3CculE8AAAAAmJLR0QA/4ePzL8AAAFYSURBVGje7ZnJbsMwDEQrV+gCH/oN/f9f6y1dUSfugdPDKwhBQQFvGF4GipQ8UZgYFF2eb3rjHPKKUcGSC2TAkqEb9N8wySRG7Vgzh8i7DyHfIZ8hBSvTf8ART8+kfZCucPkbRlPIBStl71usnJfOySSTGD0u12M7LU742J4zWTwnk0xiNF0uJ3805gaMGHa5SdsgNV2ubTyFnELk3TEkLc9Xzskkkxg9FQs3NUFYdKcluOtyk1Ym/bqcfZQC4Vzr9rmNnEwyiVHl1i+I7pQqVWq2KfVRaP2SjRbPySSTGJXvbOjdlxCV4CWTufHbvn2atA1Sla8fQ+5C1FWRk98xGrHFjp6463KTVib9uX3K82M2qXbKCVtMi5P0AX/E0zNpH6S8xyLT3uNDvfuU2SfMpWZfKyeTTGJc30lkIU972+UmbZHU43L2UWh2yRlfSFstRzw9k/ZB+gGFT0u7CfarpwAAAABJRU5ErkJg\"></td><td style='text-align:center;vertical-align:middle; margin: 0.5em;border:1px #90999f solid;border-collapse:collapse'><img style='max-width: 100px; max-height:100px;display:inline' src=\"data:image/png;base64,iVBORw0KGgoAAAANSUhEUgAAAGkAAABpAQAAAAAR+TCXAAAABGdBTUEAALGPC/xhBQAAACBjSFJNAAB6JgAAgIQAAPoAAACA6AAAdTAAAOpgAAA6mAAAF3CculE8AAAAAmJLR0QAAd2KE6QAAAAVSURBVDjLY2AYBaNgFIyCUTAKcAIABicAAUZAVxIAAAAASUVORK5C\"></td><td style='text-align:center;vertical-align:middle; margin: 0.5em;border:1px #90999f solid;border-collapse:collapse'><img style='max-width: 100px; max-height:100px;display:inline' src=\"data:image/png;base64,iVBORw0KGgoAAAANSUhEUgAAAGkAAABpCAAAAAAc6VLmAAAABGdBTUEAALGPC/xhBQAAACBjSFJNAAB6JgAAgIQAAPoAAACA6AAAdTAAAOpgAAA6mAAAF3CculE8AAAAAmJLR0QA/4ePzL8AAAFiSURBVGje7ZrBTsMwEESTYlFavoD//0IOQGkh4bDD4aGV8amJrdnLqMkmz7Ymq62T+WVqjSXkI+Qr5ICUFZkz5DDdK0wyiVHaU2XhY8hDyGfIjJQFKXefk0kmMVpcLu9eQmToW8g3DrKIr5ARV8+kPkhVl7M0pxZOD6a/Rlw9k/og5S5nFX4PYZtNe9fCtdykjUm5y+nd5xB1LOpRTiFqXK64YM3uMuLqmdQHqdqxpDZVEZfZ1+bhj7h6JvVB+uNytipz5Zx2EhcMeNnFnEwyiVFkTLUc9O4Zo0m3v5WZPhZbzckkkxiFFVoh776GnJFCs/M6u9ykPZKKUE8h6rb5ructRC95HrMh1mq591hM2phUWJPlZG2gcOdE3cwFmazltbZ+xNUzqQ/S77/PtAofcU4fsKjc3/6/N5+AEVfPpD5I1f1y9hpKrb3tdF9u0h5JLd+xcB+FOy4Tzu1jTiaZxPgBEttNvB5TaO8AAAAASUVORK5C\"></td><td style='text-align:center;vertical-align:middle; margin: 0.5em;border:1px #90999f solid;border-collapse:collapse'><img style='max-width: 100px; max-height:100px;display:inline' src=\"data:image/png;base64,iVBORw0KGgoAAAANSUhEUgAAAGkAAABpAQAAAAAR+TCXAAAABGdBTUEAALGPC/xhBQAAACBjSFJNAAB6JgAAgIQAAPoAAACA6AAAdTAAAOpgAAA6mAAAF3CculE8AAAAAmJLR0QAAd2KE6QAAAAVSURBVDjLY2AYBaNgFIyCUTAKcAIABicAAUZAVxIAAAAASUVORK5C\"></td><td style='text-align:center;vertical-align:middle; margin: 0.5em;border:1px #90999f solid;border-collapse:collapse'><img style='max-width: 100px; max-height:100px;display:inline' src=\"data:image/png;base64,iVBORw0KGgoAAAANSUhEUgAAAGkAAABpAQAAAAAR+TCXAAAABGdBTUEAALGPC/xhBQAAACBjSFJNAAB6JgAAgIQAAPoAAACA6AAAdTAAAOpgAAA6mAAAF3CculE8AAAAAmJLR0QAAd2KE6QAAAAVSURBVDjLY2AYBaNgFIyCUTAKcAIABicAAUZAVxIAAAAASUVORK5C\"></td><td style='text-align:center;vertical-align:middle; margin: 0.5em;border:1px #90999f solid;border-collapse:collapse'><img style='max-width: 100px; max-height:100px;display:inline' src=\"data:image/png;base64,iVBORw0KGgoAAAANSUhEUgAAAGkAAABpAQAAAAAR+TCXAAAABGdBTUEAALGPC/xhBQAAACBjSFJNAAB6JgAAgIQAAPoAAACA6AAAdTAAAOpgAAA6mAAAF3CculE8AAAAAmJLR0QAAd2KE6QAAAAVSURBVDjLY2AYBaNgFIyCUTAKcAIABicAAUZAVxIAAAAASUVORK5C\"></td><td style='text-align:center;vertical-align:middle; margin: 0.5em;border:1px #90999f solid;border-collapse:collapse'><img style='max-width: 100px; max-height:100px;display:inline' src=\"data:image/png;base64,iVBORw0KGgoAAAANSUhEUgAAAGkAAABpCAAAAAAc6VLmAAAABGdBTUEAALGPC/xhBQAAACBjSFJNAAB6JgAAgIQAAPoAAACA6AAAdTAAAOpgAAA6mAAAF3CculE8AAAAAmJLR0QA/4ePzL8AAAFYSURBVGje7ZrBbsIwEESdxCAQ/YP+//9xKQIR4h52LlOtXHNJu6vZyyjOkmevBmtjmD7LaLxMbnS1mDSSzWSmj89lrxBJJI46kMMWPps8TJ4mE6VsNLj7mkQSiWPE5TDtg65g7+Zlzt69jNUTKQZpxOVoTti07rbtpkx7r0kkkTi6Loe9796k3K7Ejbb3mkQSiaPrcrxafph80dxOJquJ254XGsxYPZFikEY6FrYpLPzyUnqGzlg9kWKQfrjc7UPcY8KVUgYal4zVEykGqWJP5oNBxMVk8eaGwXGzZ6yeSDFIlXdvgGH2q8nZmxu34NrLRfrHpHowhWBrhmlhdvzaiebmSCkINnsrTmSsnkgxSNW9RKtyJ8E3YOs8rbezZ6yeSDFI/hkLbHqiwZ7Zex2LzstF+mPSyEniTMKHhqUzyPcyVk+kGKQ3/sfCc+Mptt+fkrF6IsUgfQOE/0DKXJeG/gAAAABJRU5ErkJg\"></td><td style='text-align:center;vertical-align:middle; margin: 0.5em;border:1px #90999f solid;border-collapse:collapse'><img style='max-width: 100px; max-height:100px;display:inline' src=\"data:image/png;base64,iVBORw0KGgoAAAANSUhEUgAAAGkAAABpAQAAAAAR+TCXAAAABGdBTUEAALGPC/xhBQAAACBjSFJNAAB6JgAAgIQAAPoAAACA6AAAdTAAAOpgAAA6mAAAF3CculE8AAAAAmJLR0QAAd2KE6QAAAAVSURBVDjLY2AYBaNgFIyCUTAKcAIABicAAUZAVxIAAAAASUVORK5C\"></td><td style='text-align:center;vertical-align:middle; margin: 0.5em;border:1px #90999f solid;border-collapse:collapse'><img style='max-width: 100px; max-height:100px;display:inline' src=\"data:image/png;base64,iVBORw0KGgoAAAANSUhEUgAAAGkAAABpAQAAAAAR+TCXAAAABGdBTUEAALGPC/xhBQAAACBjSFJNAAB6JgAAgIQAAPoAAACA6AAAdTAAAOpgAAA6mAAAF3CculE8AAAAAmJLR0QAAd2KE6QAAAAVSURBVDjLY2AYBaNgFIyCUTAKcAIABicAAUZAVxIAAAAASUVORK5C\"></td><td style='text-align:center;vertical-align:middle; margin: 0.5em;border:1px #90999f solid;border-collapse:collapse'><img style='max-width: 100px; max-height:100px;display:inline' src=\"data:image/png;base64,iVBORw0KGgoAAAANSUhEUgAAAGkAAABpAQAAAAAR+TCXAAAABGdBTUEAALGPC/xhBQAAACBjSFJNAAB6JgAAgIQAAPoAAACA6AAAdTAAAOpgAAA6mAAAF3CculE8AAAAAmJLR0QAAd2KE6QAAAAVSURBVDjLY2AYBaNgFIyCUTAKcAIABicAAUZAVxIAAAAASUVORK5C\"></td></tr></tbody></table><div><small>(a vector displayed as a row to save space)</small></div>"
      ],
      "text/plain": [
       "16-element Array{Array{Gray{Float64},2},1}:\n",
       " [Gray{Float64}(0.0) Gray{Float64}(0.0) … Gray{Float64}(0.0) Gray{Float64}(0.0); Gray{Float64}(0.0) Gray{Float64}(0.0) … Gray{Float64}(0.0) Gray{Float64}(0.0); … ; Gray{Float64}(0.0) Gray{Float64}(0.0) … Gray{Float64}(0.0) Gray{Float64}(0.0); Gray{Float64}(0.0) Gray{Float64}(0.0) … Gray{Float64}(0.0) Gray{Float64}(0.0)]                                                                                               \n",
       " [Gray{Float64}(0.0) Gray{Float64}(0.0) … Gray{Float64}(0.0) Gray{Float64}(0.0); Gray{Float64}(0.0) Gray{Float64}(0.0) … Gray{Float64}(0.0) Gray{Float64}(0.0); … ; Gray{Float64}(0.0) Gray{Float64}(0.0) … Gray{Float64}(0.0) Gray{Float64}(0.0); Gray{Float64}(0.0) Gray{Float64}(0.0) … Gray{Float64}(0.0) Gray{Float64}(0.0)]                                                                                               \n",
       " [Gray{Float64}(0.0) Gray{Float64}(0.0) … Gray{Float64}(0.0) Gray{Float64}(0.0); Gray{Float64}(0.0) Gray{Float64}(0.0) … Gray{Float64}(0.0) Gray{Float64}(0.0); … ; Gray{Float64}(0.0) Gray{Float64}(0.0) … Gray{Float64}(0.0) Gray{Float64}(0.0); Gray{Float64}(0.0) Gray{Float64}(0.0) … Gray{Float64}(0.0) Gray{Float64}(0.0)]                                                                                               \n",
       " [Gray{Float64}(0.0) Gray{Float64}(0.0) … Gray{Float64}(0.0) Gray{Float64}(0.0); Gray{Float64}(0.0) Gray{Float64}(0.0) … Gray{Float64}(0.0) Gray{Float64}(0.0); … ; Gray{Float64}(0.0) Gray{Float64}(0.0) … Gray{Float64}(0.0) Gray{Float64}(0.0); Gray{Float64}(0.0) Gray{Float64}(0.0) … Gray{Float64}(0.0) Gray{Float64}(0.0)]                                                                                               \n",
       " [Gray{Float64}(0.0) Gray{Float64}(0.0) … Gray{Float64}(0.0) Gray{Float64}(0.0); Gray{Float64}(0.0) Gray{Float64}(0.0) … Gray{Float64}(0.0) Gray{Float64}(0.0); … ; Gray{Float64}(0.0) Gray{Float64}(0.0) … Gray{Float64}(0.0) Gray{Float64}(0.0); Gray{Float64}(0.0) Gray{Float64}(0.0) … Gray{Float64}(0.0) Gray{Float64}(0.0)]                                                                                               \n",
       " [Gray{Float64}(0.0) Gray{Float64}(0.0) … Gray{Float64}(0.0) Gray{Float64}(0.0); Gray{Float64}(0.0) Gray{Float64}(0.0) … Gray{Float64}(0.0) Gray{Float64}(0.0); … ; Gray{Float64}(0.0) Gray{Float64}(0.0) … Gray{Float64}(0.0) Gray{Float64}(0.0); Gray{Float64}(0.0) Gray{Float64}(0.0) … Gray{Float64}(0.0) Gray{Float64}(0.0)]                                                                                               \n",
       " [Gray{Float64}(0.128845) Gray{Float64}(0.128998) … Gray{Float64}(0.0539618) Gray{Float64}(0.0573845); Gray{Float64}(0.128763) Gray{Float64}(0.128998) … Gray{Float64}(0.0517949) Gray{Float64}(0.0532544); … ; Gray{Float64}(0.128763) Gray{Float64}(0.128998) … Gray{Float64}(0.0346434) Gray{Float64}(0.0348023); Gray{Float64}(0.128763) Gray{Float64}(0.128998) … Gray{Float64}(0.037085) Gray{Float64}(0.0385732)]        \n",
       " [Gray{Float64}(0.0) Gray{Float64}(0.0) … Gray{Float64}(0.0) Gray{Float64}(0.0); Gray{Float64}(0.0) Gray{Float64}(0.0) … Gray{Float64}(0.0) Gray{Float64}(0.0); … ; Gray{Float64}(0.0) Gray{Float64}(0.0) … Gray{Float64}(0.0) Gray{Float64}(0.0); Gray{Float64}(0.0) Gray{Float64}(0.0) … Gray{Float64}(0.0) Gray{Float64}(0.0)]                                                                                               \n",
       " [Gray{Float64}(0.0964519) Gray{Float64}(0.0964331) … Gray{Float64}(0.0392034) Gray{Float64}(0.0430229); Gray{Float64}(0.0963349) Gray{Float64}(0.0964331) … Gray{Float64}(0.0385687) Gray{Float64}(0.0415356); … ; Gray{Float64}(0.0963349) Gray{Float64}(0.0964331) … Gray{Float64}(0.0271483) Gray{Float64}(0.025926); Gray{Float64}(0.0963349) Gray{Float64}(0.0964331) … Gray{Float64}(0.0275782) Gray{Float64}(0.0292828)]\n",
       " [Gray{Float64}(0.0) Gray{Float64}(0.0) … Gray{Float64}(0.0) Gray{Float64}(0.0); Gray{Float64}(0.0) Gray{Float64}(0.0) … Gray{Float64}(0.0) Gray{Float64}(0.0); … ; Gray{Float64}(0.0) Gray{Float64}(0.0) … Gray{Float64}(0.0) Gray{Float64}(0.0); Gray{Float64}(0.0) Gray{Float64}(0.0) … Gray{Float64}(0.0) Gray{Float64}(0.0)]                                                                                               \n",
       " [Gray{Float64}(0.0) Gray{Float64}(0.0) … Gray{Float64}(0.0) Gray{Float64}(0.0); Gray{Float64}(0.0) Gray{Float64}(0.0) … Gray{Float64}(0.0) Gray{Float64}(0.0); … ; Gray{Float64}(0.0) Gray{Float64}(0.0) … Gray{Float64}(0.0) Gray{Float64}(0.0); Gray{Float64}(0.0) Gray{Float64}(0.0) … Gray{Float64}(0.0) Gray{Float64}(0.0)]                                                                                               \n",
       " [Gray{Float64}(0.0) Gray{Float64}(0.0) … Gray{Float64}(0.0) Gray{Float64}(0.0); Gray{Float64}(0.0) Gray{Float64}(0.0) … Gray{Float64}(0.0) Gray{Float64}(0.0); … ; Gray{Float64}(0.0) Gray{Float64}(0.0) … Gray{Float64}(0.0) Gray{Float64}(0.0); Gray{Float64}(0.0) Gray{Float64}(0.0) … Gray{Float64}(0.0) Gray{Float64}(0.0)]                                                                                               \n",
       " [Gray{Float64}(0.105609) Gray{Float64}(0.105675) … Gray{Float64}(0.0457583) Gray{Float64}(0.0477197); Gray{Float64}(0.105429) Gray{Float64}(0.105675) … Gray{Float64}(0.0441323) Gray{Float64}(0.0444539); … ; Gray{Float64}(0.105429) Gray{Float64}(0.105675) … Gray{Float64}(0.0296169) Gray{Float64}(0.0297418); Gray{Float64}(0.105429) Gray{Float64}(0.105675) … Gray{Float64}(0.0314603) Gray{Float64}(0.0323273)]       \n",
       " [Gray{Float64}(0.0) Gray{Float64}(0.0) … Gray{Float64}(0.0) Gray{Float64}(0.0); Gray{Float64}(0.0) Gray{Float64}(0.0) … Gray{Float64}(0.0) Gray{Float64}(0.0); … ; Gray{Float64}(0.0) Gray{Float64}(0.0) … Gray{Float64}(0.0) Gray{Float64}(0.0); Gray{Float64}(0.0) Gray{Float64}(0.0) … Gray{Float64}(0.0) Gray{Float64}(0.0)]                                                                                               \n",
       " [Gray{Float64}(0.0) Gray{Float64}(0.0) … Gray{Float64}(0.0) Gray{Float64}(0.0); Gray{Float64}(0.0) Gray{Float64}(0.0) … Gray{Float64}(0.0) Gray{Float64}(0.0); … ; Gray{Float64}(0.0) Gray{Float64}(0.0) … Gray{Float64}(0.0) Gray{Float64}(0.0); Gray{Float64}(0.0) Gray{Float64}(0.0) … Gray{Float64}(0.0) Gray{Float64}(0.0)]                                                                                               \n",
       " [Gray{Float64}(0.0) Gray{Float64}(0.0) … Gray{Float64}(0.0) Gray{Float64}(0.0); Gray{Float64}(0.0) Gray{Float64}(0.0) … Gray{Float64}(0.0) Gray{Float64}(0.0); … ; Gray{Float64}(0.0) Gray{Float64}(0.0) … Gray{Float64}(0.0) Gray{Float64}(0.0); Gray{Float64}(0.0) Gray{Float64}(0.0) … Gray{Float64}(0.0) Gray{Float64}(0.0)]                                                                                               "
      ]
     },
     "execution_count": 48,
     "metadata": {},
     "output_type": "execute_result"
    }
   ],
   "source": [
    "output_conv = m_final(random_test_example_X_4d);\n",
    "displayChannels(output_conv)"
   ]
  },
  {
   "cell_type": "code",
   "execution_count": 49,
   "metadata": {},
   "outputs": [
    {
     "data": {
      "text/html": [
       "<table><tbody><tr><td style='text-align:center;vertical-align:middle; margin: 0.5em;border:1px #90999f solid;border-collapse:collapse'><img style='max-width: 100px; max-height:100px;display:inline' src=\"data:image/png;base64,iVBORw0KGgoAAAANSUhEUgAAAGkAAABpAQAAAAAR+TCXAAAABGdBTUEAALGPC/xhBQAAACBjSFJNAAB6JgAAgIQAAPoAAACA6AAAdTAAAOpgAAA6mAAAF3CculE8AAAAAmJLR0QAAd2KE6QAAAAVSURBVDjLY2AYBaNgFIyCUTAKcAIABicAAUZAVxIAAAAASUVORK5C\"></td><td style='text-align:center;vertical-align:middle; margin: 0.5em;border:1px #90999f solid;border-collapse:collapse'><img style='max-width: 100px; max-height:100px;display:inline' src=\"data:image/png;base64,iVBORw0KGgoAAAANSUhEUgAAAGkAAABpAQAAAAAR+TCXAAAABGdBTUEAALGPC/xhBQAAACBjSFJNAAB6JgAAgIQAAPoAAACA6AAAdTAAAOpgAAA6mAAAF3CculE8AAAAAmJLR0QAAd2KE6QAAAAVSURBVDjLY2AYBaNgFIyCUTAKcAIABicAAUZAVxIAAAAASUVORK5C\"></td><td style='text-align:center;vertical-align:middle; margin: 0.5em;border:1px #90999f solid;border-collapse:collapse'><img style='max-width: 100px; max-height:100px;display:inline' src=\"data:image/png;base64,iVBORw0KGgoAAAANSUhEUgAAAGkAAABpAQAAAAAR+TCXAAAABGdBTUEAALGPC/xhBQAAACBjSFJNAAB6JgAAgIQAAPoAAACA6AAAdTAAAOpgAAA6mAAAF3CculE8AAAAAmJLR0QAAd2KE6QAAAAVSURBVDjLY2AYBaNgFIyCUTAKcAIABicAAUZAVxIAAAAASUVORK5C\"></td><td style='text-align:center;vertical-align:middle; margin: 0.5em;border:1px #90999f solid;border-collapse:collapse'><img style='max-width: 100px; max-height:100px;display:inline' src=\"data:image/png;base64,iVBORw0KGgoAAAANSUhEUgAAAGkAAABpAQAAAAAR+TCXAAAABGdBTUEAALGPC/xhBQAAACBjSFJNAAB6JgAAgIQAAPoAAACA6AAAdTAAAOpgAAA6mAAAF3CculE8AAAAAmJLR0QAAd2KE6QAAAAVSURBVDjLY2AYBaNgFIyCUTAKcAIABicAAUZAVxIAAAAASUVORK5C\"></td><td style='text-align:center;vertical-align:middle; margin: 0.5em;border:1px #90999f solid;border-collapse:collapse'><img style='max-width: 100px; max-height:100px;display:inline' src=\"data:image/png;base64,iVBORw0KGgoAAAANSUhEUgAAAGkAAABpAQAAAAAR+TCXAAAABGdBTUEAALGPC/xhBQAAACBjSFJNAAB6JgAAgIQAAPoAAACA6AAAdTAAAOpgAAA6mAAAF3CculE8AAAAAmJLR0QAAd2KE6QAAAAVSURBVDjLY2AYBaNgFIyCUTAKcAIABicAAUZAVxIAAAAASUVORK5C\"></td><td style='text-align:center;vertical-align:middle; margin: 0.5em;border:1px #90999f solid;border-collapse:collapse'><img style='max-width: 100px; max-height:100px;display:inline' src=\"data:image/png;base64,iVBORw0KGgoAAAANSUhEUgAAAGkAAABpAQAAAAAR+TCXAAAABGdBTUEAALGPC/xhBQAAACBjSFJNAAB6JgAAgIQAAPoAAACA6AAAdTAAAOpgAAA6mAAAF3CculE8AAAAAmJLR0QAAd2KE6QAAAAVSURBVDjLY2AYBaNgFIyCUTAKcAIABicAAUZAVxIAAAAASUVORK5C\"></td><td style='text-align:center;vertical-align:middle; margin: 0.5em;border:1px #90999f solid;border-collapse:collapse'><img style='max-width: 100px; max-height:100px;display:inline' src=\"data:image/png;base64,iVBORw0KGgoAAAANSUhEUgAAAGkAAABpCAAAAAAc6VLmAAAABGdBTUEAALGPC/xhBQAAACBjSFJNAAB6JgAAgIQAAPoAAACA6AAAdTAAAOpgAAA6mAAAF3CculE8AAAAAmJLR0QA/4ePzL8AAAE3SURBVGje7ZnBTsNADES9xUKVcuAb+P+/I1AqkRAONhIvWlLSQ9hEM5fRplu9OpquHKc8m5mZjWGvWBX7qU/YCVumsBf7XSfbSiKJRHnmM7N7DvsIu4YxyUv/gDZqEkkk6jvlb2G5GsKY3Yz3A3bS2qhJJJEoz2O7ejTz2F6d6/+qSSSRKH+vXWXvXW1HmPJiN3XEuyfSPkj+FN6HZXa7sGp73n5NIolEOYkDbMJnXBkuNlWTSCJRsxnL0tPnbmoSSSRqdpanco7C6JfaqsWaRBKJ8mzIS82W2hHNWETaDckv4ZnrDnwODas/Sn25SO2T/DE8xyk9+NXmZPUhvnlNIolEeZ7e+e4zwz5gzx86cb3hF6lh0uzps2DFeC+lXG+FRGqY5JyjMOxpI75x76jliHdPpH2QvgAGk0eRzN7z2gAAAABJRU5ErkJg\"></td><td style='text-align:center;vertical-align:middle; margin: 0.5em;border:1px #90999f solid;border-collapse:collapse'><img style='max-width: 100px; max-height:100px;display:inline' src=\"data:image/png;base64,iVBORw0KGgoAAAANSUhEUgAAAGkAAABpAQAAAAAR+TCXAAAABGdBTUEAALGPC/xhBQAAACBjSFJNAAB6JgAAgIQAAPoAAACA6AAAdTAAAOpgAAA6mAAAF3CculE8AAAAAmJLR0QAAd2KE6QAAAAVSURBVDjLY2AYBaNgFIyCUTAKcAIABicAAUZAVxIAAAAASUVORK5C\"></td><td style='text-align:center;vertical-align:middle; margin: 0.5em;border:1px #90999f solid;border-collapse:collapse'><img style='max-width: 100px; max-height:100px;display:inline' src=\"data:image/png;base64,iVBORw0KGgoAAAANSUhEUgAAAGkAAABpCAAAAAAc6VLmAAAABGdBTUEAALGPC/xhBQAAACBjSFJNAAB6JgAAgIQAAPoAAACA6AAAdTAAAOpgAAA6mAAAF3CculE8AAAAAmJLR0QA/4ePzL8AAAE2SURBVGje7ZrNDoJADIQL1r/4BL7/M/qLgofOwTErAodlMTOXiRvIR82kaQrV0czMrA27hD3CantXR1dWZNDJvqu2XBJJJJbDEeFt2CrsFlbRJS1dYnRYRk0iicRyZPcahkA3YU865CbepayMmkQSieXIbjLCycPkr6JqEkkklp/DeczmePdpQBPPXpNIIrH8EI6JBTPKPgyDy53uGN3Es9ckkkgsr4iIJo6wJxv11Gf7x39PpGWQPnYsMGwSW3qaAXuUMmoSSSSW8wCS7OxTZ5S5ahJJJJZjJ54MO08sSrlICyU5XlfiJc8mxe/r5dqxiFQ+ydfhmMSxakHmOcI8umvHItJiSL4LxwcsWK40v28c3sSz1ySSSCwHCruWvredmstFWijJeY8CMAd6dNueuSaRRGK9AGU9QLFZbUJhAAAAAElFTkSuQmCC\"></td><td style='text-align:center;vertical-align:middle; margin: 0.5em;border:1px #90999f solid;border-collapse:collapse'><img style='max-width: 100px; max-height:100px;display:inline' src=\"data:image/png;base64,iVBORw0KGgoAAAANSUhEUgAAAGkAAABpAQAAAAAR+TCXAAAABGdBTUEAALGPC/xhBQAAACBjSFJNAAB6JgAAgIQAAPoAAACA6AAAdTAAAOpgAAA6mAAAF3CculE8AAAAAmJLR0QAAd2KE6QAAAAVSURBVDjLY2AYBaNgFIyCUTAKcAIABicAAUZAVxIAAAAASUVORK5C\"></td><td style='text-align:center;vertical-align:middle; margin: 0.5em;border:1px #90999f solid;border-collapse:collapse'><img style='max-width: 100px; max-height:100px;display:inline' src=\"data:image/png;base64,iVBORw0KGgoAAAANSUhEUgAAAGkAAABpAQAAAAAR+TCXAAAABGdBTUEAALGPC/xhBQAAACBjSFJNAAB6JgAAgIQAAPoAAACA6AAAdTAAAOpgAAA6mAAAF3CculE8AAAAAmJLR0QAAd2KE6QAAAAVSURBVDjLY2AYBaNgFIyCUTAKcAIABicAAUZAVxIAAAAASUVORK5C\"></td><td style='text-align:center;vertical-align:middle; margin: 0.5em;border:1px #90999f solid;border-collapse:collapse'><img style='max-width: 100px; max-height:100px;display:inline' src=\"data:image/png;base64,iVBORw0KGgoAAAANSUhEUgAAAGkAAABpAQAAAAAR+TCXAAAABGdBTUEAALGPC/xhBQAAACBjSFJNAAB6JgAAgIQAAPoAAACA6AAAdTAAAOpgAAA6mAAAF3CculE8AAAAAmJLR0QAAd2KE6QAAAAVSURBVDjLY2AYBaNgFIyCUTAKcAIABicAAUZAVxIAAAAASUVORK5C\"></td><td style='text-align:center;vertical-align:middle; margin: 0.5em;border:1px #90999f solid;border-collapse:collapse'><img style='max-width: 100px; max-height:100px;display:inline' src=\"data:image/png;base64,iVBORw0KGgoAAAANSUhEUgAAAGkAAABpCAAAAAAc6VLmAAAABGdBTUEAALGPC/xhBQAAACBjSFJNAAB6JgAAgIQAAPoAAACA6AAAdTAAAOpgAAA6mAAAF3CculE8AAAAAmJLR0QA/4ePzL8AAAEsSURBVGje7ZnhCsIwDITTGUTBN/D9H3FDcZv+SAQPYhlTtrbc/TnWFT5TjhC7dBUREZnMBng6mD3BZrNOPuXvevmuTrYSSSShFCN8NrubPcwSbJlhUeBdGTWRRBJKPbSea3/yeGN2sYnjO6acpIJJ6sNJGFps2+GWJEvV4umRVAdJbxExnEpCLWjim9dEEkkovZj3AD6ZjWbheC6wWFRNJJGE0gREj/AEexLY2t/W4umRVAdJw2vCEfYs79dl1EQSSSjFCDvYL8r/GvYWT4+kOkg6RGAcwdnLSaqb9E65mh3Nwk8+4b/PEmsiiSSUerx9OJkzW3/s7C2eHkl1kNQvDf3aPAx7Lte8LyepfJJ2QMRLQ8ksSmZx55pIIgml2LYx8661k/heNZFEEuoFxBM5wgylacoAAAAASUVORK5C\"></td><td style='text-align:center;vertical-align:middle; margin: 0.5em;border:1px #90999f solid;border-collapse:collapse'><img style='max-width: 100px; max-height:100px;display:inline' src=\"data:image/png;base64,iVBORw0KGgoAAAANSUhEUgAAAGkAAABpAQAAAAAR+TCXAAAABGdBTUEAALGPC/xhBQAAACBjSFJNAAB6JgAAgIQAAPoAAACA6AAAdTAAAOpgAAA6mAAAF3CculE8AAAAAmJLR0QAAd2KE6QAAAAVSURBVDjLY2AYBaNgFIyCUTAKcAIABicAAUZAVxIAAAAASUVORK5C\"></td><td style='text-align:center;vertical-align:middle; margin: 0.5em;border:1px #90999f solid;border-collapse:collapse'><img style='max-width: 100px; max-height:100px;display:inline' src=\"data:image/png;base64,iVBORw0KGgoAAAANSUhEUgAAAGkAAABpAQAAAAAR+TCXAAAABGdBTUEAALGPC/xhBQAAACBjSFJNAAB6JgAAgIQAAPoAAACA6AAAdTAAAOpgAAA6mAAAF3CculE8AAAAAmJLR0QAAd2KE6QAAAAVSURBVDjLY2AYBaNgFIyCUTAKcAIABicAAUZAVxIAAAAASUVORK5C\"></td><td style='text-align:center;vertical-align:middle; margin: 0.5em;border:1px #90999f solid;border-collapse:collapse'><img style='max-width: 100px; max-height:100px;display:inline' src=\"data:image/png;base64,iVBORw0KGgoAAAANSUhEUgAAAGkAAABpAQAAAAAR+TCXAAAABGdBTUEAALGPC/xhBQAAACBjSFJNAAB6JgAAgIQAAPoAAACA6AAAdTAAAOpgAAA6mAAAF3CculE8AAAAAmJLR0QAAd2KE6QAAAAVSURBVDjLY2AYBaNgFIyCUTAKcAIABicAAUZAVxIAAAAASUVORK5C\"></td></tr></tbody></table><div><small>(a vector displayed as a row to save space)</small></div>"
      ],
      "text/plain": [
       "16-element Array{Array{Gray{Float64},2},1}:\n",
       " [Gray{Float64}(0.0) Gray{Float64}(0.0) … Gray{Float64}(0.0) Gray{Float64}(0.0); Gray{Float64}(0.0) Gray{Float64}(0.0) … Gray{Float64}(0.0) Gray{Float64}(0.0); … ; Gray{Float64}(0.0) Gray{Float64}(0.0) … Gray{Float64}(0.0) Gray{Float64}(0.0); Gray{Float64}(0.0) Gray{Float64}(0.0) … Gray{Float64}(0.0) Gray{Float64}(0.0)]                                             \n",
       " [Gray{Float64}(0.0) Gray{Float64}(0.0) … Gray{Float64}(0.0) Gray{Float64}(0.0); Gray{Float64}(0.0) Gray{Float64}(0.0) … Gray{Float64}(0.0) Gray{Float64}(0.0); … ; Gray{Float64}(0.0) Gray{Float64}(0.0) … Gray{Float64}(0.0) Gray{Float64}(0.0); Gray{Float64}(0.0) Gray{Float64}(0.0) … Gray{Float64}(0.0) Gray{Float64}(0.0)]                                             \n",
       " [Gray{Float64}(0.0) Gray{Float64}(0.0) … Gray{Float64}(0.0) Gray{Float64}(0.0); Gray{Float64}(0.0) Gray{Float64}(0.0) … Gray{Float64}(0.0) Gray{Float64}(0.0); … ; Gray{Float64}(0.0) Gray{Float64}(0.0) … Gray{Float64}(0.0) Gray{Float64}(0.0); Gray{Float64}(0.0) Gray{Float64}(0.0) … Gray{Float64}(0.0) Gray{Float64}(0.0)]                                             \n",
       " [Gray{Float64}(0.0) Gray{Float64}(0.0) … Gray{Float64}(0.0) Gray{Float64}(0.0); Gray{Float64}(0.0) Gray{Float64}(0.0) … Gray{Float64}(0.0) Gray{Float64}(0.0); … ; Gray{Float64}(0.0) Gray{Float64}(0.0) … Gray{Float64}(0.0) Gray{Float64}(0.0); Gray{Float64}(0.0) Gray{Float64}(0.0) … Gray{Float64}(0.0) Gray{Float64}(0.0)]                                             \n",
       " [Gray{Float64}(0.0) Gray{Float64}(0.0) … Gray{Float64}(0.0) Gray{Float64}(0.0); Gray{Float64}(0.0) Gray{Float64}(0.0) … Gray{Float64}(0.0) Gray{Float64}(0.0); … ; Gray{Float64}(0.0) Gray{Float64}(0.0) … Gray{Float64}(0.0) Gray{Float64}(0.0); Gray{Float64}(0.0) Gray{Float64}(0.0) … Gray{Float64}(0.0) Gray{Float64}(0.0)]                                             \n",
       " [Gray{Float64}(0.0) Gray{Float64}(0.0) … Gray{Float64}(0.0) Gray{Float64}(0.0); Gray{Float64}(0.0) Gray{Float64}(0.0) … Gray{Float64}(0.0) Gray{Float64}(0.0); … ; Gray{Float64}(0.0) Gray{Float64}(0.0) … Gray{Float64}(0.0) Gray{Float64}(0.0); Gray{Float64}(0.0) Gray{Float64}(0.0) … Gray{Float64}(0.0) Gray{Float64}(0.0)]                                             \n",
       " [Gray{Float64}(0.128358) Gray{Float64}(0.118121) … Gray{Float64}(0.0) Gray{Float64}(0.0); Gray{Float64}(0.125395) Gray{Float64}(0.109543) … Gray{Float64}(0.0) Gray{Float64}(0.0); … ; Gray{Float64}(0.098182) Gray{Float64}(0.0617094) … Gray{Float64}(0.0) Gray{Float64}(0.0); Gray{Float64}(0.088659) Gray{Float64}(0.0588062) … Gray{Float64}(0.0) Gray{Float64}(0.0)]   \n",
       " [Gray{Float64}(0.0) Gray{Float64}(0.0) … Gray{Float64}(0.0) Gray{Float64}(0.0); Gray{Float64}(0.0) Gray{Float64}(0.0) … Gray{Float64}(0.0) Gray{Float64}(0.0); … ; Gray{Float64}(0.0) Gray{Float64}(0.0) … Gray{Float64}(0.0) Gray{Float64}(0.0); Gray{Float64}(0.0) Gray{Float64}(0.0) … Gray{Float64}(0.0) Gray{Float64}(0.0)]                                             \n",
       " [Gray{Float64}(0.096353) Gray{Float64}(0.090773) … Gray{Float64}(0.0) Gray{Float64}(0.0); Gray{Float64}(0.0962312) Gray{Float64}(0.086764) … Gray{Float64}(0.0) Gray{Float64}(0.0); … ; Gray{Float64}(0.0784998) Gray{Float64}(0.0496282) … Gray{Float64}(0.0) Gray{Float64}(0.0); Gray{Float64}(0.0717751) Gray{Float64}(0.0478671) … Gray{Float64}(0.0) Gray{Float64}(0.0)]\n",
       " [Gray{Float64}(0.0) Gray{Float64}(0.0) … Gray{Float64}(0.0) Gray{Float64}(0.0); Gray{Float64}(0.0) Gray{Float64}(0.0) … Gray{Float64}(0.0) Gray{Float64}(0.0); … ; Gray{Float64}(0.0) Gray{Float64}(0.0) … Gray{Float64}(0.0) Gray{Float64}(0.0); Gray{Float64}(0.0) Gray{Float64}(0.0) … Gray{Float64}(0.0) Gray{Float64}(0.0)]                                             \n",
       " [Gray{Float64}(0.0) Gray{Float64}(0.0) … Gray{Float64}(0.0) Gray{Float64}(0.0); Gray{Float64}(0.0) Gray{Float64}(0.0) … Gray{Float64}(0.0) Gray{Float64}(0.0); … ; Gray{Float64}(0.0) Gray{Float64}(0.0) … Gray{Float64}(0.0) Gray{Float64}(0.0); Gray{Float64}(0.0) Gray{Float64}(0.0) … Gray{Float64}(0.0) Gray{Float64}(0.0)]                                             \n",
       " [Gray{Float64}(0.0) Gray{Float64}(0.0) … Gray{Float64}(0.0) Gray{Float64}(0.0); Gray{Float64}(0.0) Gray{Float64}(0.0) … Gray{Float64}(0.0) Gray{Float64}(0.0); … ; Gray{Float64}(0.0) Gray{Float64}(0.0) … Gray{Float64}(0.0) Gray{Float64}(0.0); Gray{Float64}(0.0) Gray{Float64}(0.0) … Gray{Float64}(0.0) Gray{Float64}(0.0)]                                             \n",
       " [Gray{Float64}(0.105143) Gray{Float64}(0.0941926) … Gray{Float64}(0.0) Gray{Float64}(0.0); Gray{Float64}(0.103683) Gray{Float64}(0.0885054) … Gray{Float64}(0.0) Gray{Float64}(0.0); … ; Gray{Float64}(0.0798196) Gray{Float64}(0.0477975) … Gray{Float64}(0.0) Gray{Float64}(0.0); Gray{Float64}(0.0703832) Gray{Float64}(0.04743) … Gray{Float64}(0.0) Gray{Float64}(0.0)] \n",
       " [Gray{Float64}(0.0) Gray{Float64}(0.0) … Gray{Float64}(0.0) Gray{Float64}(0.0); Gray{Float64}(0.0) Gray{Float64}(0.0) … Gray{Float64}(0.0) Gray{Float64}(0.0); … ; Gray{Float64}(0.0) Gray{Float64}(0.0) … Gray{Float64}(0.0) Gray{Float64}(0.0); Gray{Float64}(0.0) Gray{Float64}(0.0) … Gray{Float64}(0.0) Gray{Float64}(0.0)]                                             \n",
       " [Gray{Float64}(0.0) Gray{Float64}(0.0) … Gray{Float64}(0.0) Gray{Float64}(0.0); Gray{Float64}(0.0) Gray{Float64}(0.0) … Gray{Float64}(0.0) Gray{Float64}(0.0); … ; Gray{Float64}(0.0) Gray{Float64}(0.0) … Gray{Float64}(0.0) Gray{Float64}(0.0); Gray{Float64}(0.0) Gray{Float64}(0.0) … Gray{Float64}(0.0) Gray{Float64}(0.0)]                                             \n",
       " [Gray{Float64}(0.0) Gray{Float64}(0.0) … Gray{Float64}(0.0) Gray{Float64}(0.0); Gray{Float64}(0.0) Gray{Float64}(0.0) … Gray{Float64}(0.0) Gray{Float64}(0.0); … ; Gray{Float64}(0.0) Gray{Float64}(0.0) … Gray{Float64}(0.0) Gray{Float64}(0.0); Gray{Float64}(0.0) Gray{Float64}(0.0) … Gray{Float64}(0.0) Gray{Float64}(0.0)]                                             "
      ]
     },
     "execution_count": 49,
     "metadata": {},
     "output_type": "execute_result"
    }
   ],
   "source": [
    "output_conv = m_final(shifted_random_test_example_X_4d);\n",
    "displayChannels(output_conv)"
   ]
  },
  {
   "cell_type": "code",
   "execution_count": 50,
   "metadata": {},
   "outputs": [
    {
     "data": {
      "text/html": [
       "<table><tbody><tr><td style='text-align:center;vertical-align:middle; margin: 0.5em;border:1px #90999f solid;border-collapse:collapse'><img style='max-width: 100px; max-height:100px;display:inline' src=\"data:image/png;base64,iVBORw0KGgoAAAANSUhEUgAAAGkAAABpAQAAAAAR+TCXAAAABGdBTUEAALGPC/xhBQAAACBjSFJNAAB6JgAAgIQAAPoAAACA6AAAdTAAAOpgAAA6mAAAF3CculE8AAAAAmJLR0QAAd2KE6QAAAAVSURBVDjLY2AYBaNgFIyCUTAKcAIABicAAUZAVxIAAAAASUVORK5C\"></td><td style='text-align:center;vertical-align:middle; margin: 0.5em;border:1px #90999f solid;border-collapse:collapse'><img style='max-width: 100px; max-height:100px;display:inline' src=\"data:image/png;base64,iVBORw0KGgoAAAANSUhEUgAAAGkAAABpAQAAAAAR+TCXAAAABGdBTUEAALGPC/xhBQAAACBjSFJNAAB6JgAAgIQAAPoAAACA6AAAdTAAAOpgAAA6mAAAF3CculE8AAAAAmJLR0QAAd2KE6QAAAAVSURBVDjLY2AYBaNgFIyCUTAKcAIABicAAUZAVxIAAAAASUVORK5C\"></td><td style='text-align:center;vertical-align:middle; margin: 0.5em;border:1px #90999f solid;border-collapse:collapse'><img style='max-width: 100px; max-height:100px;display:inline' src=\"data:image/png;base64,iVBORw0KGgoAAAANSUhEUgAAAGkAAABpAQAAAAAR+TCXAAAABGdBTUEAALGPC/xhBQAAACBjSFJNAAB6JgAAgIQAAPoAAACA6AAAdTAAAOpgAAA6mAAAF3CculE8AAAAAmJLR0QAAd2KE6QAAAAVSURBVDjLY2AYBaNgFIyCUTAKcAIABicAAUZAVxIAAAAASUVORK5C\"></td><td style='text-align:center;vertical-align:middle; margin: 0.5em;border:1px #90999f solid;border-collapse:collapse'><img style='max-width: 100px; max-height:100px;display:inline' src=\"data:image/png;base64,iVBORw0KGgoAAAANSUhEUgAAAGkAAABpAQAAAAAR+TCXAAAABGdBTUEAALGPC/xhBQAAACBjSFJNAAB6JgAAgIQAAPoAAACA6AAAdTAAAOpgAAA6mAAAF3CculE8AAAAAmJLR0QAAd2KE6QAAAAVSURBVDjLY2AYBaNgFIyCUTAKcAIABicAAUZAVxIAAAAASUVORK5C\"></td><td style='text-align:center;vertical-align:middle; margin: 0.5em;border:1px #90999f solid;border-collapse:collapse'><img style='max-width: 100px; max-height:100px;display:inline' src=\"data:image/png;base64,iVBORw0KGgoAAAANSUhEUgAAAGkAAABpAQAAAAAR+TCXAAAABGdBTUEAALGPC/xhBQAAACBjSFJNAAB6JgAAgIQAAPoAAACA6AAAdTAAAOpgAAA6mAAAF3CculE8AAAAAmJLR0QAAd2KE6QAAAAVSURBVDjLY2AYBaNgFIyCUTAKcAIABicAAUZAVxIAAAAASUVORK5C\"></td><td style='text-align:center;vertical-align:middle; margin: 0.5em;border:1px #90999f solid;border-collapse:collapse'><img style='max-width: 100px; max-height:100px;display:inline' src=\"data:image/png;base64,iVBORw0KGgoAAAANSUhEUgAAAGkAAABpAQAAAAAR+TCXAAAABGdBTUEAALGPC/xhBQAAACBjSFJNAAB6JgAAgIQAAPoAAACA6AAAdTAAAOpgAAA6mAAAF3CculE8AAAAAmJLR0QAAd2KE6QAAAAVSURBVDjLY2AYBaNgFIyCUTAKcAIABicAAUZAVxIAAAAASUVORK5C\"></td><td style='text-align:center;vertical-align:middle; margin: 0.5em;border:1px #90999f solid;border-collapse:collapse'><img style='max-width: 100px; max-height:100px;display:inline' src=\"data:image/png;base64,iVBORw0KGgoAAAANSUhEUgAAAGkAAABpCAAAAAAc6VLmAAAABGdBTUEAALGPC/xhBQAAACBjSFJNAAB6JgAAgIQAAPoAAACA6AAAdTAAAOpgAAA6mAAAF3CculE8AAAAAmJLR0QA/4ePzL8AAAFlSURBVGje7ZjBTsMwDIabERAgELwC7/9o3CaYpm1tONg7fFPkqju0JPp9+ZXU6edEruUmfQ332cWkmDzOL9jdCVpuIolEy4tXeF6fMKksF+kfk5Zn+WRyRKRP82/r8fREaoO0PMs9Ni/pZ5ODyVsQfo+nJ1IbpDDLR5OH2rMPk2+TZOIF/mXbPYkkEu2a5V6avR1hhf40SfD01H832cNlwGhae08iiUTLvCs54KFn8h5BVZPW/z5PgUuPpydSG6T8Y/pqUiAJ0UxYyJL+bPJrMmLBbu09iSQS7VrLvaP2VmWC+BfguXtBiKk2OgcuK5hIItGyN+bsNVi22dSUYLJgHd/S4+mJ1AYpeypW/xs9aY+Y5LOhto4j/X2KtDHp5o5lxMiN6T0EoxK49Hh6IrVByp7XvBqvFmoGVXWJCnyPpydSG6TMGxDvLqptNi3Nu2y1J5FEouWo1+Bk1I5E61bfk0gi0f4A+udLvC9FtlsAAAAASUVORK5C\"></td><td style='text-align:center;vertical-align:middle; margin: 0.5em;border:1px #90999f solid;border-collapse:collapse'><img style='max-width: 100px; max-height:100px;display:inline' src=\"data:image/png;base64,iVBORw0KGgoAAAANSUhEUgAAAGkAAABpAQAAAAAR+TCXAAAABGdBTUEAALGPC/xhBQAAACBjSFJNAAB6JgAAgIQAAPoAAACA6AAAdTAAAOpgAAA6mAAAF3CculE8AAAAAmJLR0QAAd2KE6QAAAAVSURBVDjLY2AYBaNgFIyCUTAKcAIABicAAUZAVxIAAAAASUVORK5C\"></td><td style='text-align:center;vertical-align:middle; margin: 0.5em;border:1px #90999f solid;border-collapse:collapse'><img style='max-width: 100px; max-height:100px;display:inline' src=\"data:image/png;base64,iVBORw0KGgoAAAANSUhEUgAAAGkAAABpCAAAAAAc6VLmAAAABGdBTUEAALGPC/xhBQAAACBjSFJNAAB6JgAAgIQAAPoAAACA6AAAdTAAAOpgAAA6mAAAF3CculE8AAAAAmJLR0QA/4ePzL8AAAFgSURBVGje7ZjBTsMwEETj1BIViA/g/7+QAwhS2nDY4fCqldX0kGJr5rLyxs5rrKm13vI23adLhDXCHKE0Fsx3grbLJJOounmFfL1gdMQoNfuIu2dSH6TtLpd+MDpHOPyLbzLJJKrp8vRoVlIVyxlTnrN1LGp2kEkmUbnLVwSpIMjQ7xFOEb4jPGXLR9w9k/ogXbmcB/VnhJfGT5TZPyIseFbwshF3z6Q+SJW9kq8IShYkZ8xkOaKC/JQlXbGY9GBSeY2oJolsymr7ko1mBP5JJizgzB1kkklUlaHVMmF/UIY+YqSZByRnJNPCZcTdM6kPUhVK90Z5nqe3fM0rKZMTRiV7NuLumdQH6er2yT6KtGS/LbV3+jLX5SY9mFTpT95FqbRKZ0hbj7t/k0kmUX89ltS70u2H8dp4NuLumdQHqcrQ7Pq1zuSW0iN9928yySSqpsd2y62pbpg54u6Z1AfpF6EjUMLjypWSAAAAAElFTkSuQmCC\"></td><td style='text-align:center;vertical-align:middle; margin: 0.5em;border:1px #90999f solid;border-collapse:collapse'><img style='max-width: 100px; max-height:100px;display:inline' src=\"data:image/png;base64,iVBORw0KGgoAAAANSUhEUgAAAGkAAABpAQAAAAAR+TCXAAAABGdBTUEAALGPC/xhBQAAACBjSFJNAAB6JgAAgIQAAPoAAACA6AAAdTAAAOpgAAA6mAAAF3CculE8AAAAAmJLR0QAAd2KE6QAAAAVSURBVDjLY2AYBaNgFIyCUTAKcAIABicAAUZAVxIAAAAASUVORK5C\"></td><td style='text-align:center;vertical-align:middle; margin: 0.5em;border:1px #90999f solid;border-collapse:collapse'><img style='max-width: 100px; max-height:100px;display:inline' src=\"data:image/png;base64,iVBORw0KGgoAAAANSUhEUgAAAGkAAABpAQAAAAAR+TCXAAAABGdBTUEAALGPC/xhBQAAACBjSFJNAAB6JgAAgIQAAPoAAACA6AAAdTAAAOpgAAA6mAAAF3CculE8AAAAAmJLR0QAAd2KE6QAAAAVSURBVDjLY2AYBaNgFIyCUTAKcAIABicAAUZAVxIAAAAASUVORK5C\"></td><td style='text-align:center;vertical-align:middle; margin: 0.5em;border:1px #90999f solid;border-collapse:collapse'><img style='max-width: 100px; max-height:100px;display:inline' src=\"data:image/png;base64,iVBORw0KGgoAAAANSUhEUgAAAGkAAABpAQAAAAAR+TCXAAAABGdBTUEAALGPC/xhBQAAACBjSFJNAAB6JgAAgIQAAPoAAACA6AAAdTAAAOpgAAA6mAAAF3CculE8AAAAAmJLR0QAAd2KE6QAAAAVSURBVDjLY2AYBaNgFIyCUTAKcAIABicAAUZAVxIAAAAASUVORK5C\"></td><td style='text-align:center;vertical-align:middle; margin: 0.5em;border:1px #90999f solid;border-collapse:collapse'><img style='max-width: 100px; max-height:100px;display:inline' src=\"data:image/png;base64,iVBORw0KGgoAAAANSUhEUgAAAGkAAABpCAAAAAAc6VLmAAAABGdBTUEAALGPC/xhBQAAACBjSFJNAAB6JgAAgIQAAPoAAACA6AAAdTAAAOpgAAA6mAAAF3CculE8AAAAAmJLR0QA/4ePzL8AAAFVSURBVGje7ZjBbsMgEERNg6pGqfoD/f8P7KVpm8T0wOTwqhV2LDWO0cxlZQx+gIbV4vQ+LNOlhlJDnh7wtBB0u0wyiZphz1jfNexmf6bH3TNpG6TbXT7WcKrhgs/sHmJNJplELc7lI4Iy+76GtO6aTDKJarp8jGYjCx9q+MA75fLndddkkknU1eUFQXXIVw2vGMH75gt6HtFT5yE8K/8pk0yiMisP2ZQlxycaC54SJnxqrKLH3TNpG6T0VqNy8hF8Glpiag7PA1fBcAeZZBJ1zeVnBEmFyx7v1KgSnLk8ocsQdbmDTDKJykKpsFb2lvXlT1q/oHGM3vHJLjdpZVIOqxKW4D/RpErUM/yKb58mrUzKTL9yJBtTo7Eldulx90zaBunPP5bw2lmmJ1WGSfW4eyZtg5TlZF0m+dt8vtL0uB53z6RtkHKrHAmrbao0Gl2xmPQYpF/sREPUYNuwfwAAAABJRU5ErkJg\"></td><td style='text-align:center;vertical-align:middle; margin: 0.5em;border:1px #90999f solid;border-collapse:collapse'><img style='max-width: 100px; max-height:100px;display:inline' src=\"data:image/png;base64,iVBORw0KGgoAAAANSUhEUgAAAGkAAABpAQAAAAAR+TCXAAAABGdBTUEAALGPC/xhBQAAACBjSFJNAAB6JgAAgIQAAPoAAACA6AAAdTAAAOpgAAA6mAAAF3CculE8AAAAAmJLR0QAAd2KE6QAAAAVSURBVDjLY2AYBaNgFIyCUTAKcAIABicAAUZAVxIAAAAASUVORK5C\"></td><td style='text-align:center;vertical-align:middle; margin: 0.5em;border:1px #90999f solid;border-collapse:collapse'><img style='max-width: 100px; max-height:100px;display:inline' src=\"data:image/png;base64,iVBORw0KGgoAAAANSUhEUgAAAGkAAABpAQAAAAAR+TCXAAAABGdBTUEAALGPC/xhBQAAACBjSFJNAAB6JgAAgIQAAPoAAACA6AAAdTAAAOpgAAA6mAAAF3CculE8AAAAAmJLR0QAAd2KE6QAAAAVSURBVDjLY2AYBaNgFIyCUTAKcAIABicAAUZAVxIAAAAASUVORK5C\"></td><td style='text-align:center;vertical-align:middle; margin: 0.5em;border:1px #90999f solid;border-collapse:collapse'><img style='max-width: 100px; max-height:100px;display:inline' src=\"data:image/png;base64,iVBORw0KGgoAAAANSUhEUgAAAGkAAABpAQAAAAAR+TCXAAAABGdBTUEAALGPC/xhBQAAACBjSFJNAAB6JgAAgIQAAPoAAACA6AAAdTAAAOpgAAA6mAAAF3CculE8AAAAAmJLR0QAAd2KE6QAAAAVSURBVDjLY2AYBaNgFIyCUTAKcAIABicAAUZAVxIAAAAASUVORK5C\"></td></tr></tbody></table><div><small>(a vector displayed as a row to save space)</small></div>"
      ],
      "text/plain": [
       "16-element Array{Array{Gray{Float64},2},1}:\n",
       " [Gray{Float64}(0.0) Gray{Float64}(0.0) … Gray{Float64}(0.0) Gray{Float64}(0.0); Gray{Float64}(0.0) Gray{Float64}(0.0) … Gray{Float64}(0.0) Gray{Float64}(0.0); … ; Gray{Float64}(0.0) Gray{Float64}(0.0) … Gray{Float64}(0.0) Gray{Float64}(0.0); Gray{Float64}(0.0) Gray{Float64}(0.0) … Gray{Float64}(0.0) Gray{Float64}(0.0)]                                                                                               \n",
       " [Gray{Float64}(0.0) Gray{Float64}(0.0) … Gray{Float64}(0.0) Gray{Float64}(0.0); Gray{Float64}(0.0) Gray{Float64}(0.0) … Gray{Float64}(0.0) Gray{Float64}(0.0); … ; Gray{Float64}(0.0) Gray{Float64}(0.0) … Gray{Float64}(0.0) Gray{Float64}(0.0); Gray{Float64}(0.0) Gray{Float64}(0.0) … Gray{Float64}(0.0) Gray{Float64}(0.0)]                                                                                               \n",
       " [Gray{Float64}(0.0) Gray{Float64}(0.0) … Gray{Float64}(0.0) Gray{Float64}(0.0); Gray{Float64}(0.0) Gray{Float64}(0.0) … Gray{Float64}(0.0) Gray{Float64}(0.0); … ; Gray{Float64}(0.0) Gray{Float64}(0.0) … Gray{Float64}(0.0) Gray{Float64}(0.0); Gray{Float64}(0.0) Gray{Float64}(0.0) … Gray{Float64}(0.0) Gray{Float64}(0.0)]                                                                                               \n",
       " [Gray{Float64}(0.0) Gray{Float64}(0.0) … Gray{Float64}(0.0) Gray{Float64}(0.0); Gray{Float64}(0.0) Gray{Float64}(0.0) … Gray{Float64}(0.0) Gray{Float64}(0.0); … ; Gray{Float64}(0.0) Gray{Float64}(0.0) … Gray{Float64}(0.0) Gray{Float64}(0.0); Gray{Float64}(0.0) Gray{Float64}(0.0) … Gray{Float64}(0.0) Gray{Float64}(0.0)]                                                                                               \n",
       " [Gray{Float64}(0.0) Gray{Float64}(0.0) … Gray{Float64}(0.0) Gray{Float64}(0.0); Gray{Float64}(0.0) Gray{Float64}(0.0) … Gray{Float64}(0.0) Gray{Float64}(0.0); … ; Gray{Float64}(0.0) Gray{Float64}(0.0) … Gray{Float64}(0.0) Gray{Float64}(0.0); Gray{Float64}(0.0) Gray{Float64}(0.0) … Gray{Float64}(0.0) Gray{Float64}(0.0)]                                                                                               \n",
       " [Gray{Float64}(0.0) Gray{Float64}(0.0) … Gray{Float64}(0.0) Gray{Float64}(0.0); Gray{Float64}(0.0) Gray{Float64}(0.0) … Gray{Float64}(0.0) Gray{Float64}(0.0); … ; Gray{Float64}(0.0) Gray{Float64}(0.0) … Gray{Float64}(0.0) Gray{Float64}(0.0); Gray{Float64}(0.0) Gray{Float64}(0.0) … Gray{Float64}(0.0) Gray{Float64}(0.0)]                                                                                               \n",
       " [Gray{Float64}(0.128845) Gray{Float64}(0.128688) … Gray{Float64}(0.128688) Gray{Float64}(0.128688); Gray{Float64}(0.128998) Gray{Float64}(0.128998) … Gray{Float64}(0.128998) Gray{Float64}(0.128998); … ; Gray{Float64}(0.054875) Gray{Float64}(0.0530423) … Gray{Float64}(0.0346434) Gray{Float64}(0.0373877); Gray{Float64}(0.0575617) Gray{Float64}(0.0533061) … Gray{Float64}(0.0348314) Gray{Float64}(0.0385233)]        \n",
       " [Gray{Float64}(0.0) Gray{Float64}(0.0) … Gray{Float64}(0.0) Gray{Float64}(0.0); Gray{Float64}(0.0) Gray{Float64}(0.0) … Gray{Float64}(0.0) Gray{Float64}(0.0); … ; Gray{Float64}(0.0) Gray{Float64}(0.0) … Gray{Float64}(0.0) Gray{Float64}(0.0); Gray{Float64}(0.0) Gray{Float64}(0.0) … Gray{Float64}(0.0) Gray{Float64}(0.0)]                                                                                               \n",
       " [Gray{Float64}(0.0964519) Gray{Float64}(0.0963313) … Gray{Float64}(0.0963313) Gray{Float64}(0.0963313); Gray{Float64}(0.0964331) Gray{Float64}(0.0964331) … Gray{Float64}(0.0964331) Gray{Float64}(0.0964331); … ; Gray{Float64}(0.0393704) Gray{Float64}(0.0388114) … Gray{Float64}(0.0271483) Gray{Float64}(0.0275925); Gray{Float64}(0.0430796) Gray{Float64}(0.0417692) … Gray{Float64}(0.0258483) Gray{Float64}(0.029396)]\n",
       " [Gray{Float64}(0.0) Gray{Float64}(0.0) … Gray{Float64}(0.0) Gray{Float64}(0.0); Gray{Float64}(0.0) Gray{Float64}(0.0) … Gray{Float64}(0.0) Gray{Float64}(0.0); … ; Gray{Float64}(0.0) Gray{Float64}(0.0) … Gray{Float64}(0.0) Gray{Float64}(0.0); Gray{Float64}(0.0) Gray{Float64}(0.0) … Gray{Float64}(0.0) Gray{Float64}(0.0)]                                                                                               \n",
       " [Gray{Float64}(0.0) Gray{Float64}(0.0) … Gray{Float64}(0.0) Gray{Float64}(0.0); Gray{Float64}(0.0) Gray{Float64}(0.0) … Gray{Float64}(0.0) Gray{Float64}(0.0); … ; Gray{Float64}(0.0) Gray{Float64}(0.0) … Gray{Float64}(0.0) Gray{Float64}(0.0); Gray{Float64}(0.0) Gray{Float64}(0.0) … Gray{Float64}(0.0) Gray{Float64}(0.0)]                                                                                               \n",
       " [Gray{Float64}(0.0) Gray{Float64}(0.0) … Gray{Float64}(0.0) Gray{Float64}(0.0); Gray{Float64}(0.0) Gray{Float64}(0.0) … Gray{Float64}(0.0) Gray{Float64}(0.0); … ; Gray{Float64}(0.0) Gray{Float64}(0.0) … Gray{Float64}(0.0) Gray{Float64}(0.0); Gray{Float64}(0.0) Gray{Float64}(0.0) … Gray{Float64}(0.0) Gray{Float64}(0.0)]                                                                                               \n",
       " [Gray{Float64}(0.105609) Gray{Float64}(0.105488) … Gray{Float64}(0.105488) Gray{Float64}(0.105488); Gray{Float64}(0.105675) Gray{Float64}(0.105675) … Gray{Float64}(0.105675) Gray{Float64}(0.105675); … ; Gray{Float64}(0.0448571) Gray{Float64}(0.043115) … Gray{Float64}(0.0296169) Gray{Float64}(0.0312231); Gray{Float64}(0.0475218) Gray{Float64}(0.0442952) … Gray{Float64}(0.0296514) Gray{Float64}(0.0323072)]        \n",
       " [Gray{Float64}(0.0) Gray{Float64}(0.0) … Gray{Float64}(0.0) Gray{Float64}(0.0); Gray{Float64}(0.0) Gray{Float64}(0.0) … Gray{Float64}(0.0) Gray{Float64}(0.0); … ; Gray{Float64}(0.0) Gray{Float64}(0.0) … Gray{Float64}(0.0) Gray{Float64}(0.0); Gray{Float64}(0.0) Gray{Float64}(0.0) … Gray{Float64}(0.0) Gray{Float64}(0.0)]                                                                                               \n",
       " [Gray{Float64}(0.0) Gray{Float64}(0.0) … Gray{Float64}(0.0) Gray{Float64}(0.0); Gray{Float64}(0.0) Gray{Float64}(0.0) … Gray{Float64}(0.0) Gray{Float64}(0.0); … ; Gray{Float64}(0.0) Gray{Float64}(0.0) … Gray{Float64}(0.0) Gray{Float64}(0.0); Gray{Float64}(0.0) Gray{Float64}(0.0) … Gray{Float64}(0.0) Gray{Float64}(0.0)]                                                                                               \n",
       " [Gray{Float64}(0.0) Gray{Float64}(0.0) … Gray{Float64}(0.0) Gray{Float64}(0.0); Gray{Float64}(0.0) Gray{Float64}(0.0) … Gray{Float64}(0.0) Gray{Float64}(0.0); … ; Gray{Float64}(0.0) Gray{Float64}(0.0) … Gray{Float64}(0.0) Gray{Float64}(0.0); Gray{Float64}(0.0) Gray{Float64}(0.0) … Gray{Float64}(0.0) Gray{Float64}(0.0)]                                                                                               "
      ]
     },
     "execution_count": 50,
     "metadata": {},
     "output_type": "execute_result"
    }
   ],
   "source": [
    "output_conv = m_final(rotated_random_test_example_X_4d);\n",
    "displayChannels(output_conv)"
   ]
  },
  {
   "cell_type": "markdown",
   "metadata": {},
   "source": [
    "# NN"
   ]
  },
  {
   "cell_type": "code",
   "execution_count": null,
   "metadata": {},
   "outputs": [
    {
     "name": "stdout",
     "output_type": "stream",
     "text": [
      "accuracy_nn(nn_train_x, Y) = 0.3333333333333333\n",
      "accuracy_nn(nn_train_x, Y) = 0.3333333333333333\n",
      "accuracy_nn(nn_train_x, Y) = 0.3333333333333333\n",
      "accuracy_nn(nn_train_x, Y) = 0.48793333333333333\n",
      "accuracy_nn(nn_train_x, Y) = 0.4526\n",
      "accuracy_nn(nn_train_x, Y) = 0.4388666666666667\n",
      "accuracy_nn(nn_train_x, Y) = 0.5072666666666666\n",
      "accuracy_nn(nn_train_x, Y) = 0.5530666666666667\n",
      "accuracy_nn(nn_train_x, Y) = 0.588\n",
      "accuracy_nn(nn_train_x, Y) = 0.5983333333333334\n",
      "accuracy_nn(nn_train_x, Y) = 0.589\n",
      "accuracy_nn(nn_train_x, Y) = 0.5876\n"
     ]
    }
   ],
   "source": [
    "nn_train_x = MLDatasets.CIFAR10.convert2features(X) ./ 255\n",
    "m_nn = Chain(\n",
    "    Dense(3072, 2000),\n",
    "    Dense(2000, 500, relu),\n",
    "    Dense(500, 10),\n",
    "    softmax\n",
    ")\n",
    "\n",
    "loss_nn(x, y) = crossentropy(m_nn(x), y)\n",
    "\n",
    "accuracy_nn(x, y) = mean(onecold(m_nn(x)) .== onecold(y))\n",
    "\n",
    "dataset_nn = repeated((nn_train_x, Y), 100)\n",
    "evalcb = () -> @show(accuracy_nn(nn_train_x, Y))\n",
    "opt_nn = ADAM(params(m_nn))\n",
    "\n",
    "Flux.train!(loss_nn, dataset_nn, opt_nn, cb = throttle(evalcb, 10))"
   ]
  },
  {
   "cell_type": "code",
   "execution_count": null,
   "metadata": {},
   "outputs": [],
   "source": [
    "imgrgb = float2RGB(random_test_example_X)"
   ]
  },
  {
   "cell_type": "code",
   "execution_count": null,
   "metadata": {},
   "outputs": [],
   "source": [
    "accuracy_nn(MLDatasets.CIFAR10.convert2features(random_test_example_X)./255, random_test_example_Y)"
   ]
  },
  {
   "cell_type": "code",
   "execution_count": null,
   "metadata": {},
   "outputs": [],
   "source": [
    "accuracy_nn(MLDatasets.CIFAR10.convert2features(shifted_random_test_example_X_4d)./255, random_test_example_Y)"
   ]
  },
  {
   "cell_type": "code",
   "execution_count": null,
   "metadata": {},
   "outputs": [],
   "source": [
    "accuracy_nn(MLDatasets.CIFAR10.convert2features(rotated_random_test_example_X_4d)./255, random_test_example_Y)"
   ]
  }
 ],
 "metadata": {
  "kernelspec": {
   "display_name": "Julia 1.0.1",
   "language": "julia",
   "name": "julia-1.0"
  },
  "language_info": {
   "file_extension": ".jl",
   "mimetype": "application/julia",
   "name": "julia",
   "version": "1.0.1"
  },
  "latex_envs": {
   "LaTeX_envs_menu_present": true,
   "autoclose": false,
   "autocomplete": true,
   "bibliofile": "biblio.bib",
   "cite_by": "apalike",
   "current_citInitial": 1,
   "eqLabelWithNumbers": true,
   "eqNumInitial": 1,
   "hotkeys": {
    "equation": "Ctrl-E",
    "itemize": "Ctrl-I"
   },
   "labels_anchors": false,
   "latex_user_defs": false,
   "report_style_numbering": false,
   "user_envs_cfg": false
  }
 },
 "nbformat": 4,
 "nbformat_minor": 2
}
