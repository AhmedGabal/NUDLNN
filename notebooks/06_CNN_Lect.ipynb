{
 "cells": [
  {
   "cell_type": "markdown",
   "metadata": {},
   "source": [
    "# A first journey through CNN"
   ]
  },
  {
   "cell_type": "code",
   "execution_count": 1,
   "metadata": {},
   "outputs": [],
   "source": [
    "] activate ."
   ]
  },
  {
   "cell_type": "markdown",
   "metadata": {},
   "source": [
    "The above is to make sure we are using the same libraries  "
   ]
  },
  {
   "cell_type": "code",
   "execution_count": 2,
   "metadata": {},
   "outputs": [],
   "source": [
    "using Flux, Flux.Data.MNIST, Statistics\n",
    "using Flux: onehotbatch, onecold, crossentropy, throttle\n",
    "using Base.Iterators: repeated, partition\n",
    "using Images"
   ]
  },
  {
   "cell_type": "markdown",
   "metadata": {},
   "source": [
    "## Getting our Data Set"
   ]
  },
  {
   "cell_type": "code",
   "execution_count": 3,
   "metadata": {
    "scrolled": true
   },
   "outputs": [],
   "source": [
    "using MLDatasets\n",
    "# load full training set\n",
    "train_x, train_y = CIFAR10.traindata();\n",
    "train_y = onehotbatch(train_y, 0:9);\n",
    "# load full test set\n",
    "test_x,  test_y  = CIFAR10.testdata();\n",
    "test_y = onehotbatch(test_y, 0:9);"
   ]
  },
  {
   "cell_type": "markdown",
   "metadata": {},
   "source": [
    "The CIFAR10 data set will be downloaded....if run this for the first time. \n",
    "CIFAR10 is a collection of small image... lets have a look "
   ]
  },
  {
   "cell_type": "code",
   "execution_count": 4,
   "metadata": {},
   "outputs": [
    {
     "data": {
      "text/plain": [
       "(32, 32, 3, 50000)"
      ]
     },
     "execution_count": 4,
     "metadata": {},
     "output_type": "execute_result"
    }
   ],
   "source": [
    "train_x |> size"
   ]
  },
  {
   "cell_type": "markdown",
   "metadata": {},
   "source": [
    "From the that we can assume that we have 50,000 image. Each image is 32x32 in RGB space. Julia provides a convenient `colorview` function for make conversion for the matrix to a viewable image.  "
   ]
  },
  {
   "cell_type": "markdown",
   "metadata": {},
   "source": [
    "## Looking at our images"
   ]
  },
  {
   "cell_type": "code",
   "execution_count": 5,
   "metadata": {},
   "outputs": [
    {
     "data": {
      "image/png": "[encoded data removed]",
      "text/plain": [
       "32×32 mappedarray(RGB{Normed{UInt8,8}}, ImageCore.extractchannels, ::Array{N0f8,2}, ::Array{N0f8,2}, ::Array{N0f8,2}) with eltype RGB{Normed{UInt8,8}}:\n",
       " RGB{N0f8}(0.624,0.4,0.396)    …  RGB{N0f8}(0.965,0.545,0.322)\n",
       " RGB{N0f8}(0.588,0.357,0.373)     RGB{N0f8}(0.953,0.522,0.306)\n",
       " RGB{N0f8}(0.6,0.373,0.38)        RGB{N0f8}(0.957,0.518,0.302)\n",
       " RGB{N0f8}(0.604,0.486,0.478)     RGB{N0f8}(0.957,0.533,0.318)\n",
       " RGB{N0f8}(0.541,0.525,0.514)     RGB{N0f8}(0.941,0.494,0.271)\n",
       " RGB{N0f8}(0.722,0.584,0.537)  …  RGB{N0f8}(0.929,0.424,0.204)\n",
       " RGB{N0f8}(0.604,0.404,0.345)     RGB{N0f8}(0.925,0.42,0.188) \n",
       " RGB{N0f8}(0.302,0.18,0.157)      RGB{N0f8}(0.918,0.447,0.227)\n",
       " RGB{N0f8}(0.239,0.153,0.137)     RGB{N0f8}(0.816,0.384,0.208)\n",
       " RGB{N0f8}(0.251,0.165,0.145)     RGB{N0f8}(0.608,0.22,0.094) \n",
       " RGB{N0f8}(0.255,0.169,0.149)  …  RGB{N0f8}(0.467,0.129,0.039)\n",
       " RGB{N0f8}(0.275,0.196,0.18)      RGB{N0f8}(0.376,0.086,0.02) \n",
       " RGB{N0f8}(0.345,0.278,0.259)     RGB{N0f8}(0.31,0.071,0.024) \n",
       " ⋮                             ⋱                              \n",
       " RGB{N0f8}(0.298,0.243,0.216)  …  RGB{N0f8}(0.275,0.071,0.039)\n",
       " RGB{N0f8}(0.298,0.259,0.224)     RGB{N0f8}(0.29,0.063,0.039) \n",
       " RGB{N0f8}(0.325,0.278,0.231)     RGB{N0f8}(0.333,0.075,0.059)\n",
       " RGB{N0f8}(0.384,0.298,0.251)     RGB{N0f8}(0.361,0.078,0.071)\n",
       " RGB{N0f8}(0.408,0.314,0.239)     RGB{N0f8}(0.388,0.09,0.063) \n",
       " RGB{N0f8}(0.384,0.294,0.22)   …  RGB{N0f8}(0.443,0.106,0.047)\n",
       " RGB{N0f8}(0.369,0.275,0.224)     RGB{N0f8}(0.525,0.125,0.051)\n",
       " RGB{N0f8}(0.369,0.271,0.216)     RGB{N0f8}(0.58,0.145,0.063) \n",
       " RGB{N0f8}(0.396,0.282,0.243)     RGB{N0f8}(0.616,0.165,0.055)\n",
       " RGB{N0f8}(0.357,0.278,0.22)      RGB{N0f8}(0.651,0.184,0.055)\n",
       " RGB{N0f8}(0.29,0.247,0.216)   …  RGB{N0f8}(0.678,0.2,0.067)  \n",
       " RGB{N0f8}(0.298,0.227,0.216)     RGB{N0f8}(0.714,0.224,0.075)"
      ]
     },
     "execution_count": 5,
     "metadata": {},
     "output_type": "execute_result"
    }
   ],
   "source": [
    "colorview(RGB, [train_x[:,:,i,6] for i=1:3]...)"
   ]
  },
  {
   "cell_type": "markdown",
   "metadata": {},
   "source": [
    "So form the above we can guess that this rather low-res image of red car. In the above code, we have generated an array for arrays (`[train_x[:,:,i,6] for i=1:3]`) where each element is 2D array for each color channel (i.e. Red, Green, Blue). We take that array and splat it (using `...`) into the [`colorview`](http://juliaimages.github.io/latest/function_reference.html#ImageCore.colorview) function. So we can get viewable image. For the `Julia` beginner this might look a bit complex. Julia save us a great deal of for loops if we know how handle array indices. We can write a function with loops to get the same effect. Here is one:"
   ]
  },
  {
   "cell_type": "code",
   "execution_count": 6,
   "metadata": {},
   "outputs": [
    {
     "data": {
      "text/plain": [
       "float2RGB (generic function with 1 method)"
      ]
     },
     "execution_count": 6,
     "metadata": {},
     "output_type": "execute_result"
    }
   ],
   "source": [
    "function float2RGB(img)\n",
    "    imgrgb = zeros(RGB{Normed{UInt8,8}}, size(img, 1),size(img, 2))\n",
    "    for i=1:size(img, 1)\n",
    "        for j=1:size(img, 2)\n",
    "            imgrgb[i, j] = RGB(img[i, j, 1], img[i, j, 2], img[i, j,3])\n",
    "        end\n",
    "    end\n",
    "    imgrgb\n",
    "end"
   ]
  },
  {
   "cell_type": "markdown",
   "metadata": {},
   "source": [
    "We test it"
   ]
  },
  {
   "cell_type": "code",
   "execution_count": 7,
   "metadata": {},
   "outputs": [
    {
     "data": {
      "image/png": "[encoded data removed]",
      "text/plain": [
       "32×32 Array{RGB{N0f8},2} with eltype RGB{Normed{UInt8,8}}:\n",
       " RGB{N0f8}(0.624,0.4,0.396)    …  RGB{N0f8}(0.965,0.545,0.322)\n",
       " RGB{N0f8}(0.588,0.357,0.373)     RGB{N0f8}(0.953,0.522,0.306)\n",
       " RGB{N0f8}(0.6,0.373,0.38)        RGB{N0f8}(0.957,0.518,0.302)\n",
       " RGB{N0f8}(0.604,0.486,0.478)     RGB{N0f8}(0.957,0.533,0.318)\n",
       " RGB{N0f8}(0.541,0.525,0.514)     RGB{N0f8}(0.941,0.494,0.271)\n",
       " RGB{N0f8}(0.722,0.584,0.537)  …  RGB{N0f8}(0.929,0.424,0.204)\n",
       " RGB{N0f8}(0.604,0.404,0.345)     RGB{N0f8}(0.925,0.42,0.188) \n",
       " RGB{N0f8}(0.302,0.18,0.157)      RGB{N0f8}(0.918,0.447,0.227)\n",
       " RGB{N0f8}(0.239,0.153,0.137)     RGB{N0f8}(0.816,0.384,0.208)\n",
       " RGB{N0f8}(0.251,0.165,0.145)     RGB{N0f8}(0.608,0.22,0.094) \n",
       " RGB{N0f8}(0.255,0.169,0.149)  …  RGB{N0f8}(0.467,0.129,0.039)\n",
       " RGB{N0f8}(0.275,0.196,0.18)      RGB{N0f8}(0.376,0.086,0.02) \n",
       " RGB{N0f8}(0.345,0.278,0.259)     RGB{N0f8}(0.31,0.071,0.024) \n",
       " ⋮                             ⋱                              \n",
       " RGB{N0f8}(0.298,0.243,0.216)  …  RGB{N0f8}(0.275,0.071,0.039)\n",
       " RGB{N0f8}(0.298,0.259,0.224)     RGB{N0f8}(0.29,0.063,0.039) \n",
       " RGB{N0f8}(0.325,0.278,0.231)     RGB{N0f8}(0.333,0.075,0.059)\n",
       " RGB{N0f8}(0.384,0.298,0.251)     RGB{N0f8}(0.361,0.078,0.071)\n",
       " RGB{N0f8}(0.408,0.314,0.239)     RGB{N0f8}(0.388,0.09,0.063) \n",
       " RGB{N0f8}(0.384,0.294,0.22)   …  RGB{N0f8}(0.443,0.106,0.047)\n",
       " RGB{N0f8}(0.369,0.275,0.224)     RGB{N0f8}(0.525,0.125,0.051)\n",
       " RGB{N0f8}(0.369,0.271,0.216)     RGB{N0f8}(0.58,0.145,0.063) \n",
       " RGB{N0f8}(0.396,0.282,0.243)     RGB{N0f8}(0.616,0.165,0.055)\n",
       " RGB{N0f8}(0.357,0.278,0.22)      RGB{N0f8}(0.651,0.184,0.055)\n",
       " RGB{N0f8}(0.29,0.247,0.216)   …  RGB{N0f8}(0.678,0.2,0.067)  \n",
       " RGB{N0f8}(0.298,0.227,0.216)     RGB{N0f8}(0.714,0.224,0.075)"
      ]
     },
     "execution_count": 7,
     "metadata": {},
     "output_type": "execute_result"
    }
   ],
   "source": [
    "float2RGB(train_x[:,:,:,6])"
   ]
  },
  {
   "cell_type": "markdown",
   "metadata": {},
   "source": [
    "...see same result. But if we are really good a `Julia`, an even more compact way, without creating array of arrays etc... is to use [`permutedims`](https://docs.julialang.org/en/v1/base/arrays/index.html#Base.permutedims). "
   ]
  },
  {
   "cell_type": "code",
   "execution_count": 8,
   "metadata": {},
   "outputs": [
    {
     "data": {
      "image/png": "[encoded data removed]",
      "text/plain": [
       "32×32 reshape(reinterpret(RGB{N0f8}, ::Array{N0f8,3}), 32, 32) with eltype RGB{Normed{UInt8,8}}:\n",
       " RGB{N0f8}(0.624,0.4,0.396)    …  RGB{N0f8}(0.965,0.545,0.322)\n",
       " RGB{N0f8}(0.588,0.357,0.373)     RGB{N0f8}(0.953,0.522,0.306)\n",
       " RGB{N0f8}(0.6,0.373,0.38)        RGB{N0f8}(0.957,0.518,0.302)\n",
       " RGB{N0f8}(0.604,0.486,0.478)     RGB{N0f8}(0.957,0.533,0.318)\n",
       " RGB{N0f8}(0.541,0.525,0.514)     RGB{N0f8}(0.941,0.494,0.271)\n",
       " RGB{N0f8}(0.722,0.584,0.537)  …  RGB{N0f8}(0.929,0.424,0.204)\n",
       " RGB{N0f8}(0.604,0.404,0.345)     RGB{N0f8}(0.925,0.42,0.188) \n",
       " RGB{N0f8}(0.302,0.18,0.157)      RGB{N0f8}(0.918,0.447,0.227)\n",
       " RGB{N0f8}(0.239,0.153,0.137)     RGB{N0f8}(0.816,0.384,0.208)\n",
       " RGB{N0f8}(0.251,0.165,0.145)     RGB{N0f8}(0.608,0.22,0.094) \n",
       " RGB{N0f8}(0.255,0.169,0.149)  …  RGB{N0f8}(0.467,0.129,0.039)\n",
       " RGB{N0f8}(0.275,0.196,0.18)      RGB{N0f8}(0.376,0.086,0.02) \n",
       " RGB{N0f8}(0.345,0.278,0.259)     RGB{N0f8}(0.31,0.071,0.024) \n",
       " ⋮                             ⋱                              \n",
       " RGB{N0f8}(0.298,0.243,0.216)  …  RGB{N0f8}(0.275,0.071,0.039)\n",
       " RGB{N0f8}(0.298,0.259,0.224)     RGB{N0f8}(0.29,0.063,0.039) \n",
       " RGB{N0f8}(0.325,0.278,0.231)     RGB{N0f8}(0.333,0.075,0.059)\n",
       " RGB{N0f8}(0.384,0.298,0.251)     RGB{N0f8}(0.361,0.078,0.071)\n",
       " RGB{N0f8}(0.408,0.314,0.239)     RGB{N0f8}(0.388,0.09,0.063) \n",
       " RGB{N0f8}(0.384,0.294,0.22)   …  RGB{N0f8}(0.443,0.106,0.047)\n",
       " RGB{N0f8}(0.369,0.275,0.224)     RGB{N0f8}(0.525,0.125,0.051)\n",
       " RGB{N0f8}(0.369,0.271,0.216)     RGB{N0f8}(0.58,0.145,0.063) \n",
       " RGB{N0f8}(0.396,0.282,0.243)     RGB{N0f8}(0.616,0.165,0.055)\n",
       " RGB{N0f8}(0.357,0.278,0.22)      RGB{N0f8}(0.651,0.184,0.055)\n",
       " RGB{N0f8}(0.29,0.247,0.216)   …  RGB{N0f8}(0.678,0.2,0.067)  \n",
       " RGB{N0f8}(0.298,0.227,0.216)     RGB{N0f8}(0.714,0.224,0.075)"
      ]
     },
     "execution_count": 8,
     "metadata": {},
     "output_type": "execute_result"
    }
   ],
   "source": [
    "colorview(RGB, permutedims(train_x[:,:,:,6],[3,1,2]))"
   ]
  },
  {
   "cell_type": "markdown",
   "metadata": {},
   "source": [
    "Same result. But with `permutedims` we get more flexibility...if our necks get tired looking sideways for the car we can do "
   ]
  },
  {
   "cell_type": "code",
   "execution_count": 9,
   "metadata": {},
   "outputs": [
    {
     "data": {
      "image/png": "[encoded data removed]",
      "text/plain": [
       "32×32 reshape(reinterpret(RGB{N0f8}, ::Array{N0f8,3}), 32, 32) with eltype RGB{Normed{UInt8,8}}:\n",
       " RGB{N0f8}(0.624,0.4,0.396)    …  RGB{N0f8}(0.298,0.227,0.216)\n",
       " RGB{N0f8}(0.557,0.294,0.267)     RGB{N0f8}(0.337,0.271,0.239)\n",
       " RGB{N0f8}(0.427,0.263,0.294)     RGB{N0f8}(0.365,0.282,0.278)\n",
       " RGB{N0f8}(0.392,0.275,0.298)     RGB{N0f8}(0.333,0.235,0.282)\n",
       " RGB{N0f8}(0.42,0.278,0.227)      RGB{N0f8}(0.412,0.314,0.392)\n",
       " RGB{N0f8}(0.443,0.322,0.243)  …  RGB{N0f8}(0.671,0.573,0.627)\n",
       " RGB{N0f8}(0.396,0.298,0.263)     RGB{N0f8}(0.729,0.541,0.498)\n",
       " RGB{N0f8}(0.478,0.31,0.294)      RGB{N0f8}(0.596,0.396,0.353)\n",
       " RGB{N0f8}(0.635,0.361,0.333)     RGB{N0f8}(0.737,0.592,0.588)\n",
       " RGB{N0f8}(0.565,0.259,0.2)       RGB{N0f8}(0.682,0.533,0.518)\n",
       " RGB{N0f8}(0.49,0.212,0.137)   …  RGB{N0f8}(0.631,0.459,0.412)\n",
       " RGB{N0f8}(0.424,0.18,0.106)      RGB{N0f8}(0.651,0.478,0.435)\n",
       " RGB{N0f8}(0.537,0.294,0.216)     RGB{N0f8}(0.678,0.541,0.518)\n",
       " ⋮                             ⋱                              \n",
       " RGB{N0f8}(0.973,0.471,0.208)  …  RGB{N0f8}(0.576,0.216,0.192)\n",
       " RGB{N0f8}(0.945,0.447,0.169)     RGB{N0f8}(0.69,0.278,0.208) \n",
       " RGB{N0f8}(0.949,0.459,0.184)     RGB{N0f8}(0.827,0.396,0.239)\n",
       " RGB{N0f8}(0.945,0.455,0.188)     RGB{N0f8}(0.957,0.514,0.322)\n",
       " RGB{N0f8}(0.937,0.459,0.196)     RGB{N0f8}(0.988,0.529,0.345)\n",
       " RGB{N0f8}(0.961,0.494,0.239)  …  RGB{N0f8}(0.949,0.455,0.282)\n",
       " RGB{N0f8}(0.961,0.502,0.251)     RGB{N0f8}(0.922,0.392,0.216)\n",
       " RGB{N0f8}(0.961,0.494,0.259)     RGB{N0f8}(0.867,0.353,0.196)\n",
       " RGB{N0f8}(0.949,0.486,0.255)     RGB{N0f8}(0.812,0.318,0.169)\n",
       " RGB{N0f8}(0.957,0.506,0.275)     RGB{N0f8}(0.784,0.286,0.141)\n",
       " RGB{N0f8}(0.965,0.522,0.29)   …  RGB{N0f8}(0.753,0.255,0.106)\n",
       " RGB{N0f8}(0.965,0.545,0.322)     RGB{N0f8}(0.714,0.224,0.075)"
      ]
     },
     "execution_count": 9,
     "metadata": {},
     "output_type": "execute_result"
    }
   ],
   "source": [
    "colorview(RGB, permutedims(train_x[:,:,:,6],[3,2,1]))"
   ]
  },
  {
   "cell_type": "markdown",
   "metadata": {},
   "source": [
    "... a little better...don't you think?"
   ]
  },
  {
   "cell_type": "markdown",
   "metadata": {},
   "source": [
    "Now if we memory conscious, we don't like allocate new memory to look at the image. We can use [PermutedDimsArray](https://docs.julialang.org/en/v1/base/arrays/index.html#Base.PermutedDimsArrays.PermutedDimsArray) to get a [view](https://docs.julialang.org/en/v1/base/arrays/index.html#Views-(SubArrays-and-other-view-types)-1) of our permuted image. "
   ]
  },
  {
   "cell_type": "code",
   "execution_count": 10,
   "metadata": {},
   "outputs": [
    {
     "data": {
      "image/png": "[encoded data removed]",
      "text/plain": [
       "32×32 reshape(reinterpret(RGB{N0f8}, PermutedDimsArray(::Array{N0f8,3}, (3, 2, 1))), 32, 32) with eltype RGB{Normed{UInt8,8}}:\n",
       " RGB{N0f8}(0.624,0.4,0.396)    …  RGB{N0f8}(0.298,0.227,0.216)\n",
       " RGB{N0f8}(0.557,0.294,0.267)     RGB{N0f8}(0.337,0.271,0.239)\n",
       " RGB{N0f8}(0.427,0.263,0.294)     RGB{N0f8}(0.365,0.282,0.278)\n",
       " RGB{N0f8}(0.392,0.275,0.298)     RGB{N0f8}(0.333,0.235,0.282)\n",
       " RGB{N0f8}(0.42,0.278,0.227)      RGB{N0f8}(0.412,0.314,0.392)\n",
       " RGB{N0f8}(0.443,0.322,0.243)  …  RGB{N0f8}(0.671,0.573,0.627)\n",
       " RGB{N0f8}(0.396,0.298,0.263)     RGB{N0f8}(0.729,0.541,0.498)\n",
       " RGB{N0f8}(0.478,0.31,0.294)      RGB{N0f8}(0.596,0.396,0.353)\n",
       " RGB{N0f8}(0.635,0.361,0.333)     RGB{N0f8}(0.737,0.592,0.588)\n",
       " RGB{N0f8}(0.565,0.259,0.2)       RGB{N0f8}(0.682,0.533,0.518)\n",
       " RGB{N0f8}(0.49,0.212,0.137)   …  RGB{N0f8}(0.631,0.459,0.412)\n",
       " RGB{N0f8}(0.424,0.18,0.106)      RGB{N0f8}(0.651,0.478,0.435)\n",
       " RGB{N0f8}(0.537,0.294,0.216)     RGB{N0f8}(0.678,0.541,0.518)\n",
       " ⋮                             ⋱                              \n",
       " RGB{N0f8}(0.973,0.471,0.208)  …  RGB{N0f8}(0.576,0.216,0.192)\n",
       " RGB{N0f8}(0.945,0.447,0.169)     RGB{N0f8}(0.69,0.278,0.208) \n",
       " RGB{N0f8}(0.949,0.459,0.184)     RGB{N0f8}(0.827,0.396,0.239)\n",
       " RGB{N0f8}(0.945,0.455,0.188)     RGB{N0f8}(0.957,0.514,0.322)\n",
       " RGB{N0f8}(0.937,0.459,0.196)     RGB{N0f8}(0.988,0.529,0.345)\n",
       " RGB{N0f8}(0.961,0.494,0.239)  …  RGB{N0f8}(0.949,0.455,0.282)\n",
       " RGB{N0f8}(0.961,0.502,0.251)     RGB{N0f8}(0.922,0.392,0.216)\n",
       " RGB{N0f8}(0.961,0.494,0.259)     RGB{N0f8}(0.867,0.353,0.196)\n",
       " RGB{N0f8}(0.949,0.486,0.255)     RGB{N0f8}(0.812,0.318,0.169)\n",
       " RGB{N0f8}(0.957,0.506,0.275)     RGB{N0f8}(0.784,0.286,0.141)\n",
       " RGB{N0f8}(0.965,0.522,0.29)   …  RGB{N0f8}(0.753,0.255,0.106)\n",
       " RGB{N0f8}(0.965,0.545,0.322)     RGB{N0f8}(0.714,0.224,0.075)"
      ]
     },
     "execution_count": 10,
     "metadata": {},
     "output_type": "execute_result"
    }
   ],
   "source": [
    "colorview(RGB,PermutedDimsArray(train_x[:,:,:,6],[3,2,1]))"
   ]
  },
  {
   "cell_type": "markdown",
   "metadata": {},
   "source": [
    "Same result, but we saved some memory. "
   ]
  },
  {
   "cell_type": "markdown",
   "metadata": {},
   "source": [
    "## Manipulating our images"
   ]
  },
  {
   "cell_type": "markdown",
   "metadata": {},
   "source": [
    "Before we even start doing CNNs we want to write a few simple functions to allow us to manipulate our images. "
   ]
  },
  {
   "cell_type": "code",
   "execution_count": 11,
   "metadata": {},
   "outputs": [
    {
     "data": {
      "text/plain": [
       "shiftToLeft (generic function with 1 method)"
      ]
     },
     "execution_count": 11,
     "metadata": {},
     "output_type": "execute_result"
    }
   ],
   "source": [
    "function shiftToLeft(img, n)\n",
    "    r, g, b = img[:, n+1:end, 1], img[:, n+1:end, 2], img[:, n+1:end, 3]\n",
    "    r_shift = hcat(r, zeros(size(img, 1), n))\n",
    "    g_shift = hcat(g, zeros(size(img, 1), n))\n",
    "    b_shift = hcat(b, zeros(size(img, 1), n))\n",
    "    shifted_img = zeros(size(img, 1), size(img, 2), 3)\n",
    "    shifted_img[:, :, 1] = r_shift\n",
    "    shifted_img[:, :, 2] = g_shift\n",
    "    shifted_img[:, :, 3] = b_shift\n",
    "    shifted_img\n",
    "end"
   ]
  },
  {
   "cell_type": "markdown",
   "metadata": {},
   "source": [
    "Lets see what this does"
   ]
  },
  {
   "cell_type": "code",
   "execution_count": 12,
   "metadata": {},
   "outputs": [
    {
     "data": {
      "image/png": "[encoded data removed]",
      "text/plain": [
       "32×32 reshape(reinterpret(RGB{Float64}, PermutedDimsArray(::Array{Float64,3}, (3, 1, 2))), 32, 32) with eltype RGB{Float64}:\n",
       " RGB{Float64}(0.396078,0.298039,0.262745)  …  RGB{Float64}(0.0,0.0,0.0)\n",
       " RGB{Float64}(0.635294,0.384314,0.356863)     RGB{Float64}(0.0,0.0,0.0)\n",
       " RGB{Float64}(0.686275,0.305882,0.290196)     RGB{Float64}(0.0,0.0,0.0)\n",
       " RGB{Float64}(0.65098,0.243137,0.223529)      RGB{Float64}(0.0,0.0,0.0)\n",
       " RGB{Float64}(0.784314,0.427451,0.380392)     RGB{Float64}(0.0,0.0,0.0)\n",
       " RGB{Float64}(0.74902,0.403922,0.337255)   …  RGB{Float64}(0.0,0.0,0.0)\n",
       " RGB{Float64}(0.423529,0.239216,0.137255)     RGB{Float64}(0.0,0.0,0.0)\n",
       " RGB{Float64}(0.34902,0.203922,0.121569)      RGB{Float64}(0.0,0.0,0.0)\n",
       " RGB{Float64}(0.623529,0.443137,0.376471)     RGB{Float64}(0.0,0.0,0.0)\n",
       " RGB{Float64}(0.788235,0.54902,0.498039)      RGB{Float64}(0.0,0.0,0.0)\n",
       " RGB{Float64}(0.74902,0.458824,0.415686)   …  RGB{Float64}(0.0,0.0,0.0)\n",
       " RGB{Float64}(0.670588,0.352941,0.305882)     RGB{Float64}(0.0,0.0,0.0)\n",
       " RGB{Float64}(0.631373,0.294118,0.239216)     RGB{Float64}(0.0,0.0,0.0)\n",
       " ⋮                                         ⋱                           \n",
       " RGB{Float64}(0.533333,0.407843,0.380392)  …  RGB{Float64}(0.0,0.0,0.0)\n",
       " RGB{Float64}(0.352941,0.305882,0.278431)     RGB{Float64}(0.0,0.0,0.0)\n",
       " RGB{Float64}(0.266667,0.243137,0.235294)     RGB{Float64}(0.0,0.0,0.0)\n",
       " RGB{Float64}(0.380392,0.372549,0.384314)     RGB{Float64}(0.0,0.0,0.0)\n",
       " RGB{Float64}(0.839216,0.854902,0.843137)     RGB{Float64}(0.0,0.0,0.0)\n",
       " RGB{Float64}(0.882353,0.827451,0.807843)  …  RGB{Float64}(0.0,0.0,0.0)\n",
       " RGB{Float64}(0.792157,0.698039,0.701961)     RGB{Float64}(0.0,0.0,0.0)\n",
       " RGB{Float64}(0.360784,0.345098,0.388235)     RGB{Float64}(0.0,0.0,0.0)\n",
       " RGB{Float64}(0.396078,0.364706,0.462745)     RGB{Float64}(0.0,0.0,0.0)\n",
       " RGB{Float64}(0.415686,0.368627,0.478431)     RGB{Float64}(0.0,0.0,0.0)\n",
       " RGB{Float64}(0.32549,0.278431,0.341176)   …  RGB{Float64}(0.0,0.0,0.0)\n",
       " RGB{Float64}(0.729412,0.541176,0.498039)     RGB{Float64}(0.0,0.0,0.0)"
      ]
     },
     "execution_count": 12,
     "metadata": {},
     "output_type": "execute_result"
    }
   ],
   "source": [
    "red_car=train_x[:,:,:,6]\n",
    "shifted_red_car=shiftToLeft(red_car,6) # Shifted five pixels to the right\n",
    "colorview(RGB,PermutedDimsArray(shifted_red_car,[3,1,2]))"
   ]
  },
  {
   "cell_type": "code",
   "execution_count": 13,
   "metadata": {},
   "outputs": [
    {
     "data": {
      "text/plain": [
       "rotate_right (generic function with 1 method)"
      ]
     },
     "execution_count": 13,
     "metadata": {},
     "output_type": "execute_result"
    }
   ],
   "source": [
    "function rotate_right(img)\n",
    "    r, g, b = img[:, :, 1], img[:, :, 2], img[:, :, 3]\n",
    "    rotated_img = zeros(size(img, 1), size(img, 2), 3)\n",
    "    rotated_img[:, :, 1] = r'\n",
    "    rotated_img[:, :, 2] = g'\n",
    "    rotated_img[:, :, 3] = b'\n",
    "    rotated_img\n",
    "end"
   ]
  },
  {
   "cell_type": "markdown",
   "metadata": {},
   "source": [
    "The name says it all. Lets see some rotation in action"
   ]
  },
  {
   "cell_type": "code",
   "execution_count": 14,
   "metadata": {},
   "outputs": [
    {
     "data": {
      "image/png": "[encoded data removed]",
      "text/plain": [
       "32×32 reshape(reinterpret(RGB{Float64}, PermutedDimsArray(::Array{Float64,3}, (3, 1, 2))), 32, 32) with eltype RGB{Float64}:\n",
       " RGB{Float64}(0.623529,0.4,0.396078)       …  RGB{Float64}(0.298039,0.227451,0.215686) \n",
       " RGB{Float64}(0.556863,0.294118,0.266667)     RGB{Float64}(0.337255,0.270588,0.239216) \n",
       " RGB{Float64}(0.427451,0.262745,0.294118)     RGB{Float64}(0.364706,0.282353,0.278431) \n",
       " RGB{Float64}(0.392157,0.27451,0.298039)      RGB{Float64}(0.333333,0.235294,0.282353) \n",
       " RGB{Float64}(0.419608,0.278431,0.227451)     RGB{Float64}(0.411765,0.313725,0.392157) \n",
       " RGB{Float64}(0.443137,0.321569,0.243137)  …  RGB{Float64}(0.670588,0.572549,0.627451) \n",
       " RGB{Float64}(0.396078,0.298039,0.262745)     RGB{Float64}(0.729412,0.541176,0.498039) \n",
       " RGB{Float64}(0.478431,0.309804,0.294118)     RGB{Float64}(0.596078,0.396078,0.352941) \n",
       " RGB{Float64}(0.635294,0.360784,0.333333)     RGB{Float64}(0.737255,0.592157,0.588235) \n",
       " RGB{Float64}(0.564706,0.258824,0.2)          RGB{Float64}(0.682353,0.533333,0.517647) \n",
       " RGB{Float64}(0.490196,0.211765,0.137255)  …  RGB{Float64}(0.631373,0.458824,0.411765) \n",
       " RGB{Float64}(0.423529,0.180392,0.105882)     RGB{Float64}(0.65098,0.478431,0.435294)  \n",
       " RGB{Float64}(0.537255,0.294118,0.215686)     RGB{Float64}(0.678431,0.541176,0.517647) \n",
       " ⋮                                         ⋱                                           \n",
       " RGB{Float64}(0.972549,0.470588,0.207843)  …  RGB{Float64}(0.576471,0.215686,0.192157) \n",
       " RGB{Float64}(0.945098,0.447059,0.168627)     RGB{Float64}(0.690196,0.278431,0.207843) \n",
       " RGB{Float64}(0.94902,0.458824,0.184314)      RGB{Float64}(0.827451,0.396078,0.239216) \n",
       " RGB{Float64}(0.945098,0.454902,0.188235)     RGB{Float64}(0.956863,0.513725,0.321569) \n",
       " RGB{Float64}(0.937255,0.458824,0.196078)     RGB{Float64}(0.988235,0.529412,0.345098) \n",
       " RGB{Float64}(0.960784,0.494118,0.239216)  …  RGB{Float64}(0.94902,0.454902,0.282353)  \n",
       " RGB{Float64}(0.960784,0.501961,0.25098)      RGB{Float64}(0.921569,0.392157,0.215686) \n",
       " RGB{Float64}(0.960784,0.494118,0.258824)     RGB{Float64}(0.866667,0.352941,0.196078) \n",
       " RGB{Float64}(0.94902,0.486275,0.254902)      RGB{Float64}(0.811765,0.317647,0.168627) \n",
       " RGB{Float64}(0.956863,0.505882,0.27451)      RGB{Float64}(0.784314,0.286275,0.141176) \n",
       " RGB{Float64}(0.964706,0.521569,0.290196)  …  RGB{Float64}(0.752941,0.254902,0.105882) \n",
       " RGB{Float64}(0.964706,0.545098,0.321569)     RGB{Float64}(0.713725,0.223529,0.0745098)"
      ]
     },
     "execution_count": 14,
     "metadata": {},
     "output_type": "execute_result"
    }
   ],
   "source": [
    "rotated_red_car=rotate_right(red_car)\n",
    "colorview(RGB,PermutedDimsArray(rotated_red_car,[3,1,2]))"
   ]
  },
  {
   "cell_type": "markdown",
   "metadata": {},
   "source": [
    "Note here that unlike what we did in the previous section via dimension permutation, here we rotated the original 3-dimensional input. "
   ]
  },
  {
   "cell_type": "markdown",
   "metadata": {},
   "source": [
    "A question for those who love elegant  students: **Can we write `rotate_right` and `shiftToLeft` more compactly and elegantly?**"
   ]
  },
  {
   "cell_type": "markdown",
   "metadata": {},
   "source": [
    "Finally we write a convenience method to just show our images with minimum fuss. "
   ]
  },
  {
   "cell_type": "code",
   "execution_count": 15,
   "metadata": {},
   "outputs": [
    {
     "data": {
      "text/plain": [
       "showImage (generic function with 1 method)"
      ]
     },
     "execution_count": 15,
     "metadata": {},
     "output_type": "execute_result"
    }
   ],
   "source": [
    "function showImage(img)\n",
    "    colorview(RGB,PermutedDimsArray(img,[3,1,2]))\n",
    "end"
   ]
  },
  {
   "cell_type": "code",
   "execution_count": 16,
   "metadata": {},
   "outputs": [
    {
     "data": {
      "image/png": "[encoded data removed]",
      "text/plain": [
       "32×32 reshape(reinterpret(RGB{N0f8}, PermutedDimsArray(::Array{N0f8,3}, (3, 1, 2))), 32, 32) with eltype RGB{Normed{UInt8,8}}:\n",
       " RGB{N0f8}(0.624,0.4,0.396)    …  RGB{N0f8}(0.965,0.545,0.322)\n",
       " RGB{N0f8}(0.588,0.357,0.373)     RGB{N0f8}(0.953,0.522,0.306)\n",
       " RGB{N0f8}(0.6,0.373,0.38)        RGB{N0f8}(0.957,0.518,0.302)\n",
       " RGB{N0f8}(0.604,0.486,0.478)     RGB{N0f8}(0.957,0.533,0.318)\n",
       " RGB{N0f8}(0.541,0.525,0.514)     RGB{N0f8}(0.941,0.494,0.271)\n",
       " RGB{N0f8}(0.722,0.584,0.537)  …  RGB{N0f8}(0.929,0.424,0.204)\n",
       " RGB{N0f8}(0.604,0.404,0.345)     RGB{N0f8}(0.925,0.42,0.188) \n",
       " RGB{N0f8}(0.302,0.18,0.157)      RGB{N0f8}(0.918,0.447,0.227)\n",
       " RGB{N0f8}(0.239,0.153,0.137)     RGB{N0f8}(0.816,0.384,0.208)\n",
       " RGB{N0f8}(0.251,0.165,0.145)     RGB{N0f8}(0.608,0.22,0.094) \n",
       " RGB{N0f8}(0.255,0.169,0.149)  …  RGB{N0f8}(0.467,0.129,0.039)\n",
       " RGB{N0f8}(0.275,0.196,0.18)      RGB{N0f8}(0.376,0.086,0.02) \n",
       " RGB{N0f8}(0.345,0.278,0.259)     RGB{N0f8}(0.31,0.071,0.024) \n",
       " ⋮                             ⋱                              \n",
       " RGB{N0f8}(0.298,0.243,0.216)  …  RGB{N0f8}(0.275,0.071,0.039)\n",
       " RGB{N0f8}(0.298,0.259,0.224)     RGB{N0f8}(0.29,0.063,0.039) \n",
       " RGB{N0f8}(0.325,0.278,0.231)     RGB{N0f8}(0.333,0.075,0.059)\n",
       " RGB{N0f8}(0.384,0.298,0.251)     RGB{N0f8}(0.361,0.078,0.071)\n",
       " RGB{N0f8}(0.408,0.314,0.239)     RGB{N0f8}(0.388,0.09,0.063) \n",
       " RGB{N0f8}(0.384,0.294,0.22)   …  RGB{N0f8}(0.443,0.106,0.047)\n",
       " RGB{N0f8}(0.369,0.275,0.224)     RGB{N0f8}(0.525,0.125,0.051)\n",
       " RGB{N0f8}(0.369,0.271,0.216)     RGB{N0f8}(0.58,0.145,0.063) \n",
       " RGB{N0f8}(0.396,0.282,0.243)     RGB{N0f8}(0.616,0.165,0.055)\n",
       " RGB{N0f8}(0.357,0.278,0.22)      RGB{N0f8}(0.651,0.184,0.055)\n",
       " RGB{N0f8}(0.29,0.247,0.216)   …  RGB{N0f8}(0.678,0.2,0.067)  \n",
       " RGB{N0f8}(0.298,0.227,0.216)     RGB{N0f8}(0.714,0.224,0.075)"
      ]
     },
     "execution_count": 16,
     "metadata": {},
     "output_type": "execute_result"
    }
   ],
   "source": [
    "showImage(red_car)"
   ]
  },
  {
   "cell_type": "markdown",
   "metadata": {},
   "source": [
    "## Some function for shifting and manipulating the  whole data set around"
   ]
  },
  {
   "cell_type": "code",
   "execution_count": 17,
   "metadata": {},
   "outputs": [
    {
     "data": {
      "text/plain": [
       "createShiftedTrainDataSet"
      ]
     },
     "execution_count": 17,
     "metadata": {},
     "output_type": "execute_result"
    }
   ],
   "source": [
    "\"\"\"\n",
    "Takes a particular class in a data set. Makes copy of it, shifts the copy\n",
    "by a random amount and appends to the bottom of new (shifted) data set\n",
    "\"\"\"\n",
    "function createShiftedTrainDataSet(X, Y,  class_num)\n",
    "    indxs = findall(Y[class_num, :] .== true) # finding all the incides of the `class_num`\n",
    "    X_shifted = zeros(32, 32, 3, size(X, 4) + length(indxs))\n",
    "    X_shifted[:,:,:, 1:size(X, 4)] = deepcopy(X)\n",
    "    counter = size(X, 4) + 1\n",
    "    for indx in indxs\n",
    "        X_shifted[:, :, :, counter] = shiftToLeft(X[:, :, :, indx], rand(1:32));\n",
    "        counter += 1;\n",
    "    end\n",
    "    Y_shifted = hcat(Y, Y[:, indxs])\n",
    "    X_shifted, Y_shifted\n",
    "end"
   ]
  },
  {
   "cell_type": "code",
   "execution_count": 18,
   "metadata": {},
   "outputs": [
    {
     "data": {
      "text/plain": [
       "createShiftedTestDataSet"
      ]
     },
     "execution_count": 18,
     "metadata": {},
     "output_type": "execute_result"
    }
   ],
   "source": [
    "\"\"\"\n",
    "Takes the original data, selects the a particular class (class_num), and outputs\n",
    "a shifted copy of that class\n",
    "\"\"\"\n",
    "function createShiftedTestDataSet(X, Y,  class_num)\n",
    "    indxs = findall(Y[class_num, :] .== true)\n",
    "    X_shifted = zeros(32, 32, 3, length(indxs))\n",
    "    counter = 1\n",
    "    for indx in indxs\n",
    "        X_shifted[:, :, :, counter] = shiftToLeft(X[:, :, :, indx], rand(1:32));\n",
    "        counter += 1;\n",
    "    end\n",
    "    #Y_shifted = hcat(Y[:, indxs], Y[:, indxs])\n",
    "    Y_shifted = Y[:, indxs]\n",
    "    X_shifted, Y_shifted\n",
    "end"
   ]
  },
  {
   "cell_type": "code",
   "execution_count": 19,
   "metadata": {},
   "outputs": [
    {
     "data": {
      "text/plain": [
       "createDataSetForClasses"
      ]
     },
     "execution_count": 19,
     "metadata": {},
     "output_type": "execute_result"
    }
   ],
   "source": [
    "\"\"\"\n",
    "Creates a data set for training out of a list of `classes` \n",
    "\"\"\"\n",
    "function createDataSetForClasses(X, Y, classes)\n",
    "    indxs = []\n",
    "    for class_num in classes\n",
    "        append!(indxs, findall(Y[class_num, :] .== true))\n",
    "    end\n",
    "    X_dataSet = X[:, :, :, indxs]\n",
    "    Y_dataSet = Y[:, indxs]\n",
    "    X_dataSet, Y_dataSet\n",
    "end"
   ]
  },
  {
   "cell_type": "markdown",
   "metadata": {},
   "source": [
    "## Straight forward Training DataSet"
   ]
  },
  {
   "cell_type": "markdown",
   "metadata": {},
   "source": [
    "Here we just work on three classes. Can you get example images to find out what those classes are"
   ]
  },
  {
   "cell_type": "code",
   "execution_count": 20,
   "metadata": {},
   "outputs": [
    {
     "data": {
      "text/plain": [
       "(32, 32, 3, 15000)"
      ]
     },
     "execution_count": 20,
     "metadata": {},
     "output_type": "execute_result"
    }
   ],
   "source": [
    "X, Y = createDataSetForClasses(train_x, train_y, [8, 9, 10]);\n",
    "size(X)"
   ]
  },
  {
   "cell_type": "markdown",
   "metadata": {},
   "source": [
    "## Shifted Training DataSet Trucks"
   ]
  },
  {
   "cell_type": "code",
   "execution_count": 21,
   "metadata": {},
   "outputs": [
    {
     "data": {
      "text/plain": [
       "(32, 32, 3, 20000)"
      ]
     },
     "execution_count": 21,
     "metadata": {},
     "output_type": "execute_result"
    }
   ],
   "source": [
    "X_shifted_trucks, Y_shifted_trucks = createShiftedTrainDataSet(X, Y, 10);\n",
    "size(X_shifted_trucks)"
   ]
  },
  {
   "cell_type": "markdown",
   "metadata": {},
   "source": [
    "## Shifted Testing DataSet Trucks"
   ]
  },
  {
   "cell_type": "code",
   "execution_count": 22,
   "metadata": {},
   "outputs": [
    {
     "data": {
      "text/plain": [
       "(32, 32, 3, 1000)"
      ]
     },
     "execution_count": 22,
     "metadata": {},
     "output_type": "execute_result"
    }
   ],
   "source": [
    "X_test_shifted_trucks, Y_test_shifted_trucks = createShiftedTestDataSet(test_x, test_y, 10);\n",
    "size(X_test_shifted_trucks)"
   ]
  },
  {
   "cell_type": "code",
   "execution_count": 23,
   "metadata": {},
   "outputs": [
    {
     "data": {
      "image/png": "[encoded data removed]",
      "text/plain": [
       "32×32 reshape(reinterpret(RGB{N0f8}, PermutedDimsArray(::Array{N0f8,3}, (3, 1, 2))), 32, 32) with eltype RGB{Normed{UInt8,8}}:\n",
       " RGB{N0f8}(0.769,0.761,0.71)   …  RGB{N0f8}(0.745,0.733,0.686)\n",
       " RGB{N0f8}(0.761,0.753,0.702)     RGB{N0f8}(0.706,0.694,0.647)\n",
       " RGB{N0f8}(0.769,0.761,0.71)      RGB{N0f8}(0.694,0.678,0.635)\n",
       " RGB{N0f8}(0.769,0.761,0.71)      RGB{N0f8}(0.69,0.678,0.639) \n",
       " RGB{N0f8}(0.769,0.761,0.71)      RGB{N0f8}(0.675,0.671,0.627)\n",
       " RGB{N0f8}(0.769,0.761,0.71)   …  RGB{N0f8}(0.69,0.694,0.647) \n",
       " RGB{N0f8}(0.773,0.761,0.718)     RGB{N0f8}(0.722,0.718,0.675)\n",
       " RGB{N0f8}(0.78,0.769,0.71)       RGB{N0f8}(0.725,0.722,0.678)\n",
       " RGB{N0f8}(0.78,0.769,0.714)      RGB{N0f8}(0.733,0.722,0.675)\n",
       " RGB{N0f8}(0.776,0.765,0.722)     RGB{N0f8}(0.729,0.722,0.678)\n",
       " RGB{N0f8}(0.773,0.776,0.725)  …  RGB{N0f8}(0.733,0.733,0.69) \n",
       " RGB{N0f8}(0.773,0.776,0.722)     RGB{N0f8}(0.745,0.745,0.702)\n",
       " RGB{N0f8}(0.784,0.773,0.718)     RGB{N0f8}(0.753,0.753,0.706)\n",
       " ⋮                             ⋱                              \n",
       " RGB{N0f8}(0.796,0.776,0.718)  …  RGB{N0f8}(0.718,0.725,0.675)\n",
       " RGB{N0f8}(0.788,0.78,0.722)      RGB{N0f8}(0.722,0.729,0.678)\n",
       " RGB{N0f8}(0.788,0.78,0.725)      RGB{N0f8}(0.722,0.729,0.678)\n",
       " RGB{N0f8}(0.788,0.78,0.718)      RGB{N0f8}(0.722,0.729,0.678)\n",
       " RGB{N0f8}(0.78,0.784,0.722)      RGB{N0f8}(0.714,0.722,0.671)\n",
       " RGB{N0f8}(0.769,0.788,0.733)  …  RGB{N0f8}(0.714,0.722,0.675)\n",
       " RGB{N0f8}(0.773,0.78,0.722)      RGB{N0f8}(0.718,0.725,0.675)\n",
       " RGB{N0f8}(0.769,0.765,0.722)     RGB{N0f8}(0.722,0.729,0.678)\n",
       " RGB{N0f8}(0.773,0.769,0.725)     RGB{N0f8}(0.725,0.733,0.682)\n",
       " RGB{N0f8}(0.78,0.773,0.725)      RGB{N0f8}(0.725,0.733,0.682)\n",
       " RGB{N0f8}(0.78,0.773,0.725)   …  RGB{N0f8}(0.722,0.729,0.682)\n",
       " RGB{N0f8}(0.788,0.78,0.733)      RGB{N0f8}(0.749,0.757,0.706)"
      ]
     },
     "execution_count": 23,
     "metadata": {},
     "output_type": "execute_result"
    }
   ],
   "source": [
    "# 10 is truck class\n",
    "index = findall(Y[10, :] .== true)\n",
    "truck_train = X[:, :, :, index]\n",
    "showImage(truck_train[:,:,:,42])"
   ]
  },
  {
   "cell_type": "code",
   "execution_count": 24,
   "metadata": {},
   "outputs": [
    {
     "data": {
      "image/png": "[encoded data removed]",
      "text/plain": [
       "32×32 reshape(reinterpret(RGB{N0f8}, PermutedDimsArray(::Array{N0f8,3}, (3, 1, 2))), 32, 32) with eltype RGB{Normed{UInt8,8}}:\n",
       " RGB{N0f8}(0.753,0.788,0.769)  …  RGB{N0f8}(0.424,0.494,0.4)  \n",
       " RGB{N0f8}(0.588,0.616,0.627)     RGB{N0f8}(0.427,0.498,0.404)\n",
       " RGB{N0f8}(0.525,0.537,0.561)     RGB{N0f8}(0.424,0.498,0.408)\n",
       " RGB{N0f8}(0.91,0.906,0.922)      RGB{N0f8}(0.427,0.475,0.396)\n",
       " RGB{N0f8}(0.914,0.929,0.941)     RGB{N0f8}(0.455,0.467,0.404)\n",
       " RGB{N0f8}(0.847,0.867,0.89)   …  RGB{N0f8}(0.51,0.518,0.475) \n",
       " RGB{N0f8}(0.776,0.792,0.812)     RGB{N0f8}(0.447,0.467,0.396)\n",
       " RGB{N0f8}(0.812,0.839,0.847)     RGB{N0f8}(0.427,0.471,0.388)\n",
       " RGB{N0f8}(0.776,0.8,0.812)       RGB{N0f8}(0.435,0.498,0.392)\n",
       " RGB{N0f8}(0.69,0.718,0.729)      RGB{N0f8}(0.459,0.502,0.412)\n",
       " RGB{N0f8}(0.714,0.729,0.749)  …  RGB{N0f8}(0.475,0.522,0.431)\n",
       " RGB{N0f8}(0.765,0.773,0.792)     RGB{N0f8}(0.463,0.522,0.424)\n",
       " RGB{N0f8}(0.863,0.878,0.886)     RGB{N0f8}(0.463,0.518,0.427)\n",
       " ⋮                             ⋱                              \n",
       " RGB{N0f8}(0.949,0.953,0.965)  …  RGB{N0f8}(0.435,0.475,0.412)\n",
       " RGB{N0f8}(0.933,0.941,0.945)     RGB{N0f8}(0.447,0.494,0.427)\n",
       " RGB{N0f8}(0.8,0.816,0.851)       RGB{N0f8}(0.455,0.506,0.427)\n",
       " RGB{N0f8}(0.737,0.753,0.835)     RGB{N0f8}(0.431,0.482,0.392)\n",
       " RGB{N0f8}(0.741,0.769,0.843)     RGB{N0f8}(0.427,0.486,0.396)\n",
       " RGB{N0f8}(0.725,0.749,0.824)  …  RGB{N0f8}(0.439,0.482,0.404)\n",
       " RGB{N0f8}(0.702,0.729,0.792)     RGB{N0f8}(0.443,0.486,0.396)\n",
       " RGB{N0f8}(0.686,0.722,0.784)     RGB{N0f8}(0.404,0.455,0.369)\n",
       " RGB{N0f8}(0.671,0.706,0.78)      RGB{N0f8}(0.38,0.431,0.365) \n",
       " RGB{N0f8}(0.643,0.671,0.741)     RGB{N0f8}(0.369,0.424,0.365)\n",
       " RGB{N0f8}(0.624,0.655,0.725)  …  RGB{N0f8}(0.376,0.424,0.376)\n",
       " RGB{N0f8}(0.612,0.639,0.71)      RGB{N0f8}(0.38,0.424,0.384) "
      ]
     },
     "execution_count": 24,
     "metadata": {},
     "output_type": "execute_result"
    }
   ],
   "source": [
    "showImage(X[:, :, :, 220])"
   ]
  },
  {
   "cell_type": "markdown",
   "metadata": {},
   "source": [
    "# CNN"
   ]
  },
  {
   "cell_type": "code",
   "execution_count": 25,
   "metadata": {},
   "outputs": [
    {
     "data": {
      "text/plain": [
       "test_CNN (generic function with 1 method)"
      ]
     },
     "execution_count": 25,
     "metadata": {},
     "output_type": "execute_result"
    }
   ],
   "source": [
    "m = Chain(\n",
    "    Conv((2,2), 3=>16, relu),\n",
    "    x -> maxpool(x, (2,2)), # maxpool default stride = k e.g. (2,2)\n",
    "    x -> reshape(x, :, size(x, 4)),\n",
    "    Dense(3600, 10), \n",
    "    softmax\n",
    ")\n",
    "loss(x, y) = crossentropy(m(x), y)\n",
    "accuracy(x, y) = mean(onecold(m(x)) .== onecold(y))\n",
    "\n",
    "function train_CNN(X, Y, dataset)\n",
    "    evalcb = throttle(() -> @show(accuracy(X, Y)), 10)\n",
    "    opt = ADAM(params(m))\n",
    "    Flux.train!(loss, dataset, opt, cb = evalcb)\n",
    "end\n",
    "\n",
    "function test_CNN(X, Y)\n",
    "    accuracy(X, Y)\n",
    "end"
   ]
  },
  {
   "cell_type": "markdown",
   "metadata": {},
   "source": [
    "## Training on normal DataSet "
   ]
  },
  {
   "cell_type": "code",
   "execution_count": 26,
   "metadata": {},
   "outputs": [
    {
     "name": "stdout",
     "output_type": "stream",
     "text": [
      "accuracy(X, Y) = 0.3484\n",
      "accuracy(X, Y) = 0.3671333333333333\n"
     ]
    }
   ],
   "source": [
    "X = convert(Array{Float64,4}, X);\n",
    "dataset = repeated((X, Y), 5);\n",
    "train_CNN(X, Y, dataset);"
   ]
  },
  {
   "cell_type": "code",
   "execution_count": 27,
   "metadata": {},
   "outputs": [
    {
     "data": {
      "text/plain": [
       "0.004"
      ]
     },
     "execution_count": 27,
     "metadata": {},
     "output_type": "execute_result"
    }
   ],
   "source": [
    "test_CNN(X_test_shifted_trucks, Y_test_shifted_trucks)"
   ]
  },
  {
   "cell_type": "markdown",
   "metadata": {},
   "source": [
    "## Training on shifted DataSet"
   ]
  },
  {
   "cell_type": "code",
   "execution_count": 28,
   "metadata": {},
   "outputs": [
    {
     "name": "stdout",
     "output_type": "stream",
     "text": [
      "accuracy(X, Y) = 0.28015\n",
      "accuracy(X, Y) = 0.3814\n"
     ]
    }
   ],
   "source": [
    "X_shifted_trucks = convert(Array{Float64,4}, X_shifted_trucks);\n",
    "dataset = repeated((X_shifted_trucks, Y_shifted_trucks), 5);\n",
    "train_CNN(X_shifted_trucks, Y_shifted_trucks, dataset);"
   ]
  },
  {
   "cell_type": "code",
   "execution_count": 29,
   "metadata": {},
   "outputs": [
    {
     "data": {
      "text/plain": [
       "0.936"
      ]
     },
     "execution_count": 29,
     "metadata": {},
     "output_type": "execute_result"
    }
   ],
   "source": [
    "test_CNN(X_test_shifted_trucks, Y_test_shifted_trucks)"
   ]
  },
  {
   "cell_type": "markdown",
   "metadata": {},
   "source": [
    "## Batch training"
   ]
  },
  {
   "cell_type": "markdown",
   "metadata": {},
   "source": [
    "We take 500 images from the original set.. this translates to many classes. Unlike what we did before"
   ]
  },
  {
   "cell_type": "code",
   "execution_count": 30,
   "metadata": {},
   "outputs": [],
   "source": [
    "X = train_x[:, :, :, 1:500]\n",
    "Y = train_y[:, 1:500];"
   ]
  },
  {
   "cell_type": "markdown",
   "metadata": {},
   "source": [
    "Looking at the associated classes "
   ]
  },
  {
   "cell_type": "code",
   "execution_count": 31,
   "metadata": {},
   "outputs": [
    {
     "name": "stdout",
     "output_type": "stream",
     "text": [
      "onecold(Y) = [7, 10, 10, 5, 2, 2, 3, 8, 9, 4, 5, 8, 8, 3, 10, 10, 10, 4, 3, 7, 5, 4, 7, 7, 3, 7, 4, 6, 5, 1, 1, 10, 2, 4, 5, 1, 4, 8, 4, 4, 6, 3, 3, 8, 2, 2, 2, 3, 3, 1, 10, 6, 8, 10, 3, 3, 6, 3, 5, 4, 2, 2, 9, 3, 2, 2, 5, 10, 8, 9, 6, 10, 7, 8, 4, 2, 10, 1, 4, 2, 4, 6, 5, 6, 8, 8, 5, 8, 10, 5, 3, 4, 9, 1, 2, 7, 2, 2, 5, 2, 9, 4, 10, 7, 7, 2, 9, 6, 3, 10, 10, 9, 2, 8, 8, 1, 1, 7, 10, 2, 3, 3, 10, 3, 7, 7, 2, 10, 6, 1, 5, 8, 7, 8, 2, 9, 2, 2, 3, 9, 2, 4, 4, 7, 3, 5, 10, 10, 6, 5, 4, 7, 8, 5, 7, 9, 6, 6, 5, 4, 2, 9, 5, 8, 7, 1, 10, 6, 2, 4, 9, 3, 8, 6, 4, 5, 2, 6, 8, 1, 5, 8, 6, 6, 2, 1, 10, 7, 10, 1, 9, 8, 9, 9, 3, 6, 3, 4, 6, 1, 7, 2, 10, 4, 7, 10, 2, 4, 10, 7, 7, 8, 2, 1, 10, 6, 9, 6, 3, 10, 1, 9, 9, 1, 7, 10, 2, 2, 7, 4, 8, 7, 7, 1, 7, 7, 2, 8, 2, 6, 9, 4, 7, 7, 9, 7, 9, 5, 7, 7, 2, 4, 9, 4, 5, 2, 8, 2, 4, 9, 6, 2, 2, 5, 1, 10, 4, 8, 5, 10, 10, 3, 5, 10, 10, 2, 1, 6, 10, 1, 9, 3, 2, 3, 1, 6, 7, 4, 3, 8, 9, 9, 7, 1, 8, 10, 5, 6, 7, 5, 3, 2, 2, 3, 2, 6, 10, 10, 1, 9, 5, 2, 2, 7, 4, 4, 10, 1, 8, 10, 8, 8, 10, 2, 6, 2, 7, 7, 9, 8, 2, 4, 1, 4, 4, 3, 5, 6, 8, 6, 10, 1, 4, 5, 1, 5, 5, 7, 1, 1, 7, 7, 1, 9, 2, 7, 3, 10, 3, 6, 10, 7, 8, 5, 2, 9, 8, 4, 7, 10, 4, 1, 5, 1, 6, 2, 1, 4, 5, 9, 6, 5, 8, 3, 4, 10, 8, 7, 8, 2, 5, 8, 1, 2, 8, 4, 2, 9, 5, 5, 3, 1, 3, 3, 1, 1, 10, 1, 10, 7, 9, 3, 8, 8, 5, 1, 4, 1, 9, 10, 5, 3, 8, 3, 6, 3, 6, 2, 10, 5, 9, 6, 2, 8, 5, 5, 1, 7, 10, 1, 8, 9, 9, 10, 10, 4, 4, 5, 1, 5, 6, 7, 7, 1, 2, 1, 9, 1, 5, 9, 9, 2, 6, 3, 7, 9, 2, 1, 1, 8, 8, 6, 10, 7, 3, 9, 4, 5, 8, 4, 10, 1, 2, 3, 5, 9, 2, 9, 7, 5, 5, 6, 8, 2, 4, 10, 9, 1, 2, 8]\n"
     ]
    }
   ],
   "source": [
    "@show onecold(Y);"
   ]
  },
  {
   "cell_type": "code",
   "execution_count": 32,
   "metadata": {},
   "outputs": [
    {
     "name": "stdout",
     "output_type": "stream",
     "text": [
      "(onecold(Y) |> unique) |> sort = [1, 2, 3, 4, 5, 6, 7, 8, 9, 10]\n"
     ]
    }
   ],
   "source": [
    "@show onecold(Y) |> unique |> sort;"
   ]
  },
  {
   "cell_type": "markdown",
   "metadata": {},
   "source": [
    "So 10 classes are represented here"
   ]
  },
  {
   "cell_type": "code",
   "execution_count": 33,
   "metadata": {},
   "outputs": [
    {
     "name": "stdout",
     "output_type": "stream",
     "text": [
      "accuracy(X, Y) = 0.106\n",
      "accuracy(X, Y) = 0.13\n",
      "accuracy(X, Y) = 0.214\n",
      "accuracy(X, Y) = 0.294\n",
      "accuracy(X, Y) = 0.352\n"
     ]
    }
   ],
   "source": [
    "X = convert(Array{Float64,4}, X);\n",
    "dataset = repeated((X, Y), 100);\n",
    "train_CNN(X, Y, dataset);"
   ]
  },
  {
   "cell_type": "code",
   "execution_count": 34,
   "metadata": {},
   "outputs": [
    {
     "data": {
      "text/plain": [
       "56-element Array{Int64,1}:\n",
       "   2\n",
       "   3\n",
       "  15\n",
       "  16\n",
       "  17\n",
       "  32\n",
       "  51\n",
       "  54\n",
       "  68\n",
       "  72\n",
       "  77\n",
       "  89\n",
       " 103\n",
       "   ⋮\n",
       " 370\n",
       " 386\n",
       " 407\n",
       " 409\n",
       " 420\n",
       " 429\n",
       " 439\n",
       " 444\n",
       " 445\n",
       " 473\n",
       " 481\n",
       " 496"
      ]
     },
     "execution_count": 34,
     "metadata": {},
     "output_type": "execute_result"
    }
   ],
   "source": [
    "index = findall(Y[10, :] .== true)"
   ]
  },
  {
   "cell_type": "markdown",
   "metadata": {},
   "source": [
    "## Test on random input from the normal training Dataset"
   ]
  },
  {
   "cell_type": "code",
   "execution_count": 36,
   "metadata": {},
   "outputs": [
    {
     "data": {
      "image/png": "[encoded data removed]",
      "text/plain": [
       "32×32 reshape(reinterpret(RGB{Float64}, PermutedDimsArray(::Array{Float64,3}, (3, 1, 2))), 32, 32) with eltype RGB{Float64}:\n",
       " RGB{Float64}(0.588235,0.717647,0.792157)  …  RGB{Float64}(0.698039,0.607843,0.435294)\n",
       " RGB{Float64}(0.592157,0.72549,0.788235)      RGB{Float64}(0.631373,0.537255,0.352941)\n",
       " RGB{Float64}(0.596078,0.737255,0.788235)     RGB{Float64}(0.658824,0.556863,0.360784)\n",
       " RGB{Float64}(0.603922,0.74902,0.788235)      RGB{Float64}(0.694118,0.592157,0.380392)\n",
       " RGB{Float64}(0.615686,0.756863,0.807843)     RGB{Float64}(0.682353,0.584314,0.380392)\n",
       " RGB{Float64}(0.623529,0.756863,0.819608)  …  RGB{Float64}(0.705882,0.607843,0.423529)\n",
       " RGB{Float64}(0.623529,0.764706,0.811765)     RGB{Float64}(0.705882,0.607843,0.423529)\n",
       " RGB{Float64}(0.627451,0.772549,0.807843)     RGB{Float64}(0.670588,0.568627,0.388235)\n",
       " RGB{Float64}(0.631373,0.780392,0.796078)     RGB{Float64}(0.662745,0.564706,0.380392)\n",
       " RGB{Float64}(0.647059,0.796078,0.803922)     RGB{Float64}(0.643137,0.545098,0.368627)\n",
       " RGB{Float64}(0.670588,0.784314,0.819608)  …  RGB{Float64}(0.560784,0.466667,0.313725)\n",
       " RGB{Float64}(0.682353,0.776471,0.823529)     RGB{Float64}(0.545098,0.45098,0.305882) \n",
       " RGB{Float64}(0.690196,0.776471,0.827451)     RGB{Float64}(0.545098,0.45098,0.305882) \n",
       " ⋮                                         ⋱                                          \n",
       " RGB{Float64}(0.654902,0.776471,0.854902)  …  RGB{Float64}(0.721569,0.647059,0.470588)\n",
       " RGB{Float64}(0.647059,0.780392,0.823529)     RGB{Float64}(0.788235,0.713725,0.517647)\n",
       " RGB{Float64}(0.639216,0.780392,0.815686)     RGB{Float64}(0.811765,0.717647,0.517647)\n",
       " RGB{Float64}(0.635294,0.772549,0.823529)     RGB{Float64}(0.803922,0.686275,0.498039)\n",
       " RGB{Float64}(0.627451,0.764706,0.827451)     RGB{Float64}(0.811765,0.698039,0.517647)\n",
       " RGB{Float64}(0.619608,0.752941,0.823529)  …  RGB{Float64}(0.831373,0.733333,0.564706)\n",
       " RGB{Float64}(0.603922,0.745098,0.815686)     RGB{Float64}(0.811765,0.713725,0.545098)\n",
       " RGB{Float64}(0.592157,0.737255,0.803922)     RGB{Float64}(0.745098,0.643137,0.470588)\n",
       " RGB{Float64}(0.584314,0.729412,0.796078)     RGB{Float64}(0.733333,0.627451,0.458824)\n",
       " RGB{Float64}(0.576471,0.721569,0.788235)     RGB{Float64}(0.741176,0.635294,0.466667)\n",
       " RGB{Float64}(0.564706,0.709804,0.772549)  …  RGB{Float64}(0.74902,0.643137,0.470588) \n",
       " RGB{Float64}(0.552941,0.694118,0.764706)     RGB{Float64}(0.603922,0.509804,0.368627)"
      ]
     },
     "execution_count": 36,
     "metadata": {},
     "output_type": "execute_result"
    }
   ],
   "source": [
    "index = 103\n",
    "random_test_example_X = X[:, :, :, index]\n",
    "random_test_example_Y = Y[:, index]\n",
    "showImage(random_test_example_X)"
   ]
  },
  {
   "cell_type": "code",
   "execution_count": 48,
   "metadata": {},
   "outputs": [
    {
     "data": {
      "text/plain": [
       "1.0"
      ]
     },
     "execution_count": 48,
     "metadata": {},
     "output_type": "execute_result"
    }
   ],
   "source": [
    "random_test_example_X_4d = reshape(random_test_example_X, 32, 32, 3, 1)\n",
    "test_CNN(random_test_example_X_4d, random_test_example_Y)"
   ]
  },
  {
   "cell_type": "markdown",
   "metadata": {},
   "source": [
    "So far so good!"
   ]
  },
  {
   "cell_type": "markdown",
   "metadata": {},
   "source": [
    "## Test on shifted input"
   ]
  },
  {
   "cell_type": "code",
   "execution_count": 38,
   "metadata": {},
   "outputs": [
    {
     "data": {
      "image/png": "[encoded data removed]",
      "text/plain": [
       "32×32 reshape(reinterpret(RGB{Float64}, PermutedDimsArray(::Array{Float64,3}, (3, 1, 2))), 32, 32) with eltype RGB{Float64}:\n",
       " RGB{Float64}(0.6,0.431373,0.360784)       …  RGB{Float64}(0.0,0.0,0.0)\n",
       " RGB{Float64}(0.580392,0.458824,0.384314)     RGB{Float64}(0.0,0.0,0.0)\n",
       " RGB{Float64}(0.584314,0.498039,0.427451)     RGB{Float64}(0.0,0.0,0.0)\n",
       " RGB{Float64}(0.666667,0.6,0.541176)          RGB{Float64}(0.0,0.0,0.0)\n",
       " RGB{Float64}(0.764706,0.666667,0.611765)     RGB{Float64}(0.0,0.0,0.0)\n",
       " RGB{Float64}(0.764706,0.588235,0.537255)  …  RGB{Float64}(0.0,0.0,0.0)\n",
       " RGB{Float64}(0.733333,0.517647,0.470588)     RGB{Float64}(0.0,0.0,0.0)\n",
       " RGB{Float64}(0.752941,0.521569,0.470588)     RGB{Float64}(0.0,0.0,0.0)\n",
       " RGB{Float64}(0.705882,0.482353,0.419608)     RGB{Float64}(0.0,0.0,0.0)\n",
       " RGB{Float64}(0.690196,0.486275,0.419608)     RGB{Float64}(0.0,0.0,0.0)\n",
       " RGB{Float64}(0.729412,0.584314,0.529412)  …  RGB{Float64}(0.0,0.0,0.0)\n",
       " RGB{Float64}(0.721569,0.596078,0.537255)     RGB{Float64}(0.0,0.0,0.0)\n",
       " RGB{Float64}(0.721569,0.439216,0.392157)     RGB{Float64}(0.0,0.0,0.0)\n",
       " ⋮                                         ⋱                           \n",
       " RGB{Float64}(0.772549,0.321569,0.258824)  …  RGB{Float64}(0.0,0.0,0.0)\n",
       " RGB{Float64}(0.47451,0.337255,0.431373)      RGB{Float64}(0.0,0.0,0.0)\n",
       " RGB{Float64}(0.137255,0.345098,0.521569)     RGB{Float64}(0.0,0.0,0.0)\n",
       " RGB{Float64}(0.141176,0.329412,0.560784)     RGB{Float64}(0.0,0.0,0.0)\n",
       " RGB{Float64}(0.254902,0.419608,0.619608)     RGB{Float64}(0.0,0.0,0.0)\n",
       " RGB{Float64}(0.298039,0.486275,0.647059)  …  RGB{Float64}(0.0,0.0,0.0)\n",
       " RGB{Float64}(0.286275,0.447059,0.615686)     RGB{Float64}(0.0,0.0,0.0)\n",
       " RGB{Float64}(0.262745,0.431373,0.592157)     RGB{Float64}(0.0,0.0,0.0)\n",
       " RGB{Float64}(0.282353,0.45098,0.611765)      RGB{Float64}(0.0,0.0,0.0)\n",
       " RGB{Float64}(0.305882,0.458824,0.615686)     RGB{Float64}(0.0,0.0,0.0)\n",
       " RGB{Float64}(0.294118,0.435294,0.584314)  …  RGB{Float64}(0.0,0.0,0.0)\n",
       " RGB{Float64}(0.317647,0.411765,0.513725)     RGB{Float64}(0.0,0.0,0.0)"
      ]
     },
     "execution_count": 38,
     "metadata": {},
     "output_type": "execute_result"
    }
   ],
   "source": [
    "shifted_random_test_example_X = shiftToLeft(random_test_example_X, 10)\n",
    "showImage(shifted_random_test_example_X)"
   ]
  },
  {
   "cell_type": "code",
   "execution_count": 39,
   "metadata": {},
   "outputs": [
    {
     "data": {
      "text/plain": [
       "0.0"
      ]
     },
     "execution_count": 39,
     "metadata": {},
     "output_type": "execute_result"
    }
   ],
   "source": [
    "shifted_random_test_example_X_4d = convert(Array{Float64,4},reshape(shifted_random_test_example_X, 32, 32, 3, 1));\n",
    "test_CNN(shifted_random_test_example_X_4d, random_test_example_Y)"
   ]
  },
  {
   "cell_type": "markdown",
   "metadata": {},
   "source": [
    "So the shifting threw the classifier off!"
   ]
  },
  {
   "cell_type": "markdown",
   "metadata": {},
   "source": [
    "## Test on rotated input"
   ]
  },
  {
   "cell_type": "code",
   "execution_count": 40,
   "metadata": {},
   "outputs": [
    {
     "data": {
      "image/png": "[encoded data removed]",
      "text/plain": [
       "32×32 reshape(reinterpret(RGB{Float64}, PermutedDimsArray(::Array{Float64,3}, (3, 1, 2))), 32, 32) with eltype RGB{Float64}:\n",
       " RGB{Float64}(0.588235,0.717647,0.792157)  …  RGB{Float64}(0.552941,0.694118,0.764706)\n",
       " RGB{Float64}(0.619608,0.745098,0.807843)     RGB{Float64}(0.588235,0.721569,0.780392)\n",
       " RGB{Float64}(0.643137,0.756863,0.796078)     RGB{Float64}(0.607843,0.733333,0.784314)\n",
       " RGB{Float64}(0.662745,0.768627,0.792157)     RGB{Float64}(0.631373,0.74902,0.784314) \n",
       " RGB{Float64}(0.682353,0.776471,0.788235)     RGB{Float64}(0.658824,0.752941,0.772549)\n",
       " RGB{Float64}(0.67451,0.756863,0.752941)   …  RGB{Float64}(0.694118,0.752941,0.745098)\n",
       " RGB{Float64}(0.74902,0.780392,0.764706)      RGB{Float64}(0.717647,0.729412,0.690196)\n",
       " RGB{Float64}(0.85098,0.894118,0.847059)      RGB{Float64}(0.698039,0.713725,0.682353)\n",
       " RGB{Float64}(0.741176,0.788235,0.713725)     RGB{Float64}(0.6,0.65098,0.662745)      \n",
       " RGB{Float64}(0.631373,0.588235,0.509804)     RGB{Float64}(0.447059,0.52549,0.592157) \n",
       " RGB{Float64}(0.6,0.431373,0.360784)       …  RGB{Float64}(0.317647,0.411765,0.513725)\n",
       " RGB{Float64}(0.596078,0.364706,0.286275)     RGB{Float64}(0.298039,0.4,0.498039)     \n",
       " RGB{Float64}(0.458824,0.247059,0.152941)     RGB{Float64}(0.203922,0.301961,0.396078)\n",
       " ⋮                                         ⋱                                          \n",
       " RGB{Float64}(0.745098,0.631373,0.52549)   …  RGB{Float64}(0.462745,0.415686,0.321569)\n",
       " RGB{Float64}(0.698039,0.603922,0.45098)      RGB{Float64}(0.509804,0.447059,0.333333)\n",
       " RGB{Float64}(0.72549,0.639216,0.458824)      RGB{Float64}(0.615686,0.533333,0.376471)\n",
       " RGB{Float64}(0.643137,0.564706,0.403922)     RGB{Float64}(0.670588,0.576471,0.392157)\n",
       " RGB{Float64}(0.576471,0.501961,0.368627)     RGB{Float64}(0.686275,0.584314,0.396078)\n",
       " RGB{Float64}(0.639216,0.576471,0.431373)  …  RGB{Float64}(0.670588,0.560784,0.376471)\n",
       " RGB{Float64}(0.729412,0.67451,0.482353)      RGB{Float64}(0.701961,0.584314,0.4)     \n",
       " RGB{Float64}(0.741176,0.643137,0.462745)     RGB{Float64}(0.694118,0.596078,0.403922)\n",
       " RGB{Float64}(0.686275,0.568627,0.4)          RGB{Float64}(0.717647,0.627451,0.435294)\n",
       " RGB{Float64}(0.682353,0.572549,0.403922)     RGB{Float64}(0.741176,0.65098,0.47451)  \n",
       " RGB{Float64}(0.72549,0.623529,0.45098)    …  RGB{Float64}(0.678431,0.584314,0.423529)\n",
       " RGB{Float64}(0.698039,0.607843,0.435294)     RGB{Float64}(0.603922,0.509804,0.368627)"
      ]
     },
     "execution_count": 40,
     "metadata": {},
     "output_type": "execute_result"
    }
   ],
   "source": [
    "rotated_random_test_example_X = rotate_right(random_test_example_X);\n",
    "showImage(rotated_random_test_example_X)"
   ]
  },
  {
   "cell_type": "code",
   "execution_count": 41,
   "metadata": {},
   "outputs": [
    {
     "data": {
      "text/plain": [
       "0.0"
      ]
     },
     "execution_count": 41,
     "metadata": {},
     "output_type": "execute_result"
    }
   ],
   "source": [
    "rotated_random_test_example_X_4d = convert(Array{Float64,4},reshape(rotated_random_test_example_X, 32, 32, 3, 1));\n",
    "accuracy(rotated_random_test_example_X_4d, random_test_example_Y)"
   ]
  },
  {
   "cell_type": "code",
   "execution_count": 42,
   "metadata": {},
   "outputs": [],
   "source": [
    "w1 = params(m)[1];"
   ]
  },
  {
   "cell_type": "code",
   "execution_count": 43,
   "metadata": {},
   "outputs": [
    {
     "data": {
      "text/plain": [
       "my_init (generic function with 1 method)"
      ]
     },
     "execution_count": 43,
     "metadata": {},
     "output_type": "execute_result"
    }
   ],
   "source": [
    "function my_init(k1,k2,ch1,ch2)\n",
    "    Tracker.data(w1)\n",
    "end"
   ]
  },
  {
   "cell_type": "code",
   "execution_count": 44,
   "metadata": {},
   "outputs": [
    {
     "data": {
      "text/plain": [
       "Chain(Conv((2, 2), 3=>16, NNlib.relu), getfield(Main, Symbol(\"##11#12\"))())"
      ]
     },
     "execution_count": 44,
     "metadata": {},
     "output_type": "execute_result"
    }
   ],
   "source": [
    "m_final = Chain(\n",
    "    Conv((2,2), 3=>16, relu, init= my_init),\n",
    "    x -> maxpool(x, (2,2))\n",
    ")"
   ]
  },
  {
   "cell_type": "code",
   "execution_count": 45,
   "metadata": {},
   "outputs": [
    {
     "data": {
      "text/plain": [
       "displayChannels (generic function with 1 method)"
      ]
     },
     "execution_count": 45,
     "metadata": {},
     "output_type": "execute_result"
    }
   ],
   "source": [
    "function displayChannels(output_conv)\n",
    "    imgChannels=[]\n",
    "    for j=1:size(output_conv, 3)\n",
    "        ch = output_conv[:, :, j];\n",
    "        imgrgb = convert(Array{ColorTypes.Gray,2}, Tracker.data(ch))\n",
    "        push!(imgChannels,imgrgb)\n",
    "    end\n",
    "    [imgChannels...]\n",
    "end"
   ]
  },
  {
   "cell_type": "code",
   "execution_count": 49,
   "metadata": {
    "scrolled": false
   },
   "outputs": [
    {
     "data": {
      "text/html": [
       "<table><tbody><tr><td style='text-align:center;vertical-align:middle; margin: 0.5em;border:1px #90999f solid;border-collapse:collapse'><img style='max-width: 100px; max-height:100px;display:inline' src=\"data:image/png;base64,iVBORw0KGgoAAAANSUhEUgAAAGkAAABpCAAAAAAc6VLmAAAABGdBTUEAALGPC/xhBQAAACBjSFJNAAB6JgAAgIQAAPoAAACA6AAAdTAAAOpgAAA6mAAAF3CculE8AAAAAmJLR0QA/4ePzL8AAAE/SURBVGje7ZrBbsMgEESXmB76/5/b2u4haynPmiCkSFBbMxdEWPPAmpAFUr4jIiJKvCpr67PY470eCNlVZ4wcIJNMoiodSbfmMDbVtqONvWxqMnd8eyZdg1SzpGkXfBiqFqpNmt0uN2ky6XD52oiR9i7RK/4wDJBJJlGntbxDjCwYsEzP7XKTJpMqHfmFmjTtihrTkV/1+PA5mWQSVWXmkRm1TGNybEVFFhQpr+UmTSZVVn+ehdxMtpKaDnvf8e2ZdA3S4XKZjrSOv2lhupwnNcxtBsgkk6jD5dw+UvJA8dGI9K2QSf+KdFrLuRizreNMfFOdLaPnZJJJ1Ckv55LOS0+pbMtMZ0Exa04mmUTVVqM8BU/xG5CR0t7Oy02aTKofPs/dZ+ts5o5vz6RrkE63Qiw6/oxIyXvR4XMyySTqD+OFQ/YIEyXfAAAAAElFTkSuQmCC\"></td><td style='text-align:center;vertical-align:middle; margin: 0.5em;border:1px #90999f solid;border-collapse:collapse'><img style='max-width: 100px; max-height:100px;display:inline' src=\"data:image/png;base64,iVBORw0KGgoAAAANSUhEUgAAAGkAAABpAQAAAAAR+TCXAAAABGdBTUEAALGPC/xhBQAAACBjSFJNAAB6JgAAgIQAAPoAAACA6AAAdTAAAOpgAAA6mAAAF3CculE8AAAAAmJLR0QAAd2KE6QAAAAVSURBVDjLY2AYBaNgFIyCUTAKcAIABicAAUZAVxIAAAAASUVORK5C\"></td><td style='text-align:center;vertical-align:middle; margin: 0.5em;border:1px #90999f solid;border-collapse:collapse'><img style='max-width: 100px; max-height:100px;display:inline' src=\"data:image/png;base64,iVBORw0KGgoAAAANSUhEUgAAAGkAAABpAQAAAAAR+TCXAAAABGdBTUEAALGPC/xhBQAAACBjSFJNAAB6JgAAgIQAAPoAAACA6AAAdTAAAOpgAAA6mAAAF3CculE8AAAAAmJLR0QAAd2KE6QAAAAVSURBVDjLY2AYBaNgFIyCUTAKcAIABicAAUZAVxIAAAAASUVORK5C\"></td><td style='text-align:center;vertical-align:middle; margin: 0.5em;border:1px #90999f solid;border-collapse:collapse'><img style='max-width: 100px; max-height:100px;display:inline' src=\"data:image/png;base64,iVBORw0KGgoAAAANSUhEUgAAAGkAAABpCAAAAAAc6VLmAAAABGdBTUEAALGPC/xhBQAAACBjSFJNAAB6JgAAgIQAAPoAAACA6AAAdTAAAOpgAAA6mAAAF3CculE8AAAAAmJLR0QA/4ePzL8AAAIfSURBVGje7Zq5SgRBEIZn3NH1xvsKRAQRFSNB8AnMzMx8PF9CDE0MRTD1vtb71vUO/m+DX4wblKrko3e6+99aamqqeid/yLIsy7IG4ctGW8KuXbsWPoQhgV0ehTahR6gKdVkqC6VQcstfTPFQaBbqhW3hVjgWTnwboSwQ8xVhLrVPoRRKbgUZmthdERaFkn2bU+FZIJcT3p8CUc5Nci7spPYplELJrYCbArH7KpC9r+zam9D82za5TWkUzlP7FEqh5FaL8huB7D1oc0jGxHXFrg0L08K+sGkLblL7FEqh5FZ4ybH02xzqkG7hkoVCl8AuNJq9wrXhP/56ofQ3lGpR3iocCITphnAnEML9AucoewKnMS12rWr4j79eKP0NpYKczHHKKp8K1NdNNqJKp2vlGTAidArcFmfCcGqfQimU3AqkBoQ1gYqa9pFelKz/LhDlhDCPAsp6bpJ54S21T6EUSm617nNWoLW8ED4N/OVDsPcJxPy98GQLKMjbU/sUSqHkln/ZkNZyWSA1U82Q0olkWlKOUyZtOetGhanUPoVSKLn9iHIq6nWBI8QjgSgv2QKmEN4Lwgx7C0OpfQqlUHIrfJjbqMNGHIbzSgB/lu7ZTOoezlgoyOtT+xRKoeRWeCjymhb5mvqaJM6JoL+YNSHQffLGy5hAUXOV2qdQCiW3WpSXDJy4VOzbEOUsGBfoPnkGUNvQmXKuWE7tUyiFkts3WppviYeO2UAAAAAASUVORK5C\"></td><td style='text-align:center;vertical-align:middle; margin: 0.5em;border:1px #90999f solid;border-collapse:collapse'><img style='max-width: 100px; max-height:100px;display:inline' src=\"data:image/png;base64,iVBORw0KGgoAAAANSUhEUgAAAGkAAABpAQAAAAAR+TCXAAAABGdBTUEAALGPC/xhBQAAACBjSFJNAAB6JgAAgIQAAPoAAACA6AAAdTAAAOpgAAA6mAAAF3CculE8AAAAAmJLR0QAAd2KE6QAAAAVSURBVDjLY2AYBaNgFIyCUTAKcAIABicAAUZAVxIAAAAASUVORK5C\"></td><td style='text-align:center;vertical-align:middle; margin: 0.5em;border:1px #90999f solid;border-collapse:collapse'><img style='max-width: 100px; max-height:100px;display:inline' src=\"data:image/png;base64,iVBORw0KGgoAAAANSUhEUgAAAGkAAABpCAAAAAAc6VLmAAAABGdBTUEAALGPC/xhBQAAACBjSFJNAAB6JgAAgIQAAPoAAACA6AAAdTAAAOpgAAA6mAAAF3CculE8AAAAAmJLR0QA/4ePzL8AAAEMSURBVGje7ZrNDoMwDIPTkfd/4onussOMPKsgQX9kX6ZSykcjr0payhYREVHiV9iiF2v8V4UB359XPCWTTEIlNTS1aYPwzh0ms2L0TJqDlNisN/DveKaUSSahuMsxHWnIX1SfXW5SZ9LB5VdzaOrrAq0Vo2fSHKQ8nXRTC1fW12tOJpmESnp1Z2+jLBysr7KnPCCTTEJxl9P1GltU6pYVo2fSHKRUnXT1VpUpTVy8X25SZ1Kq2vBqckJ3alaMnklzkApdzPE85zACWmrr0Wu5SWOQ5H75WwyknwRs8PqYuKwYPZPmIKU6zFfFJM10XH2aNCKJV5/KrQ3/B599mjQUqcXlDZ4fak4mmYT6AMDkLwLdZuxLAAAAAElFTkSuQmCC\"></td><td style='text-align:center;vertical-align:middle; margin: 0.5em;border:1px #90999f solid;border-collapse:collapse'><img style='max-width: 100px; max-height:100px;display:inline' src=\"data:image/png;base64,iVBORw0KGgoAAAANSUhEUgAAAGkAAABpAQAAAAAR+TCXAAAABGdBTUEAALGPC/xhBQAAACBjSFJNAAB6JgAAgIQAAPoAAACA6AAAdTAAAOpgAAA6mAAAF3CculE8AAAAAmJLR0QAAd2KE6QAAAAVSURBVDjLY2AYBaNgFIyCUTAKcAIABicAAUZAVxIAAAAASUVORK5C\"></td><td style='text-align:center;vertical-align:middle; margin: 0.5em;border:1px #90999f solid;border-collapse:collapse'><img style='max-width: 100px; max-height:100px;display:inline' src=\"data:image/png;base64,iVBORw0KGgoAAAANSUhEUgAAAGkAAABpAQAAAAAR+TCXAAAABGdBTUEAALGPC/xhBQAAACBjSFJNAAB6JgAAgIQAAPoAAACA6AAAdTAAAOpgAAA6mAAAF3CculE8AAAAAmJLR0QAAd2KE6QAAAAVSURBVDjLY2AYBaNgFIyCUTAKcAIABicAAUZAVxIAAAAASUVORK5C\"></td><td style='text-align:center;vertical-align:middle; margin: 0.5em;border:1px #90999f solid;border-collapse:collapse'><img style='max-width: 100px; max-height:100px;display:inline' src=\"data:image/png;base64,iVBORw0KGgoAAAANSUhEUgAAAGkAAABpAQAAAAAR+TCXAAAABGdBTUEAALGPC/xhBQAAACBjSFJNAAB6JgAAgIQAAPoAAACA6AAAdTAAAOpgAAA6mAAAF3CculE8AAAAAmJLR0QAAd2KE6QAAAAVSURBVDjLY2AYBaNgFIyCUTAKcAIABicAAUZAVxIAAAAASUVORK5C\"></td><td style='text-align:center;vertical-align:middle; margin: 0.5em;border:1px #90999f solid;border-collapse:collapse'><img style='max-width: 100px; max-height:100px;display:inline' src=\"data:image/png;base64,iVBORw0KGgoAAAANSUhEUgAAAGkAAABpCAAAAAAc6VLmAAAABGdBTUEAALGPC/xhBQAAACBjSFJNAAB6JgAAgIQAAPoAAACA6AAAdTAAAOpgAAA6mAAAF3CculE8AAAAAmJLR0QA/4ePzL8AAAERSURBVGje7ZnBCsQgDER1Cfv/P7y6h7WHKbNpoGBJmLmI1fpqGNKg/d2I+q+Z7b/m9cwOvVfbJZFEQhl20a03zf6BzVSMnkg5SNzlmIVvmn3s3pNIIqFsGXNZEf1JPd+ch95YxeiJlIN05PIOTXN6gRKcZvaK0RMpB+lwORoTm3m9TKCaqRg9kXKQTrl8soaKZm9vZsXoiZSD5Locx1CDjXmrVIyeSDlI/IyF1i8Beb6uGD2RcpAMDb3AgUo8ULHQpTdIJJFQRp8GLjbpCyj8FVSMnkg5SKczFtRwxmgup9eccrlID5MsMIemdGp977srRk+kHKSIyz1hSqeX+TovF+lhEnd5oCCPH7xs35NIIqG+KEQz8qEvWLQAAAAASUVORK5C\"></td><td style='text-align:center;vertical-align:middle; margin: 0.5em;border:1px #90999f solid;border-collapse:collapse'><img style='max-width: 100px; max-height:100px;display:inline' src=\"data:image/png;base64,iVBORw0KGgoAAAANSUhEUgAAAGkAAABpCAAAAAAc6VLmAAAABGdBTUEAALGPC/xhBQAAACBjSFJNAAB6JgAAgIQAAPoAAACA6AAAdTAAAOpgAAA6mAAAF3CculE8AAAAAmJLR0QA/4ePzL8AAAE6SURBVGje7ZnNDoQgDISB5bTv/7arsAdL4pBJlz2IP5m5EKH4iZk0tcZ32KtuQ9yGdRsKDKgI+3AS11KYJZFEQmW8RLcmmETTVraB3iXOPpNIIqGay82Ylq9fLLQM3O4SZxJJJFRzuRUnNEOP52tcU8Ui0jVIzeWWqLGiRkWIxEm7jRl6OfdMIomEyvQS+Z7naRJPvyePlEgioTqXFzZ4DRTTh63RT9kJEkkkVOdyK89phi5sMsAGrzx/4tsT6R6k5nIjrsMbsQ6JbEgscoJEEgmV8fPRRLO31zKhD6yKRaRrkJq7zcLWKK/simqBEK+MeeLbE+kepK4u9wrrwNZM2IhMLOSJb0+ke5C6f58o+k/fRPsvtAOpXC7SyaRch0O97I0hA030IyWSSKj89w5ae3t1+fQziSQS6gvCd0TmYOnfHAAAAABJRU5ErkJg\"></td><td style='text-align:center;vertical-align:middle; margin: 0.5em;border:1px #90999f solid;border-collapse:collapse'><img style='max-width: 100px; max-height:100px;display:inline' src=\"data:image/png;base64,iVBORw0KGgoAAAANSUhEUgAAAGkAAABpAQAAAAAR+TCXAAAABGdBTUEAALGPC/xhBQAAACBjSFJNAAB6JgAAgIQAAPoAAACA6AAAdTAAAOpgAAA6mAAAF3CculE8AAAAAmJLR0QAAd2KE6QAAAAVSURBVDjLY2AYBaNgFIyCUTAKcAIABicAAUZAVxIAAAAASUVORK5C\"></td><td style='text-align:center;vertical-align:middle; margin: 0.5em;border:1px #90999f solid;border-collapse:collapse'><img style='max-width: 100px; max-height:100px;display:inline' src=\"data:image/png;base64,iVBORw0KGgoAAAANSUhEUgAAAGkAAABpAQAAAAAR+TCXAAAABGdBTUEAALGPC/xhBQAAACBjSFJNAAB6JgAAgIQAAPoAAACA6AAAdTAAAOpgAAA6mAAAF3CculE8AAAAAmJLR0QAAd2KE6QAAAAVSURBVDjLY2AYBaNgFIyCUTAKcAIABicAAUZAVxIAAAAASUVORK5C\"></td><td style='text-align:center;vertical-align:middle; margin: 0.5em;border:1px #90999f solid;border-collapse:collapse'><img style='max-width: 100px; max-height:100px;display:inline' src=\"data:image/png;base64,iVBORw0KGgoAAAANSUhEUgAAAGkAAABpCAAAAAAc6VLmAAAABGdBTUEAALGPC/xhBQAAACBjSFJNAAB6JgAAgIQAAPoAAACA6AAAdTAAAOpgAAA6mAAAF3CculE8AAAAAmJLR0QA/4ePzL8AAAFhSURBVGje7ZnLbsMwDAStWk1b5P8/NW3zsnvg5jApkUMM2JGwvBCSJY0lrAWSLkNmJdwu3Ee493Bv4WZMUOsc7oRVBsxbwUwyiVbTXulzwpgxe1ay1dT5i1aPp2dSG6SbynVRX8NN6KzZS0m7M1oF874xr8fTM6kNUqWEL+FK5kZMVGuGYzQzZs9WMJNMot2pvDwYWrKWJHx5MHL1PZlkEu0WsfDalknCCmNGvBsvceWbO3Qygu/x9Exqg1RZTiGfaSevbSr5C53S/HWjPZlkEi1XOasjqdiHrJWmpKvvySSTaFVXs8IKXb9njGHRMI1tNOQYjjmss0+TNiZVRRcsje/DqSLIEJza5X+gn3CsR7qSaNLGpLtyCCvkn3gbZp+8vQ9YLa3G9Hh6JrVBKgvn84coPwTH5Sa9BqkuX+K/uV5u0kuRnlZ5GpXQsf7S4+mZ1AZpqcqlZCaa07Z7Mskk2h8tzT4LAf72FgAAAABJRU5ErkJg\"></td><td style='text-align:center;vertical-align:middle; margin: 0.5em;border:1px #90999f solid;border-collapse:collapse'><img style='max-width: 100px; max-height:100px;display:inline' src=\"data:image/png;base64,iVBORw0KGgoAAAANSUhEUgAAAGkAAABpCAAAAAAc6VLmAAAABGdBTUEAALGPC/xhBQAAACBjSFJNAAB6JgAAgIQAAPoAAACA6AAAdTAAAOpgAAA6mAAAF3CculE8AAAAAmJLR0QA/4ePzL8AAAFZSURBVGje7ZnBjoMwDEQJhHP//1OrbaGHOIeHRl4umy1o5mKRkLwQGctxymMSKs28mtma2WH45oS+GX1sHCCTTKIqH8Ohi1rGuxnp7HKW0DL6m0wyiepeHo4Z0XvFOzte2X+flHPOo7/JJJOo7uVvtO7J03k5YzHpO0iHWB6OGUlG+Gf2B8SAFbO81IA77p5J1yAd8vIV/PDPohqzlWZH0gEyySTq4OXhkT/NRBBnQs4CyoYBE/pO/A9/IpNMoirj7lPxWVXZ1DQy3Pv0adJ3kHosj0yc1UKZecgIXVTjrBoHyCSTqEqbVQuzkolcsEzrB8gkk6ju5QWPUSSR5ZQFjdm96IwBd9w9k65BOpw+GXe309PwNkku/467Z9I1SDXrlIdJeRaVcX5C3x13z6RrkCqT5+y8KS9EZV2Rk7lebtI/k3oslxl1VFyySx7+JKwdysLLAJlkEvUBbw9N7uHMDiQAAAAASUVORK5C\"></td><td style='text-align:center;vertical-align:middle; margin: 0.5em;border:1px #90999f solid;border-collapse:collapse'><img style='max-width: 100px; max-height:100px;display:inline' src=\"data:image/png;base64,iVBORw0KGgoAAAANSUhEUgAAAGkAAABpAQAAAAAR+TCXAAAABGdBTUEAALGPC/xhBQAAACBjSFJNAAB6JgAAgIQAAPoAAACA6AAAdTAAAOpgAAA6mAAAF3CculE8AAAAAmJLR0QAAd2KE6QAAAAVSURBVDjLY2AYBaNgFIyCUTAKcAIABicAAUZAVxIAAAAASUVORK5C\"></td></tr></tbody></table><div><small>(a vector displayed as a row to save space)</small></div>"
      ],
      "text/plain": [
       "16-element Array{Array{Gray{Float64},2},1}:\n",
       " [Gray{Float64}(0.0370654) Gray{Float64}(0.0384277) … Gray{Float64}(0.0333066) Gray{Float64}(0.0332052); Gray{Float64}(0.0382819) Gray{Float64}(0.0390413) … Gray{Float64}(0.0212144) Gray{Float64}(0.0289805); … ; Gray{Float64}(0.0379607) Gray{Float64}(0.0391423) … Gray{Float64}(0.0349335) Gray{Float64}(0.0353313); Gray{Float64}(0.0370924) Gray{Float64}(0.0388144) … Gray{Float64}(0.0363615) Gray{Float64}(0.0362436)]\n",
       " [Gray{Float64}(0.0) Gray{Float64}(0.0) … Gray{Float64}(0.0) Gray{Float64}(0.0); Gray{Float64}(0.0) Gray{Float64}(0.0) … Gray{Float64}(0.0) Gray{Float64}(0.0); … ; Gray{Float64}(0.0) Gray{Float64}(0.0) … Gray{Float64}(0.0) Gray{Float64}(0.0); Gray{Float64}(0.0) Gray{Float64}(0.0) … Gray{Float64}(0.0) Gray{Float64}(0.0)]                                                                                                \n",
       " [Gray{Float64}(0.0) Gray{Float64}(0.0) … Gray{Float64}(0.0) Gray{Float64}(0.0); Gray{Float64}(0.0) Gray{Float64}(0.0) … Gray{Float64}(0.0) Gray{Float64}(0.0); … ; Gray{Float64}(0.0) Gray{Float64}(0.0) … Gray{Float64}(0.0) Gray{Float64}(0.0); Gray{Float64}(0.0) Gray{Float64}(0.0) … Gray{Float64}(0.0) Gray{Float64}(0.0)]                                                                                                \n",
       " [Gray{Float64}(0.956913) Gray{Float64}(0.981267) … Gray{Float64}(0.765367) Gray{Float64}(0.738477); Gray{Float64}(0.973172) Gray{Float64}(0.9801) … Gray{Float64}(0.432452) Gray{Float64}(0.656442); … ; Gray{Float64}(0.982135) Gray{Float64}(1.01095) … Gray{Float64}(0.82943) Gray{Float64}(0.834624); Gray{Float64}(0.959379) Gray{Float64}(0.990942) … Gray{Float64}(0.81318) Gray{Float64}(0.841004)]                     \n",
       " [Gray{Float64}(0.0) Gray{Float64}(0.0) … Gray{Float64}(0.0) Gray{Float64}(0.0); Gray{Float64}(0.0) Gray{Float64}(0.0) … Gray{Float64}(0.0) Gray{Float64}(0.0); … ; Gray{Float64}(0.0) Gray{Float64}(0.0) … Gray{Float64}(0.0) Gray{Float64}(0.0); Gray{Float64}(0.0) Gray{Float64}(0.0) … Gray{Float64}(0.0) Gray{Float64}(0.0)]                                                                                                \n",
       " [Gray{Float64}(0.0135039) Gray{Float64}(0.0158185) … Gray{Float64}(0.0204415) Gray{Float64}(0.0220983); Gray{Float64}(0.0141454) Gray{Float64}(0.0161269) … Gray{Float64}(0.0127901) Gray{Float64}(0.0190189); … ; Gray{Float64}(0.0129074) Gray{Float64}(0.015035) … Gray{Float64}(0.0247583) Gray{Float64}(0.0249387); Gray{Float64}(0.0125867) Gray{Float64}(0.0142707) … Gray{Float64}(0.0230635) Gray{Float64}(0.0231155)] \n",
       " [Gray{Float64}(0.0) Gray{Float64}(0.0) … Gray{Float64}(0.0) Gray{Float64}(0.0); Gray{Float64}(0.0) Gray{Float64}(0.0) … Gray{Float64}(0.0) Gray{Float64}(0.0); … ; Gray{Float64}(0.0) Gray{Float64}(0.0) … Gray{Float64}(0.0) Gray{Float64}(0.0); Gray{Float64}(0.0) Gray{Float64}(0.0) … Gray{Float64}(0.0) Gray{Float64}(0.0)]                                                                                                \n",
       " [Gray{Float64}(0.0) Gray{Float64}(0.0) … Gray{Float64}(0.0) Gray{Float64}(0.0); Gray{Float64}(0.0) Gray{Float64}(0.0) … Gray{Float64}(0.0) Gray{Float64}(0.0); … ; Gray{Float64}(0.0) Gray{Float64}(0.0) … Gray{Float64}(0.0) Gray{Float64}(0.0); Gray{Float64}(0.0) Gray{Float64}(0.0) … Gray{Float64}(0.0) Gray{Float64}(0.0)]                                                                                                \n",
       " [Gray{Float64}(0.0) Gray{Float64}(0.0) … Gray{Float64}(0.0) Gray{Float64}(0.0); Gray{Float64}(0.0) Gray{Float64}(0.0) … Gray{Float64}(0.0) Gray{Float64}(0.0); … ; Gray{Float64}(0.0) Gray{Float64}(0.0) … Gray{Float64}(0.0) Gray{Float64}(0.0); Gray{Float64}(0.0) Gray{Float64}(0.0) … Gray{Float64}(0.0) Gray{Float64}(0.0)]                                                                                                \n",
       " [Gray{Float64}(0.0219522) Gray{Float64}(0.0229857) … Gray{Float64}(0.0229382) Gray{Float64}(0.021966); Gray{Float64}(0.0231684) Gray{Float64}(0.0234814) … Gray{Float64}(0.0131354) Gray{Float64}(0.0200389); … ; Gray{Float64}(0.022168) Gray{Float64}(0.0237049) … Gray{Float64}(0.0249869) Gray{Float64}(0.0254898); Gray{Float64}(0.0215723) Gray{Float64}(0.022796) … Gray{Float64}(0.023943) Gray{Float64}(0.025472)]     \n",
       " [Gray{Float64}(0.0392021) Gray{Float64}(0.0385189) … Gray{Float64}(0.019009) Gray{Float64}(0.0176338); Gray{Float64}(0.0392737) Gray{Float64}(0.0383365) … Gray{Float64}(0.00935154) Gray{Float64}(0.0134018); … ; Gray{Float64}(0.0407741) Gray{Float64}(0.0404935) … Gray{Float64}(0.0190049) Gray{Float64}(0.0194438); Gray{Float64}(0.0398444) Gray{Float64}(0.0398159) … Gray{Float64}(0.0193212) Gray{Float64}(0.0199419)]\n",
       " [Gray{Float64}(0.0) Gray{Float64}(0.0) … Gray{Float64}(0.0) Gray{Float64}(0.0); Gray{Float64}(0.0) Gray{Float64}(0.0) … Gray{Float64}(0.0) Gray{Float64}(0.0); … ; Gray{Float64}(0.0) Gray{Float64}(0.0) … Gray{Float64}(0.0) Gray{Float64}(0.0); Gray{Float64}(0.0) Gray{Float64}(0.0) … Gray{Float64}(0.0) Gray{Float64}(0.0)]                                                                                                \n",
       " [Gray{Float64}(0.0) Gray{Float64}(0.0) … Gray{Float64}(0.0) Gray{Float64}(0.0); Gray{Float64}(0.0) Gray{Float64}(0.0) … Gray{Float64}(0.0) Gray{Float64}(0.0); … ; Gray{Float64}(0.0) Gray{Float64}(0.0) … Gray{Float64}(0.0) Gray{Float64}(0.0); Gray{Float64}(0.0) Gray{Float64}(0.0) … Gray{Float64}(0.0) Gray{Float64}(0.0)]                                                                                                \n",
       " [Gray{Float64}(0.0) Gray{Float64}(0.0) … Gray{Float64}(0.0346198) Gray{Float64}(0.0356628); Gray{Float64}(0.0) Gray{Float64}(0.0) … Gray{Float64}(0.0265642) Gray{Float64}(0.0324562); … ; Gray{Float64}(0.0) Gray{Float64}(0.0) … Gray{Float64}(0.0404942) Gray{Float64}(0.0374908); Gray{Float64}(0.0) Gray{Float64}(0.0) … Gray{Float64}(0.0368037) Gray{Float64}(0.0361046)]                                                \n",
       " [Gray{Float64}(0.0584629) Gray{Float64}(0.059497) … Gray{Float64}(0.0429463) Gray{Float64}(0.0411491); Gray{Float64}(0.0595054) Gray{Float64}(0.0593325) … Gray{Float64}(0.0238106) Gray{Float64}(0.0366978); … ; Gray{Float64}(0.0598014) Gray{Float64}(0.0607924) … Gray{Float64}(0.0457655) Gray{Float64}(0.0461878); Gray{Float64}(0.0584798) Gray{Float64}(0.059932) … Gray{Float64}(0.0451107) Gray{Float64}(0.0462588)]  \n",
       " [Gray{Float64}(0.0) Gray{Float64}(0.0) … Gray{Float64}(0.0) Gray{Float64}(0.0); Gray{Float64}(0.0) Gray{Float64}(0.0) … Gray{Float64}(0.0) Gray{Float64}(0.0); … ; Gray{Float64}(0.0) Gray{Float64}(0.0) … Gray{Float64}(0.0) Gray{Float64}(0.0); Gray{Float64}(0.0) Gray{Float64}(0.0) … Gray{Float64}(0.0) Gray{Float64}(0.0)]                                                                                                "
      ]
     },
     "execution_count": 49,
     "metadata": {},
     "output_type": "execute_result"
    }
   ],
   "source": [
    "output_conv = m_final(random_test_example_X_4d);\n",
    "displayChannels(output_conv)"
   ]
  },
  {
   "cell_type": "code",
   "execution_count": 50,
   "metadata": {},
   "outputs": [
    {
     "data": {
      "text/html": [
       "<table><tbody><tr><td style='text-align:center;vertical-align:middle; margin: 0.5em;border:1px #90999f solid;border-collapse:collapse'><img style='max-width: 100px; max-height:100px;display:inline' src=\"data:image/png;base64,iVBORw0KGgoAAAANSUhEUgAAAGkAAABpCAAAAAAc6VLmAAAABGdBTUEAALGPC/xhBQAAACBjSFJNAAB6JgAAgIQAAPoAAACA6AAAdTAAAOpgAAA6mAAAF3CculE8AAAAAmJLR0QA/4ePzL8AAAEZSURBVGje7ZnBDgIhDERlaeL//60HBQ9bD7MZa72wsJlemgXxUTIhA5T77Xtse+qQSjDg8fvPBoRIImGYi7az1PaEum5sppH0h9ckkkgY5rkHv6GbePt3pldcPZHWIBmVd2Jr9kjYmOE1iSQShuEnar7AbKg972zcyTWJJBLGx5d7esHXBukJfahrqVykiUkHx4KHSffeKH00J3IsIs1PsoTliOStOxaR5icZbaUSxg2+QmNiwldcPZHWIBn115QfmRP5cpEmJh1ehaI7cXwj8lTZuJNrEkkkDGtBp0vfT58V0sQ1iSQShtGLwQaNPhsq7/z70RVXT6Q1SBZ14umTmpqEIR9ek0giYXCVR6dPj/wmPrwmkUTCeAPB/i/8HJLy0QAAAABJRU5ErkJg\"></td><td style='text-align:center;vertical-align:middle; margin: 0.5em;border:1px #90999f solid;border-collapse:collapse'><img style='max-width: 100px; max-height:100px;display:inline' src=\"data:image/png;base64,iVBORw0KGgoAAAANSUhEUgAAAGkAAABpCAAAAAAc6VLmAAAABGdBTUEAALGPC/xhBQAAACBjSFJNAAB6JgAAgIQAAPoAAACA6AAAdTAAAOpgAAA6mAAAF3CculE8AAAAAmJLR0QA/4ePzL8AAABaSURBVGje7c/JCQAgEANAr/5LVh8WIIKI6OSTz7JDYtiSNKrOTw6ERCKRSCQSiUQikUi3SfnBTSQSifSbVPa8iaPaFZtIJBKJRCKRSCQSiUQikUgkEolEWk0HXuEC1ZlW2IkAAAAASUVORK5C\"></td><td style='text-align:center;vertical-align:middle; margin: 0.5em;border:1px #90999f solid;border-collapse:collapse'><img style='max-width: 100px; max-height:100px;display:inline' src=\"data:image/png;base64,iVBORw0KGgoAAAANSUhEUgAAAGkAAABpAQAAAAAR+TCXAAAABGdBTUEAALGPC/xhBQAAACBjSFJNAAB6JgAAgIQAAPoAAACA6AAAdTAAAOpgAAA6mAAAF3CculE8AAAAAmJLR0QAAd2KE6QAAAAVSURBVDjLY2AYBaNgFIyCUTAKcAIABicAAUZAVxIAAAAASUVORK5C\"></td><td style='text-align:center;vertical-align:middle; margin: 0.5em;border:1px #90999f solid;border-collapse:collapse'><img style='max-width: 100px; max-height:100px;display:inline' src=\"data:image/png;base64,iVBORw0KGgoAAAANSUhEUgAAAGkAAABpCAAAAAAc6VLmAAAABGdBTUEAALGPC/xhBQAAACBjSFJNAAB6JgAAgIQAAPoAAACA6AAAdTAAAOpgAAA6mAAAF3CculE8AAAAAmJLR0QA/4ePzL8AAAHCSURBVGje7Zq5SkNRFEVvzJU445AoqIgI4oSVIPgFdn6tnd9gI9gqKopznDVqEou1LU5hK7fYu1mQ9x6bA/sdzj15ld2UUkqpC5qgDabBC3gFw6AOWuGB7fS3etJ/yU52ispT8BEo5dcBFVADZ+AKbIGBkmqyk52isqwuwTtQa1a8O0ApV6BvwDFYLqkmO9kpKt9D5foLxNacQSXc0gcU9tmSarKTnaKysqtcX4WLc2AdnIKD8MADaJZUk53sFJU1h0yAO/0KxoFeBB00G6AZcFtSTXayU1TWCVMR1llUe5QTcAgGw7VWQFE12clOUVldWNO2pnTtFXXsnAdj4Ano7dBQs1pSTXayU1TWClFTyTdQyhXhIVDVE0Crcb0djZJqspOdovIo1F8+CvskUOafwRtQg9dAPgLaJdVkJztFZYVWjbofqEPvA40jd+HOBbAG6iXVZCc7ReVz+Amq4eIH2AM7YAOo6+sjgE5JNdnJTlF5BmoZrlxfAO1YRsEm0I5F7b4XdEuqyU52ispq4toIxg+zVoBOn0dgEWjPHpcyZdRkJztF/X7HopSrQy8BnT41nGi20clUe8VaeK6Mmuxkp6gfnkVXl1HlqvkAAAAASUVORK5C\"></td><td style='text-align:center;vertical-align:middle; margin: 0.5em;border:1px #90999f solid;border-collapse:collapse'><img style='max-width: 100px; max-height:100px;display:inline' src=\"data:image/png;base64,iVBORw0KGgoAAAANSUhEUgAAAGkAAABpAQAAAAAR+TCXAAAABGdBTUEAALGPC/xhBQAAACBjSFJNAAB6JgAAgIQAAPoAAACA6AAAdTAAAOpgAAA6mAAAF3CculE8AAAAAmJLR0QAAd2KE6QAAAAVSURBVDjLY2AYBaNgFIyCUTAKcAIABicAAUZAVxIAAAAASUVORK5C\"></td><td style='text-align:center;vertical-align:middle; margin: 0.5em;border:1px #90999f solid;border-collapse:collapse'><img style='max-width: 100px; max-height:100px;display:inline' src=\"data:image/png;base64,iVBORw0KGgoAAAANSUhEUgAAAGkAAABpCAAAAAAc6VLmAAAABGdBTUEAALGPC/xhBQAAACBjSFJNAAB6JgAAgIQAAPoAAACA6AAAdTAAAOpgAAA6mAAAF3CculE8AAAAAmJLR0QA/4ePzL8AAAD4SURBVGje7ZlBCsMwDATl1v3/g1vqngLdshWCQFDC7CXE2BnLLEJWxiMiImLEt1b815IFQwafybpbHCVIkFRzlKfqzLfstPCVK54epHOQ5s71qzzziqcH6Rwk7/IsNdvahlwOqTGpksszXy959IgJEiTV5nI1rbVwlrZxOaTGpM3lhcoja8NQsUBqTJo2e1tlU3A5pMakn7o8y9C2cKk3Iq94epDOQar0WJZ7o2KBdBrStBnaXjtDptR/Bx0eEyRIqvlyo8O93WVv9Ub54TFBgqTyFcty28hun3QSITUm/bjc3iltLz1ksFVMkCCp5s7+YMeYIEFSfQBpFyf168AI3QAAAABJRU5ErkJg\"></td><td style='text-align:center;vertical-align:middle; margin: 0.5em;border:1px #90999f solid;border-collapse:collapse'><img style='max-width: 100px; max-height:100px;display:inline' src=\"data:image/png;base64,iVBORw0KGgoAAAANSUhEUgAAAGkAAABpAQAAAAAR+TCXAAAABGdBTUEAALGPC/xhBQAAACBjSFJNAAB6JgAAgIQAAPoAAACA6AAAdTAAAOpgAAA6mAAAF3CculE8AAAAAmJLR0QAAd2KE6QAAAAVSURBVDjLY2AYBaNgFIyCUTAKcAIABicAAUZAVxIAAAAASUVORK5C\"></td><td style='text-align:center;vertical-align:middle; margin: 0.5em;border:1px #90999f solid;border-collapse:collapse'><img style='max-width: 100px; max-height:100px;display:inline' src=\"data:image/png;base64,iVBORw0KGgoAAAANSUhEUgAAAGkAAABpAQAAAAAR+TCXAAAABGdBTUEAALGPC/xhBQAAACBjSFJNAAB6JgAAgIQAAPoAAACA6AAAdTAAAOpgAAA6mAAAF3CculE8AAAAAmJLR0QAAd2KE6QAAAAVSURBVDjLY2AYBaNgFIyCUTAKcAIABicAAUZAVxIAAAAASUVORK5C\"></td><td style='text-align:center;vertical-align:middle; margin: 0.5em;border:1px #90999f solid;border-collapse:collapse'><img style='max-width: 100px; max-height:100px;display:inline' src=\"data:image/png;base64,iVBORw0KGgoAAAANSUhEUgAAAGkAAABpAQAAAAAR+TCXAAAABGdBTUEAALGPC/xhBQAAACBjSFJNAAB6JgAAgIQAAPoAAACA6AAAdTAAAOpgAAA6mAAAF3CculE8AAAAAmJLR0QAAd2KE6QAAAAVSURBVDjLY2AYBaNgFIyCUTAKcAIABicAAUZAVxIAAAAASUVORK5C\"></td><td style='text-align:center;vertical-align:middle; margin: 0.5em;border:1px #90999f solid;border-collapse:collapse'><img style='max-width: 100px; max-height:100px;display:inline' src=\"data:image/png;base64,iVBORw0KGgoAAAANSUhEUgAAAGkAAABpCAAAAAAc6VLmAAAABGdBTUEAALGPC/xhBQAAACBjSFJNAAB6JgAAgIQAAPoAAACA6AAAdTAAAOpgAAA6mAAAF3CculE8AAAAAmJLR0QA/4ePzL8AAAD1SURBVGje7ZnBCoMwEEQTCf3/7y1Ye6g9DIxxpVA34c1FNIG3uyzDxtRHMdo+jypvquo+PsuxlvIvQYKkar3FXrOvEmktp5qxepDGILWeXxdZsztf4YBnrB6kMUjey3vWHLDtm3OCBEn17fL4CB6Y2W/OCRIkVQvsCUwzgWafsXqQxiC1uHuX8505coIESeW9fD9TagvrjLK5tRw5QYKkikwsu7SvNUS6HFJiUuQfi51YLh9CZ6wepDFILdCfvdGduRxSflJb3Vfr5YuLjS6HlJ/k7z6te/8Y1IzVgzQGqXv6VKO2l/ncCkHKT7p+w58/J0iQVG8TIyHv7fR21gAAAABJRU5ErkJg\"></td><td style='text-align:center;vertical-align:middle; margin: 0.5em;border:1px #90999f solid;border-collapse:collapse'><img style='max-width: 100px; max-height:100px;display:inline' src=\"data:image/png;base64,iVBORw0KGgoAAAANSUhEUgAAAGkAAABpCAAAAAAc6VLmAAAABGdBTUEAALGPC/xhBQAAACBjSFJNAAB6JgAAgIQAAPoAAACA6AAAdTAAAOpgAAA6mAAAF3CculE8AAAAAmJLR0QA/4ePzL8AAAEFSURBVGje7ZnBCsIwEEQ3sv7/ByutB9PDlDEEhHQLby7BbPVlYVzG2J4RERFbGLXvsrtNW3vHbz1ilSBBUqU1rS6qkedr9AQJkir7uv31KbV6ggRJlfPzWmvNvarREyRIqmOWd5vqSG/yTDe0zd72u3JVT5AgqdJOYZu2d3e2CXsv7wkSJFXa6a32frnavL2X9wQJkurI5Wr2iXuUfVC7uCdIkFRpdzWcNLc85ElcDqkw6fTr02ZvexoSC6TbkDIHxX6dYv8jmo8qy3uCBEnl71jU0D2z26hSsSdIkFTHKLe+1k09FLMc0m1IQ5ePblXs+2r0BAmS6hTLbfYe5fKKPUGCpPoAULUu7OH/9OgAAAAASUVORK5C\"></td><td style='text-align:center;vertical-align:middle; margin: 0.5em;border:1px #90999f solid;border-collapse:collapse'><img style='max-width: 100px; max-height:100px;display:inline' src=\"data:image/png;base64,iVBORw0KGgoAAAANSUhEUgAAAGkAAABpAQAAAAAR+TCXAAAABGdBTUEAALGPC/xhBQAAACBjSFJNAAB6JgAAgIQAAPoAAACA6AAAdTAAAOpgAAA6mAAAF3CculE8AAAAAmJLR0QAAd2KE6QAAAAVSURBVDjLY2AYBaNgFIyCUTAKcAIABicAAUZAVxIAAAAASUVORK5C\"></td><td style='text-align:center;vertical-align:middle; margin: 0.5em;border:1px #90999f solid;border-collapse:collapse'><img style='max-width: 100px; max-height:100px;display:inline' src=\"data:image/png;base64,iVBORw0KGgoAAAANSUhEUgAAAGkAAABpAQAAAAAR+TCXAAAABGdBTUEAALGPC/xhBQAAACBjSFJNAAB6JgAAgIQAAPoAAACA6AAAdTAAAOpgAAA6mAAAF3CculE8AAAAAmJLR0QAAd2KE6QAAAAVSURBVDjLY2AYBaNgFIyCUTAKcAIABicAAUZAVxIAAAAASUVORK5C\"></td><td style='text-align:center;vertical-align:middle; margin: 0.5em;border:1px #90999f solid;border-collapse:collapse'><img style='max-width: 100px; max-height:100px;display:inline' src=\"data:image/png;base64,iVBORw0KGgoAAAANSUhEUgAAAGkAAABpCAAAAAAc6VLmAAAABGdBTUEAALGPC/xhBQAAACBjSFJNAAB6JgAAgIQAAPoAAACA6AAAdTAAAOpgAAA6mAAAF3CculE8AAAAAmJLR0QA/4ePzL8AAAE5SURBVGje7ZnBjsIwDETd1iBx4f9/FHYXCuVgI/GQ6cIFUjRzsRxSPVyNrNTptmZmZqsIfYTJbpXZMcIhQmeFfuyxenuXRBKJco84REjvnpFdt2LxF1ln/+ob355IyyBdXU5imnZCliG7/h7PyeUiNUzy9OeA1cwmBJ5myi1t1CSSSFS28rtmzF4+Vr81XJNIIlF+ijgAzA6d35trLPIE31RNIolEOU8eI7J08gaL6flTuzWJJBJ1N2MpR4ip8pPUquzDNYkkEuUcGpaDwdzyF2HElic+O99ek0giUc4jOL3Le6C88smjyvnVf/qNb0+kZZA8nUzTsnvvIrDP99ViGzWJJBI1a09eiHIMUz64b6ImkUSi/OUnNC8XaWmk2uXlAIVhbhrz4ZpEEomadXl6tzyzN1yTSCJRFwPBN8c8vD6yAAAAAElFTkSuQmCC\"></td><td style='text-align:center;vertical-align:middle; margin: 0.5em;border:1px #90999f solid;border-collapse:collapse'><img style='max-width: 100px; max-height:100px;display:inline' src=\"data:image/png;base64,iVBORw0KGgoAAAANSUhEUgAAAGkAAABpCAAAAAAc6VLmAAAABGdBTUEAALGPC/xhBQAAACBjSFJNAAB6JgAAgIQAAPoAAACA6AAAdTAAAOpgAAA6mAAAF3CculE8AAAAAmJLR0QA/4ePzL8AAAEhSURBVGje7ZqxDsIwDESd1l34/29lAVqGusNDJmRCbnW3RCGkL4lOluO23czMzDY0oYZejE0Y44S7fddk/5JIIlEeqNfepGanVvTmvWn2U1c8PZHOQfIwdHh3G564YqVyuUiFST7ua4oZy8BTrnh6Ip2D5OymefmyNxG9n9kEuVykwiRvINKt6TLSK6lcLlJhkvPayTQ7ovcDM9LiSqk9iSQS5QzGa/afNNzz9jlX2pNIIlFHXp5mHmkBZcqWqBqLSIVJh8uZh5CfrmbDvFJ7Ekkk6sPlzDxYRE/jvN4KiVSf5AP+jNrh0lmbaiwiFSYdb/jTsB0/pnHeMFZqTyKJRHmajvTqig3NeEHxiqcn0jlI3vvukDfM3pcrylhEKkx6A/E6OPayI3CaAAAAAElFTkSuQmCC\"></td><td style='text-align:center;vertical-align:middle; margin: 0.5em;border:1px #90999f solid;border-collapse:collapse'><img style='max-width: 100px; max-height:100px;display:inline' src=\"data:image/png;base64,iVBORw0KGgoAAAANSUhEUgAAAGkAAABpAQAAAAAR+TCXAAAABGdBTUEAALGPC/xhBQAAACBjSFJNAAB6JgAAgIQAAPoAAACA6AAAdTAAAOpgAAA6mAAAF3CculE8AAAAAmJLR0QAAd2KE6QAAAAVSURBVDjLY2AYBaNgFIyCUTAKcAIABicAAUZAVxIAAAAASUVORK5C\"></td></tr></tbody></table><div><small>(a vector displayed as a row to save space)</small></div>"
      ],
      "text/plain": [
       "16-element Array{Array{Gray{Float64},2},1}:\n",
       " [Gray{Float64}(0.0274297) Gray{Float64}(0.0263575) … Gray{Float64}(0.0) Gray{Float64}(0.0); Gray{Float64}(0.0307612) Gray{Float64}(0.0282151) … Gray{Float64}(0.0) Gray{Float64}(0.0); … ; Gray{Float64}(0.0199257) Gray{Float64}(0.0143681) … Gray{Float64}(0.0) Gray{Float64}(0.0); Gray{Float64}(0.0202402) Gray{Float64}(0.0147091) … Gray{Float64}(0.0) Gray{Float64}(0.0)]     \n",
       " [Gray{Float64}(0.0) Gray{Float64}(0.0) … Gray{Float64}(0.0) Gray{Float64}(0.0); Gray{Float64}(0.0) Gray{Float64}(0.0) … Gray{Float64}(0.0) Gray{Float64}(0.0); … ; Gray{Float64}(0.0) Gray{Float64}(0.0) … Gray{Float64}(0.0) Gray{Float64}(0.0); Gray{Float64}(0.0) Gray{Float64}(0.0) … Gray{Float64}(0.0) Gray{Float64}(0.0)]                                                     \n",
       " [Gray{Float64}(0.0) Gray{Float64}(0.0) … Gray{Float64}(0.0) Gray{Float64}(0.0); Gray{Float64}(0.0) Gray{Float64}(0.0) … Gray{Float64}(0.0) Gray{Float64}(0.0); … ; Gray{Float64}(0.0) Gray{Float64}(0.0) … Gray{Float64}(0.0) Gray{Float64}(0.0); Gray{Float64}(0.0) Gray{Float64}(0.0) … Gray{Float64}(0.0) Gray{Float64}(0.0)]                                                     \n",
       " [Gray{Float64}(0.706715) Gray{Float64}(0.701788) … Gray{Float64}(0.0) Gray{Float64}(0.0); Gray{Float64}(0.796781) Gray{Float64}(0.738133) … Gray{Float64}(0.0) Gray{Float64}(0.0); … ; Gray{Float64}(0.572178) Gray{Float64}(0.451569) … Gray{Float64}(0.0) Gray{Float64}(0.0); Gray{Float64}(0.582068) Gray{Float64}(0.423779) … Gray{Float64}(0.0) Gray{Float64}(0.0)]             \n",
       " [Gray{Float64}(0.0) Gray{Float64}(0.0) … Gray{Float64}(0.0) Gray{Float64}(0.0); Gray{Float64}(0.0) Gray{Float64}(0.0) … Gray{Float64}(0.0) Gray{Float64}(0.0); … ; Gray{Float64}(0.0) Gray{Float64}(0.0) … Gray{Float64}(0.0) Gray{Float64}(0.0); Gray{Float64}(0.0) Gray{Float64}(0.0) … Gray{Float64}(0.0) Gray{Float64}(0.0)]                                                     \n",
       " [Gray{Float64}(0.0208057) Gray{Float64}(0.0236968) … Gray{Float64}(0.0) Gray{Float64}(0.0); Gray{Float64}(0.0220407) Gray{Float64}(0.0228687) … Gray{Float64}(0.0) Gray{Float64}(0.0); … ; Gray{Float64}(0.00182639) Gray{Float64}(0.000113347) … Gray{Float64}(0.0) Gray{Float64}(0.0); Gray{Float64}(0.00286136) Gray{Float64}(0.00166264) … Gray{Float64}(0.0) Gray{Float64}(0.0)]\n",
       " [Gray{Float64}(0.0) Gray{Float64}(0.0) … Gray{Float64}(0.0) Gray{Float64}(0.0); Gray{Float64}(0.0) Gray{Float64}(0.0) … Gray{Float64}(0.0) Gray{Float64}(0.0); … ; Gray{Float64}(0.0) Gray{Float64}(0.0) … Gray{Float64}(0.0) Gray{Float64}(0.0); Gray{Float64}(0.0) Gray{Float64}(0.0) … Gray{Float64}(0.0) Gray{Float64}(0.0)]                                                     \n",
       " [Gray{Float64}(0.0) Gray{Float64}(0.0) … Gray{Float64}(0.0) Gray{Float64}(0.0); Gray{Float64}(0.0) Gray{Float64}(0.0) … Gray{Float64}(0.0) Gray{Float64}(0.0); … ; Gray{Float64}(0.0) Gray{Float64}(0.0) … Gray{Float64}(0.0) Gray{Float64}(0.0); Gray{Float64}(0.0) Gray{Float64}(0.0) … Gray{Float64}(0.0) Gray{Float64}(0.0)]                                                     \n",
       " [Gray{Float64}(0.0) Gray{Float64}(0.0) … Gray{Float64}(0.0) Gray{Float64}(0.0); Gray{Float64}(0.0) Gray{Float64}(0.0) … Gray{Float64}(0.0) Gray{Float64}(0.0); … ; Gray{Float64}(0.0) Gray{Float64}(0.0) … Gray{Float64}(0.0) Gray{Float64}(0.0); Gray{Float64}(0.0) Gray{Float64}(0.0) … Gray{Float64}(0.0) Gray{Float64}(0.0)]                                                     \n",
       " [Gray{Float64}(0.0236803) Gray{Float64}(0.0233888) … Gray{Float64}(0.0) Gray{Float64}(0.0); Gray{Float64}(0.0250656) Gray{Float64}(0.0250473) … Gray{Float64}(0.0) Gray{Float64}(0.0); … ; Gray{Float64}(0.0108479) Gray{Float64}(0.00927885) … Gray{Float64}(0.0) Gray{Float64}(0.0); Gray{Float64}(0.0112591) Gray{Float64}(0.0087915) … Gray{Float64}(0.0) Gray{Float64}(0.0)]    \n",
       " [Gray{Float64}(0.0188381) Gray{Float64}(0.0136169) … Gray{Float64}(0.0) Gray{Float64}(0.0); Gray{Float64}(0.023982) Gray{Float64}(0.0139132) … Gray{Float64}(0.0) Gray{Float64}(0.0); … ; Gray{Float64}(0.0311559) Gray{Float64}(0.0250883) … Gray{Float64}(0.0) Gray{Float64}(0.0); Gray{Float64}(0.0306983) Gray{Float64}(0.0222573) … Gray{Float64}(0.0) Gray{Float64}(0.0)]      \n",
       " [Gray{Float64}(0.0) Gray{Float64}(0.0) … Gray{Float64}(0.0) Gray{Float64}(0.0); Gray{Float64}(0.0) Gray{Float64}(0.0) … Gray{Float64}(0.0) Gray{Float64}(0.0); … ; Gray{Float64}(0.0) Gray{Float64}(0.0) … Gray{Float64}(0.0) Gray{Float64}(0.0); Gray{Float64}(0.0) Gray{Float64}(0.0) … Gray{Float64}(0.0) Gray{Float64}(0.0)]                                                     \n",
       " [Gray{Float64}(0.0) Gray{Float64}(0.0) … Gray{Float64}(0.0) Gray{Float64}(0.0); Gray{Float64}(0.0) Gray{Float64}(0.0) … Gray{Float64}(0.0) Gray{Float64}(0.0); … ; Gray{Float64}(0.0) Gray{Float64}(0.0) … Gray{Float64}(0.0) Gray{Float64}(0.0); Gray{Float64}(0.0) Gray{Float64}(0.0) … Gray{Float64}(0.0) Gray{Float64}(0.0)]                                                     \n",
       " [Gray{Float64}(0.0567365) Gray{Float64}(0.0727535) … Gray{Float64}(0.0) Gray{Float64}(0.0); Gray{Float64}(0.0719258) Gray{Float64}(0.086638) … Gray{Float64}(0.0) Gray{Float64}(0.0); … ; Gray{Float64}(0.0) Gray{Float64}(0.0) … Gray{Float64}(0.0) Gray{Float64}(0.0); Gray{Float64}(0.0) Gray{Float64}(0.0) … Gray{Float64}(0.0) Gray{Float64}(0.0)]                              \n",
       " [Gray{Float64}(0.0379554) Gray{Float64}(0.0349749) … Gray{Float64}(0.0) Gray{Float64}(0.0); Gray{Float64}(0.0460313) Gray{Float64}(0.0346576) … Gray{Float64}(0.0) Gray{Float64}(0.0); … ; Gray{Float64}(0.0365731) Gray{Float64}(0.0275119) … Gray{Float64}(0.0) Gray{Float64}(0.0); Gray{Float64}(0.0373564) Gray{Float64}(0.0261731) … Gray{Float64}(0.0) Gray{Float64}(0.0)]     \n",
       " [Gray{Float64}(0.0) Gray{Float64}(0.0) … Gray{Float64}(0.0) Gray{Float64}(0.0); Gray{Float64}(0.0) Gray{Float64}(0.0) … Gray{Float64}(0.0) Gray{Float64}(0.0); … ; Gray{Float64}(0.0) Gray{Float64}(0.0) … Gray{Float64}(0.0) Gray{Float64}(0.0); Gray{Float64}(0.0) Gray{Float64}(0.0) … Gray{Float64}(0.0) Gray{Float64}(0.0)]                                                     "
      ]
     },
     "execution_count": 50,
     "metadata": {},
     "output_type": "execute_result"
    }
   ],
   "source": [
    "output_conv = m_final(shifted_random_test_example_X_4d);\n",
    "displayChannels(output_conv)"
   ]
  },
  {
   "cell_type": "code",
   "execution_count": 51,
   "metadata": {},
   "outputs": [
    {
     "data": {
      "text/html": [
       "<table><tbody><tr><td style='text-align:center;vertical-align:middle; margin: 0.5em;border:1px #90999f solid;border-collapse:collapse'><img style='max-width: 100px; max-height:100px;display:inline' src=\"data:image/png;base64,iVBORw0KGgoAAAANSUhEUgAAAGkAAABpCAAAAAAc6VLmAAAABGdBTUEAALGPC/xhBQAAACBjSFJNAAB6JgAAgIQAAPoAAACA6AAAdTAAAOpgAAA6mAAAF3CculE8AAAAAmJLR0QA/4ePzL8AAAE5SURBVGje7Zq7DsMgEAQhocn//67tpDmKiVZnFwkWaLdBPMz40GIdyPVVSiml1PJ7vVF7/IGgZZJJVKO9w5jH+YP1/E059YqrZ9IcpBZl2HtHTTp5V9NUFDfHZJJJVP+Wh68bavEaMUTa+1APyGBWXD2T5iC1sKlMXKgLaYx8bh8dk0kmUd3lQXyjyJITaWjZODwmk0yiel7OzIOiry/YW26EFVfPpDlIX6fPrFbPR2aNK66eSXOQtMtpaB5Ci+pjI7fFhTvH38okk6iWdWZH0szeN8dkkklUd7lMR56obRjJHZAdSYfHZJJJVJOpCrWjj7cxX7NhJK8eV1w9k+YgpRnLpt4mO5kyg5fZ/QCZZBLVArWpTnmFGMUTtWwj+PRp0s2k/i0P0/LaXP67JRPy7BpmeEwmmUR9AMSeQelLLKzXAAAAAElFTkSuQmCC\"></td><td style='text-align:center;vertical-align:middle; margin: 0.5em;border:1px #90999f solid;border-collapse:collapse'><img style='max-width: 100px; max-height:100px;display:inline' src=\"data:image/png;base64,iVBORw0KGgoAAAANSUhEUgAAAGkAAABpAQAAAAAR+TCXAAAABGdBTUEAALGPC/xhBQAAACBjSFJNAAB6JgAAgIQAAPoAAACA6AAAdTAAAOpgAAA6mAAAF3CculE8AAAAAmJLR0QAAd2KE6QAAAAVSURBVDjLY2AYBaNgFIyCUTAKcAIABicAAUZAVxIAAAAASUVORK5C\"></td><td style='text-align:center;vertical-align:middle; margin: 0.5em;border:1px #90999f solid;border-collapse:collapse'><img style='max-width: 100px; max-height:100px;display:inline' src=\"data:image/png;base64,iVBORw0KGgoAAAANSUhEUgAAAGkAAABpAQAAAAAR+TCXAAAABGdBTUEAALGPC/xhBQAAACBjSFJNAAB6JgAAgIQAAPoAAACA6AAAdTAAAOpgAAA6mAAAF3CculE8AAAAAmJLR0QAAd2KE6QAAAAVSURBVDjLY2AYBaNgFIyCUTAKcAIABicAAUZAVxIAAAAASUVORK5C\"></td><td style='text-align:center;vertical-align:middle; margin: 0.5em;border:1px #90999f solid;border-collapse:collapse'><img style='max-width: 100px; max-height:100px;display:inline' src=\"data:image/png;base64,iVBORw0KGgoAAAANSUhEUgAAAGkAAABpCAAAAAAc6VLmAAAABGdBTUEAALGPC/xhBQAAACBjSFJNAAB6JgAAgIQAAPoAAACA6AAAdTAAAOpgAAA6mAAAF3CculE8AAAAAmJLR0QA/4ePzL8AAAIjSURBVGje7ZnJSiRBFEUzNVQcuilRcFioCwVbcSWILty69A/8P39B/AC3grjUdqDaqVtLyrGcenHPwgtCbSSgivc2h6yKjFuR3Hz14kV5VxRFURRJ+Cg+x7vQIZQ2srNoGi+GjuY3fFOEUih5lA27rAp7Qk3A+v0C9h4VlptL+LuSIUIplDwSHjwTtoRXAUNvCKfCtrAjnAurQpdQ2lXKvaZQCiWPkkSNWzEmCX7Mhv4TNoVLYVK4ERaY1FYxlntNoRRKHmlfpAAhez98NXRXoMzuEXhJyNe/hYrA38Rl7jWFUih5pCPxwYRJ25gWQ98KfQLpHifzH1C1uRs2Zzs+vVBqDaVEMq4LlOdvAoYeEp4Eb5nc22z4+kR4NrTj0wul1lBKZGgK60cBJ18IfwWKmgPh1abpsd/N+0CT0lN6hgilUPJIpG12nxQgfT5G+CF8GEYE8jW+/mNXs7nXFEqh5JHGxXP7FAtPCFQsR8K7fUdKp8FOEj8WftmQdnx6odQaSqlul1iY7D0vsLWkGzMlDAh1G0kvvSJwjOR9xQwRSqHkkdg+UqPgcozJLrJhQyrcKNCboSmzLiwJh0I195pCKZQ8EjmZg02cTLFO9h4WqMuptums+/H9oo2cEUZyrymUQskjYWHq8iuhV8Dz1wI7TA551gR6M9P2u/3gaDD3mkIplDwS3l0ROAfC7DXBXe7bzp/CnMBhfpfd1517TaEUSh7/AV3Uc5OgNTCRAAAAAElFTkSuQmCC\"></td><td style='text-align:center;vertical-align:middle; margin: 0.5em;border:1px #90999f solid;border-collapse:collapse'><img style='max-width: 100px; max-height:100px;display:inline' src=\"data:image/png;base64,iVBORw0KGgoAAAANSUhEUgAAAGkAAABpAQAAAAAR+TCXAAAABGdBTUEAALGPC/xhBQAAACBjSFJNAAB6JgAAgIQAAPoAAACA6AAAdTAAAOpgAAA6mAAAF3CculE8AAAAAmJLR0QAAd2KE6QAAAAVSURBVDjLY2AYBaNgFIyCUTAKcAIABicAAUZAVxIAAAAASUVORK5C\"></td><td style='text-align:center;vertical-align:middle; margin: 0.5em;border:1px #90999f solid;border-collapse:collapse'><img style='max-width: 100px; max-height:100px;display:inline' src=\"data:image/png;base64,iVBORw0KGgoAAAANSUhEUgAAAGkAAABpCAAAAAAc6VLmAAAABGdBTUEAALGPC/xhBQAAACBjSFJNAAB6JgAAgIQAAPoAAACA6AAAdTAAAOpgAAA6mAAAF3CculE8AAAAAmJLR0QA/4ePzL8AAAETSURBVGje7ZrBDsMgDEMD4///eGWHwcGVFaVVtQxkXxAU9gpyoxCtvMzMzIo9qM4G65MEVyKJhGrU3mjTAg2dYmxB1p5EEgk1Xe6ZFt+mQxNYXn69J5FEQjXs0rA9NJx8OL9Gn8nlIiWTGsbkoUBkP5x1dHDH0xNpDVK7m0N7U3T7FOmvSDNjuVxjCSTkWXsSSSQUv31Sz4/Bwy5KeblIyaQWD8ZD+FkU9gx7crlIyaRIJTEQ7gPfyo6nJ9IapBaYQy1M8xevELnj6Ym0BolXEgPqrFfZ66uSKFIyacZyWv42Z5BeQquzfMfTE2kN0ikvf3+bQGQPXDsx3O94eiKtQTrVy8c/FGk6gjM9lyfvSSSRUB+kFSYB/2OjGwAAAABJRU5ErkJg\"></td><td style='text-align:center;vertical-align:middle; margin: 0.5em;border:1px #90999f solid;border-collapse:collapse'><img style='max-width: 100px; max-height:100px;display:inline' src=\"data:image/png;base64,iVBORw0KGgoAAAANSUhEUgAAAGkAAABpAQAAAAAR+TCXAAAABGdBTUEAALGPC/xhBQAAACBjSFJNAAB6JgAAgIQAAPoAAACA6AAAdTAAAOpgAAA6mAAAF3CculE8AAAAAmJLR0QAAd2KE6QAAAAVSURBVDjLY2AYBaNgFIyCUTAKcAIABicAAUZAVxIAAAAASUVORK5C\"></td><td style='text-align:center;vertical-align:middle; margin: 0.5em;border:1px #90999f solid;border-collapse:collapse'><img style='max-width: 100px; max-height:100px;display:inline' src=\"data:image/png;base64,iVBORw0KGgoAAAANSUhEUgAAAGkAAABpAQAAAAAR+TCXAAAABGdBTUEAALGPC/xhBQAAACBjSFJNAAB6JgAAgIQAAPoAAACA6AAAdTAAAOpgAAA6mAAAF3CculE8AAAAAmJLR0QAAd2KE6QAAAAVSURBVDjLY2AYBaNgFIyCUTAKcAIABicAAUZAVxIAAAAASUVORK5C\"></td><td style='text-align:center;vertical-align:middle; margin: 0.5em;border:1px #90999f solid;border-collapse:collapse'><img style='max-width: 100px; max-height:100px;display:inline' src=\"data:image/png;base64,iVBORw0KGgoAAAANSUhEUgAAAGkAAABpAQAAAAAR+TCXAAAABGdBTUEAALGPC/xhBQAAACBjSFJNAAB6JgAAgIQAAPoAAACA6AAAdTAAAOpgAAA6mAAAF3CculE8AAAAAmJLR0QAAd2KE6QAAAAVSURBVDjLY2AYBaNgFIyCUTAKcAIABicAAUZAVxIAAAAASUVORK5C\"></td><td style='text-align:center;vertical-align:middle; margin: 0.5em;border:1px #90999f solid;border-collapse:collapse'><img style='max-width: 100px; max-height:100px;display:inline' src=\"data:image/png;base64,iVBORw0KGgoAAAANSUhEUgAAAGkAAABpCAAAAAAc6VLmAAAABGdBTUEAALGPC/xhBQAAACBjSFJNAAB6JgAAgIQAAPoAAACA6AAAdTAAAOpgAAA6mAAAF3CculE8AAAAAmJLR0QA/4ePzL8AAAEPSURBVGje7ZrBDoMwDEMpjfb/Pzy6S3pwZUXZYe1a2RdECTwl8pCBldc1SfcskEgiDTK62thiYSXlyurE6Ym0B2lw+cNqKuy1YM9FrX/i9ETag2TuyBaA0bRvdkKDjVwu0l+RzO/eieRBKwsrWdyTSCKhLG9vVz6Jr+pJJJFQPZdjcEHRY5HZ6VVOnJ5Ie5C6y1tQg2k78fS5uCeRREJxl+dTCVo/uuufOD2R9iBZFFVciRJ6g8cuTpyeSHuQMrk8UsLe03sSSSSUJaLK14+kFY5F1v+JRBIJNeTyfCDH14t+emVXUS4XaTFpcDn9rBP9gaUEJat6EkkkVHc5/VKPGxT6+maL+Hs4cXoi7UH6AMxKMPMje7NFAAAAAElFTkSuQmCC\"></td><td style='text-align:center;vertical-align:middle; margin: 0.5em;border:1px #90999f solid;border-collapse:collapse'><img style='max-width: 100px; max-height:100px;display:inline' src=\"data:image/png;base64,iVBORw0KGgoAAAANSUhEUgAAAGkAAABpCAAAAAAc6VLmAAAABGdBTUEAALGPC/xhBQAAACBjSFJNAAB6JgAAgIQAAPoAAACA6AAAdTAAAOpgAAA6mAAAF3CculE8AAAAAmJLR0QA/4ePzL8AAAEuSURBVGje7ZnBDoMgEETFcur//67Yy3p4ZrrlUlQycyEI+ICMmwXLe/muPWkrKDrGrcsomWQSVVltKKRbG6b4QnGPNZlkElXpZGlvWnhHsXVPeMbdM+kZpBopR9g7DB0WLpjNhodUS9qGr8kkk6jKYMxAXVDbUKP4kVy8JpNMokok5ozCdDLDvWxjln7xmkwyiTpOn+HdpvowpC+/a3y4j16TSSZRJ5dTWf7SMY6fzIy7Z9IzSKnLKbpcRmi22eUm3YNUs2sRJt2ZaZmzM/gXNeCfMskkqmZBPA6TPH1K7zJ6yxRnxt0z6RmkI2ORSXd2FpUDVrQ5YzHpHqTTH36Zv0hfsyd/+8uXzbh7Jj2DVGXcDfVfIWZfx/A1mWQSVfuvCbOeRdVkNjNAJplEfQBWjkjndbk3BAAAAABJRU5ErkJg\"></td><td style='text-align:center;vertical-align:middle; margin: 0.5em;border:1px #90999f solid;border-collapse:collapse'><img style='max-width: 100px; max-height:100px;display:inline' src=\"data:image/png;base64,iVBORw0KGgoAAAANSUhEUgAAAGkAAABpAQAAAAAR+TCXAAAABGdBTUEAALGPC/xhBQAAACBjSFJNAAB6JgAAgIQAAPoAAACA6AAAdTAAAOpgAAA6mAAAF3CculE8AAAAAmJLR0QAAd2KE6QAAAAVSURBVDjLY2AYBaNgFIyCUTAKcAIABicAAUZAVxIAAAAASUVORK5C\"></td><td style='text-align:center;vertical-align:middle; margin: 0.5em;border:1px #90999f solid;border-collapse:collapse'><img style='max-width: 100px; max-height:100px;display:inline' src=\"data:image/png;base64,iVBORw0KGgoAAAANSUhEUgAAAGkAAABpAQAAAAAR+TCXAAAABGdBTUEAALGPC/xhBQAAACBjSFJNAAB6JgAAgIQAAPoAAACA6AAAdTAAAOpgAAA6mAAAF3CculE8AAAAAmJLR0QAAd2KE6QAAAAVSURBVDjLY2AYBaNgFIyCUTAKcAIABicAAUZAVxIAAAAASUVORK5C\"></td><td style='text-align:center;vertical-align:middle; margin: 0.5em;border:1px #90999f solid;border-collapse:collapse'><img style='max-width: 100px; max-height:100px;display:inline' src=\"data:image/png;base64,iVBORw0KGgoAAAANSUhEUgAAAGkAAABpCAAAAAAc6VLmAAAABGdBTUEAALGPC/xhBQAAACBjSFJNAAB6JgAAgIQAAPoAAACA6AAAdTAAAOpgAAA6mAAAF3CculE8AAAAAmJLR0QA/4ePzL8AAAFeSURBVGje7ZrBbsMgEESNIY3a///RHirFTcE9MDm8ahU5SmXTauayWrP4eaM1YnHSFGnuJt8Zu3bTpq2aN0c+K5NMohLdE/gZMWeE1G5U7O8j5WSSSVSRVSVraf7CxYSHkldxccb0g3MyySSqsJIbPJkVMz660Yvw1k3G9INzMskkqmgxV31m8FXeCWPUCyKvQ+RkkklUee1WJaya5269RiEtChkjJ5NMom5rOdtO8nPkhcv9GDmZZBJVVLQrjMStSo3G2JmOkZNJJlGFLrfn7D4rZoSdKfXwi/BLMskkqqybQ/lQ7DeXbnIUsntOJplE/Tgvl1jCOjQ8Y0xmgeFduNz/x1/PpL9BKizhcHfBXQ3L+4KL4T8D2t45mWQSVRa4pyhGJfwZeWxJ+XlU4qHMDjLJJCrpvLzBsPuU+E1fkTxJDI/bvWMx6WDSbTfCVXiNzASPlRx2pu4+TRqD9A1HQ0L7/KmUHgAAAABJRU5ErkJg\"></td><td style='text-align:center;vertical-align:middle; margin: 0.5em;border:1px #90999f solid;border-collapse:collapse'><img style='max-width: 100px; max-height:100px;display:inline' src=\"data:image/png;base64,iVBORw0KGgoAAAANSUhEUgAAAGkAAABpCAAAAAAc6VLmAAAABGdBTUEAALGPC/xhBQAAACBjSFJNAAB6JgAAgIQAAPoAAACA6AAAdTAAAOpgAAA6mAAAF3CculE8AAAAAmJLR0QA/4ePzL8AAAFRSURBVGje7ZnBDoMgEESlrr32/z+1jZUeHA9jJmhjqoXMXDbC4lvJShZIj+6QkmrMqvF2DPSFTDKJFfw4zeZNTxASOlOIoQJmz9O/ySSTWEuWI6FH6kS2DrNB0j5pAMxdjbvqm0wyiRWckYMKAwZ/AA/A02s2feFjWpw9k+ogxaiIWZmx8JqJ3sIVC/edIJNMYgVKcK6hZUHOjZzCWb2FG1ucPZPqIK3q8kn5IJpcMN12X4uzZ1IdpFWW71iMpafcb3Zq+AkyySTWkuV527V0ciJXby7IW5w9k+ogRWkV5vycVB/EVTqnt9dyky4mRamzp2iwT03KyMNG6XKCTDKJFVhp5XWlLMFlbHDBcTv+Dj6+aXH2TKqDFDK9IWS5XIx33OK7YjHpP0irury0CeUdJpc6MuC07fITmWQSa6lYUGTIS57S7U6i4fKXcV1u0sWkDycuUOyGB+dqAAAAAElFTkSuQmCC\"></td><td style='text-align:center;vertical-align:middle; margin: 0.5em;border:1px #90999f solid;border-collapse:collapse'><img style='max-width: 100px; max-height:100px;display:inline' src=\"data:image/png;base64,iVBORw0KGgoAAAANSUhEUgAAAGkAAABpAQAAAAAR+TCXAAAABGdBTUEAALGPC/xhBQAAACBjSFJNAAB6JgAAgIQAAPoAAACA6AAAdTAAAOpgAAA6mAAAF3CculE8AAAAAmJLR0QAAd2KE6QAAAAVSURBVDjLY2AYBaNgFIyCUTAKcAIABicAAUZAVxIAAAAASUVORK5C\"></td></tr></tbody></table><div><small>(a vector displayed as a row to save space)</small></div>"
      ],
      "text/plain": [
       "16-element Array{Array{Gray{Float64},2},1}:\n",
       " [Gray{Float64}(0.0370359) Gray{Float64}(0.0378135) … Gray{Float64}(0.0371676) Gray{Float64}(0.0364229); Gray{Float64}(0.0387135) Gray{Float64}(0.0389343) … Gray{Float64}(0.0388882) Gray{Float64}(0.0379134); … ; Gray{Float64}(0.0311662) Gray{Float64}(0.0173734) … Gray{Float64}(0.0351363) Gray{Float64}(0.0340994); Gray{Float64}(0.0322812) Gray{Float64}(0.0267008) … Gray{Float64}(0.0363064) Gray{Float64}(0.0346371)]\n",
       " [Gray{Float64}(0.0) Gray{Float64}(0.0) … Gray{Float64}(0.0) Gray{Float64}(0.0); Gray{Float64}(0.0) Gray{Float64}(0.0) … Gray{Float64}(0.0) Gray{Float64}(0.0); … ; Gray{Float64}(0.0) Gray{Float64}(0.0) … Gray{Float64}(0.0) Gray{Float64}(0.0); Gray{Float64}(0.0) Gray{Float64}(0.0) … Gray{Float64}(0.0) Gray{Float64}(0.0)]                                                                                                \n",
       " [Gray{Float64}(0.0) Gray{Float64}(0.0) … Gray{Float64}(0.0) Gray{Float64}(0.0); Gray{Float64}(0.0) Gray{Float64}(0.0) … Gray{Float64}(0.0) Gray{Float64}(0.0); … ; Gray{Float64}(0.0) Gray{Float64}(0.0) … Gray{Float64}(0.0) Gray{Float64}(0.0); Gray{Float64}(0.0) Gray{Float64}(0.0) … Gray{Float64}(0.0) Gray{Float64}(0.0)]                                                                                                \n",
       " [Gray{Float64}(0.956575) Gray{Float64}(0.972136) … Gray{Float64}(0.981517) Gray{Float64}(0.958953); Gray{Float64}(0.981435) Gray{Float64}(0.980078) … Gray{Float64}(1.01041) Gray{Float64}(0.990544); … ; Gray{Float64}(0.764695) Gray{Float64}(0.432051) … Gray{Float64}(0.829474) Gray{Float64}(0.813746); Gray{Float64}(0.738709) Gray{Float64}(0.656477) … Gray{Float64}(0.834158) Gray{Float64}(0.84115)]                  \n",
       " [Gray{Float64}(0.0) Gray{Float64}(0.0) … Gray{Float64}(0.0) Gray{Float64}(0.0); Gray{Float64}(0.0) Gray{Float64}(0.0) … Gray{Float64}(0.0) Gray{Float64}(0.0); … ; Gray{Float64}(0.0) Gray{Float64}(0.0) … Gray{Float64}(0.0) Gray{Float64}(0.0); Gray{Float64}(0.0) Gray{Float64}(0.0) … Gray{Float64}(0.0) Gray{Float64}(0.0)]                                                                                                \n",
       " [Gray{Float64}(0.0134253) Gray{Float64}(0.0146077) … Gray{Float64}(0.0134729) Gray{Float64}(0.0130458); Gray{Float64}(0.0153053) Gray{Float64}(0.0159386) … Gray{Float64}(0.0148611) Gray{Float64}(0.014815); … ; Gray{Float64}(0.0220785) Gray{Float64}(0.0154733) … Gray{Float64}(0.02478) Gray{Float64}(0.0249511); Gray{Float64}(0.0228151) Gray{Float64}(0.0207087) … Gray{Float64}(0.0240502) Gray{Float64}(0.0244772)]   \n",
       " [Gray{Float64}(0.0) Gray{Float64}(0.0) … Gray{Float64}(0.0) Gray{Float64}(0.0); Gray{Float64}(0.0) Gray{Float64}(0.0) … Gray{Float64}(0.0) Gray{Float64}(0.0); … ; Gray{Float64}(0.0) Gray{Float64}(0.0) … Gray{Float64}(0.0) Gray{Float64}(0.0); Gray{Float64}(0.0) Gray{Float64}(0.0) … Gray{Float64}(0.0) Gray{Float64}(0.0)]                                                                                                \n",
       " [Gray{Float64}(0.0) Gray{Float64}(0.0) … Gray{Float64}(0.0) Gray{Float64}(0.0); Gray{Float64}(0.0) Gray{Float64}(0.0) … Gray{Float64}(0.0) Gray{Float64}(0.0); … ; Gray{Float64}(0.0) Gray{Float64}(0.0) … Gray{Float64}(0.0) Gray{Float64}(0.0); Gray{Float64}(0.0) Gray{Float64}(0.0) … Gray{Float64}(0.0) Gray{Float64}(0.0)]                                                                                                \n",
       " [Gray{Float64}(0.0) Gray{Float64}(0.0) … Gray{Float64}(0.0) Gray{Float64}(0.0); Gray{Float64}(0.0) Gray{Float64}(0.0) … Gray{Float64}(0.0) Gray{Float64}(0.0); … ; Gray{Float64}(0.0) Gray{Float64}(0.0) … Gray{Float64}(0.0) Gray{Float64}(0.0); Gray{Float64}(0.0) Gray{Float64}(0.0) … Gray{Float64}(0.0) Gray{Float64}(0.0)]                                                                                                \n",
       " [Gray{Float64}(0.0219519) Gray{Float64}(0.0228015) … Gray{Float64}(0.0224121) Gray{Float64}(0.0218515); Gray{Float64}(0.0232329) Gray{Float64}(0.0236212) … Gray{Float64}(0.0238351) Gray{Float64}(0.0233631); … ; Gray{Float64}(0.0234072) Gray{Float64}(0.0155908) … Gray{Float64}(0.0248472) Gray{Float64}(0.0253482); Gray{Float64}(0.0227134) Gray{Float64}(0.0216015) … Gray{Float64}(0.0244591) Gray{Float64}(0.026083)] \n",
       " [Gray{Float64}(0.0389146) Gray{Float64}(0.03864) … Gray{Float64}(0.0400601) Gray{Float64}(0.0393147); Gray{Float64}(0.0381754) Gray{Float64}(0.0383) … Gray{Float64}(0.0398352) Gray{Float64}(0.039383); … ; Gray{Float64}(0.0178354) Gray{Float64}(0.00786084) … Gray{Float64}(0.0191377) Gray{Float64}(0.019047); Gray{Float64}(0.0175232) Gray{Float64}(0.0127234) … Gray{Float64}(0.0197889) Gray{Float64}(0.0199277)]      \n",
       " [Gray{Float64}(0.0) Gray{Float64}(0.0) … Gray{Float64}(0.0) Gray{Float64}(0.0); Gray{Float64}(0.0) Gray{Float64}(0.0) … Gray{Float64}(0.0) Gray{Float64}(0.0); … ; Gray{Float64}(0.0) Gray{Float64}(0.0) … Gray{Float64}(0.0) Gray{Float64}(0.0); Gray{Float64}(0.0) Gray{Float64}(0.0) … Gray{Float64}(0.0) Gray{Float64}(0.0)]                                                                                                \n",
       " [Gray{Float64}(0.0) Gray{Float64}(0.0) … Gray{Float64}(0.0) Gray{Float64}(0.0); Gray{Float64}(0.0) Gray{Float64}(0.0) … Gray{Float64}(0.0) Gray{Float64}(0.0); … ; Gray{Float64}(0.0) Gray{Float64}(0.0) … Gray{Float64}(0.0) Gray{Float64}(0.0); Gray{Float64}(0.0) Gray{Float64}(0.0) … Gray{Float64}(0.0) Gray{Float64}(0.0)]                                                                                                \n",
       " [Gray{Float64}(0.0) Gray{Float64}(0.0) … Gray{Float64}(0.0) Gray{Float64}(0.0); Gray{Float64}(0.0) Gray{Float64}(0.0) … Gray{Float64}(0.0) Gray{Float64}(0.0); … ; Gray{Float64}(0.0336143) Gray{Float64}(0.0277148) … Gray{Float64}(0.0416657) Gray{Float64}(0.0389414); Gray{Float64}(0.0356632) Gray{Float64}(0.0335981) … Gray{Float64}(0.0359586) Gray{Float64}(0.0368039)]                                                \n",
       " [Gray{Float64}(0.058217) Gray{Float64}(0.0589021) … Gray{Float64}(0.0592641) Gray{Float64}(0.0580671); Gray{Float64}(0.0594838) Gray{Float64}(0.0591827) … Gray{Float64}(0.0603707) Gray{Float64}(0.0594285); … ; Gray{Float64}(0.0421273) Gray{Float64}(0.0225653) … Gray{Float64}(0.0458488) Gray{Float64}(0.0449832); Gray{Float64}(0.0410664) Gray{Float64}(0.0361317) … Gray{Float64}(0.0463655) Gray{Float64}(0.0463081)] \n",
       " [Gray{Float64}(0.0) Gray{Float64}(0.0) … Gray{Float64}(0.0) Gray{Float64}(0.0); Gray{Float64}(0.0) Gray{Float64}(0.0) … Gray{Float64}(0.0) Gray{Float64}(0.0); … ; Gray{Float64}(0.0) Gray{Float64}(0.0) … Gray{Float64}(0.0) Gray{Float64}(0.0); Gray{Float64}(0.0) Gray{Float64}(0.0) … Gray{Float64}(0.0) Gray{Float64}(0.0)]                                                                                                "
      ]
     },
     "execution_count": 51,
     "metadata": {},
     "output_type": "execute_result"
    }
   ],
   "source": [
    "output_conv = m_final(rotated_random_test_example_X_4d);\n",
    "displayChannels(output_conv)"
   ]
  },
  {
   "cell_type": "markdown",
   "metadata": {},
   "source": [
    "# NN"
   ]
  },
  {
   "cell_type": "code",
   "execution_count": 52,
   "metadata": {},
   "outputs": [
    {
     "name": "stdout",
     "output_type": "stream",
     "text": [
      "accuracy_nn(nn_train_x, Y) = 0.13\n",
      "accuracy_nn(nn_train_x, Y) = 0.228\n",
      "accuracy_nn(nn_train_x, Y) = 0.278\n"
     ]
    }
   ],
   "source": [
    "nn_train_x = MLDatasets.CIFAR10.convert2features(X) ./ 255\n",
    "m_nn = Chain(\n",
    "    Dense(3072, 2000),\n",
    "    Dense(2000, 500, relu),\n",
    "    Dense(500, 10),\n",
    "    softmax\n",
    ")\n",
    "\n",
    "loss_nn(x, y) = crossentropy(m_nn(x), y)\n",
    "\n",
    "accuracy_nn(x, y) = mean(onecold(m_nn(x)) .== onecold(y))\n",
    "\n",
    "dataset_nn = repeated((nn_train_x, Y), 100)\n",
    "evalcb = () -> @show(accuracy_nn(nn_train_x, Y))\n",
    "opt_nn = ADAM(params(m_nn))\n",
    "\n",
    "Flux.train!(loss_nn, dataset_nn, opt_nn, cb = throttle(evalcb, 10))"
   ]
  },
  {
   "cell_type": "code",
   "execution_count": 53,
   "metadata": {},
   "outputs": [
    {
     "data": {
      "image/png": "[encoded data removed]",
      "text/plain": [
       "32×32 Array{RGB{N0f8},2} with eltype RGB{Normed{UInt8,8}}:\n",
       " RGB{N0f8}(0.588,0.718,0.792)  …  RGB{N0f8}(0.698,0.608,0.435)\n",
       " RGB{N0f8}(0.592,0.725,0.788)     RGB{N0f8}(0.631,0.537,0.353)\n",
       " RGB{N0f8}(0.596,0.737,0.788)     RGB{N0f8}(0.659,0.557,0.361)\n",
       " RGB{N0f8}(0.604,0.749,0.788)     RGB{N0f8}(0.694,0.592,0.38) \n",
       " RGB{N0f8}(0.616,0.757,0.808)     RGB{N0f8}(0.682,0.584,0.38) \n",
       " RGB{N0f8}(0.624,0.757,0.82)   …  RGB{N0f8}(0.706,0.608,0.424)\n",
       " RGB{N0f8}(0.624,0.765,0.812)     RGB{N0f8}(0.706,0.608,0.424)\n",
       " RGB{N0f8}(0.627,0.773,0.808)     RGB{N0f8}(0.671,0.569,0.388)\n",
       " RGB{N0f8}(0.631,0.78,0.796)      RGB{N0f8}(0.663,0.565,0.38) \n",
       " RGB{N0f8}(0.647,0.796,0.804)     RGB{N0f8}(0.643,0.545,0.369)\n",
       " RGB{N0f8}(0.671,0.784,0.82)   …  RGB{N0f8}(0.561,0.467,0.314)\n",
       " RGB{N0f8}(0.682,0.776,0.824)     RGB{N0f8}(0.545,0.451,0.306)\n",
       " RGB{N0f8}(0.69,0.776,0.827)      RGB{N0f8}(0.545,0.451,0.306)\n",
       " ⋮                             ⋱                              \n",
       " RGB{N0f8}(0.655,0.776,0.855)  …  RGB{N0f8}(0.722,0.647,0.471)\n",
       " RGB{N0f8}(0.647,0.78,0.824)      RGB{N0f8}(0.788,0.714,0.518)\n",
       " RGB{N0f8}(0.639,0.78,0.816)      RGB{N0f8}(0.812,0.718,0.518)\n",
       " RGB{N0f8}(0.635,0.773,0.824)     RGB{N0f8}(0.804,0.686,0.498)\n",
       " RGB{N0f8}(0.627,0.765,0.827)     RGB{N0f8}(0.812,0.698,0.518)\n",
       " RGB{N0f8}(0.62,0.753,0.824)   …  RGB{N0f8}(0.831,0.733,0.565)\n",
       " RGB{N0f8}(0.604,0.745,0.816)     RGB{N0f8}(0.812,0.714,0.545)\n",
       " RGB{N0f8}(0.592,0.737,0.804)     RGB{N0f8}(0.745,0.643,0.471)\n",
       " RGB{N0f8}(0.584,0.729,0.796)     RGB{N0f8}(0.733,0.627,0.459)\n",
       " RGB{N0f8}(0.576,0.722,0.788)     RGB{N0f8}(0.741,0.635,0.467)\n",
       " RGB{N0f8}(0.565,0.71,0.773)   …  RGB{N0f8}(0.749,0.643,0.471)\n",
       " RGB{N0f8}(0.553,0.694,0.765)     RGB{N0f8}(0.604,0.51,0.369) "
      ]
     },
     "execution_count": 53,
     "metadata": {},
     "output_type": "execute_result"
    }
   ],
   "source": [
    "imgrgb = float2RGB(random_test_example_X)"
   ]
  },
  {
   "cell_type": "code",
   "execution_count": 54,
   "metadata": {},
   "outputs": [
    {
     "data": {
      "text/plain": [
       "0.0"
      ]
     },
     "execution_count": 54,
     "metadata": {},
     "output_type": "execute_result"
    }
   ],
   "source": [
    "accuracy_nn(MLDatasets.CIFAR10.convert2features(random_test_example_X), random_test_example_Y)"
   ]
  },
  {
   "cell_type": "code",
   "execution_count": 55,
   "metadata": {},
   "outputs": [
    {
     "data": {
      "text/plain": [
       "0.0"
      ]
     },
     "execution_count": 55,
     "metadata": {},
     "output_type": "execute_result"
    }
   ],
   "source": [
    "accuracy_nn(MLDatasets.CIFAR10.convert2features(shifted_random_test_example_X_4d), random_test_example_Y)"
   ]
  },
  {
   "cell_type": "code",
   "execution_count": 56,
   "metadata": {},
   "outputs": [
    {
     "data": {
      "text/plain": [
       "0.0"
      ]
     },
     "execution_count": 56,
     "metadata": {},
     "output_type": "execute_result"
    }
   ],
   "source": [
    "accuracy_nn(MLDatasets.CIFAR10.convert2features(rotated_random_test_example_X_4d), random_test_example_Y)"
   ]
  },
  {
   "cell_type": "markdown",
   "metadata": {},
   "source": [
    "The NN is not so good. Why?"
   ]
  },
  {
   "cell_type": "code",
   "execution_count": null,
   "metadata": {},
   "outputs": [],
   "source": []
  }
 ],
 "metadata": {
  "kernelspec": {
   "display_name": "Julia 1.0.1",
   "language": "julia",
   "name": "julia-1.0"
  },
  "language_info": {
   "file_extension": ".jl",
   "mimetype": "application/julia",
   "name": "julia",
   "version": "1.0.1"
  },
  "latex_envs": {
   "LaTeX_envs_menu_present": true,
   "autoclose": false,
   "autocomplete": true,
   "bibliofile": "biblio.bib",
   "cite_by": "apalike",
   "current_citInitial": 1,
   "eqLabelWithNumbers": true,
   "eqNumInitial": 1,
   "hotkeys": {
    "equation": "Ctrl-E",
    "itemize": "Ctrl-I"
   },
   "labels_anchors": false,
   "latex_user_defs": false,
   "report_style_numbering": false,
   "user_envs_cfg": false
  }
 },
 "nbformat": 4,
 "nbformat_minor": 2
}
