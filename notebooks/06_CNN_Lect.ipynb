{
 "cells": [
  {
   "cell_type": "markdown",
   "metadata": {},
   "source": [
    "# A first journey through CNN"
   ]
  },
  {
   "cell_type": "code",
   "execution_count": 1,
   "metadata": {},
   "outputs": [],
   "source": [
    "] activate ."
   ]
  },
  {
   "cell_type": "markdown",
   "metadata": {},
   "source": [
    "The above is to make sure we are using the same libraries  "
   ]
  },
  {
   "cell_type": "code",
   "execution_count": 2,
   "metadata": {},
   "outputs": [
    {
     "name": "stderr",
     "output_type": "stream",
     "text": [
      "┌ Info: Recompiling stale cache file /home/elbeltagy/.julia/compiled/v1.0/Flux/QdkVy.ji for Flux [587475ba-b771-5e3f-ad9e-33799f191a9c]\n",
      "└ @ Base loading.jl:1187\n"
     ]
    }
   ],
   "source": [
    "using Flux, Statistics\n",
    "using Flux: onehotbatch, onecold, crossentropy, throttle\n",
    "using Base.Iterators: repeated, partition\n",
    "using Images\n",
    "using Random: shuffle!"
   ]
  },
  {
   "cell_type": "markdown",
   "metadata": {},
   "source": [
    "## Getting our Data Set"
   ]
  },
  {
   "cell_type": "code",
   "execution_count": 3,
   "metadata": {
    "scrolled": true
   },
   "outputs": [],
   "source": [
    "using MLDatasets\n",
    "# load full training set\n",
    "train_x, train_y = CIFAR10.traindata();\n",
    "train_y = onehotbatch(train_y, 0:9);\n",
    "# load full test set\n",
    "test_x,  test_y  = CIFAR10.testdata();\n",
    "test_y = onehotbatch(test_y, 0:9);"
   ]
  },
  {
   "cell_type": "markdown",
   "metadata": {},
   "source": [
    "The CIFAR10 data set will be downloaded....if run this for the first time. \n",
    "CIFAR10 is a collection of small image... lets have a look "
   ]
  },
  {
   "cell_type": "code",
   "execution_count": 4,
   "metadata": {},
   "outputs": [
    {
     "data": {
      "text/plain": [
       "(32, 32, 3, 50000)"
      ]
     },
     "execution_count": 4,
     "metadata": {},
     "output_type": "execute_result"
    }
   ],
   "source": [
    "train_x |> size"
   ]
  },
  {
   "cell_type": "markdown",
   "metadata": {},
   "source": [
    "From the that we can assume that we have 50,000 image. Each image is 32x32 in RGB space. Julia provides a convenient `colorview` function for make conversion for the matrix to a viewable image.  "
   ]
  },
  {
   "cell_type": "markdown",
   "metadata": {},
   "source": [
    "## Looking at our images"
   ]
  },
  {
   "cell_type": "code",
   "execution_count": 5,
   "metadata": {},
   "outputs": [
    {
     "data": {
      "image/png": "[encoded data removed]",
      "text/plain": [
       "32×32 mappedarray(RGB{Normed{UInt8,8}}, ImageCore.extractchannels, ::Array{N0f8,2}, ::Array{N0f8,2}, ::Array{N0f8,2}) with eltype RGB{Normed{UInt8,8}}:\n",
       " RGB{N0f8}(0.624,0.4,0.396)    …  RGB{N0f8}(0.965,0.545,0.322)\n",
       " RGB{N0f8}(0.588,0.357,0.373)     RGB{N0f8}(0.953,0.522,0.306)\n",
       " RGB{N0f8}(0.6,0.373,0.38)        RGB{N0f8}(0.957,0.518,0.302)\n",
       " RGB{N0f8}(0.604,0.486,0.478)     RGB{N0f8}(0.957,0.533,0.318)\n",
       " RGB{N0f8}(0.541,0.525,0.514)     RGB{N0f8}(0.941,0.494,0.271)\n",
       " RGB{N0f8}(0.722,0.584,0.537)  …  RGB{N0f8}(0.929,0.424,0.204)\n",
       " RGB{N0f8}(0.604,0.404,0.345)     RGB{N0f8}(0.925,0.42,0.188) \n",
       " RGB{N0f8}(0.302,0.18,0.157)      RGB{N0f8}(0.918,0.447,0.227)\n",
       " RGB{N0f8}(0.239,0.153,0.137)     RGB{N0f8}(0.816,0.384,0.208)\n",
       " RGB{N0f8}(0.251,0.165,0.145)     RGB{N0f8}(0.608,0.22,0.094) \n",
       " RGB{N0f8}(0.255,0.169,0.149)  …  RGB{N0f8}(0.467,0.129,0.039)\n",
       " RGB{N0f8}(0.275,0.196,0.18)      RGB{N0f8}(0.376,0.086,0.02) \n",
       " RGB{N0f8}(0.345,0.278,0.259)     RGB{N0f8}(0.31,0.071,0.024) \n",
       " ⋮                             ⋱                              \n",
       " RGB{N0f8}(0.298,0.243,0.216)  …  RGB{N0f8}(0.275,0.071,0.039)\n",
       " RGB{N0f8}(0.298,0.259,0.224)     RGB{N0f8}(0.29,0.063,0.039) \n",
       " RGB{N0f8}(0.325,0.278,0.231)     RGB{N0f8}(0.333,0.075,0.059)\n",
       " RGB{N0f8}(0.384,0.298,0.251)     RGB{N0f8}(0.361,0.078,0.071)\n",
       " RGB{N0f8}(0.408,0.314,0.239)     RGB{N0f8}(0.388,0.09,0.063) \n",
       " RGB{N0f8}(0.384,0.294,0.22)   …  RGB{N0f8}(0.443,0.106,0.047)\n",
       " RGB{N0f8}(0.369,0.275,0.224)     RGB{N0f8}(0.525,0.125,0.051)\n",
       " RGB{N0f8}(0.369,0.271,0.216)     RGB{N0f8}(0.58,0.145,0.063) \n",
       " RGB{N0f8}(0.396,0.282,0.243)     RGB{N0f8}(0.616,0.165,0.055)\n",
       " RGB{N0f8}(0.357,0.278,0.22)      RGB{N0f8}(0.651,0.184,0.055)\n",
       " RGB{N0f8}(0.29,0.247,0.216)   …  RGB{N0f8}(0.678,0.2,0.067)  \n",
       " RGB{N0f8}(0.298,0.227,0.216)     RGB{N0f8}(0.714,0.224,0.075)"
      ]
     },
     "execution_count": 5,
     "metadata": {},
     "output_type": "execute_result"
    }
   ],
   "source": [
    "colorview(RGB, [train_x[:,:,i,6] for i=1:3]...)"
   ]
  },
  {
   "cell_type": "markdown",
   "metadata": {},
   "source": [
    "So form the above we can guess that this rather low-res image of red car. In the above code, we have generated an array for arrays (`[train_x[:,:,i,6] for i=1:3]`) where each element is 2D array for each color channel (i.e. Red, Green, Blue). We take that array and splat it (using `...`) into the [`colorview`](http://juliaimages.github.io/latest/function_reference.html#ImageCore.colorview) function. So we can get viewable image. For the `Julia` beginner this might look a bit complex. Julia save us a great deal of for loops if we know how handle array indices. We can write a function with loops to get the same effect. Here is one:"
   ]
  },
  {
   "cell_type": "code",
   "execution_count": 6,
   "metadata": {},
   "outputs": [
    {
     "data": {
      "text/plain": [
       "float2RGB (generic function with 1 method)"
      ]
     },
     "execution_count": 6,
     "metadata": {},
     "output_type": "execute_result"
    }
   ],
   "source": [
    "function float2RGB(img)\n",
    "    imgrgb = zeros(RGB{Normed{UInt8,8}}, size(img, 1),size(img, 2))\n",
    "    for i=1:size(img, 1)\n",
    "        for j=1:size(img, 2)\n",
    "            imgrgb[i, j] = RGB(img[i, j, 1], img[i, j, 2], img[i, j,3])\n",
    "        end\n",
    "    end\n",
    "    imgrgb\n",
    "end"
   ]
  },
  {
   "cell_type": "markdown",
   "metadata": {},
   "source": [
    "We test it"
   ]
  },
  {
   "cell_type": "code",
   "execution_count": 7,
   "metadata": {},
   "outputs": [
    {
     "data": {
      "image/png": "[encoded data removed]",
      "text/plain": [
       "32×32 Array{RGB{N0f8},2} with eltype RGB{Normed{UInt8,8}}:\n",
       " RGB{N0f8}(0.624,0.4,0.396)    …  RGB{N0f8}(0.965,0.545,0.322)\n",
       " RGB{N0f8}(0.588,0.357,0.373)     RGB{N0f8}(0.953,0.522,0.306)\n",
       " RGB{N0f8}(0.6,0.373,0.38)        RGB{N0f8}(0.957,0.518,0.302)\n",
       " RGB{N0f8}(0.604,0.486,0.478)     RGB{N0f8}(0.957,0.533,0.318)\n",
       " RGB{N0f8}(0.541,0.525,0.514)     RGB{N0f8}(0.941,0.494,0.271)\n",
       " RGB{N0f8}(0.722,0.584,0.537)  …  RGB{N0f8}(0.929,0.424,0.204)\n",
       " RGB{N0f8}(0.604,0.404,0.345)     RGB{N0f8}(0.925,0.42,0.188) \n",
       " RGB{N0f8}(0.302,0.18,0.157)      RGB{N0f8}(0.918,0.447,0.227)\n",
       " RGB{N0f8}(0.239,0.153,0.137)     RGB{N0f8}(0.816,0.384,0.208)\n",
       " RGB{N0f8}(0.251,0.165,0.145)     RGB{N0f8}(0.608,0.22,0.094) \n",
       " RGB{N0f8}(0.255,0.169,0.149)  …  RGB{N0f8}(0.467,0.129,0.039)\n",
       " RGB{N0f8}(0.275,0.196,0.18)      RGB{N0f8}(0.376,0.086,0.02) \n",
       " RGB{N0f8}(0.345,0.278,0.259)     RGB{N0f8}(0.31,0.071,0.024) \n",
       " ⋮                             ⋱                              \n",
       " RGB{N0f8}(0.298,0.243,0.216)  …  RGB{N0f8}(0.275,0.071,0.039)\n",
       " RGB{N0f8}(0.298,0.259,0.224)     RGB{N0f8}(0.29,0.063,0.039) \n",
       " RGB{N0f8}(0.325,0.278,0.231)     RGB{N0f8}(0.333,0.075,0.059)\n",
       " RGB{N0f8}(0.384,0.298,0.251)     RGB{N0f8}(0.361,0.078,0.071)\n",
       " RGB{N0f8}(0.408,0.314,0.239)     RGB{N0f8}(0.388,0.09,0.063) \n",
       " RGB{N0f8}(0.384,0.294,0.22)   …  RGB{N0f8}(0.443,0.106,0.047)\n",
       " RGB{N0f8}(0.369,0.275,0.224)     RGB{N0f8}(0.525,0.125,0.051)\n",
       " RGB{N0f8}(0.369,0.271,0.216)     RGB{N0f8}(0.58,0.145,0.063) \n",
       " RGB{N0f8}(0.396,0.282,0.243)     RGB{N0f8}(0.616,0.165,0.055)\n",
       " RGB{N0f8}(0.357,0.278,0.22)      RGB{N0f8}(0.651,0.184,0.055)\n",
       " RGB{N0f8}(0.29,0.247,0.216)   …  RGB{N0f8}(0.678,0.2,0.067)  \n",
       " RGB{N0f8}(0.298,0.227,0.216)     RGB{N0f8}(0.714,0.224,0.075)"
      ]
     },
     "execution_count": 7,
     "metadata": {},
     "output_type": "execute_result"
    }
   ],
   "source": [
    "float2RGB(train_x[:,:,:,6])"
   ]
  },
  {
   "cell_type": "markdown",
   "metadata": {},
   "source": [
    "...see same result. But if we are really good a `Julia`, an even more compact way, without creating array of arrays etc... is to use [`permutedims`](https://docs.julialang.org/en/v1/base/arrays/index.html#Base.permutedims). "
   ]
  },
  {
   "cell_type": "code",
   "execution_count": 8,
   "metadata": {},
   "outputs": [
    {
     "data": {
      "image/png": "[encoded data removed]",
      "text/plain": [
       "32×32 reshape(reinterpret(RGB{N0f8}, ::Array{N0f8,3}), 32, 32) with eltype RGB{Normed{UInt8,8}}:\n",
       " RGB{N0f8}(0.624,0.4,0.396)    …  RGB{N0f8}(0.965,0.545,0.322)\n",
       " RGB{N0f8}(0.588,0.357,0.373)     RGB{N0f8}(0.953,0.522,0.306)\n",
       " RGB{N0f8}(0.6,0.373,0.38)        RGB{N0f8}(0.957,0.518,0.302)\n",
       " RGB{N0f8}(0.604,0.486,0.478)     RGB{N0f8}(0.957,0.533,0.318)\n",
       " RGB{N0f8}(0.541,0.525,0.514)     RGB{N0f8}(0.941,0.494,0.271)\n",
       " RGB{N0f8}(0.722,0.584,0.537)  …  RGB{N0f8}(0.929,0.424,0.204)\n",
       " RGB{N0f8}(0.604,0.404,0.345)     RGB{N0f8}(0.925,0.42,0.188) \n",
       " RGB{N0f8}(0.302,0.18,0.157)      RGB{N0f8}(0.918,0.447,0.227)\n",
       " RGB{N0f8}(0.239,0.153,0.137)     RGB{N0f8}(0.816,0.384,0.208)\n",
       " RGB{N0f8}(0.251,0.165,0.145)     RGB{N0f8}(0.608,0.22,0.094) \n",
       " RGB{N0f8}(0.255,0.169,0.149)  …  RGB{N0f8}(0.467,0.129,0.039)\n",
       " RGB{N0f8}(0.275,0.196,0.18)      RGB{N0f8}(0.376,0.086,0.02) \n",
       " RGB{N0f8}(0.345,0.278,0.259)     RGB{N0f8}(0.31,0.071,0.024) \n",
       " ⋮                             ⋱                              \n",
       " RGB{N0f8}(0.298,0.243,0.216)  …  RGB{N0f8}(0.275,0.071,0.039)\n",
       " RGB{N0f8}(0.298,0.259,0.224)     RGB{N0f8}(0.29,0.063,0.039) \n",
       " RGB{N0f8}(0.325,0.278,0.231)     RGB{N0f8}(0.333,0.075,0.059)\n",
       " RGB{N0f8}(0.384,0.298,0.251)     RGB{N0f8}(0.361,0.078,0.071)\n",
       " RGB{N0f8}(0.408,0.314,0.239)     RGB{N0f8}(0.388,0.09,0.063) \n",
       " RGB{N0f8}(0.384,0.294,0.22)   …  RGB{N0f8}(0.443,0.106,0.047)\n",
       " RGB{N0f8}(0.369,0.275,0.224)     RGB{N0f8}(0.525,0.125,0.051)\n",
       " RGB{N0f8}(0.369,0.271,0.216)     RGB{N0f8}(0.58,0.145,0.063) \n",
       " RGB{N0f8}(0.396,0.282,0.243)     RGB{N0f8}(0.616,0.165,0.055)\n",
       " RGB{N0f8}(0.357,0.278,0.22)      RGB{N0f8}(0.651,0.184,0.055)\n",
       " RGB{N0f8}(0.29,0.247,0.216)   …  RGB{N0f8}(0.678,0.2,0.067)  \n",
       " RGB{N0f8}(0.298,0.227,0.216)     RGB{N0f8}(0.714,0.224,0.075)"
      ]
     },
     "execution_count": 8,
     "metadata": {},
     "output_type": "execute_result"
    }
   ],
   "source": [
    "colorview(RGB, permutedims(train_x[:,:,:,6],[3,1,2]))"
   ]
  },
  {
   "cell_type": "markdown",
   "metadata": {},
   "source": [
    "Same result. But with `permutedims` we get more flexibility...if our necks get tired looking sideways for the car we can do "
   ]
  },
  {
   "cell_type": "code",
   "execution_count": 9,
   "metadata": {},
   "outputs": [
    {
     "data": {
      "image/png": "[encoded data removed]",
      "text/plain": [
       "32×32 reshape(reinterpret(RGB{N0f8}, ::Array{N0f8,3}), 32, 32) with eltype RGB{Normed{UInt8,8}}:\n",
       " RGB{N0f8}(0.624,0.4,0.396)    …  RGB{N0f8}(0.298,0.227,0.216)\n",
       " RGB{N0f8}(0.557,0.294,0.267)     RGB{N0f8}(0.337,0.271,0.239)\n",
       " RGB{N0f8}(0.427,0.263,0.294)     RGB{N0f8}(0.365,0.282,0.278)\n",
       " RGB{N0f8}(0.392,0.275,0.298)     RGB{N0f8}(0.333,0.235,0.282)\n",
       " RGB{N0f8}(0.42,0.278,0.227)      RGB{N0f8}(0.412,0.314,0.392)\n",
       " RGB{N0f8}(0.443,0.322,0.243)  …  RGB{N0f8}(0.671,0.573,0.627)\n",
       " RGB{N0f8}(0.396,0.298,0.263)     RGB{N0f8}(0.729,0.541,0.498)\n",
       " RGB{N0f8}(0.478,0.31,0.294)      RGB{N0f8}(0.596,0.396,0.353)\n",
       " RGB{N0f8}(0.635,0.361,0.333)     RGB{N0f8}(0.737,0.592,0.588)\n",
       " RGB{N0f8}(0.565,0.259,0.2)       RGB{N0f8}(0.682,0.533,0.518)\n",
       " RGB{N0f8}(0.49,0.212,0.137)   …  RGB{N0f8}(0.631,0.459,0.412)\n",
       " RGB{N0f8}(0.424,0.18,0.106)      RGB{N0f8}(0.651,0.478,0.435)\n",
       " RGB{N0f8}(0.537,0.294,0.216)     RGB{N0f8}(0.678,0.541,0.518)\n",
       " ⋮                             ⋱                              \n",
       " RGB{N0f8}(0.973,0.471,0.208)  …  RGB{N0f8}(0.576,0.216,0.192)\n",
       " RGB{N0f8}(0.945,0.447,0.169)     RGB{N0f8}(0.69,0.278,0.208) \n",
       " RGB{N0f8}(0.949,0.459,0.184)     RGB{N0f8}(0.827,0.396,0.239)\n",
       " RGB{N0f8}(0.945,0.455,0.188)     RGB{N0f8}(0.957,0.514,0.322)\n",
       " RGB{N0f8}(0.937,0.459,0.196)     RGB{N0f8}(0.988,0.529,0.345)\n",
       " RGB{N0f8}(0.961,0.494,0.239)  …  RGB{N0f8}(0.949,0.455,0.282)\n",
       " RGB{N0f8}(0.961,0.502,0.251)     RGB{N0f8}(0.922,0.392,0.216)\n",
       " RGB{N0f8}(0.961,0.494,0.259)     RGB{N0f8}(0.867,0.353,0.196)\n",
       " RGB{N0f8}(0.949,0.486,0.255)     RGB{N0f8}(0.812,0.318,0.169)\n",
       " RGB{N0f8}(0.957,0.506,0.275)     RGB{N0f8}(0.784,0.286,0.141)\n",
       " RGB{N0f8}(0.965,0.522,0.29)   …  RGB{N0f8}(0.753,0.255,0.106)\n",
       " RGB{N0f8}(0.965,0.545,0.322)     RGB{N0f8}(0.714,0.224,0.075)"
      ]
     },
     "execution_count": 9,
     "metadata": {},
     "output_type": "execute_result"
    }
   ],
   "source": [
    "colorview(RGB, permutedims(train_x[:,:,:,6],[3,2,1]))"
   ]
  },
  {
   "cell_type": "markdown",
   "metadata": {},
   "source": [
    "... a little better...don't you think?"
   ]
  },
  {
   "cell_type": "markdown",
   "metadata": {},
   "source": [
    "Now if we memory conscious, we don't like allocate new memory to look at the image. We can use [PermutedDimsArray](https://docs.julialang.org/en/v1/base/arrays/index.html#Base.PermutedDimsArrays.PermutedDimsArray) to get a [view](https://docs.julialang.org/en/v1/base/arrays/index.html#Views-(SubArrays-and-other-view-types)-1) of our permuted image. "
   ]
  },
  {
   "cell_type": "code",
   "execution_count": 10,
   "metadata": {},
   "outputs": [
    {
     "data": {
      "image/png": "[encoded data removed]",
      "text/plain": [
       "32×32 reshape(reinterpret(RGB{N0f8}, PermutedDimsArray(::Array{N0f8,3}, (3, 2, 1))), 32, 32) with eltype RGB{Normed{UInt8,8}}:\n",
       " RGB{N0f8}(0.624,0.4,0.396)    …  RGB{N0f8}(0.298,0.227,0.216)\n",
       " RGB{N0f8}(0.557,0.294,0.267)     RGB{N0f8}(0.337,0.271,0.239)\n",
       " RGB{N0f8}(0.427,0.263,0.294)     RGB{N0f8}(0.365,0.282,0.278)\n",
       " RGB{N0f8}(0.392,0.275,0.298)     RGB{N0f8}(0.333,0.235,0.282)\n",
       " RGB{N0f8}(0.42,0.278,0.227)      RGB{N0f8}(0.412,0.314,0.392)\n",
       " RGB{N0f8}(0.443,0.322,0.243)  …  RGB{N0f8}(0.671,0.573,0.627)\n",
       " RGB{N0f8}(0.396,0.298,0.263)     RGB{N0f8}(0.729,0.541,0.498)\n",
       " RGB{N0f8}(0.478,0.31,0.294)      RGB{N0f8}(0.596,0.396,0.353)\n",
       " RGB{N0f8}(0.635,0.361,0.333)     RGB{N0f8}(0.737,0.592,0.588)\n",
       " RGB{N0f8}(0.565,0.259,0.2)       RGB{N0f8}(0.682,0.533,0.518)\n",
       " RGB{N0f8}(0.49,0.212,0.137)   …  RGB{N0f8}(0.631,0.459,0.412)\n",
       " RGB{N0f8}(0.424,0.18,0.106)      RGB{N0f8}(0.651,0.478,0.435)\n",
       " RGB{N0f8}(0.537,0.294,0.216)     RGB{N0f8}(0.678,0.541,0.518)\n",
       " ⋮                             ⋱                              \n",
       " RGB{N0f8}(0.973,0.471,0.208)  …  RGB{N0f8}(0.576,0.216,0.192)\n",
       " RGB{N0f8}(0.945,0.447,0.169)     RGB{N0f8}(0.69,0.278,0.208) \n",
       " RGB{N0f8}(0.949,0.459,0.184)     RGB{N0f8}(0.827,0.396,0.239)\n",
       " RGB{N0f8}(0.945,0.455,0.188)     RGB{N0f8}(0.957,0.514,0.322)\n",
       " RGB{N0f8}(0.937,0.459,0.196)     RGB{N0f8}(0.988,0.529,0.345)\n",
       " RGB{N0f8}(0.961,0.494,0.239)  …  RGB{N0f8}(0.949,0.455,0.282)\n",
       " RGB{N0f8}(0.961,0.502,0.251)     RGB{N0f8}(0.922,0.392,0.216)\n",
       " RGB{N0f8}(0.961,0.494,0.259)     RGB{N0f8}(0.867,0.353,0.196)\n",
       " RGB{N0f8}(0.949,0.486,0.255)     RGB{N0f8}(0.812,0.318,0.169)\n",
       " RGB{N0f8}(0.957,0.506,0.275)     RGB{N0f8}(0.784,0.286,0.141)\n",
       " RGB{N0f8}(0.965,0.522,0.29)   …  RGB{N0f8}(0.753,0.255,0.106)\n",
       " RGB{N0f8}(0.965,0.545,0.322)     RGB{N0f8}(0.714,0.224,0.075)"
      ]
     },
     "execution_count": 10,
     "metadata": {},
     "output_type": "execute_result"
    }
   ],
   "source": [
    "colorview(RGB,PermutedDimsArray(train_x[:,:,:,6],[3,2,1]))"
   ]
  },
  {
   "cell_type": "markdown",
   "metadata": {},
   "source": [
    "Same result, but we saved some memory. "
   ]
  },
  {
   "cell_type": "markdown",
   "metadata": {},
   "source": [
    "## Manipulating our images"
   ]
  },
  {
   "cell_type": "markdown",
   "metadata": {},
   "source": [
    "Before we even start doing CNNs we want to write a few simple functions to allow us to manipulate our images. "
   ]
  },
  {
   "cell_type": "code",
   "execution_count": 11,
   "metadata": {},
   "outputs": [
    {
     "data": {
      "text/plain": [
       "shiftToLeft (generic function with 1 method)"
      ]
     },
     "execution_count": 11,
     "metadata": {},
     "output_type": "execute_result"
    }
   ],
   "source": [
    "function shiftToLeft(img, n)\n",
    "    r, g, b = img[:, n+1:end, 1], img[:, n+1:end, 2], img[:, n+1:end, 3]\n",
    "    r_shift = hcat(r, zeros(size(img, 1), n))\n",
    "    g_shift = hcat(g, zeros(size(img, 1), n))\n",
    "    b_shift = hcat(b, zeros(size(img, 1), n))\n",
    "    shifted_img = zeros(size(img, 1), size(img, 2), 3)\n",
    "    shifted_img[:, :, 1] = r_shift\n",
    "    shifted_img[:, :, 2] = g_shift\n",
    "    shifted_img[:, :, 3] = b_shift\n",
    "    shifted_img\n",
    "end"
   ]
  },
  {
   "cell_type": "markdown",
   "metadata": {},
   "source": [
    "Lets see what this does"
   ]
  },
  {
   "cell_type": "code",
   "execution_count": 12,
   "metadata": {},
   "outputs": [
    {
     "data": {
      "image/png": "[encoded data removed]",
      "text/plain": [
       "32×32 reshape(reinterpret(RGB{Float64}, PermutedDimsArray(::Array{Float64,3}, (3, 1, 2))), 32, 32) with eltype RGB{Float64}:\n",
       " RGB{Float64}(0.396078,0.298039,0.262745)  …  RGB{Float64}(0.0,0.0,0.0)\n",
       " RGB{Float64}(0.635294,0.384314,0.356863)     RGB{Float64}(0.0,0.0,0.0)\n",
       " RGB{Float64}(0.686275,0.305882,0.290196)     RGB{Float64}(0.0,0.0,0.0)\n",
       " RGB{Float64}(0.65098,0.243137,0.223529)      RGB{Float64}(0.0,0.0,0.0)\n",
       " RGB{Float64}(0.784314,0.427451,0.380392)     RGB{Float64}(0.0,0.0,0.0)\n",
       " RGB{Float64}(0.74902,0.403922,0.337255)   …  RGB{Float64}(0.0,0.0,0.0)\n",
       " RGB{Float64}(0.423529,0.239216,0.137255)     RGB{Float64}(0.0,0.0,0.0)\n",
       " RGB{Float64}(0.34902,0.203922,0.121569)      RGB{Float64}(0.0,0.0,0.0)\n",
       " RGB{Float64}(0.623529,0.443137,0.376471)     RGB{Float64}(0.0,0.0,0.0)\n",
       " RGB{Float64}(0.788235,0.54902,0.498039)      RGB{Float64}(0.0,0.0,0.0)\n",
       " RGB{Float64}(0.74902,0.458824,0.415686)   …  RGB{Float64}(0.0,0.0,0.0)\n",
       " RGB{Float64}(0.670588,0.352941,0.305882)     RGB{Float64}(0.0,0.0,0.0)\n",
       " RGB{Float64}(0.631373,0.294118,0.239216)     RGB{Float64}(0.0,0.0,0.0)\n",
       " ⋮                                         ⋱                           \n",
       " RGB{Float64}(0.533333,0.407843,0.380392)  …  RGB{Float64}(0.0,0.0,0.0)\n",
       " RGB{Float64}(0.352941,0.305882,0.278431)     RGB{Float64}(0.0,0.0,0.0)\n",
       " RGB{Float64}(0.266667,0.243137,0.235294)     RGB{Float64}(0.0,0.0,0.0)\n",
       " RGB{Float64}(0.380392,0.372549,0.384314)     RGB{Float64}(0.0,0.0,0.0)\n",
       " RGB{Float64}(0.839216,0.854902,0.843137)     RGB{Float64}(0.0,0.0,0.0)\n",
       " RGB{Float64}(0.882353,0.827451,0.807843)  …  RGB{Float64}(0.0,0.0,0.0)\n",
       " RGB{Float64}(0.792157,0.698039,0.701961)     RGB{Float64}(0.0,0.0,0.0)\n",
       " RGB{Float64}(0.360784,0.345098,0.388235)     RGB{Float64}(0.0,0.0,0.0)\n",
       " RGB{Float64}(0.396078,0.364706,0.462745)     RGB{Float64}(0.0,0.0,0.0)\n",
       " RGB{Float64}(0.415686,0.368627,0.478431)     RGB{Float64}(0.0,0.0,0.0)\n",
       " RGB{Float64}(0.32549,0.278431,0.341176)   …  RGB{Float64}(0.0,0.0,0.0)\n",
       " RGB{Float64}(0.729412,0.541176,0.498039)     RGB{Float64}(0.0,0.0,0.0)"
      ]
     },
     "execution_count": 12,
     "metadata": {},
     "output_type": "execute_result"
    }
   ],
   "source": [
    "red_car=train_x[:,:,:,6]\n",
    "shifted_red_car=shiftToLeft(red_car,6) # Shifted five pixels to the right\n",
    "colorview(RGB,PermutedDimsArray(shifted_red_car,[3,1,2]))"
   ]
  },
  {
   "cell_type": "code",
   "execution_count": 13,
   "metadata": {},
   "outputs": [
    {
     "data": {
      "text/plain": [
       "rotate_right (generic function with 1 method)"
      ]
     },
     "execution_count": 13,
     "metadata": {},
     "output_type": "execute_result"
    }
   ],
   "source": [
    "function rotate_right(img)\n",
    "    r, g, b = img[:, :, 1], img[:, :, 2], img[:, :, 3]\n",
    "    rotated_img = zeros(size(img, 1), size(img, 2), 3)\n",
    "    rotated_img[:, :, 1] = r'\n",
    "    rotated_img[:, :, 2] = g'\n",
    "    rotated_img[:, :, 3] = b'\n",
    "    rotated_img\n",
    "end"
   ]
  },
  {
   "cell_type": "markdown",
   "metadata": {},
   "source": [
    "The name says it all. Lets see some rotation in action"
   ]
  },
  {
   "cell_type": "code",
   "execution_count": 14,
   "metadata": {},
   "outputs": [
    {
     "data": {
      "image/png": "[encoded data removed]",
      "text/plain": [
       "32×32 reshape(reinterpret(RGB{Float64}, PermutedDimsArray(::Array{Float64,3}, (3, 1, 2))), 32, 32) with eltype RGB{Float64}:\n",
       " RGB{Float64}(0.623529,0.4,0.396078)       …  RGB{Float64}(0.298039,0.227451,0.215686) \n",
       " RGB{Float64}(0.556863,0.294118,0.266667)     RGB{Float64}(0.337255,0.270588,0.239216) \n",
       " RGB{Float64}(0.427451,0.262745,0.294118)     RGB{Float64}(0.364706,0.282353,0.278431) \n",
       " RGB{Float64}(0.392157,0.27451,0.298039)      RGB{Float64}(0.333333,0.235294,0.282353) \n",
       " RGB{Float64}(0.419608,0.278431,0.227451)     RGB{Float64}(0.411765,0.313725,0.392157) \n",
       " RGB{Float64}(0.443137,0.321569,0.243137)  …  RGB{Float64}(0.670588,0.572549,0.627451) \n",
       " RGB{Float64}(0.396078,0.298039,0.262745)     RGB{Float64}(0.729412,0.541176,0.498039) \n",
       " RGB{Float64}(0.478431,0.309804,0.294118)     RGB{Float64}(0.596078,0.396078,0.352941) \n",
       " RGB{Float64}(0.635294,0.360784,0.333333)     RGB{Float64}(0.737255,0.592157,0.588235) \n",
       " RGB{Float64}(0.564706,0.258824,0.2)          RGB{Float64}(0.682353,0.533333,0.517647) \n",
       " RGB{Float64}(0.490196,0.211765,0.137255)  …  RGB{Float64}(0.631373,0.458824,0.411765) \n",
       " RGB{Float64}(0.423529,0.180392,0.105882)     RGB{Float64}(0.65098,0.478431,0.435294)  \n",
       " RGB{Float64}(0.537255,0.294118,0.215686)     RGB{Float64}(0.678431,0.541176,0.517647) \n",
       " ⋮                                         ⋱                                           \n",
       " RGB{Float64}(0.972549,0.470588,0.207843)  …  RGB{Float64}(0.576471,0.215686,0.192157) \n",
       " RGB{Float64}(0.945098,0.447059,0.168627)     RGB{Float64}(0.690196,0.278431,0.207843) \n",
       " RGB{Float64}(0.94902,0.458824,0.184314)      RGB{Float64}(0.827451,0.396078,0.239216) \n",
       " RGB{Float64}(0.945098,0.454902,0.188235)     RGB{Float64}(0.956863,0.513725,0.321569) \n",
       " RGB{Float64}(0.937255,0.458824,0.196078)     RGB{Float64}(0.988235,0.529412,0.345098) \n",
       " RGB{Float64}(0.960784,0.494118,0.239216)  …  RGB{Float64}(0.94902,0.454902,0.282353)  \n",
       " RGB{Float64}(0.960784,0.501961,0.25098)      RGB{Float64}(0.921569,0.392157,0.215686) \n",
       " RGB{Float64}(0.960784,0.494118,0.258824)     RGB{Float64}(0.866667,0.352941,0.196078) \n",
       " RGB{Float64}(0.94902,0.486275,0.254902)      RGB{Float64}(0.811765,0.317647,0.168627) \n",
       " RGB{Float64}(0.956863,0.505882,0.27451)      RGB{Float64}(0.784314,0.286275,0.141176) \n",
       " RGB{Float64}(0.964706,0.521569,0.290196)  …  RGB{Float64}(0.752941,0.254902,0.105882) \n",
       " RGB{Float64}(0.964706,0.545098,0.321569)     RGB{Float64}(0.713725,0.223529,0.0745098)"
      ]
     },
     "execution_count": 14,
     "metadata": {},
     "output_type": "execute_result"
    }
   ],
   "source": [
    "rotated_red_car=rotate_right(red_car)\n",
    "colorview(RGB,PermutedDimsArray(rotated_red_car,[3,1,2]))"
   ]
  },
  {
   "cell_type": "markdown",
   "metadata": {},
   "source": [
    "Note here that unlike what we did in the previous section via dimension permutation, here we rotated the original 3-dimensional input. "
   ]
  },
  {
   "cell_type": "markdown",
   "metadata": {},
   "source": [
    "A question for those who love elegant  students: **Can we write `rotate_right` and `shiftToLeft` more compactly and elegantly?**"
   ]
  },
  {
   "cell_type": "markdown",
   "metadata": {},
   "source": [
    "Finally we write a convenience method to just show our images with minimum fuss. "
   ]
  },
  {
   "cell_type": "code",
   "execution_count": 15,
   "metadata": {},
   "outputs": [
    {
     "data": {
      "text/plain": [
       "showImage (generic function with 1 method)"
      ]
     },
     "execution_count": 15,
     "metadata": {},
     "output_type": "execute_result"
    }
   ],
   "source": [
    "function showImage(img)\n",
    "    colorview(RGB,PermutedDimsArray(img,[3,1,2]))\n",
    "end"
   ]
  },
  {
   "cell_type": "code",
   "execution_count": 16,
   "metadata": {},
   "outputs": [
    {
     "data": {
      "image/png": "[encoded data removed]",
      "text/plain": [
       "32×32 reshape(reinterpret(RGB{N0f8}, PermutedDimsArray(::Array{N0f8,3}, (3, 1, 2))), 32, 32) with eltype RGB{Normed{UInt8,8}}:\n",
       " RGB{N0f8}(0.624,0.4,0.396)    …  RGB{N0f8}(0.965,0.545,0.322)\n",
       " RGB{N0f8}(0.588,0.357,0.373)     RGB{N0f8}(0.953,0.522,0.306)\n",
       " RGB{N0f8}(0.6,0.373,0.38)        RGB{N0f8}(0.957,0.518,0.302)\n",
       " RGB{N0f8}(0.604,0.486,0.478)     RGB{N0f8}(0.957,0.533,0.318)\n",
       " RGB{N0f8}(0.541,0.525,0.514)     RGB{N0f8}(0.941,0.494,0.271)\n",
       " RGB{N0f8}(0.722,0.584,0.537)  …  RGB{N0f8}(0.929,0.424,0.204)\n",
       " RGB{N0f8}(0.604,0.404,0.345)     RGB{N0f8}(0.925,0.42,0.188) \n",
       " RGB{N0f8}(0.302,0.18,0.157)      RGB{N0f8}(0.918,0.447,0.227)\n",
       " RGB{N0f8}(0.239,0.153,0.137)     RGB{N0f8}(0.816,0.384,0.208)\n",
       " RGB{N0f8}(0.251,0.165,0.145)     RGB{N0f8}(0.608,0.22,0.094) \n",
       " RGB{N0f8}(0.255,0.169,0.149)  …  RGB{N0f8}(0.467,0.129,0.039)\n",
       " RGB{N0f8}(0.275,0.196,0.18)      RGB{N0f8}(0.376,0.086,0.02) \n",
       " RGB{N0f8}(0.345,0.278,0.259)     RGB{N0f8}(0.31,0.071,0.024) \n",
       " ⋮                             ⋱                              \n",
       " RGB{N0f8}(0.298,0.243,0.216)  …  RGB{N0f8}(0.275,0.071,0.039)\n",
       " RGB{N0f8}(0.298,0.259,0.224)     RGB{N0f8}(0.29,0.063,0.039) \n",
       " RGB{N0f8}(0.325,0.278,0.231)     RGB{N0f8}(0.333,0.075,0.059)\n",
       " RGB{N0f8}(0.384,0.298,0.251)     RGB{N0f8}(0.361,0.078,0.071)\n",
       " RGB{N0f8}(0.408,0.314,0.239)     RGB{N0f8}(0.388,0.09,0.063) \n",
       " RGB{N0f8}(0.384,0.294,0.22)   …  RGB{N0f8}(0.443,0.106,0.047)\n",
       " RGB{N0f8}(0.369,0.275,0.224)     RGB{N0f8}(0.525,0.125,0.051)\n",
       " RGB{N0f8}(0.369,0.271,0.216)     RGB{N0f8}(0.58,0.145,0.063) \n",
       " RGB{N0f8}(0.396,0.282,0.243)     RGB{N0f8}(0.616,0.165,0.055)\n",
       " RGB{N0f8}(0.357,0.278,0.22)      RGB{N0f8}(0.651,0.184,0.055)\n",
       " RGB{N0f8}(0.29,0.247,0.216)   …  RGB{N0f8}(0.678,0.2,0.067)  \n",
       " RGB{N0f8}(0.298,0.227,0.216)     RGB{N0f8}(0.714,0.224,0.075)"
      ]
     },
     "execution_count": 16,
     "metadata": {},
     "output_type": "execute_result"
    }
   ],
   "source": [
    "showImage(red_car)"
   ]
  },
  {
   "cell_type": "markdown",
   "metadata": {},
   "source": [
    "## Some function for shifting and manipulating the  whole data set around"
   ]
  },
  {
   "cell_type": "code",
   "execution_count": 17,
   "metadata": {},
   "outputs": [
    {
     "data": {
      "text/plain": [
       "createShiftedTrainDataSet"
      ]
     },
     "execution_count": 17,
     "metadata": {},
     "output_type": "execute_result"
    }
   ],
   "source": [
    "\"\"\"\n",
    "Takes a particular class in a data set. Makes copy of it, shifts the copy\n",
    "by a random amount and appends to the bottom of new (shifted) data set\n",
    "\"\"\"\n",
    "function createShiftedTrainDataSet(X::Array{T,4}, Y,  class_num) where T\n",
    "    indxs = findall(Y[class_num, :] .== true) # finding all the incides of the `class_num`\n",
    "    X_temp = zeros(32, 32, 3, length(indxs))\n",
    "    Y_temp = Y[:, indxs]\n",
    "    counter = 1\n",
    "    for indx in indxs\n",
    "        X_temp[:, :, :, counter] = shiftToLeft(X[:, :, :, indx], rand(1:32));\n",
    "        counter += 1;\n",
    "    end\n",
    "    l=size(X,4)\n",
    "    m=length(indxs)\n",
    "    newIdx=shuffle!([1:l+m...])\n",
    "    X_shifted = zeros(T,32, 32, 3, l+m)\n",
    "    Y_shifted = zeros(Bool, size(Y,1), l+m)\n",
    "    counter = 1\n",
    "    for i in newIdx\n",
    "         X_shifted[:, :, :, counter] = (i<=l) ? X[:,:,:,i] : X_temp[:,:,:,i-l]\n",
    "        Y_shifted[:,counter]= (i<=l) ? Y[:,i] : Y_temp[:,i-l]\n",
    "        counter += 1;\n",
    "    end\n",
    "    X_shifted, Y_shifted\n",
    "end"
   ]
  },
  {
   "cell_type": "code",
   "execution_count": 18,
   "metadata": {},
   "outputs": [
    {
     "data": {
      "text/plain": [
       "createShiftedTestDataSet"
      ]
     },
     "execution_count": 18,
     "metadata": {},
     "output_type": "execute_result"
    }
   ],
   "source": [
    "\"\"\"\n",
    "Takes the original data, selects the a particular class (class_num), and outputs\n",
    "a shifted copy of that class\n",
    "\"\"\"\n",
    "function createShiftedTestDataSet(X, Y,  class_num)\n",
    "    indxs = findall(Y[class_num, :] .== true)\n",
    "    X_shifted = zeros(32, 32, 3, length(indxs))\n",
    "    counter = 1\n",
    "    for indx in indxs\n",
    "        X_shifted[:, :, :, counter] = shiftToLeft(X[:, :, :, indx], rand(1:32));\n",
    "        counter += 1;\n",
    "    end\n",
    "    #Y_shifted = hcat(Y[:, indxs], Y[:, indxs])\n",
    "    Y_shifted = Y[:, indxs]\n",
    "    X_shifted, Y_shifted\n",
    "end"
   ]
  },
  {
   "cell_type": "code",
   "execution_count": 19,
   "metadata": {},
   "outputs": [
    {
     "data": {
      "text/plain": [
       "createDataSetForClasses"
      ]
     },
     "execution_count": 19,
     "metadata": {},
     "output_type": "execute_result"
    }
   ],
   "source": [
    "\"\"\"\n",
    "Creates a data set for training out of a list of `classes` \n",
    "\"\"\"\n",
    "function createDataSetForClasses(X, Y, classes)\n",
    "    indxs = []\n",
    "    for class_num in classes\n",
    "        append!(indxs, findall(Y[class_num, :] .== true))\n",
    "    end\n",
    "    shuffle!(indxs)\n",
    "    X_dataSet = X[:, :, :, indxs]\n",
    "    Y_dataSet = Y[:, indxs]\n",
    "    X_dataSet, Y_dataSet\n",
    "end"
   ]
  },
  {
   "cell_type": "markdown",
   "metadata": {},
   "source": [
    "## Straight forward Training DataSet"
   ]
  },
  {
   "cell_type": "markdown",
   "metadata": {},
   "source": [
    "Here we just work on three classes. Can you get example images to find out what those classes are"
   ]
  },
  {
   "cell_type": "code",
   "execution_count": 20,
   "metadata": {},
   "outputs": [
    {
     "data": {
      "text/plain": [
       "(32, 32, 3, 15000)"
      ]
     },
     "execution_count": 20,
     "metadata": {},
     "output_type": "execute_result"
    }
   ],
   "source": [
    "X, Y = createDataSetForClasses(train_x, train_y, [8, 9, 10]);\n",
    "size(X)"
   ]
  },
  {
   "cell_type": "markdown",
   "metadata": {},
   "source": [
    "## Shifted Training DataSet Trucks"
   ]
  },
  {
   "cell_type": "code",
   "execution_count": 21,
   "metadata": {},
   "outputs": [
    {
     "data": {
      "text/plain": [
       "(32, 32, 3, 20000)"
      ]
     },
     "execution_count": 21,
     "metadata": {},
     "output_type": "execute_result"
    }
   ],
   "source": [
    "X_shifted_trucks, Y_shifted_trucks = createShiftedTrainDataSet(X, Y, 10);\n",
    "size(X_shifted_trucks)"
   ]
  },
  {
   "cell_type": "markdown",
   "metadata": {},
   "source": [
    "## Shifted Testing DataSet Trucks"
   ]
  },
  {
   "cell_type": "code",
   "execution_count": 22,
   "metadata": {},
   "outputs": [
    {
     "data": {
      "text/plain": [
       "(32, 32, 3, 1000)"
      ]
     },
     "execution_count": 22,
     "metadata": {},
     "output_type": "execute_result"
    }
   ],
   "source": [
    "X_test_shifted_trucks, Y_test_shifted_trucks = createShiftedTestDataSet(test_x, test_y, 10);\n",
    "size(X_test_shifted_trucks)"
   ]
  },
  {
   "cell_type": "code",
   "execution_count": 23,
   "metadata": {},
   "outputs": [
    {
     "data": {
      "image/png": "[encoded data removed]",
      "text/plain": [
       "32×32 reshape(reinterpret(RGB{N0f8}, PermutedDimsArray(::Array{N0f8,3}, (3, 1, 2))), 32, 32) with eltype RGB{Normed{UInt8,8}}:\n",
       " RGB{N0f8}(0.973,0.973,0.98)   …  RGB{N0f8}(0.647,0.643,0.635)\n",
       " RGB{N0f8}(0.957,0.957,0.965)     RGB{N0f8}(0.608,0.604,0.596)\n",
       " RGB{N0f8}(0.961,0.957,0.965)     RGB{N0f8}(0.612,0.608,0.6)  \n",
       " RGB{N0f8}(0.961,0.961,0.961)     RGB{N0f8}(0.604,0.608,0.596)\n",
       " RGB{N0f8}(0.961,0.961,0.961)     RGB{N0f8}(0.596,0.604,0.592)\n",
       " RGB{N0f8}(0.961,0.961,0.961)  …  RGB{N0f8}(0.596,0.604,0.592)\n",
       " RGB{N0f8}(0.961,0.961,0.961)     RGB{N0f8}(0.6,0.604,0.596)  \n",
       " RGB{N0f8}(0.961,0.961,0.957)     RGB{N0f8}(0.6,0.604,0.596)  \n",
       " RGB{N0f8}(0.961,0.961,0.953)     RGB{N0f8}(0.608,0.608,0.6)  \n",
       " RGB{N0f8}(0.957,0.957,0.949)     RGB{N0f8}(0.608,0.608,0.6)  \n",
       " RGB{N0f8}(0.957,0.957,0.949)  …  RGB{N0f8}(0.608,0.608,0.6)  \n",
       " RGB{N0f8}(0.933,0.937,0.925)     RGB{N0f8}(0.612,0.612,0.604)\n",
       " RGB{N0f8}(0.827,0.831,0.812)     RGB{N0f8}(0.616,0.612,0.604)\n",
       " ⋮                             ⋱                              \n",
       " RGB{N0f8}(0.925,0.922,0.906)  …  RGB{N0f8}(0.584,0.584,0.576)\n",
       " RGB{N0f8}(0.929,0.929,0.91)      RGB{N0f8}(0.588,0.588,0.58) \n",
       " RGB{N0f8}(0.933,0.941,0.922)     RGB{N0f8}(0.592,0.592,0.584)\n",
       " RGB{N0f8}(0.937,0.945,0.925)     RGB{N0f8}(0.588,0.588,0.58) \n",
       " RGB{N0f8}(0.945,0.949,0.929)     RGB{N0f8}(0.592,0.592,0.584)\n",
       " RGB{N0f8}(0.949,0.953,0.933)  …  RGB{N0f8}(0.604,0.604,0.596)\n",
       " RGB{N0f8}(0.941,0.945,0.925)     RGB{N0f8}(0.604,0.604,0.592)\n",
       " RGB{N0f8}(0.945,0.949,0.929)     RGB{N0f8}(0.604,0.604,0.596)\n",
       " RGB{N0f8}(0.949,0.953,0.933)     RGB{N0f8}(0.604,0.604,0.596)\n",
       " RGB{N0f8}(0.957,0.961,0.945)     RGB{N0f8}(0.604,0.604,0.596)\n",
       " RGB{N0f8}(0.969,0.969,0.965)  …  RGB{N0f8}(0.604,0.604,0.596)\n",
       " RGB{N0f8}(0.882,0.882,0.882)     RGB{N0f8}(0.596,0.596,0.588)"
      ]
     },
     "execution_count": 23,
     "metadata": {},
     "output_type": "execute_result"
    }
   ],
   "source": [
    "# 10 is truck class\n",
    "index = findall(Y[10, :] .== true)\n",
    "truck_train = X[:, :, :, index]\n",
    "showImage(truck_train[:,:,:,42])"
   ]
  },
  {
   "cell_type": "code",
   "execution_count": 24,
   "metadata": {},
   "outputs": [
    {
     "data": {
      "image/png": "[encoded data removed]",
      "text/plain": [
       "32×32 reshape(reinterpret(RGB{N0f8}, PermutedDimsArray(::Array{N0f8,3}, (3, 1, 2))), 32, 32) with eltype RGB{Normed{UInt8,8}}:\n",
       " RGB{N0f8}(1.0,1.0,0.961)  …  RGB{N0f8}(1.0,1.0,0.949)    \n",
       " RGB{N0f8}(1.0,1.0,0.937)     RGB{N0f8}(0.996,0.996,0.929)\n",
       " RGB{N0f8}(1.0,1.0,0.941)     RGB{N0f8}(1.0,1.0,0.933)    \n",
       " RGB{N0f8}(1.0,1.0,0.941)     RGB{N0f8}(1.0,1.0,0.929)    \n",
       " RGB{N0f8}(1.0,1.0,0.933)     RGB{N0f8}(1.0,1.0,0.925)    \n",
       " RGB{N0f8}(1.0,1.0,0.933)  …  RGB{N0f8}(1.0,1.0,0.925)    \n",
       " RGB{N0f8}(1.0,1.0,0.937)     RGB{N0f8}(1.0,1.0,0.925)    \n",
       " RGB{N0f8}(1.0,1.0,0.937)     RGB{N0f8}(1.0,1.0,0.925)    \n",
       " RGB{N0f8}(1.0,1.0,0.937)     RGB{N0f8}(1.0,1.0,0.925)    \n",
       " RGB{N0f8}(1.0,1.0,0.937)     RGB{N0f8}(1.0,1.0,0.925)    \n",
       " RGB{N0f8}(1.0,1.0,0.933)  …  RGB{N0f8}(1.0,1.0,0.925)    \n",
       " RGB{N0f8}(1.0,1.0,0.933)     RGB{N0f8}(1.0,1.0,0.925)    \n",
       " RGB{N0f8}(1.0,1.0,0.937)     RGB{N0f8}(1.0,1.0,0.925)    \n",
       " ⋮                         ⋱                              \n",
       " RGB{N0f8}(1.0,1.0,0.941)  …  RGB{N0f8}(1.0,1.0,0.925)    \n",
       " RGB{N0f8}(1.0,1.0,0.941)     RGB{N0f8}(1.0,1.0,0.925)    \n",
       " RGB{N0f8}(1.0,1.0,0.933)     RGB{N0f8}(1.0,1.0,0.925)    \n",
       " RGB{N0f8}(1.0,1.0,0.933)     RGB{N0f8}(1.0,1.0,0.925)    \n",
       " RGB{N0f8}(1.0,1.0,0.933)     RGB{N0f8}(1.0,1.0,0.925)    \n",
       " RGB{N0f8}(1.0,1.0,0.933)  …  RGB{N0f8}(1.0,1.0,0.922)    \n",
       " RGB{N0f8}(1.0,1.0,0.933)     RGB{N0f8}(1.0,1.0,0.925)    \n",
       " RGB{N0f8}(1.0,1.0,0.933)     RGB{N0f8}(1.0,1.0,0.925)    \n",
       " RGB{N0f8}(1.0,1.0,0.933)     RGB{N0f8}(1.0,1.0,0.925)    \n",
       " RGB{N0f8}(1.0,1.0,0.933)     RGB{N0f8}(1.0,1.0,0.925)    \n",
       " RGB{N0f8}(1.0,1.0,0.937)  …  RGB{N0f8}(1.0,1.0,0.922)    \n",
       " RGB{N0f8}(1.0,1.0,0.949)     RGB{N0f8}(1.0,1.0,0.933)    "
      ]
     },
     "execution_count": 24,
     "metadata": {},
     "output_type": "execute_result"
    }
   ],
   "source": [
    "showImage(X[:, :, :, 220])"
   ]
  },
  {
   "cell_type": "markdown",
   "metadata": {},
   "source": [
    "# CNN"
   ]
  },
  {
   "cell_type": "code",
   "execution_count": 25,
   "metadata": {},
   "outputs": [
    {
     "data": {
      "text/plain": [
       "test_CNN (generic function with 1 method)"
      ]
     },
     "execution_count": 25,
     "metadata": {},
     "output_type": "execute_result"
    }
   ],
   "source": [
    "m = Chain(\n",
    "    Conv((2,2), 3=>16, relu),\n",
    "    x -> maxpool(x, (2,2)), # maxpool default stride = k e.g. (2,2)\n",
    "    x -> reshape(x, :, size(x, 4)),\n",
    "    Dense(3600, 10), \n",
    "    softmax\n",
    ")\n",
    "loss(x, y) = crossentropy(m(x), y)\n",
    "accuracy(x, y) = mean(onecold(m(x)) .== onecold(y))\n",
    "\n",
    "function train_CNN_n(X, Y, dataset,n)\n",
    "    evalcb = throttle(() -> @show(accuracy(X, Y)), 10)\n",
    "    opt = ADAM(params(m))\n",
    "    for i=1:n\n",
    "        Flux.train!(loss, dataset, opt, cb = evalcb)\n",
    "    end\n",
    "end\n",
    "\n",
    "function test_CNN(X, Y)\n",
    "    accuracy(X, Y)\n",
    "end"
   ]
  },
  {
   "cell_type": "markdown",
   "metadata": {},
   "source": [
    "## Training on normal DataSet "
   ]
  },
  {
   "cell_type": "code",
   "execution_count": 26,
   "metadata": {},
   "outputs": [],
   "source": [
    "X = convert(Array{Float64,4}, X);"
   ]
  },
  {
   "cell_type": "code",
   "execution_count": 27,
   "metadata": {},
   "outputs": [],
   "source": [
    "batches=[(X[:,:,:,i],Y[:,i]) for i in partition(1:size(X,4),500)] ;"
   ]
  },
  {
   "cell_type": "code",
   "execution_count": 28,
   "metadata": {},
   "outputs": [
    {
     "name": "stdout",
     "output_type": "stream",
     "text": [
      "accuracy(X, Y) = 0.33973333333333333\n",
      "accuracy(X, Y) = 0.48386666666666667\n",
      "accuracy(X, Y) = 0.5419333333333334\n",
      "accuracy(X, Y) = 0.5659333333333333\n",
      "accuracy(X, Y) = 0.6065333333333334\n",
      "accuracy(X, Y) = 0.6364666666666666\n",
      "accuracy(X, Y) = 0.6662666666666667\n"
     ]
    }
   ],
   "source": [
    "train_CNN_n(X, Y, batches,5);"
   ]
  },
  {
   "cell_type": "code",
   "execution_count": 29,
   "metadata": {},
   "outputs": [
    {
     "data": {
      "text/plain": [
       "0.6746666666666666"
      ]
     },
     "execution_count": 29,
     "metadata": {},
     "output_type": "execute_result"
    }
   ],
   "source": [
    "test_CNN(X,Y)"
   ]
  },
  {
   "cell_type": "code",
   "execution_count": 30,
   "metadata": {},
   "outputs": [
    {
     "data": {
      "text/plain": [
       "0.658"
      ]
     },
     "execution_count": 30,
     "metadata": {},
     "output_type": "execute_result"
    }
   ],
   "source": [
    "test_CNN(X_test_shifted_trucks, Y_test_shifted_trucks)"
   ]
  },
  {
   "cell_type": "markdown",
   "metadata": {},
   "source": [
    "## Training on shifted DataSet"
   ]
  },
  {
   "cell_type": "code",
   "execution_count": 31,
   "metadata": {},
   "outputs": [
    {
     "name": "stdout",
     "output_type": "stream",
     "text": [
      "accuracy(X, Y) = 0.6562\n",
      "accuracy(X, Y) = 0.71015\n",
      "accuracy(X, Y) = 0.72705\n",
      "accuracy(X, Y) = 0.7396\n",
      "accuracy(X, Y) = 0.74625\n",
      "accuracy(X, Y) = 0.75425\n",
      "accuracy(X, Y) = 0.75925\n"
     ]
    }
   ],
   "source": [
    "X_shifted_trucks = convert(Array{Float64,4}, X_shifted_trucks);\n",
    "batches=[(X_shifted_trucks[:,:,:,i],Y_shifted_trucks[:,i]) for i in partition(1:size(X,4),500)] ;\n",
    "train_CNN_n(X_shifted_trucks, Y_shifted_trucks, batches,5);"
   ]
  },
  {
   "cell_type": "code",
   "execution_count": 32,
   "metadata": {},
   "outputs": [
    {
     "data": {
      "text/plain": [
       "0.6978"
      ]
     },
     "execution_count": 32,
     "metadata": {},
     "output_type": "execute_result"
    }
   ],
   "source": [
    "test_CNN(X,Y)"
   ]
  },
  {
   "cell_type": "code",
   "execution_count": 60,
   "metadata": {},
   "outputs": [
    {
     "data": {
      "text/plain": [
       "0.954"
      ]
     },
     "execution_count": 60,
     "metadata": {},
     "output_type": "execute_result"
    }
   ],
   "source": [
    "test_CNN(X_test_shifted_trucks, Y_test_shifted_trucks)"
   ]
  },
  {
   "cell_type": "markdown",
   "metadata": {},
   "source": [
    "Why is this value quite high?"
   ]
  },
  {
   "cell_type": "markdown",
   "metadata": {},
   "source": [
    "## Test on random input from the normal training Dataset"
   ]
  },
  {
   "cell_type": "code",
   "execution_count": 38,
   "metadata": {},
   "outputs": [
    {
     "data": {
      "image/png": "[encoded data removed]",
      "text/plain": [
       "32×32 reshape(reinterpret(RGB{Float64}, PermutedDimsArray(::Array{Float64,3}, (3, 1, 2))), 32, 32) with eltype RGB{Float64}:\n",
       " RGB{Float64}(0.368627,0.380392,0.298039)  …  RGB{Float64}(0.6,0.584314,0.556863)     \n",
       " RGB{Float64}(0.415686,0.427451,0.352941)     RGB{Float64}(0.580392,0.564706,0.537255)\n",
       " RGB{Float64}(0.615686,0.619608,0.592157)     RGB{Float64}(0.580392,0.564706,0.537255)\n",
       " RGB{Float64}(0.788235,0.788235,0.780392)     RGB{Float64}(0.576471,0.564706,0.537255)\n",
       " RGB{Float64}(0.839216,0.847059,0.803922)     RGB{Float64}(0.568627,0.556863,0.529412)\n",
       " RGB{Float64}(0.694118,0.698039,0.65098)   …  RGB{Float64}(0.568627,0.556863,0.52549) \n",
       " RGB{Float64}(0.792157,0.796078,0.780392)     RGB{Float64}(0.537255,0.52549,0.494118) \n",
       " RGB{Float64}(0.976471,0.976471,0.976471)     RGB{Float64}(0.509804,0.486275,0.454902)\n",
       " RGB{Float64}(0.992157,0.992157,0.992157)     RGB{Float64}(0.517647,0.490196,0.458824)\n",
       " RGB{Float64}(0.992157,0.992157,0.992157)     RGB{Float64}(0.509804,0.482353,0.454902)\n",
       " RGB{Float64}(0.996078,0.996078,0.992157)  …  RGB{Float64}(0.505882,0.478431,0.45098) \n",
       " RGB{Float64}(0.996078,0.996078,0.992157)     RGB{Float64}(0.513725,0.486275,0.443137)\n",
       " RGB{Float64}(0.996078,0.996078,0.992157)     RGB{Float64}(0.501961,0.470588,0.423529)\n",
       " ⋮                                         ⋱                                          \n",
       " RGB{Float64}(0.996078,0.996078,0.996078)  …  RGB{Float64}(0.552941,0.513725,0.454902)\n",
       " RGB{Float64}(0.996078,0.996078,0.996078)     RGB{Float64}(0.545098,0.498039,0.427451)\n",
       " RGB{Float64}(0.996078,0.996078,0.996078)     RGB{Float64}(0.560784,0.505882,0.427451)\n",
       " RGB{Float64}(0.996078,0.996078,0.996078)     RGB{Float64}(0.54902,0.498039,0.435294) \n",
       " RGB{Float64}(0.996078,0.996078,0.996078)     RGB{Float64}(0.552941,0.505882,0.443137)\n",
       " RGB{Float64}(0.996078,0.996078,0.996078)  …  RGB{Float64}(0.560784,0.513725,0.45098) \n",
       " RGB{Float64}(0.996078,0.996078,0.996078)     RGB{Float64}(0.545098,0.498039,0.435294)\n",
       " RGB{Float64}(0.992157,0.992157,0.992157)     RGB{Float64}(0.545098,0.498039,0.435294)\n",
       " RGB{Float64}(0.984314,0.984314,0.984314)     RGB{Float64}(0.541176,0.494118,0.431373)\n",
       " RGB{Float64}(0.984314,0.984314,0.984314)     RGB{Float64}(0.533333,0.486275,0.427451)\n",
       " RGB{Float64}(0.984314,0.980392,0.984314)  …  RGB{Float64}(0.533333,0.486275,0.427451)\n",
       " RGB{Float64}(0.988235,0.984314,1.0)          RGB{Float64}(0.537255,0.486275,0.415686)"
      ]
     },
     "execution_count": 38,
     "metadata": {},
     "output_type": "execute_result"
    }
   ],
   "source": [
    "i=16\n",
    "random_test_example_X = convert(Array{Float64},X[:, :, :, i])\n",
    "random_test_example_Y = Y[:, i]\n",
    "showImage(random_test_example_X)"
   ]
  },
  {
   "cell_type": "code",
   "execution_count": 39,
   "metadata": {},
   "outputs": [
    {
     "data": {
      "text/plain": [
       "1.0"
      ]
     },
     "execution_count": 39,
     "metadata": {},
     "output_type": "execute_result"
    }
   ],
   "source": [
    "random_test_example_X_4d = reshape(random_test_example_X, 32, 32, 3, 1)\n",
    "test_CNN(random_test_example_X_4d, random_test_example_Y)"
   ]
  },
  {
   "cell_type": "markdown",
   "metadata": {},
   "source": [
    "So far so good!"
   ]
  },
  {
   "cell_type": "markdown",
   "metadata": {},
   "source": [
    "## Test on shifted input"
   ]
  },
  {
   "cell_type": "code",
   "execution_count": 40,
   "metadata": {},
   "outputs": [
    {
     "data": {
      "image/png": "[encoded data removed]",
      "text/plain": [
       "32×32 reshape(reinterpret(RGB{Float64}, PermutedDimsArray(::Array{Float64,3}, (3, 1, 2))), 32, 32) with eltype RGB{Float64}:\n",
       " RGB{Float64}(0.380392,0.388235,0.333333)  …  RGB{Float64}(0.0,0.0,0.0)\n",
       " RGB{Float64}(0.368627,0.372549,0.333333)     RGB{Float64}(0.0,0.0,0.0)\n",
       " RGB{Float64}(0.537255,0.545098,0.513725)     RGB{Float64}(0.0,0.0,0.0)\n",
       " RGB{Float64}(0.419608,0.431373,0.360784)     RGB{Float64}(0.0,0.0,0.0)\n",
       " RGB{Float64}(0.27451,0.286275,0.207843)      RGB{Float64}(0.0,0.0,0.0)\n",
       " RGB{Float64}(0.368627,0.376471,0.313725)  …  RGB{Float64}(0.0,0.0,0.0)\n",
       " RGB{Float64}(0.521569,0.529412,0.47451)      RGB{Float64}(0.0,0.0,0.0)\n",
       " RGB{Float64}(0.54902,0.560784,0.501961)      RGB{Float64}(0.0,0.0,0.0)\n",
       " RGB{Float64}(0.639216,0.647059,0.6)          RGB{Float64}(0.0,0.0,0.0)\n",
       " RGB{Float64}(0.815686,0.819608,0.788235)     RGB{Float64}(0.0,0.0,0.0)\n",
       " RGB{Float64}(0.886275,0.882353,0.866667)  …  RGB{Float64}(0.0,0.0,0.0)\n",
       " RGB{Float64}(0.760784,0.717647,0.721569)     RGB{Float64}(0.0,0.0,0.0)\n",
       " RGB{Float64}(0.654902,0.619608,0.627451)     RGB{Float64}(0.0,0.0,0.0)\n",
       " ⋮                                         ⋱                           \n",
       " RGB{Float64}(0.882353,0.882353,0.886275)  …  RGB{Float64}(0.0,0.0,0.0)\n",
       " RGB{Float64}(0.760784,0.760784,0.764706)     RGB{Float64}(0.0,0.0,0.0)\n",
       " RGB{Float64}(0.756863,0.756863,0.756863)     RGB{Float64}(0.0,0.0,0.0)\n",
       " RGB{Float64}(0.909804,0.909804,0.905882)     RGB{Float64}(0.0,0.0,0.0)\n",
       " RGB{Float64}(0.854902,0.854902,0.85098)      RGB{Float64}(0.0,0.0,0.0)\n",
       " RGB{Float64}(0.843137,0.843137,0.843137)  …  RGB{Float64}(0.0,0.0,0.0)\n",
       " RGB{Float64}(0.956863,0.960784,0.952941)     RGB{Float64}(0.0,0.0,0.0)\n",
       " RGB{Float64}(0.85098,0.854902,0.827451)      RGB{Float64}(0.0,0.0,0.0)\n",
       " RGB{Float64}(0.796078,0.8,0.768627)          RGB{Float64}(0.0,0.0,0.0)\n",
       " RGB{Float64}(0.462745,0.466667,0.435294)     RGB{Float64}(0.0,0.0,0.0)\n",
       " RGB{Float64}(0.384314,0.392157,0.356863)  …  RGB{Float64}(0.0,0.0,0.0)\n",
       " RGB{Float64}(0.341176,0.34902,0.309804)      RGB{Float64}(0.0,0.0,0.0)"
      ]
     },
     "execution_count": 40,
     "metadata": {},
     "output_type": "execute_result"
    }
   ],
   "source": [
    "shifted_random_test_example_X = shiftToLeft(random_test_example_X, 10)\n",
    "showImage(shifted_random_test_example_X)"
   ]
  },
  {
   "cell_type": "code",
   "execution_count": 41,
   "metadata": {},
   "outputs": [
    {
     "data": {
      "text/plain": [
       "1.0"
      ]
     },
     "execution_count": 41,
     "metadata": {},
     "output_type": "execute_result"
    }
   ],
   "source": [
    "shifted_random_test_example_X_4d = convert(Array{Float64,4},reshape(shifted_random_test_example_X, 32, 32, 3, 1));\n",
    "test_CNN(shifted_random_test_example_X_4d, random_test_example_Y)"
   ]
  },
  {
   "cell_type": "markdown",
   "metadata": {},
   "source": [
    "So the shifting threw the classifier off!"
   ]
  },
  {
   "cell_type": "markdown",
   "metadata": {},
   "source": [
    "## Test on rotated input"
   ]
  },
  {
   "cell_type": "code",
   "execution_count": 42,
   "metadata": {},
   "outputs": [
    {
     "data": {
      "image/png": "[encoded data removed]",
      "text/plain": [
       "32×32 reshape(reinterpret(RGB{Float64}, PermutedDimsArray(::Array{Float64,3}, (3, 1, 2))), 32, 32) with eltype RGB{Float64}:\n",
       " RGB{Float64}(0.368627,0.380392,0.298039)  …  RGB{Float64}(0.988235,0.984314,1.0)     \n",
       " RGB{Float64}(0.321569,0.333333,0.254902)     RGB{Float64}(0.988235,0.984314,1.0)     \n",
       " RGB{Float64}(0.352941,0.368627,0.286275)     RGB{Float64}(0.988235,0.988235,1.0)     \n",
       " RGB{Float64}(0.345098,0.356863,0.27451)      RGB{Float64}(0.988235,0.984314,1.0)     \n",
       " RGB{Float64}(0.294118,0.305882,0.227451)     RGB{Float64}(0.988235,0.984314,1.0)     \n",
       " RGB{Float64}(0.305882,0.317647,0.254902)  …  RGB{Float64}(0.988235,0.984314,1.0)     \n",
       " RGB{Float64}(0.294118,0.301961,0.25098)      RGB{Float64}(0.988235,0.984314,1.0)     \n",
       " RGB{Float64}(0.392157,0.4,0.345098)          RGB{Float64}(0.972549,0.968627,0.980392)\n",
       " RGB{Float64}(0.423529,0.431373,0.376471)     RGB{Float64}(0.741176,0.745098,0.733333)\n",
       " RGB{Float64}(0.305882,0.313725,0.262745)     RGB{Float64}(0.454902,0.458824,0.431373)\n",
       " RGB{Float64}(0.380392,0.388235,0.333333)  …  RGB{Float64}(0.341176,0.34902,0.309804) \n",
       " RGB{Float64}(0.411765,0.423529,0.356863)     RGB{Float64}(0.262745,0.278431,0.219608)\n",
       " RGB{Float64}(0.407843,0.415686,0.364706)     RGB{Float64}(0.196078,0.219608,0.152941)\n",
       " ⋮                                         ⋱                                          \n",
       " RGB{Float64}(0.619608,0.623529,0.662745)  …  RGB{Float64}(0.388235,0.423529,0.392157)\n",
       " RGB{Float64}(0.596078,0.592157,0.631373)     RGB{Float64}(0.439216,0.415686,0.419608)\n",
       " RGB{Float64}(0.388235,0.384314,0.419608)     RGB{Float64}(0.298039,0.27451,0.294118) \n",
       " RGB{Float64}(0.309804,0.321569,0.337255)     RGB{Float64}(0.219608,0.211765,0.219608)\n",
       " RGB{Float64}(0.392157,0.407843,0.415686)     RGB{Float64}(0.286275,0.27451,0.215686) \n",
       " RGB{Float64}(0.356863,0.356863,0.364706)  …  RGB{Float64}(0.458824,0.423529,0.317647)\n",
       " RGB{Float64}(0.192157,0.180392,0.164706)     RGB{Float64}(0.513725,0.458824,0.360784)\n",
       " RGB{Float64}(0.188235,0.160784,0.101961)     RGB{Float64}(0.517647,0.458824,0.372549)\n",
       " RGB{Float64}(0.380392,0.352941,0.243137)     RGB{Float64}(0.52549,0.486275,0.364706) \n",
       " RGB{Float64}(0.423529,0.4,0.298039)          RGB{Float64}(0.513725,0.470588,0.360784)\n",
       " RGB{Float64}(0.470588,0.45098,0.388235)   …  RGB{Float64}(0.509804,0.454902,0.376471)\n",
       " RGB{Float64}(0.6,0.584314,0.556863)          RGB{Float64}(0.537255,0.486275,0.415686)"
      ]
     },
     "execution_count": 42,
     "metadata": {},
     "output_type": "execute_result"
    }
   ],
   "source": [
    "rotated_random_test_example_X = rotate_right(random_test_example_X);\n",
    "showImage(rotated_random_test_example_X)"
   ]
  },
  {
   "cell_type": "code",
   "execution_count": 43,
   "metadata": {},
   "outputs": [
    {
     "data": {
      "text/plain": [
       "0.0"
      ]
     },
     "execution_count": 43,
     "metadata": {},
     "output_type": "execute_result"
    }
   ],
   "source": [
    "rotated_random_test_example_X_4d = convert(Array{Float64,4},reshape(rotated_random_test_example_X, 32, 32, 3, 1));\n",
    "accuracy(rotated_random_test_example_X_4d, random_test_example_Y)"
   ]
  },
  {
   "cell_type": "code",
   "execution_count": 44,
   "metadata": {},
   "outputs": [],
   "source": [
    "w1 = params(m)[1];"
   ]
  },
  {
   "cell_type": "code",
   "execution_count": 45,
   "metadata": {},
   "outputs": [
    {
     "data": {
      "text/plain": [
       "my_init (generic function with 1 method)"
      ]
     },
     "execution_count": 45,
     "metadata": {},
     "output_type": "execute_result"
    }
   ],
   "source": [
    "function my_init(k1,k2,ch1,ch2)\n",
    "    Tracker.data(w1)\n",
    "end"
   ]
  },
  {
   "cell_type": "code",
   "execution_count": 46,
   "metadata": {},
   "outputs": [
    {
     "data": {
      "text/plain": [
       "Chain(Conv((2, 2), 3=>16, NNlib.relu), getfield(Main, Symbol(\"##15#16\"))())"
      ]
     },
     "execution_count": 46,
     "metadata": {},
     "output_type": "execute_result"
    }
   ],
   "source": [
    "m_final = Chain(\n",
    "    Conv((2,2), 3=>16, relu, init= my_init),\n",
    "    x -> maxpool(x, (2,2))\n",
    ")"
   ]
  },
  {
   "cell_type": "code",
   "execution_count": 47,
   "metadata": {},
   "outputs": [
    {
     "data": {
      "text/plain": [
       "displayChannels (generic function with 1 method)"
      ]
     },
     "execution_count": 47,
     "metadata": {},
     "output_type": "execute_result"
    }
   ],
   "source": [
    "function displayChannels(output_conv)\n",
    "    imgChannels=[]\n",
    "    for j=1:size(output_conv, 3)\n",
    "        ch = output_conv[:, :, j];\n",
    "        imgrgb = convert(Array{ColorTypes.Gray,2}, Tracker.data(ch))\n",
    "        push!(imgChannels,imgrgb)\n",
    "    end\n",
    "    [imgChannels...]\n",
    "end"
   ]
  },
  {
   "cell_type": "code",
   "execution_count": 48,
   "metadata": {
    "scrolled": false
   },
   "outputs": [
    {
     "data": {
      "text/html": [
       "<table><tbody><tr><td style='text-align:center;vertical-align:middle; margin: 0.5em;border:1px #90999f solid;border-collapse:collapse'><img style='max-width: 100px; max-height:100px;display:inline' src=\"data:image/png;base64,iVBORw0KGgoAAAANSUhEUgAAAGkAAABpCAAAAAAc6VLmAAAABGdBTUEAALGPC/xhBQAAACBjSFJNAAB6JgAAgIQAAPoAAACA6AAAdTAAAOpgAAA6mAAAF3CculE8AAAAAmJLR0QA/4ePzL8AAAGpSURBVGje7ZrLasMwFETlREn6bhaFQv//+4pLaZqHY3dxx9ADwmRlYzN3c7AleSQxvkiyq4+UUkppE2jS/2gDVeAON4VVoAt8ocEV7VZprLCSlRj5JXgJtLhSdIDeh3PgFGjQb74r17HHZCUrMbIcKXuvoa+bh4By8hXoSmCCP489JitZiZH3QTmSqVlOvgC0fsbTTniYmvPNGSGsZCVG1hpauEehDC231uhbhSq/gXeUHVC2xNmz0jyU8lBhhStlaO4+GQd0X8nfudxKEyv1Lm+AE+r8BLTt3KJMNR8CXPdoQe4zFitNrNS7XHm3Dsim8rWScYsyxTHwjH6vUcW53EoTK/UuV4Z+Cyh7y8Jcnit4dngs9VsNdmOPyUpWYvQuXwOvgafAZ0DpvkP7Fo8Rip5f4uxZaR5K5d2ntp20fnH3KexQsw5s8bAlzp6V5qF0yxlLxtXQdyAevGwmGpOVrMTIN9QpfhDllVYz3wEdrmhL6lxupYmVBl3OfF38k2sf4GfOx9Ioljh7VpqHUtnl8rV2kfp4uUHfVEW+5h9Zxf+zljh7VpqH0h8QUWadroFZtAAAAABJRU5ErkJg\"></td><td style='text-align:center;vertical-align:middle; margin: 0.5em;border:1px #90999f solid;border-collapse:collapse'><img style='max-width: 100px; max-height:100px;display:inline' src=\"data:image/png;base64,iVBORw0KGgoAAAANSUhEUgAAAGkAAABpCAAAAAAc6VLmAAAABGdBTUEAALGPC/xhBQAAACBjSFJNAAB6JgAAgIQAAPoAAACA6AAAdTAAAOpgAAA6mAAAF3CculE8AAAAAmJLR0QA/4ePzL8AAAHTSURBVGje7ZlLa8MwEITlRnn0CTmUXtpL//8f6wvSQtM4jtMe5jN0wIScEiR2L4OktcZaxstq3TynlFJKc0GX/lsvaATXgl/BXjCx0Ye5/NhzF+lUFkzB5Jbvha1gPzZC5TvBpbmsBdsxz2yjGqMXTGUwZfSJFKcCz9ArwZVNdja6GBthm1OfKZiCyS0/CNEnRQbS72ySEd/Dt4DvgRplY6OtHabG6AVTGUyZIgO13thib/AimJoLX8en4Mk2+xKsTn2mYAomt3xokS/A75vAztYwxI7KW6OoMXrBVAZTRqaUI5Qca/MhJ1OXLwTeR7kTkPVb22x+6jMFUzC5DRULwnwVoGt6gCRjr70xVE4ZMxOQyzt7vMboBVMZTEMuJ+E+ClA5N0xvL2LeH8TTS5zOtq4xesFUBtOQy2c2izCXgjcBoqUq8fJ8YbtQnjcGNUYvmMpgGr99NrbozXASNWL3X0UULtQ93mWsMXrBVAbTMT0WfNA1KR3tTuyFe1ub2y41Ri+YymA6qHLU6j9E/Vemp/R3ARX8rXnWGL1gKoMpH+GDkv1XJil9aS7sRl9xcqYzBVMwuQ09lsZmmaRzwmWSGyaC5qJJnm/tvXsbRV0eTGdm+gMRhnItm9HwoQAAAABJRU5ErkJg\"></td><td style='text-align:center;vertical-align:middle; margin: 0.5em;border:1px #90999f solid;border-collapse:collapse'><img style='max-width: 100px; max-height:100px;display:inline' src=\"data:image/png;base64,iVBORw0KGgoAAAANSUhEUgAAAGkAAABpAQAAAAAR+TCXAAAABGdBTUEAALGPC/xhBQAAACBjSFJNAAB6JgAAgIQAAPoAAACA6AAAdTAAAOpgAAA6mAAAF3CculE8AAAAAmJLR0QAAd2KE6QAAAAVSURBVDjLY2AYBaNgFIyCUTAKcAIABicAAUZAVxIAAAAASUVORK5C\"></td><td style='text-align:center;vertical-align:middle; margin: 0.5em;border:1px #90999f solid;border-collapse:collapse'><img style='max-width: 100px; max-height:100px;display:inline' src=\"data:image/png;base64,iVBORw0KGgoAAAANSUhEUgAAAGkAAABpCAAAAAAc6VLmAAAABGdBTUEAALGPC/xhBQAAACBjSFJNAAB6JgAAgIQAAPoAAACA6AAAdTAAAOpgAAA6mAAAF3CculE8AAAAAmJLR0QA/4ePzL8AAAGHSURBVGje7ZnBasMwEETlWk6a0kKh//+ZCWkcxT3s5PCKCD7ZSMxeBlnajLQMy0gZflJKKaUc8AhYAIoJS+4Bb1h5RcIYcMDKDcJMZmLkj0CJVmql2KnkESPlFfyo0jPmeqyemdpgytQ1+YeAO0YJHwuA6QUre6yemdpgysdA2Yo5gL1cIbXeAs4BI6AgnYfpsXpmaoNJruLZqA+1NVdAQYJC0v/G9n8x12P1zNQGU16xhhZ8ACwYUdAFFD1Wz0xtMGWqlVZaccGmJoAS5FhkVWbMvW99JjOZiZHZqOlK2KjVk2ndlfcVILFPmLMvN9POTE/HIn2eAqRkGRAKWsFXRlqVAXl2LGbamenf7ZNPJurJek6ZkVh1Ovw47nQmM5mJ8fL2OWI37ND8e5Rm/YyR//s0085Ma95YqvdN+Rc1eDZxWpXNz2QmMzHWqJxP48uLEb0N3xx7rJ6Z2mCqq5y61m4eAMVnLf1YO0WP1TNTG0x1ldN56HmRF9SEEW+f1ZU9Vs9MbTD9AZIQXMl5d0qqAAAAAElFTkSuQmCC\"></td><td style='text-align:center;vertical-align:middle; margin: 0.5em;border:1px #90999f solid;border-collapse:collapse'><img style='max-width: 100px; max-height:100px;display:inline' src=\"data:image/png;base64,iVBORw0KGgoAAAANSUhEUgAAAGkAAABpCAAAAAAc6VLmAAAABGdBTUEAALGPC/xhBQAAACBjSFJNAAB6JgAAgIQAAPoAAACA6AAAdTAAAOpgAAA6mAAAF3CculE8AAAAAmJLR0QA/4ePzL8AAAGkSURBVGje7ZoxT8MwFITtxKUUsbCw8P//XgegUJo0YXhXiU+yqk6mie6WU+z3crZ1cWwn+S2llFIqQWPQHHRG3SZoQGRGwiH9xQ55XWoFK1mJKLKiDD2BEupk9ocg+XpASIf0uVbXAFayElHkQTlSFqZNBxRqEj8GMZ3NH0FrHD0rLUOpPAfLpidccWaXW7+DPoL0WGjhIs/3SNi27pOVrEQU+VO0rcXIrfI1nTwj5BWFmu6n1n2ykpWIcq2SC2vuNzuEqJC7TyU8tu6TlaxEXFwuJw8g4TNIZyUZV4rUO4Aze4bEGkfPSstQurice0q6XBaeEMIJfod297hL17pPVrISUTT9ypjai/4EnUA0rfL0lBxRl5HHJ6ABrGQlonBZIcjzmsT3QWeE8Bim2u7NP/XJSlYi6rtPWb9Ha3Q11SK5w3wPeqrdpQGsZCWi3BCjM3EtweVyLmqqpzG89xpHz0rLULrF5YyRy3nOrkIdqY+1kDWOnpWWoXTV5fwVi5/9RS9B/FREat4nK1mJKPwDhb7WquQriF87ubUcEWKXW+mulH4BBrVoo95sLEYAAAAASUVORK5C\"></td><td style='text-align:center;vertical-align:middle; margin: 0.5em;border:1px #90999f solid;border-collapse:collapse'><img style='max-width: 100px; max-height:100px;display:inline' src=\"data:image/png;base64,iVBORw0KGgoAAAANSUhEUgAAAGkAAABpCAAAAAAc6VLmAAAABGdBTUEAALGPC/xhBQAAACBjSFJNAAB6JgAAgIQAAPoAAACA6AAAdTAAAOpgAAA6mAAAF3CculE8AAAAAmJLR0QA/4ePzL8AAAG/SURBVGje7ZlLa8MwEISlRklpSugDeumh///H9U2b5mn3MBPoByb0JJDYvQwrrTySGK9Xcn5KKaWUFoJD+msDvCUa94KZYBS8Y4AbrwQXqZYFUzDRyp1wJxjh2bLgKJgLBkTuEHnAKuhVsGAKJlqxdinFBWK+BZT3HuPc6JeECX5Te03BFEy0ciu0TLcCS/gIz4J22v70eEx4i4d5+Kz2moIpmGjFRYal6Np7BFi0z4IMcN9a8IiHfQF63L1gaoOpTLbmqcYj5jZMRbq2scp3oOhx94KpDaaTylmcbBDj4sTF+qXgWuAaZSUYMNx9y9prCqZgop1UbkW+CSxTVtQZfTxa+qZmDsig6HH3gqkNpmK1OlE/CFxK/wic55ngWb+s4fHqMddeUzAFE60w4dqcml2HvAic7kdE8pw6QyQ13+PuBVMbTGdPn2Uqhhcvztd+H/xF+IB3UXtNwRRMtHKu02J3me1Ezd/+AybMn0P8t9Tj7gVTG0zlHzGWN6tt6trwKnAFf4NxPe5eMLXBdFblLMH38Cz2e4FV7vdhBa/6moIpmGjTKre8fYr0jcsccxsx3m9ARh+/AT3uXjC1wfQLHEhkqaiAPPgAAAAASUVORK5C\"></td><td style='text-align:center;vertical-align:middle; margin: 0.5em;border:1px #90999f solid;border-collapse:collapse'><img style='max-width: 100px; max-height:100px;display:inline' src=\"data:image/png;base64,iVBORw0KGgoAAAANSUhEUgAAAGkAAABpCAAAAAAc6VLmAAAABGdBTUEAALGPC/xhBQAAACBjSFJNAAB6JgAAgIQAAPoAAACA6AAAdTAAAOpgAAA6mAAAF3CculE8AAAAAmJLR0QA/4ePzL8AAAGpSURBVGje7ZlLa8MwEIRlV3aTUGiht176/39cKX3XteP0sF+gU0TwycZm9jLosRpLjJfVqnpMKaWUcsAQcJIWY9fSeQyoA8aAl/TXGvGr01xmJjOp5ZtAtNsHIOGTtIA2oBMH4EpmJll6i6dnpnUwZTRIMCbuqsq/pdVL5yCrjfL5ozhs8fTMtA6mfBuIhInQ6BOxDwI/AW8BrayGOymOBvgtnp6Z1sGUq0BgL4Oanj9LZy2tr4AHWewzoJt7T2Yyk1qeMEcjeyVjmnS/yhTGmrn3ZCYzqZ1VjoQ7AQztaq2EFvnLLkAzceK8MxYzLcx0VjnC/AggASEmI2gkrKk7l1BUXgzbVrmZFmbKincBiBYJ8wdocoLKuX3qbwHwP7hebqaFmf6pHCMmHwKeArhMkoegcn04wq+XzmruPZnJTGoXb5/kGirTsTRzLw5UGXfit8XTM9M6mKbUWFqZ2ssYmi++kjYL7clMZlKbonLUSkgv1svRNdUYfe10xmKmhZmmqFwjNKIliN9Li4zlIK3Z92QmM6ldVDmVk/eAomj1AagYvR3LzbQw0y/TJWOHHVEXTwAAAABJRU5ErkJg\"></td><td style='text-align:center;vertical-align:middle; margin: 0.5em;border:1px #90999f solid;border-collapse:collapse'><img style='max-width: 100px; max-height:100px;display:inline' src=\"data:image/png;base64,iVBORw0KGgoAAAANSUhEUgAAAGkAAABpAQAAAAAR+TCXAAAABGdBTUEAALGPC/xhBQAAACBjSFJNAAB6JgAAgIQAAPoAAACA6AAAdTAAAOpgAAA6mAAAF3CculE8AAAAAmJLR0QAAd2KE6QAAAAVSURBVDjLY2AYBaNgFIyCUTAKcAIABicAAUZAVxIAAAAASUVORK5C\"></td><td style='text-align:center;vertical-align:middle; margin: 0.5em;border:1px #90999f solid;border-collapse:collapse'><img style='max-width: 100px; max-height:100px;display:inline' src=\"data:image/png;base64,iVBORw0KGgoAAAANSUhEUgAAAGkAAABpCAAAAAAc6VLmAAAABGdBTUEAALGPC/xhBQAAACBjSFJNAAB6JgAAgIQAAPoAAACA6AAAdTAAAOpgAAA6mAAAF3CculE8AAAAAmJLR0QA/4ePzL8AAAGiSURBVGje7ZrNasMwEITlWqkDhUIPpe//gj2kP0kdOe5hx4cPRGkvLhKzl2GtlcdaJstKyvCSUkop5YASMATc4B0RwjHZOzyN3Qfcpb3MTGai5YdAarcq9jXgEDAHXAMWTND0EdN7zJ6Z2mDK0qckPIJf+rwgpAAWRPItsnnvNZnJTLT8GCiZzvAkYdXrgpCz5uNtMzxNd8dipn9m2lSq8nvEoEqzVP6BsQEhXwHPCNEPoey9JjOZiZap1p9srXlsyM/w2J73mD0ztcG01XKpVcK8IkbalVq1+5wCZjxk31Mw1mP2zNQGU2ZX8gZPutYvodq6K3JCpOZdsJges2emNpi2Wq6C+xTwGSBBLwDZii+loAdMGPZek5nMRNv6cp6V6OBFMn3F2FoDfbCKeHW/2WP2zNQGU64+lfRHAPepAjUuPC3UFeiEeT1mz0xtMOXfx/Aynypnj3KrvbvH7JmpDaa/q5z3m7wJPcFjl95j9szUBlNd5Twa500oL/PZwR8ALP49Zs9MbTBlCprC1MmJLjar2uUfuvTd3JLuviYzmYn2DXCaZ4b+olokAAAAAElFTkSuQmCC\"></td><td style='text-align:center;vertical-align:middle; margin: 0.5em;border:1px #90999f solid;border-collapse:collapse'><img style='max-width: 100px; max-height:100px;display:inline' src=\"data:image/png;base64,iVBORw0KGgoAAAANSUhEUgAAAGkAAABpCAAAAAAc6VLmAAAABGdBTUEAALGPC/xhBQAAACBjSFJNAAB6JgAAgIQAAPoAAACA6AAAdTAAAOpgAAA6mAAAF3CculE8AAAAAmJLR0QA/4ePzL8AAAFhSURBVGje7ZnbisUgDEVjLzAM8//fei7TOg+mMOsQxCeLsvMSWqNLZZ+Q5qQfMzOzpbjT/lsuLhW3IiRHkW+8XDBvsV4mkki0bS8+lDefMvZ2YJ67VFlsxtsTaQzSFkqYKmf2znh5RosmRB69zySSSLQrl7u5InPFecg72mktic94eyKNQdr4uEYxrtYnnhJCfov7xpi/VC4X6WbS1hDDXG7RE3XtduIwM96eSGOQLpXXqu0XNsWOiyfqPVqFh5nx9kQag/ShchYZbitCOHZgGQqakTPenkhjkC6Ve4bewW/oFrJUYbHuIeqXi3Qz6UPlCXwffBSXo/lheR52yGe8PZHGIFW/PlPkwm9R5usH1uYvp4OJJBKtpcfCD03Km12V8C+m7mcSSSRai8pZbdcKF+/GnNG8GW9PpDFILSp3C/8J/SqOvUOWKqpYRLqZVFW51yhsoHBvYb5OlbEOJpJItD+wnlfGmgVEZwAAAABJRU5ErkJg\"></td><td style='text-align:center;vertical-align:middle; margin: 0.5em;border:1px #90999f solid;border-collapse:collapse'><img style='max-width: 100px; max-height:100px;display:inline' src=\"data:image/png;base64,iVBORw0KGgoAAAANSUhEUgAAAGkAAABpAQAAAAAR+TCXAAAABGdBTUEAALGPC/xhBQAAACBjSFJNAAB6JgAAgIQAAPoAAACA6AAAdTAAAOpgAAA6mAAAF3CculE8AAAAAmJLR0QAAd2KE6QAAAAVSURBVDjLY2AYBaNgFIyCUTAKcAIABicAAUZAVxIAAAAASUVORK5C\"></td><td style='text-align:center;vertical-align:middle; margin: 0.5em;border:1px #90999f solid;border-collapse:collapse'><img style='max-width: 100px; max-height:100px;display:inline' src=\"data:image/png;base64,iVBORw0KGgoAAAANSUhEUgAAAGkAAABpCAAAAAAc6VLmAAAABGdBTUEAALGPC/xhBQAAACBjSFJNAAB6JgAAgIQAAPoAAACA6AAAdTAAAOpgAAA6mAAAF3CculE8AAAAAmJLR0QA/4ePzL8AAAGiSURBVGje7Zk7b8MwDITlRO5rCDq1//8nJugrdix34GX4CiHopEDGcTmIoXyhcGYoZnhPKaWUxoAlYKitngKmgDVgh9UnNggeEdnAzGQmWj4EXuC94GtIrVKyRDshsrqdb84WT89MfTBlaVfC1GqPmHPNWQIWQEKkHja1zslMZqLll0C2I9T8Aucc8BEw4gvPiNRvwL51TmYyEy1Tis8BK0Bl+4QVG/LvgLcAPfMr4Nw6JzOZiZa5XLHiLZJ3UVnBPjYnBRRbPD0z9cF0VTmbkxlONScq97p9qupL1+p71Kqoehd8tsXTM1MfTFeVq+XQKLAgRvJWEZ8QovfhgJCHAN5at3h6ZuqDKXM+KNFL85IpC3yCU/aD7TI9emidk5nMRPtz+xRociJdHwOk6+rfQWzPGWKVm+nOTLnqZeehGAqa40V16Xo7Tti3a52TmcxEy/+IGRHKkl6t7JR+85zMZCbaTZWzsRYUrBY4VcQ5UHTHYqY7M91U+YAYClr2GrAisjoh3+LpmakPpsx6LeP0XBMXDhSpaw7YEzY0z8lMZqL9AssXaa5km+ubAAAAAElFTkSuQmCC\"></td><td style='text-align:center;vertical-align:middle; margin: 0.5em;border:1px #90999f solid;border-collapse:collapse'><img style='max-width: 100px; max-height:100px;display:inline' src=\"data:image/png;base64,iVBORw0KGgoAAAANSUhEUgAAAGkAAABpCAAAAAAc6VLmAAAABGdBTUEAALGPC/xhBQAAACBjSFJNAAB6JgAAgIQAAPoAAACA6AAAdTAAAOpgAAA6mAAAF3CculE8AAAAAmJLR0QA/4ePzL8AAAG7SURBVGje7ZrLasMwEEX9kENqSqGULrPo//9ZF20a+orjJF3cm8UBUbJykJjZXGRrcixxJcZy2pemaZqmGSQHyVlyknSSUTKjZ4eEd0kr6SVr9FwgghQkRnqQ2rQzxHGEeD14BeyR3iO9Q16NsxekMkjJjrRpbWG71Tv0N1qThPY+ogvTf5YeU5CCxEiPUjvyV2LTegVMOdlJvCxapPvxvQJWS48pSEFiJKJGtGx9m/0NF1mQe7vfSOz5T8l+6TEFKUiMZD3/08f3vMG3uYuuUXZ4/AmIGmcvSGWQLi5nceLt14ZmceIC5E7iGsXnKHwlnXGvxtkLUhmk5D3ZNfRWYu96h+apCkt3G3pEzx6IfukxBSlIjMtebn8+S74kPh05QFixJCR06DKjVePsBakMUrIHB1x1617yKjlDHPxw5DwW5OHyIN2YlLJXW9xkyeFS5QRZI2ErGZFX4+wFqQxSuqKP3zdtdvvaC4EHL/zEtLrRmIIUJMY1LueXH56XO1yjfKDFKr3G2QtSGaS8y1l7838sPCh/ksz4teypSo2zF6QySImGbtHyyYk/bHJBDLknzR4hxl4epBuT/gBOF2d3QX6oaAAAAABJRU5ErkJg\"></td><td style='text-align:center;vertical-align:middle; margin: 0.5em;border:1px #90999f solid;border-collapse:collapse'><img style='max-width: 100px; max-height:100px;display:inline' src=\"data:image/png;base64,iVBORw0KGgoAAAANSUhEUgAAAGkAAABpCAAAAAAc6VLmAAAABGdBTUEAALGPC/xhBQAAACBjSFJNAAB6JgAAgIQAAPoAAACA6AAAdTAAAOpgAAA6mAAAF3CculE8AAAAAmJLR0QA/4ePzL8AAAHkSURBVGje7ZpLSwMxFIUzNWqrFusDEdy406X//9+IbqpC66P2pa2L8xU8MBRXkRnu3XxMmjsnCTeXm0yru5RSSqkrLIS18C1UwsB+WwnZej6m3zY2v04qZaEUSm75SpwKhPCHQCQT5eyAvvApvJp7x3ruC8vScwqlUHLLc/FLIDB3BDL0UDi2np71cZjZ8Mnzk9JzCqVQcsvXImn7XZgZvHFpjdncJ/bEBqpKzymUQsktd0zxRPC6nLi+F3rmT5cn4UbYFV6EYek5hVIoueXa1srg500qlqU1YgQ7UT61pzauXig1QykTwpQjlBxjG8ZI4Nh5ZP5vwqnADuBkSlHTKz2nUAolt00uJ+9SlTwL1C8kY4oTNgJ5ntsYTq1deyk7Z6/0nEIplNw2UX4g3Arnwlgg3c/NcWEjHdWNG4fI5aH0z0qZnNy1VmL+UngQCFoKci/PDwUCemgvizuWUPpnpa2nT0oVLsOJ69r7l745TM1vXXpOoRRKbnnbj5X1IcpJ6UT5to3gd45tXL1QaoZS/kMfP1Ny+iSuFwb+x8Idy8B6tnH1QqkZSvVRvjZQlfjne54uBKKczH5W9+42rl4oNUNpc19eWSuN3JzwDZMjKaUK5QjXhMQ8aXtVN4s2rl4oNUPpBw/BbwlGr9AaAAAAAElFTkSuQmCC\"></td><td style='text-align:center;vertical-align:middle; margin: 0.5em;border:1px #90999f solid;border-collapse:collapse'><img style='max-width: 100px; max-height:100px;display:inline' src=\"data:image/png;base64,iVBORw0KGgoAAAANSUhEUgAAAGkAAABpCAAAAAAc6VLmAAAABGdBTUEAALGPC/xhBQAAACBjSFJNAAB6JgAAgIQAAPoAAACA6AAAdTAAAOpgAAA6mAAAF3CculE8AAAAAmJLR0QA/4ePzL8AAAGzSURBVGje7ZnBasMwEETlWElq2kNLzoX+/6+1hxTSJqntpIcdQx+I4pNCzMxlkLTyeM14WdnNW0oppbQJ6tNfDEFtUIcQrl2D9tiegx6CVqkWrGQlIj8Hn4MGkCALj0FbrGlfj/vm9qF2TlayEpHlz4uGQazQxyCVe5mW9h6xYYVJvgEVYCUrEfklWC4/BY2gHvQTtA/a4IbPuPZQCqkAK1mJyE2wqvdj0BUks39gkuX+K+g1SNc8BJ1q52QlKxH5v0W5VU6+lCZHTB4wUtVf187JSlYiJpfLrTImO4/PILlVDUiHSE1eMKkWZ1s7JytZiZhcLmPK0GoyVJNlb1n4iJEiO0SuEdnWzslKViKyOg8V412Q2mzZVKdI1XlZnx9lvnHfClEt72rnZCUrEdPpk/25ivFT0DvW9FqwPeeRdChdc4lPz0r3oVQ+fdL6LSZ5FhWxY9FrwZ+eS3x6VroPpTnfWDYI7bE2lkYj9jW1c7KSlYg8P4a1fIWRehQdXs8IscutdGOlOS4X5GR+KN9hkv+W2hvlZCUrEWWXy7SqyfrXo6a72LMXqzf7+SU+PSvdh9IvqTBlgrzh6KMAAAAASUVORK5C\"></td><td style='text-align:center;vertical-align:middle; margin: 0.5em;border:1px #90999f solid;border-collapse:collapse'><img style='max-width: 100px; max-height:100px;display:inline' src=\"data:image/png;base64,iVBORw0KGgoAAAANSUhEUgAAAGkAAABpCAAAAAAc6VLmAAAABGdBTUEAALGPC/xhBQAAACBjSFJNAAB6JgAAgIQAAPoAAACA6AAAdTAAAOpgAAA6mAAAF3CculE8AAAAAmJLR0QA/4ePzL8AAAG6SURBVGje7ZrBTsMwEEST1A1QQEJIcObC/38XFwgU2tAkwGEnhydFUU8OrWYvo7UdTxyNR2u35XNRFEVR1AFdwA+gCtgEDAHfASuMfA0o0XeFWTKEmczESHeBEq1U3mPMLxq1Hyh2ar7HKphlCDOZiZGkQSlZEk4BcugdskPAPoDmr1lWoNjlXpOZzMRI94GSaRsgo+4BHaAJWOOF98g0MuVek5nMxEisoa/RKWuW5l/QWCH7CHhC3zbAXm6mhZnSXCdVPuDdWKNomiZAW0bFOu0+Q5jJTIxR5aouWHTL598DaoBuTlpkA2ZRdpl7TWYyE2NUuWrvJuArQJ4sM5Zo91OZbhkvOCmyc/x6ZjoNpsSS4yFAolVFLWvu8G5SuZz9E30lnvN9uZkWZhpPn2u0KrsN0LFTBq9tobq8xwPSvApyWvo5fj0znQbT9OmTFy8VgMdOgfxaKn8L2EzNkiHMZCbG7B2LxK5qW359QN+ATM6ujVAvtCYzmYmRjhgjeUvJ/HOLQvKWibcYUuZek5nMxDhG5fwllI2P6FNxcoMs+5rMZCbGtMpVbeuOZYuhJbJqZjafPs30P5j+ACz0ZIcN7+NbAAAAAElFTkSuQmCC\"></td></tr></tbody></table><div><small>(a vector displayed as a row to save space)</small></div>"
      ],
      "text/plain": [
       "16-element Array{Array{Gray{Float64},2},1}:\n",
       " [Gray{Float64}(0.102635) Gray{Float64}(0.121559) … Gray{Float64}(0.0545317) Gray{Float64}(0.0857388); Gray{Float64}(0.15593) Gray{Float64}(0.136964) … Gray{Float64}(0.0562959) Gray{Float64}(0.0752263); … ; Gray{Float64}(0.208525) Gray{Float64}(0.208638) … Gray{Float64}(0.0888762) Gray{Float64}(0.0998786); Gray{Float64}(0.20723) Gray{Float64}(0.208287) … Gray{Float64}(0.0966755) Gray{Float64}(0.0992004)]         \n",
       " [Gray{Float64}(0.134762) Gray{Float64}(0.160034) … Gray{Float64}(0.0548755) Gray{Float64}(0.0977069); Gray{Float64}(0.21418) Gray{Float64}(0.187019) … Gray{Float64}(0.0696685) Gray{Float64}(0.0817773); … ; Gray{Float64}(0.285576) Gray{Float64}(0.285875) … Gray{Float64}(0.102331) Gray{Float64}(0.116648); Gray{Float64}(0.283633) Gray{Float64}(0.285319) … Gray{Float64}(0.108155) Gray{Float64}(0.115402)]            \n",
       " [Gray{Float64}(0.0) Gray{Float64}(0.0) … Gray{Float64}(0.0) Gray{Float64}(0.0); Gray{Float64}(0.0) Gray{Float64}(0.0) … Gray{Float64}(0.0) Gray{Float64}(0.0); … ; Gray{Float64}(0.0) Gray{Float64}(0.0) … Gray{Float64}(0.0) Gray{Float64}(0.0); Gray{Float64}(0.0) Gray{Float64}(0.0) … Gray{Float64}(0.0) Gray{Float64}(0.0)]                                                                                               \n",
       " [Gray{Float64}(0.0761413) Gray{Float64}(0.0890808) … Gray{Float64}(0.0564169) Gray{Float64}(0.0767261); Gray{Float64}(0.112359) Gray{Float64}(0.0987285) … Gray{Float64}(0.056874) Gray{Float64}(0.0661053); … ; Gray{Float64}(0.138517) Gray{Float64}(0.138645) … Gray{Float64}(0.0810814) Gray{Float64}(0.0904858); Gray{Float64}(0.137475) Gray{Float64}(0.138453) … Gray{Float64}(0.0930101) Gray{Float64}(0.0941481)]     \n",
       " [Gray{Float64}(0.106793) Gray{Float64}(0.121567) … Gray{Float64}(0.083539) Gray{Float64}(0.10336); Gray{Float64}(0.141324) Gray{Float64}(0.128903) … Gray{Float64}(0.0776616) Gray{Float64}(0.0901044); … ; Gray{Float64}(0.178507) Gray{Float64}(0.178718) … Gray{Float64}(0.114196) Gray{Float64}(0.120742); Gray{Float64}(0.177611) Gray{Float64}(0.178296) … Gray{Float64}(0.124154) Gray{Float64}(0.124845)]              \n",
       " [Gray{Float64}(0.119368) Gray{Float64}(0.141316) … Gray{Float64}(0.0687169) Gray{Float64}(0.105602); Gray{Float64}(0.185033) Gray{Float64}(0.16158) … Gray{Float64}(0.0718081) Gray{Float64}(0.0903722); … ; Gray{Float64}(0.238942) Gray{Float64}(0.239137) … Gray{Float64}(0.109936) Gray{Float64}(0.123431); Gray{Float64}(0.237266) Gray{Float64}(0.238755) … Gray{Float64}(0.122207) Gray{Float64}(0.124011)]             \n",
       " [Gray{Float64}(0.12144) Gray{Float64}(0.139121) … Gray{Float64}(0.0775936) Gray{Float64}(0.104189); Gray{Float64}(0.16993) Gray{Float64}(0.152765) … Gray{Float64}(0.0771126) Gray{Float64}(0.0884384); … ; Gray{Float64}(0.216719) Gray{Float64}(0.217042) … Gray{Float64}(0.114607) Gray{Float64}(0.121431); Gray{Float64}(0.215415) Gray{Float64}(0.216512) … Gray{Float64}(0.123136) Gray{Float64}(0.123908)]              \n",
       " [Gray{Float64}(0.0) Gray{Float64}(0.0) … Gray{Float64}(0.0) Gray{Float64}(0.0); Gray{Float64}(0.0) Gray{Float64}(0.0) … Gray{Float64}(0.0) Gray{Float64}(0.0); … ; Gray{Float64}(0.0) Gray{Float64}(0.0) … Gray{Float64}(0.0) Gray{Float64}(0.0); Gray{Float64}(0.0) Gray{Float64}(0.0) … Gray{Float64}(0.0) Gray{Float64}(0.0)]                                                                                               \n",
       " [Gray{Float64}(0.0896905) Gray{Float64}(0.105818) … Gray{Float64}(0.0587257) Gray{Float64}(0.0819359); Gray{Float64}(0.132698) Gray{Float64}(0.118939) … Gray{Float64}(0.0541008) Gray{Float64}(0.073262); … ; Gray{Float64}(0.178485) Gray{Float64}(0.178536) … Gray{Float64}(0.0877226) Gray{Float64}(0.0952926); Gray{Float64}(0.177596) Gray{Float64}(0.178225) … Gray{Float64}(0.094098) Gray{Float64}(0.0949313)]        \n",
       " [Gray{Float64}(0.0479791) Gray{Float64}(0.0552399) … Gray{Float64}(0.0329238) Gray{Float64}(0.0434472); Gray{Float64}(0.0669044) Gray{Float64}(0.0585405) … Gray{Float64}(0.0311942) Gray{Float64}(0.0378606); … ; Gray{Float64}(0.0839429) Gray{Float64}(0.0840262) … Gray{Float64}(0.0464692) Gray{Float64}(0.049313); Gray{Float64}(0.0834392) Gray{Float64}(0.0838536) … Gray{Float64}(0.0517775) Gray{Float64}(0.0513955)]\n",
       " [Gray{Float64}(0.0) Gray{Float64}(0.0) … Gray{Float64}(0.0) Gray{Float64}(0.0); Gray{Float64}(0.0) Gray{Float64}(0.0) … Gray{Float64}(0.0) Gray{Float64}(0.0); … ; Gray{Float64}(0.0) Gray{Float64}(0.0) … Gray{Float64}(0.0) Gray{Float64}(0.0); Gray{Float64}(0.0) Gray{Float64}(0.0) … Gray{Float64}(0.0) Gray{Float64}(0.0)]                                                                                               \n",
       " [Gray{Float64}(0.0888475) Gray{Float64}(0.108845) … Gray{Float64}(0.0661512) Gray{Float64}(0.0927905); Gray{Float64}(0.143804) Gray{Float64}(0.130528) … Gray{Float64}(0.0663497) Gray{Float64}(0.0822638); … ; Gray{Float64}(0.183251) Gray{Float64}(0.183318) … Gray{Float64}(0.0966031) Gray{Float64}(0.106288); Gray{Float64}(0.182191) Gray{Float64}(0.183178) … Gray{Float64}(0.108998) Gray{Float64}(0.109578)]         \n",
       " [Gray{Float64}(0.129199) Gray{Float64}(0.149272) … Gray{Float64}(0.0819503) Gray{Float64}(0.115236); Gray{Float64}(0.183287) Gray{Float64}(0.163038) … Gray{Float64}(0.0778534) Gray{Float64}(0.101017); … ; Gray{Float64}(0.24125) Gray{Float64}(0.241401) … Gray{Float64}(0.123241) Gray{Float64}(0.13403); Gray{Float64}(0.239807) Gray{Float64}(0.240907) … Gray{Float64}(0.134342) Gray{Float64}(0.135564)]               \n",
       " [Gray{Float64}(0.186588) Gray{Float64}(0.221115) … Gray{Float64}(0.0678737) Gray{Float64}(0.128709); Gray{Float64}(0.295358) Gray{Float64}(0.25902) … Gray{Float64}(0.0940384) Gray{Float64}(0.108218); … ; Gray{Float64}(0.398763) Gray{Float64}(0.399132) … Gray{Float64}(0.133406) Gray{Float64}(0.153808); Gray{Float64}(0.396017) Gray{Float64}(0.398339) … Gray{Float64}(0.140296) Gray{Float64}(0.151913)]              \n",
       " [Gray{Float64}(0.125558) Gray{Float64}(0.147446) … Gray{Float64}(0.0850059) Gray{Float64}(0.117304); Gray{Float64}(0.186519) Gray{Float64}(0.162686) … Gray{Float64}(0.084974) Gray{Float64}(0.101259); … ; Gray{Float64}(0.239017) Gray{Float64}(0.239253) … Gray{Float64}(0.126367) Gray{Float64}(0.13725); Gray{Float64}(0.237564) Gray{Float64}(0.238828) … Gray{Float64}(0.138315) Gray{Float64}(0.139923)]               \n",
       " [Gray{Float64}(0.146529) Gray{Float64}(0.167911) … Gray{Float64}(0.0890422) Gray{Float64}(0.126073); Gray{Float64}(0.207104) Gray{Float64}(0.181856) … Gray{Float64}(0.0870313) Gray{Float64}(0.108211); … ; Gray{Float64}(0.267105) Gray{Float64}(0.267366) … Gray{Float64}(0.135144) Gray{Float64}(0.14653); Gray{Float64}(0.2653) Gray{Float64}(0.266774) … Gray{Float64}(0.148557) Gray{Float64}(0.149691)]                "
      ]
     },
     "execution_count": 48,
     "metadata": {},
     "output_type": "execute_result"
    }
   ],
   "source": [
    "output_conv = m_final(random_test_example_X_4d);\n",
    "displayChannels(output_conv)"
   ]
  },
  {
   "cell_type": "code",
   "execution_count": 49,
   "metadata": {},
   "outputs": [
    {
     "data": {
      "text/html": [
       "<table><tbody><tr><td style='text-align:center;vertical-align:middle; margin: 0.5em;border:1px #90999f solid;border-collapse:collapse'><img style='max-width: 100px; max-height:100px;display:inline' src=\"data:image/png;base64,iVBORw0KGgoAAAANSUhEUgAAAGkAAABpCAAAAAAc6VLmAAAABGdBTUEAALGPC/xhBQAAACBjSFJNAAB6JgAAgIQAAPoAAACA6AAAdTAAAOpgAAA6mAAAF3CculE8AAAAAmJLR0QA/4ePzL8AAAFtSURBVGje7ZpBS8NAEIU36USLIngT/P9/rfeKGFttjYf5cniwingoo7y5PNJN+HbK5DG7m+GxtdZa26Z8iIwpS8pTypByluemlF37OsZ2qTDJJI2goKlkqvUt5Zhykkmd5HmKPSrlZJJJGvGeiiefRZaeqMHzPlxVyskkkzQC96bYcfaZQbkVZ6e8eRE2clUjJ5NM0oib1L2A6b2p+deUBxmbZWyolJNJJmmsdo1D6+pTY5a5Yf54uavcpMKkeEmlcdH+mh4Fu1/kRxrybcGcTDJJIzBj3Psog4eUO5nURm6xl5tUnxS6/U3o3uGhNykeuE5xlZtUmBQ05rTZiwxi8CHSrflSOZlkksbasXRXnwh+zZ37FDr4H5j4xXMyySSN1cup1u/OgXTjZaqbk0kmaaxerpWsV3QzzylsrrAktZebVJ8U+LV+nUJ536foMeftL6f4H/89k/4GKTi8nARM6evx/di7qpiTSSZpfAJjDUy/wZFfVQAAAABJRU5ErkJg\"></td><td style='text-align:center;vertical-align:middle; margin: 0.5em;border:1px #90999f solid;border-collapse:collapse'><img style='max-width: 100px; max-height:100px;display:inline' src=\"data:image/png;base64,iVBORw0KGgoAAAANSUhEUgAAAGkAAABpCAAAAAAc6VLmAAAABGdBTUEAALGPC/xhBQAAACBjSFJNAAB6JgAAgIQAAPoAAACA6AAAdTAAAOpgAAA6mAAAF3CculE8AAAAAmJLR0QA/4ePzL8AAAGOSURBVGje7ZrBTgJBEERnoRXRaPQDvPj/3+Rdo4maqICseKjHoRJMOJGBVF8qwy68GdJUamYZHlprrbUryUbyK5na6NVu+bb3zSWP7f+atENVSCF51ShdS+jWpeRLspIMdmfZaNPTmkIKyato6EsJtv1jo8muEbWQzHtaU0ghedVMSl9jzZ8SEgtGvbDRyma67mlNIYXkVbfSJ8mZXcS93yX3Elr/Q/K294RP8dsL6ThI5ftNZGfaptnpcpIO8XzoaU0hheRVeDK5/ELi5yg3EvaptDf5hcCTLg+pY1Jhxp69KbqcGHMuwcsJ8tXhmkIKyatALe3VtU2DvSh+ze+BLp/tPeFT/PZCOg5ScQZI05JKPJ4TY/By4vlg0tWaQgrJq/wwHKPe+aiI4PIs8VPGPBUKqWPSNpfT11g6TTu12Yx2bf9t58HXFFJIXoVD09AL47ulv0hI8Nd2Z85YQuqYtP0fiz/KxNLvJNyC63OuOLWPSWIJqWNSsZlkh0lDs9HE55c2qdFGtHe8PKSOSX/+cVhwk47dGQAAAABJRU5ErkJg\"></td><td style='text-align:center;vertical-align:middle; margin: 0.5em;border:1px #90999f solid;border-collapse:collapse'><img style='max-width: 100px; max-height:100px;display:inline' src=\"data:image/png;base64,iVBORw0KGgoAAAANSUhEUgAAAGkAAABpAQAAAAAR+TCXAAAABGdBTUEAALGPC/xhBQAAACBjSFJNAAB6JgAAgIQAAPoAAACA6AAAdTAAAOpgAAA6mAAAF3CculE8AAAAAmJLR0QAAd2KE6QAAAAVSURBVDjLY2AYBaNgFIyCUTAKcAIABicAAUZAVxIAAAAASUVORK5C\"></td><td style='text-align:center;vertical-align:middle; margin: 0.5em;border:1px #90999f solid;border-collapse:collapse'><img style='max-width: 100px; max-height:100px;display:inline' src=\"data:image/png;base64,iVBORw0KGgoAAAANSUhEUgAAAGkAAABpCAAAAAAc6VLmAAAABGdBTUEAALGPC/xhBQAAACBjSFJNAAB6JgAAgIQAAPoAAACA6AAAdTAAAOpgAAA6mAAAF3CculE8AAAAAmJLR0QA/4ePzL8AAAFoSURBVGje7ZnBToRAEERnlsb1oImJ//+Fntfo6oKHLhJfgrvoAQdSdakMA3kzpOg0UJ9LKaWUPm1I+0w7pI1pb+W7urS7tJr2Un7Woawlk0yiQvlUkjuMFPYLrtCDEJjrWtqTSSZRodBWHGW8mfIDDurMY0t7MskkKlSTldZz2imtgynXw9xK+5b2ZJJJVCifarqVZFZ2Rf8Ja3vHXC03tce7Z9I2SMEWvMJGjM5Ym56HWLzgPd49k7ZBilcQexhfLdWqfGDuPs213KSGSdM3FtVkRZgfFB/TFPYec1qpU25SwySlewqtNGIZbFUUaH5QbGpPJplEBYu4xL78MndwwRfy/9qTSSZRMVuhRxib9RNG/PfZxp5MMomK2fdN9S8q8Cziv25VVt+TSSZRwSo8XhmpiDP6C4r46nsyySRq6lgGmPQwd8Xxj0vc490zaRuk0E9P1WS+U/LXfr1y5lhuao93z6RtkL4AyQhD6LeEkmQAAAAASUVORK5C\"></td><td style='text-align:center;vertical-align:middle; margin: 0.5em;border:1px #90999f solid;border-collapse:collapse'><img style='max-width: 100px; max-height:100px;display:inline' src=\"data:image/png;base64,iVBORw0KGgoAAAANSUhEUgAAAGkAAABpCAAAAAAc6VLmAAAABGdBTUEAALGPC/xhBQAAACBjSFJNAAB6JgAAgIQAAPoAAACA6AAAdTAAAOpgAAA6mAAAF3CculE8AAAAAmJLR0QA/4ePzL8AAAFxSURBVGje7ZrNTsMwEISdsoWGGxcuvP+b8QT8FprWHHYq8aEgyiXaVrOXUR1HnzcardZ2h4fWWmttnbJLmVKGlJ7y2r7HiPdWKY/t91i1pcIkkxixl6Zcp8jX8vweizpgCp/VyMkkkxght8q7KuLbFFm4z61tglxVyskkkxghf8qt7ynPKarsalzkeb5wk3KolJNJJjFCjbV8TSeriMvQ9xhUuT/B3ovnZJJJjGNfzv2m+B2D3H3qhU2KOxaTCpPiJVUlfcAv7T7VlbCya2YUzMkkkxjBxprbThl6xKJUtnf/Xeklfj2TzoN0rMU0bcfDLZ6piH+mjBiskZNJJjGCBygKHi/OLmqNX3a5SYVJwT6EvpZ3N1jUU8ot3rPLTSpMCp2JqwWXyz9S1JXwmlMzT992Lp6TSSYxgm6VyweIBnWkPs1N6e3PuMSvZ9J5kH7c8HfIXQqviigVczLJJEa8pfK2k1tL/ldl1uWu5SYVJn0BDyJNwVo2IxkAAAAASUVORK5C\"></td><td style='text-align:center;vertical-align:middle; margin: 0.5em;border:1px #90999f solid;border-collapse:collapse'><img style='max-width: 100px; max-height:100px;display:inline' src=\"data:image/png;base64,iVBORw0KGgoAAAANSUhEUgAAAGkAAABpCAAAAAAc6VLmAAAABGdBTUEAALGPC/xhBQAAACBjSFJNAAB6JgAAgIQAAPoAAACA6AAAdTAAAOpgAAA6mAAAF3CculE8AAAAAmJLR0QA/4ePzL8AAAF7SURBVGje7ZnBSsNQFERfzE3FShFduvD/P8sPEFHREts0cXEn4BEEV3KVmc3w3kt6csvk9Tbp7lprrbVt2px2TOvTlrSn9lmavEgb0u7b9zprvyWTTKJCfkpTWhX2A6xLm3CJEz+mRE0mmUSFIsx4ay+fMKndmxv8iNNr1GSSSVRs0hVoZf5Fi7ia9zRlXpt/j1GNmkwyiYrL9Ie0DqZA79Nu05TrV1hXqSaTTKK+9OUCK97M7luaUn7A+X2lmkwyiQo1J2pcztO0watH2aUp+iPWtgVrMskkKoTStq0I86/lddoA0wmBUY2aTDKJWlM+Ypb9yx6jDoewka9Rk0kmUeszFjUgCxYXWI8jmXmn3KTCpOD7HAWaTwvVl+t+eMbo51f6H789k/4GKdRma6OesTjjavhyaFO3JpNMokLxZrfNXMse09TBX+G8UjWZZBK1NixHzCrsN2lKue6HHUYVazLJJCr08nIAWF2JbgHdAR3W+BtQqiaTTKI+AOZPScxqGt4BAAAAAElFTkSuQmCC\"></td><td style='text-align:center;vertical-align:middle; margin: 0.5em;border:1px #90999f solid;border-collapse:collapse'><img style='max-width: 100px; max-height:100px;display:inline' src=\"data:image/png;base64,iVBORw0KGgoAAAANSUhEUgAAAGkAAABpCAAAAAAc6VLmAAAABGdBTUEAALGPC/xhBQAAACBjSFJNAAB6JgAAgIQAAPoAAACA6AAAdTAAAOpgAAA6mAAAF3CculE8AAAAAmJLR0QA/4ePzL8AAAF5SURBVGje7ZrNTsNADIQ3xWkKV24ceP/X4gkqfgSEhoSDJxIfClJPlUHjy2jTXX1xNbUcp919a621NqRMKZ8pu5Q55bF9jx7nIuWh/R67dqkwySRGyNCSfcqYcoJcYadiwmc1cjLJJEaoUC8pMvR7yoStM+5txoGolJNJJjFC/pShP1KeU/bYqgKvAyzwc6WcTDKJEYfUY8oCvlZvKXcpXcpryoiLNXIyySTG2rGo26ZbJ9zNE7bos/7sG/6P355Jf4MU8u4AsFbqX1Tu2YmrzqtjcS03qTApZGhZeMRKD6Fy+WbZPmO4cvGcTDKJEWxAOEDR06f68g6i38OAizVyMskkxjpj0cOk+hC5XNbXFtVyzg5p/Ro5mWQSY63lLOKM6xQ1J5oyHnDOLjepMCnUlXAKruAbI74l7bFzqZSTSSYxQm5VMd6cl8vXmsacsMUdi0n1ST/+xyK3qojfYqWO5QYrhWu5SYVJ8ZJK07JQT1sXubLLTSpM+gJMeUyt64j3vQAAAABJRU5ErkJg\"></td><td style='text-align:center;vertical-align:middle; margin: 0.5em;border:1px #90999f solid;border-collapse:collapse'><img style='max-width: 100px; max-height:100px;display:inline' src=\"data:image/png;base64,iVBORw0KGgoAAAANSUhEUgAAAGkAAABpAQAAAAAR+TCXAAAABGdBTUEAALGPC/xhBQAAACBjSFJNAAB6JgAAgIQAAPoAAACA6AAAdTAAAOpgAAA6mAAAF3CculE8AAAAAmJLR0QAAd2KE6QAAAAVSURBVDjLY2AYBaNgFIyCUTAKcAIABicAAUZAVxIAAAAASUVORK5C\"></td><td style='text-align:center;vertical-align:middle; margin: 0.5em;border:1px #90999f solid;border-collapse:collapse'><img style='max-width: 100px; max-height:100px;display:inline' src=\"data:image/png;base64,iVBORw0KGgoAAAANSUhEUgAAAGkAAABpCAAAAAAc6VLmAAAABGdBTUEAALGPC/xhBQAAACBjSFJNAAB6JgAAgIQAAPoAAACA6AAAdTAAAOpgAAA6mAAAF3CculE8AAAAAmJLR0QA/4ePzL8AAAFqSURBVGje7ZrBTsMwEEQ3dNty4ob4/6/jjkAtIU047ETioSBySt1q9jKyneh5q7G1jtu9REREPJYMJWNJFz/jHS2NHUqy5DX+jofYKkwyiZEy9FSyL+lLvkouJfK1FsKuZGwwJ5NMYqRMK5cPENmbC2GH97UesqWcTDKJkTKtfC3TnjSIR3u0tAJUsazY0u/x1zPpNkh5LP1Ar4oT7d6fJc94RAthaDAnk0xizNv1hF61WJCf0GJ53sW/cY+/nkm3QUp5V27V6VMbfI/OEZ0DxprKySSTGKnNnBZWS99Y5Hk9qfVwxky9l5vUMGmuWC7onTCNRUOzmrHLTWqYlERNS6JH+DWG79nlJjVMSh4faW8VLgdMSlegR7zXVE4mmcSY63K6lS5njaLOFfdA18rJJJMYv1zO+03ehL6htf7YuXlOJpnEmP/HsniZ/4SxPWS9vTfPySSTGKmLzUXvqjViUjyStpiTSSYxvgE4m0qquK8/TAAAAABJRU5ErkJg\"></td><td style='text-align:center;vertical-align:middle; margin: 0.5em;border:1px #90999f solid;border-collapse:collapse'><img style='max-width: 100px; max-height:100px;display:inline' src=\"data:image/png;base64,iVBORw0KGgoAAAANSUhEUgAAAGkAAABpCAAAAAAc6VLmAAAABGdBTUEAALGPC/xhBQAAACBjSFJNAAB6JgAAgIQAAPoAAACA6AAAdTAAAOpgAAA6mAAAF3CculE8AAAAAmJLR0QA/4ePzL8AAAE+SURBVGje7ZnBTsQwDESd1EgI7f9/6R6A0uwe4kr7KoPgQg2auVjJNnpxZVmzbruYmZktM4wZbvaoWK3Y7DjXZrja5+r2WxJJJMqjhG8AbzMMhIaV4VyrlJNIIlEekcXO8qYantywWSMnkUSiPC3aNbtG2sQ7VjVyEkkkysNYv82QGpCPGV7wW2xuBXMSSSTq4MstW7GuQwM3lWMRqTDJ30GMao0GH436aQZ69h/f9D++PZH+Bml3LPTlhpXjUj17Ur1cpMKkfcaSTgtpVVjJ8chSMCeRRKIOMxYqteccrlTMSSSRqL3KWcIs7wWXeo2DOCfHIlJhkvOPJsubU5X0K6ll507OSSSRKGcX/sq4xDSGnt2y1ck5iSQSlX/hj/A8w8hOpE6nRk4iiUQ5BygEs0NzpP6N7n1WTiKJRN0BT5xEz1CN5zkAAAAASUVORK5C\"></td><td style='text-align:center;vertical-align:middle; margin: 0.5em;border:1px #90999f solid;border-collapse:collapse'><img style='max-width: 100px; max-height:100px;display:inline' src=\"data:image/png;base64,iVBORw0KGgoAAAANSUhEUgAAAGkAAABpAQAAAAAR+TCXAAAABGdBTUEAALGPC/xhBQAAACBjSFJNAAB6JgAAgIQAAPoAAACA6AAAdTAAAOpgAAA6mAAAF3CculE8AAAAAmJLR0QAAd2KE6QAAAAVSURBVDjLY2AYBaNgFIyCUTAKcAIABicAAUZAVxIAAAAASUVORK5C\"></td><td style='text-align:center;vertical-align:middle; margin: 0.5em;border:1px #90999f solid;border-collapse:collapse'><img style='max-width: 100px; max-height:100px;display:inline' src=\"data:image/png;base64,iVBORw0KGgoAAAANSUhEUgAAAGkAAABpCAAAAAAc6VLmAAAABGdBTUEAALGPC/xhBQAAACBjSFJNAAB6JgAAgIQAAPoAAACA6AAAdTAAAOpgAAA6mAAAF3CculE8AAAAAmJLR0QA/4ePzL8AAAFySURBVGje7ZlLbsMwDERph+lvUXRV9P53ywWKpD/XShecLB6gAlklajHcDCzJeGYwJhh6eomIiLgr+So5lsy4OpRMkNuSTckufo85LhUmmcRIOlmmldm/IYGrbclaMo2Uk0kmMVKG3mC1layQwEm9Ft3br5yTSSYxMktVoZeSfckWT7PgpKq37H0zUk4mmcRI9SivJQ181ev3kucS2fut5BOLY+RkkkmMlD+7/bU8z+Zkxl6e/cD/8dcz6W+QUs2JOg9V9vsS+fqhRK2KqnfD3lA5mWQSI2VvFXH5WhZWJ/6II2rBZXbePkZOJpnESBpawanKh45iUW0Mp+dj5GSSSYzk3Lv7OYjtOY+cYe+L52SSSYzTJJGGlufViatL1/ugaQz/drqWmzQw6VTLZVqW9G5lp/UVdrlJA5OSjXXD1YpFFXEOFN2xmDQ+KVnEGzafSlTEE8JHPI6Uk0kmMVIfNjkRpK8XLAZuiN7elXMyySTGD9bBTdHzF0eoAAAAAElFTkSuQmCC\"></td><td style='text-align:center;vertical-align:middle; margin: 0.5em;border:1px #90999f solid;border-collapse:collapse'><img style='max-width: 100px; max-height:100px;display:inline' src=\"data:image/png;base64,iVBORw0KGgoAAAANSUhEUgAAAGkAAABpCAAAAAAc6VLmAAAABGdBTUEAALGPC/xhBQAAACBjSFJNAAB6JgAAgIQAAPoAAACA6AAAdTAAAOpgAAA6mAAAF3CculE8AAAAAmJLR0QA/4ePzL8AAAF7SURBVGje7ZrJbsJAEEQH3KCEa86R8v8flU/IgrJBDM6hHoeKsnBCA6q+lMbYetNWMSqPPbtrrbXWVpJR8imZSybJo2QmGSRXkoXkvv1e83aqCikkr9pJEdy6l2wkeB5fjzZFrqueegopJK+Dy1mvtxK3t58y2Ohdsuipp5BC8ipW4a3JWoJ3ySgfNjf+AUvJrqeeQgrJqwjkD5LJ+IzeJLcSPP8i2djBPnoKKSSvwsksxrjVD5JR1jY3Vv06esKXePdCOg9SeTghgFxLyCjso/gj6Wi/ddVTSCF5le+q4GsWcQxNqOHMwa5nlMQSUsekwp88THpiIY682qQ4ZbRRXB5Sx6TDHstkQu1tNqzlHsjj8pD6J9VgRKLK3oTsja+fJCu7Li4PqWNS8byJ2fE1pvWNl9FOWfbbU0gheZW/+fH9coqM8myj4xfxk/cUUkhe375j8Y3yGwmLOInFI06PPYUUklfxYtM/t1r8NI2/thCn9m9d4t0L6TxIXxAiS60jtAzkAAAAAElFTkSuQmCC\"></td><td style='text-align:center;vertical-align:middle; margin: 0.5em;border:1px #90999f solid;border-collapse:collapse'><img style='max-width: 100px; max-height:100px;display:inline' src=\"data:image/png;base64,iVBORw0KGgoAAAANSUhEUgAAAGkAAABpCAAAAAAc6VLmAAAABGdBTUEAALGPC/xhBQAAACBjSFJNAAB6JgAAgIQAAPoAAACA6AAAdTAAAOpgAAA6mAAAF3CculE8AAAAAmJLR0QA/4ePzL8AAAGeSURBVGje7ZrLSgNBFER7TPuIDwwK/oJL//83/APBTUSIrxiT6MRFnYAFkey0lapNMcncVN9Qc6meme6qlFJKGYlWol5URR+i2/IVD1Z3Irou32On/BSiFCVHXYoXItz6KnoUzWxRnLkvonzVUk9RipKjYuhT0bsIJ+PdgejN1sacn4qOW+opSlFy1EMxFmY0P/OliPwytaO5qLO6NnqKUpQc9UJ8IxralwTyO9GlaFd0LxqLBi31FKUoOarvN0ksS/sQYHZcPrOjrqWeohQlR52I2XZ6vn4SnYm4AgjyhBqGf1wepYaVKsOYcEL2xrQvIm6nHFAhIsjvWUEbPUUpSo5Kop7bpwtbxmTToijILI9S+0qVjIJpCeQez49EGHps9Z1RGz1FKUqO9SzH1+xFyS+4nMzu286BFfRlK/7jvxelv6FUidm4nJGOy/H1xgthuP23f6unKEXJUX1Pye4TXy+MeI+FeywjOzOJJUoNK63fY/HH9xzxxAiXM9nPKWy3pyhFyVF5hsmDfqIKcYTbhHiesd1vWmLe1opSw0qfRutUQTU7mYMAAAAASUVORK5C\"></td><td style='text-align:center;vertical-align:middle; margin: 0.5em;border:1px #90999f solid;border-collapse:collapse'><img style='max-width: 100px; max-height:100px;display:inline' src=\"data:image/png;base64,iVBORw0KGgoAAAANSUhEUgAAAGkAAABpCAAAAAAc6VLmAAAABGdBTUEAALGPC/xhBQAAACBjSFJNAAB6JgAAgIQAAPoAAACA6AAAdTAAAOpgAAA6mAAAF3CculE8AAAAAmJLR0QA/4ePzL8AAAGASURBVGje7ZnNTsNADIQ3xQ0tHDkj8f4PxQvAoUj8hTYtB08kPilIOYFbjS8jb7YaO5qsZt3uobXWWtsm7BMOCVcJp4Rd+xmRsEH22H6PVfurMJOZGCEJjwnXeDgk7FHUAVv4PdToyUxmYoRk2icoo7z1BZxQ24gtUaknM5mJEdKn1PqVsEvoUc2AH/LrGCv1ZCYzMeIm8TlB5zUN+VvCfUKX8JrwubjgS3x7ZjoPpsmXHxMkYZp16lqZTv314oIv8e2Z6TyY4iVRapUB0cRlwOIRi7I4uq52lXoyk5kYIXlLwh/IZEek+TVAO+VtrHIzFWYKGhBlUrlupu8oSlt0lm+xWKMnM5mJEZwBypDTnvNKquHKgtnhf/VkJjMxgpaDd1EBHctTwgaV+vZppsJMoaslx+bS/DiXCXo8K9WTmczEmBwLz/IVMnkUTWMGbLHKzVSfabLXUjIH5XdYlLe5RdawpUZPZjITI/Rfj0y3jmZpX0qePb1n/XyNnsxkJsY3VjRMrvXy9SQAAAAASUVORK5C\"></td><td style='text-align:center;vertical-align:middle; margin: 0.5em;border:1px #90999f solid;border-collapse:collapse'><img style='max-width: 100px; max-height:100px;display:inline' src=\"data:image/png;base64,iVBORw0KGgoAAAANSUhEUgAAAGkAAABpCAAAAAAc6VLmAAAABGdBTUEAALGPC/xhBQAAACBjSFJNAAB6JgAAgIQAAPoAAACA6AAAdTAAAOpgAAA6mAAAF3CculE8AAAAAmJLR0QA/4ePzL8AAAGBSURBVGje7Zq9bsJAEITPsHYgSZ06Rd7/hfIENED+MME2pJhxMchEVGgTzTSj9dn6btGyWh9UL6WUUso9bIB9w+awI2wNq2RtCathr+WyZuVWMskkVbCue1gD02LXmu9li4wiU04mmaQaq5z9+gBrYZ2snWBzeX4HqzPlZJJJqmD37sS2sFp200rEO9nE+0w5mWSSKh7gK9hJ+IzeYc+y9gHbXb3h//jpmfQ3SOPEMghYZxT26y2MEwuH9Vou5sjJJJNU8QZvxHhyspeIX4SDRIuEOZlkkirYjFm07VTEU8Y7PqHPw6pMOZlkkipYn52AWeXs7J+yxgfY0pdyMUdOJpmkGs9YvmCcxDmX8+SE7Z53ciDXlu4qNykxKWZC1NdOGvs1q3wD4xjD105XuUmJScFpm/2acwiLdpCInZ1fhCZvTiaZpBrfPlnJxyk+y5tNfC+3XNHEb56TSSapzv7HQvHik6xxOHmUKGNOJpmkCv6GqSeCMbWN+CVKlZNJJql+ABxhSarox/iaAAAAAElFTkSuQmCC\"></td></tr></tbody></table><div><small>(a vector displayed as a row to save space)</small></div>"
      ],
      "text/plain": [
       "16-element Array{Array{Gray{Float64},2},1}:\n",
       " [Gray{Float64}(0.101776) Gray{Float64}(0.135011) … Gray{Float64}(0.0) Gray{Float64}(0.0); Gray{Float64}(0.0955892) Gray{Float64}(0.128041) … Gray{Float64}(0.0) Gray{Float64}(0.0); … ; Gray{Float64}(0.157863) Gray{Float64}(0.0768263) … Gray{Float64}(0.0) Gray{Float64}(0.0); Gray{Float64}(0.122648) Gray{Float64}(0.0964908) … Gray{Float64}(0.0) Gray{Float64}(0.0)]    \n",
       " [Gray{Float64}(0.134401) Gray{Float64}(0.178294) … Gray{Float64}(0.0) Gray{Float64}(0.0); Gray{Float64}(0.122098) Gray{Float64}(0.160336) … Gray{Float64}(0.0) Gray{Float64}(0.0); … ; Gray{Float64}(0.216606) Gray{Float64}(0.0995741) … Gray{Float64}(0.0) Gray{Float64}(0.0); Gray{Float64}(0.156993) Gray{Float64}(0.127516) … Gray{Float64}(0.0) Gray{Float64}(0.0)]      \n",
       " [Gray{Float64}(0.0) Gray{Float64}(0.0) … Gray{Float64}(0.0) Gray{Float64}(0.0); Gray{Float64}(0.0) Gray{Float64}(0.0) … Gray{Float64}(0.0) Gray{Float64}(0.0); … ; Gray{Float64}(0.0) Gray{Float64}(0.0) … Gray{Float64}(0.0) Gray{Float64}(0.0); Gray{Float64}(0.0) Gray{Float64}(0.0) … Gray{Float64}(0.0) Gray{Float64}(0.0)]                                               \n",
       " [Gray{Float64}(0.0745653) Gray{Float64}(0.0944981) … Gray{Float64}(0.0) Gray{Float64}(0.0); Gray{Float64}(0.0782342) Gray{Float64}(0.0894321) … Gray{Float64}(0.0) Gray{Float64}(0.0); … ; Gray{Float64}(0.120723) Gray{Float64}(0.0607967) … Gray{Float64}(0.0) Gray{Float64}(0.0); Gray{Float64}(0.0917308) Gray{Float64}(0.0655601) … Gray{Float64}(0.0) Gray{Float64}(0.0)]\n",
       " [Gray{Float64}(0.104077) Gray{Float64}(0.12726) … Gray{Float64}(0.0) Gray{Float64}(0.0); Gray{Float64}(0.0932268) Gray{Float64}(0.120184) … Gray{Float64}(0.0) Gray{Float64}(0.0); … ; Gray{Float64}(0.136235) Gray{Float64}(0.0795258) … Gray{Float64}(0.0) Gray{Float64}(0.0); Gray{Float64}(0.0996313) Gray{Float64}(0.0886051) … Gray{Float64}(0.0) Gray{Float64}(0.0)]    \n",
       " [Gray{Float64}(0.118733) Gray{Float64}(0.155257) … Gray{Float64}(0.0) Gray{Float64}(0.0); Gray{Float64}(0.117548) Gray{Float64}(0.145127) … Gray{Float64}(0.0) Gray{Float64}(0.0); … ; Gray{Float64}(0.192405) Gray{Float64}(0.0906401) … Gray{Float64}(0.0) Gray{Float64}(0.0); Gray{Float64}(0.145525) Gray{Float64}(0.109872) … Gray{Float64}(0.0) Gray{Float64}(0.0)]      \n",
       " [Gray{Float64}(0.118297) Gray{Float64}(0.144909) … Gray{Float64}(0.0) Gray{Float64}(0.0); Gray{Float64}(0.104392) Gray{Float64}(0.133152) … Gray{Float64}(0.0) Gray{Float64}(0.0); … ; Gray{Float64}(0.166272) Gray{Float64}(0.0896343) … Gray{Float64}(0.0) Gray{Float64}(0.0); Gray{Float64}(0.116195) Gray{Float64}(0.102849) … Gray{Float64}(0.0) Gray{Float64}(0.0)]      \n",
       " [Gray{Float64}(0.0) Gray{Float64}(0.0) … Gray{Float64}(0.0) Gray{Float64}(0.0); Gray{Float64}(0.0) Gray{Float64}(0.0) … Gray{Float64}(0.0) Gray{Float64}(0.0); … ; Gray{Float64}(0.0) Gray{Float64}(0.0) … Gray{Float64}(0.0) Gray{Float64}(0.0); Gray{Float64}(0.0) Gray{Float64}(0.0) … Gray{Float64}(0.0) Gray{Float64}(0.0)]                                               \n",
       " [Gray{Float64}(0.090582) Gray{Float64}(0.120616) … Gray{Float64}(0.0) Gray{Float64}(0.0); Gray{Float64}(0.0839622) Gray{Float64}(0.116275) … Gray{Float64}(0.0) Gray{Float64}(0.0); … ; Gray{Float64}(0.130062) Gray{Float64}(0.0669467) … Gray{Float64}(0.0) Gray{Float64}(0.0); Gray{Float64}(0.103527) Gray{Float64}(0.084805) … Gray{Float64}(0.0) Gray{Float64}(0.0)]     \n",
       " [Gray{Float64}(0.046958) Gray{Float64}(0.0586561) … Gray{Float64}(0.0) Gray{Float64}(0.0); Gray{Float64}(0.0450434) Gray{Float64}(0.0547469) … Gray{Float64}(0.0) Gray{Float64}(0.0); … ; Gray{Float64}(0.0667725) Gray{Float64}(0.0361958) … Gray{Float64}(0.0) Gray{Float64}(0.0); Gray{Float64}(0.0498256) Gray{Float64}(0.0407593) … Gray{Float64}(0.0) Gray{Float64}(0.0)]\n",
       " [Gray{Float64}(0.0) Gray{Float64}(0.0) … Gray{Float64}(0.0) Gray{Float64}(0.0); Gray{Float64}(0.0) Gray{Float64}(0.0) … Gray{Float64}(0.0) Gray{Float64}(0.0); … ; Gray{Float64}(0.0) Gray{Float64}(0.0) … Gray{Float64}(0.0) Gray{Float64}(0.0); Gray{Float64}(0.0) Gray{Float64}(0.0) … Gray{Float64}(0.0) Gray{Float64}(0.0)]                                               \n",
       " [Gray{Float64}(0.0939111) Gray{Float64}(0.124538) … Gray{Float64}(0.0) Gray{Float64}(0.0); Gray{Float64}(0.101508) Gray{Float64}(0.121453) … Gray{Float64}(0.0) Gray{Float64}(0.0); … ; Gray{Float64}(0.155591) Gray{Float64}(0.0744899) … Gray{Float64}(0.0) Gray{Float64}(0.0); Gray{Float64}(0.121727) Gray{Float64}(0.0854911) … Gray{Float64}(0.0) Gray{Float64}(0.0)]    \n",
       " [Gray{Float64}(0.125544) Gray{Float64}(0.16294) … Gray{Float64}(0.0) Gray{Float64}(0.0); Gray{Float64}(0.11521) Gray{Float64}(0.154297) … Gray{Float64}(0.0) Gray{Float64}(0.0); … ; Gray{Float64}(0.179821) Gray{Float64}(0.0961163) … Gray{Float64}(0.0) Gray{Float64}(0.0); Gray{Float64}(0.139944) Gray{Float64}(0.115309) … Gray{Float64}(0.0) Gray{Float64}(0.0)]        \n",
       " [Gray{Float64}(0.184282) Gray{Float64}(0.247892) … Gray{Float64}(0.0) Gray{Float64}(0.0); Gray{Float64}(0.165147) Gray{Float64}(0.22237) … Gray{Float64}(0.0) Gray{Float64}(0.0); … ; Gray{Float64}(0.296759) Gray{Float64}(0.137087) … Gray{Float64}(0.0) Gray{Float64}(0.0); Gray{Float64}(0.218436) Gray{Float64}(0.177837) … Gray{Float64}(0.0) Gray{Float64}(0.0)]        \n",
       " [Gray{Float64}(0.12573) Gray{Float64}(0.159893) … Gray{Float64}(0.0) Gray{Float64}(0.0); Gray{Float64}(0.120006) Gray{Float64}(0.150506) … Gray{Float64}(0.0) Gray{Float64}(0.0); … ; Gray{Float64}(0.189901) Gray{Float64}(0.0948208) … Gray{Float64}(0.0) Gray{Float64}(0.0); Gray{Float64}(0.140562) Gray{Float64}(0.112322) … Gray{Float64}(0.0) Gray{Float64}(0.0)]       \n",
       " [Gray{Float64}(0.140419) Gray{Float64}(0.178473) … Gray{Float64}(0.0) Gray{Float64}(0.0); Gray{Float64}(0.129448) Gray{Float64}(0.16533) … Gray{Float64}(0.0) Gray{Float64}(0.0); … ; Gray{Float64}(0.205198) Gray{Float64}(0.108894) … Gray{Float64}(0.0) Gray{Float64}(0.0); Gray{Float64}(0.153971) Gray{Float64}(0.126689) … Gray{Float64}(0.0) Gray{Float64}(0.0)]        "
      ]
     },
     "execution_count": 49,
     "metadata": {},
     "output_type": "execute_result"
    }
   ],
   "source": [
    "output_conv = m_final(shifted_random_test_example_X_4d);\n",
    "displayChannels(output_conv)"
   ]
  },
  {
   "cell_type": "code",
   "execution_count": 50,
   "metadata": {},
   "outputs": [
    {
     "data": {
      "text/html": [
       "<table><tbody><tr><td style='text-align:center;vertical-align:middle; margin: 0.5em;border:1px #90999f solid;border-collapse:collapse'><img style='max-width: 100px; max-height:100px;display:inline' src=\"data:image/png;base64,iVBORw0KGgoAAAANSUhEUgAAAGkAAABpCAAAAAAc6VLmAAAABGdBTUEAALGPC/xhBQAAACBjSFJNAAB6JgAAgIQAAPoAAACA6AAAdTAAAOpgAAA6mAAAF3CculE8AAAAAmJLR0QA/4ePzL8AAAGhSURBVGje7ZnBasMwEETlepO2gbbQQ0/9/7/roWnSmDhOctjJ4YGgFIKxzexlkCzpSWKsbOTms5RSSnlJGVJeU5pyx3i452AmmfSPiEg9plwgdPkp5ZzSQia1JpNMYoROb3mXnn9CU1X+pLyn2OUmTZ8UsvcA8KnWtEv5TdmkrP5GXMZek0kmMYI5Cj1/qU1Kvj6kbPCMKY66d2OvySSTGEpRbv6Ud3WW0/r7lBaV35hwi0EH9Fvi7pk0D1Io92Z6rtIXKtcpeh/6lK427wajtGOvySSTGCFHysI0O02rVOWI/kxq+lp3yghhkkmMkGl14Kq0RxuZVqc+0xiWGkiPoZe4eybNgxS0N69aFGc0UY7SokP1P+wbWi5x90yaB+l2k6hzl7d+uxTZdAU54NljSoNRqpeUI4RJJjFiCyKP7Y+UHZ7pAoXJeqDJtraYJe6eSfMg3W4SdeAyseZX/BNKCuUv8rUOcf0wPKNyibtn0jxIUbW3DK3PnD0qB5Q0U70sK1T6jsWkaZBCB65My+tvfgdaoyRD8+0otdLoazLJJMYVfYtihuyZamQAAAAASUVORK5C\"></td><td style='text-align:center;vertical-align:middle; margin: 0.5em;border:1px #90999f solid;border-collapse:collapse'><img style='max-width: 100px; max-height:100px;display:inline' src=\"data:image/png;base64,iVBORw0KGgoAAAANSUhEUgAAAGkAAABpCAAAAAAc6VLmAAAABGdBTUEAALGPC/xhBQAAACBjSFJNAAB6JgAAgIQAAPoAAACA6AAAdTAAAOpgAAA6mAAAF3CculE8AAAAAmJLR0QA/4ePzL8AAAHHSURBVGje7ZpbS8NAEIWTdtNab+CDiKAv/v8/ZlWwSu3V1of5Cn5Q6Isktsy8HLKZzcmE08PsbuunqqqqqroNWAbcBdTV79hqcLsvZW+Q2Tuc+UeRTMnkKMPARcA6YBPQV+pKmcwbHKao264pmZLJUdAuum4CZgGXSp0HjAMe/m9NyZRMjgLi0Lg3jYu7kq+AD8FQKXsjO5Zk6pipfAduBDZ4S/giYBpww2OUudWEads1JVMyOQrCBN4D6Fj8C/hkhgZf9MLcazR90nZNyZRMjoI1s+w8D6BjeQ7Y6B5GTYtj10fX7nvO2q4pmZLJURDtKAC1ovlGg6h1rvnomqeslNJTyil+vWQ6DqaChG3NU+WgeXfbKw3ay3tKGbRdUzIlk6PQXbCB4o1yrlDyTMArrgXMQ96sTJu2a0qmZHLsvHwpYnQ9Uep1AKLF7mljRpqO5nH2Rds1JVMyOcpbIHssaJ7G+jEAsSPagSZw5V2VV56tYk7x6yXTcTDtVp9rETPYF/jgyHY/1iCZmH+uPpOpY6ZCm100SmPN+SainesegKUjfU5CrzSYXp5MHTPV94F4OUrGfougrytece8/FP36ecKfTB0z/QAf+nM820Vj4QAAAABJRU5ErkJg\"></td><td style='text-align:center;vertical-align:middle; margin: 0.5em;border:1px #90999f solid;border-collapse:collapse'><img style='max-width: 100px; max-height:100px;display:inline' src=\"data:image/png;base64,iVBORw0KGgoAAAANSUhEUgAAAGkAAABpCAAAAAAc6VLmAAAABGdBTUEAALGPC/xhBQAAACBjSFJNAAB6JgAAgIQAAPoAAACA6AAAdTAAAOpgAAA6mAAAF3CculE8AAAAAmJLR0QA/4ePzL8AAAAzSURBVGje7c/BCQAwCARBY/89aw0RzCcz74PlIgAAAAAAAAAAANh3rqc1LOWzT0pK8JsG/8QBDpS3Xd4AAAAASUVORK5C\"></td><td style='text-align:center;vertical-align:middle; margin: 0.5em;border:1px #90999f solid;border-collapse:collapse'><img style='max-width: 100px; max-height:100px;display:inline' src=\"data:image/png;base64,iVBORw0KGgoAAAANSUhEUgAAAGkAAABpCAAAAAAc6VLmAAAABGdBTUEAALGPC/xhBQAAACBjSFJNAAB6JgAAgIQAAPoAAACA6AAAdTAAAOpgAAA6mAAAF3CculE8AAAAAmJLR0QA/4ePzL8AAAGYSURBVGje7ZrBTsMwEERtYlJVSHDh/7+yiDQNKYedHJ5kgQApxNbsZWV71xNb09Vkm/yaUkopncPdw51SxTJCfmwPv8wzkpH+amUIv4Rbw43hMkLviBxqIcc4k5GMRCvitSgs0orJjwj9CDeFU/EfDngmIxmJVkRvkV2kFaHJ8gVrNyRUjRKnx9szUhtIG8uptr/S3lqbw43fP/C695mMZCRaIeKCRYkT8foda5p8Q3rBKGOXHm/PSG0gFamSFbMi+4SRHkoJM1zGWsKeee8zGclItE2xqApLdFOCZ4TckE9towS+0bLA72BGMhKtiLQipuh9CZfhWPXZlFlre1Py93h7RmoDqbB3yGa4TDStNldIb+qXJxymx9szUhtI29sntYYoTNIq9DncFQlaOyPBtdxIx0AqU21WnH8JR1GjZxswUkORjRfSu8fbM1IbSFstJ4XFT/5HtDADkReM9LPQ1zDusRjpn5G271hIaHH+iklqdmqbbbdwGWus+juYkYxEK9IaVSbPGJ0wYkkfMap+wtXj7RmpDaRPpHJe0GNsZEIAAAAASUVORK5C\"></td><td style='text-align:center;vertical-align:middle; margin: 0.5em;border:1px #90999f solid;border-collapse:collapse'><img style='max-width: 100px; max-height:100px;display:inline' src=\"data:image/png;base64,iVBORw0KGgoAAAANSUhEUgAAAGkAAABpCAAAAAAc6VLmAAAABGdBTUEAALGPC/xhBQAAACBjSFJNAAB6JgAAgIQAAPoAAACA6AAAdTAAAOpgAAA6mAAAF3CculE8AAAAAmJLR0QA/4ePzL8AAAGjSURBVGje7ZnNTsMwEIQdsuWvJy5c4P3fDyhQ0ibpYaeHTzJqDygh0exlZHvrsa3xZrtuXksppZT7hCFhm9CU32287ELPm8uef2RmMhMt2sQevVUJ9wAtMf7hnsxkJlocE6XrTUKXcAfXDrC9mqKZek9mMhMtJG9FaIXmseaq+yCV6z7oU3BFbrPG0zPTMpiimqqMtU4aw311wZL+z9R7MpOZaM1LIsWuCL3B2C7hVj/EShuM6Yugv7JfU+/JTGaiBTMPhW0lJ+9oyVPaPSQw02GSz1RljadnpmUwBSWsPOQ7YYCr4vU+gdeC9ZcBY1a5mWZmCsVkCVMS/khosRpdhGq8lrw7zM26zRpPz0zLYApF6CNA+TWVTBctUfLWLB1aTzPtyUxmop0riQf0UvpajcopeiVVUhMY02T6MFSfkSYwM5mJFqqcMM2WTJ8TdhhjGtMCJOhPdPpVyEwzM50zFumaoqUxsgsk/beEHp6aJabek5nMRIuHxGruvUeLpXE+gT6iJRdemTWenpmWwRTVygk7dREoWqXnFHRB51x7MpOZaCfn42H3zrv9rgAAAABJRU5ErkJg\"></td><td style='text-align:center;vertical-align:middle; margin: 0.5em;border:1px #90999f solid;border-collapse:collapse'><img style='max-width: 100px; max-height:100px;display:inline' src=\"data:image/png;base64,iVBORw0KGgoAAAANSUhEUgAAAGkAAABpCAAAAAAc6VLmAAAABGdBTUEAALGPC/xhBQAAACBjSFJNAAB6JgAAgIQAAPoAAACA6AAAdTAAAOpgAAA6mAAAF3CculE8AAAAAmJLR0QA/4ePzL8AAAG+SURBVGje7ZnLTgJBEEV7oAFfiY+4cuP/f5oLNb4BB3BRh8VJRnChg5C6m5uma/p2T+5UqovmtpRSSrkIWmjUlO+x2h7iyMH2yF9CKqWSUcfB8yBcvgwaKpS5Tx4UbULT95lSKZWM2gbb17OgE4XyITwGXf/fM6VSKhmVegILT4LartBp0EfQe9Ao6Ae1zSG+vVTaD6VKEl+JnOBtYdI9Lj/Tj45ksVnfZ0qlVDLWdTX+xLsLxeDWZ+2NkIcgXD7SiOde+z5TKqWSUY+DMS02JZffBZHSxwqhcJlqtaG273vqIb69VNoPpXUupyDH7K220SjEvl52jRZ6btD3mVIplYzqFiKjpyBsinfpuKz0QFFII+JbyVyeSjtWqhQZ2BtjurAG3CKnCnGD3XSFRN9nSqVUMtY9FlyOr7Hwi3ZDQX4Z9KbISde+WbrtmvtLpFIqGdXFiZt/N0E0SUjbvmGSqHE5vr7XmlmXp9KOlda3z4WEV5rE17RM/D8Q9QtdRlzOR3K6ozOlUioZ1fdG/ytEEp+LikLcKKfZeK45J/8ekEqpZFQ6JyTqqfSpy0npRxph6GYDFY0O8e2l0n4ofQHrS2KUAeNmagAAAABJRU5ErkJg\"></td><td style='text-align:center;vertical-align:middle; margin: 0.5em;border:1px #90999f solid;border-collapse:collapse'><img style='max-width: 100px; max-height:100px;display:inline' src=\"data:image/png;base64,iVBORw0KGgoAAAANSUhEUgAAAGkAAABpCAAAAAAc6VLmAAAABGdBTUEAALGPC/xhBQAAACBjSFJNAAB6JgAAgIQAAPoAAACA6AAAdTAAAOpgAAA6mAAAF3CculE8AAAAAmJLR0QA/4ePzL8AAAGrSURBVGje7ZpdawIxFESzGq0WCi19LPT//7lCrRa/ax/u8eHAIi3I6i73vgwbk0wSZocha/NeSimlPAXsA54DmnLFGl1zsmRKpn9UnQQeAk4Cq/wYsAtgXL3DPSVTMrkq8sbEpwHbgLm60rgKeLnfPSVTMrkqto1R/whcmPgmYM34gD9kmyGeXjL1g+ns5ZQ1f7qwNsT+yDQXKDZd7ymZkslV0Se6RpF7Ac7+FTAL4O34CMDLCTwTjVt1vadkSiZXfQhEkbg3Ev4M4A1wT78BLNj55aDGIZ5eMvWDqaJWJIwwsXRftbCorZ7oYuk76Xh4B5VMyeSq6HMrIGSMAxCtvdzmb12z/KNmGeLpJVM/mCpUXKDg5eRr5xffsZC9j5rN0n8NSC9Pphsznb3cX4WotVaDl8/021SNzi887breUzIlk6suAh1OCC5vAcsAtDvVEquG4+wLdcnEkkw3ZqrkCfTJ07it677tNxqXmoXGueYc4uklUz+Yqr/nOL98B7TenJBDGE5iwef9roy63lMyJZOr+grRV9woGe2OBf6PixfctD0N8fSSqR9Mv84CZowX5skYAAAAAElFTkSuQmCC\"></td><td style='text-align:center;vertical-align:middle; margin: 0.5em;border:1px #90999f solid;border-collapse:collapse'><img style='max-width: 100px; max-height:100px;display:inline' src=\"data:image/png;base64,iVBORw0KGgoAAAANSUhEUgAAAGkAAABpAQAAAAAR+TCXAAAABGdBTUEAALGPC/xhBQAAACBjSFJNAAB6JgAAgIQAAPoAAACA6AAAdTAAAOpgAAA6mAAAF3CculE8AAAAAmJLR0QAAd2KE6QAAAAVSURBVDjLY2AYBaNgFIyCUTAKcAIABicAAUZAVxIAAAAASUVORK5C\"></td><td style='text-align:center;vertical-align:middle; margin: 0.5em;border:1px #90999f solid;border-collapse:collapse'><img style='max-width: 100px; max-height:100px;display:inline' src=\"data:image/png;base64,iVBORw0KGgoAAAANSUhEUgAAAGkAAABpCAAAAAAc6VLmAAAABGdBTUEAALGPC/xhBQAAACBjSFJNAAB6JgAAgIQAAPoAAACA6AAAdTAAAOpgAAA6mAAAF3CculE8AAAAAmJLR0QA/4ePzL8AAAGZSURBVGje7ZrLToRAEEUbaVRijBtX/v/3uVAzD2VmXNQl8ZgKroSB3NrcdPM4QG4XRc00L6WUUkofcgl5KD+jwbaSbUuDB9yUucIkkxi1DR0we8kug7vI3nXi3M3Eyf4zTDKJUU+hsnAX8hVyi101uQ95ut57MskkxuhySYsR4xhyCOlxQFq4uGIx6TpIVVak0OUsOSQy+/3fiP3c92SSSYyqLCxRvqbLNaJbNfnGs0GG7LgZwiSTGFW1t0zLXP6KSX5ophaWaMmcs20zhEkmMapQbLVIWG3ry/SIS2SlM2DE18QWn55J6yBVmVYu12gXwlagsv4Zk+dskkWNXW7SwqQxl6tNeMr4srAS9WdIh8kmGz1itMWnZ9I6SGOPRS5nMlbRrYJcuVz2PmDyDidlZvevQiYtTKofIDJtP4e8h6RuledbHL7L9tzi0zNpHaSxccJ+SJuNWGZL9A7QWuFHaL/QPZlkEqOmv1rKu6pK0j8BaKQVoMJFa6bBNncSTVqY9Ktfrh6LbCqXt5l0ExecrpwtPj2T1kH6BnSrXp+jvtTxAAAAAElFTkSuQmCC\"></td><td style='text-align:center;vertical-align:middle; margin: 0.5em;border:1px #90999f solid;border-collapse:collapse'><img style='max-width: 100px; max-height:100px;display:inline' src=\"data:image/png;base64,iVBORw0KGgoAAAANSUhEUgAAAGkAAABpCAAAAAAc6VLmAAAABGdBTUEAALGPC/xhBQAAACBjSFJNAAB6JgAAgIQAAPoAAACA6AAAdTAAAOpgAAA6mAAAF3CculE8AAAAAmJLR0QA/4ePzL8AAAFcSURBVGje7ZrJbsMwDETlmi2CAvn/X03rJT1ofHgAoebQygtmLoQcyi80BgIle7iXUkopUcOzhvfy93r7h3uaZNIriqHG9ffUJ8KAcKiaTDKJCpl2BXipYUSqUuYaPo5bk0kmUcEVumQjSS5fEOKANZlkEhWpvVOX86KWdC33rcZl6V2TSSZRW1/OxqXgosKE/6bML0wYkaJ5c++aTDKJChmThpaFJ4zGLEUWTvewK3674tMz6Ryk4JEJLZwepywYlca8vWoyySQquPzKwlrE6WT2IS9sV3UxetdkkknUdkbCVZh8LtTsQ9JOR7oh84pPz6RzkKLVa7Dp1gvRwG8ST9ZTz1/x6Zl0DlKwOaE/P2uYMGPIAruZ70ZKB5lkErV1LOlGk4GtCuc9MFpxb7vcpJ1J0WrBZ4wofhKQ7jA1sstN2pm0nZdza8nPWehWBXbi6bvP9Iimg0wyifoBDZVaxnBUb2oAAAAASUVORK5C\"></td><td style='text-align:center;vertical-align:middle; margin: 0.5em;border:1px #90999f solid;border-collapse:collapse'><img style='max-width: 100px; max-height:100px;display:inline' src=\"data:image/png;base64,iVBORw0KGgoAAAANSUhEUgAAAGkAAABpAQAAAAAR+TCXAAAABGdBTUEAALGPC/xhBQAAACBjSFJNAAB6JgAAgIQAAPoAAACA6AAAdTAAAOpgAAA6mAAAF3CculE8AAAAAmJLR0QAAd2KE6QAAAAVSURBVDjLY2AYBaNgFIyCUTAKcAIABicAAUZAVxIAAAAASUVORK5C\"></td><td style='text-align:center;vertical-align:middle; margin: 0.5em;border:1px #90999f solid;border-collapse:collapse'><img style='max-width: 100px; max-height:100px;display:inline' src=\"data:image/png;base64,iVBORw0KGgoAAAANSUhEUgAAAGkAAABpCAAAAAAc6VLmAAAABGdBTUEAALGPC/xhBQAAACBjSFJNAAB6JgAAgIQAAPoAAACA6AAAdTAAAOpgAAA6mAAAF3CculE8AAAAAmJLR0QA/4ePzL8AAAGrSURBVGje7ZmxTsNAEETPYbFRSIEoKfj/70MhCXGwKXZSPMnEKcCWrdlmdLk9z91pspmsq7dSSilll9AlbBOq8nv04ynM3Ixn/lGYyUyMiMRzQg+ghDuA5h7GKaqpz2QmMzFCgv4GcZvQIFUfHhOeE+5Q+eRnMpOZGHFJVIWuE6T5HqlS+QmZ+im4w9us8fbMtAymoEdRdEOpzJTYG2y4QopGl6nPZCYzMYKMZ0zKjkjzhwRpV+X+E8tjaPv7qc9kJjMxqvdEGhdBC3hMkFXh39UNUljE/e/TTDMzhajkPCTvrwRJOACaoxNXZoun3Crw/xlmMhMj5K9VhSXhj6FtqIjf8uy05y1Ga7w9My2DKdg7lMmQIZc+O8zJqgTmFKzzOzxsjbdnpmUwXXss0q5EKwkfsRuV+xfMSdA1RlrOvs0ab89My2CKA4YSpsr2a4JS+A2g6W6wfI+nuJabaWamYMFlw5vtFL7aZx/lhHUyLk84zBpvz0zLYAqKVjJlh1ytcTYGWdm1TqZmiznXcjPNzBQquHx9L9HqlY/UWmMhnThH7DK6x2KmmZl+AOp3X+/kHGLzAAAAAElFTkSuQmCC\"></td><td style='text-align:center;vertical-align:middle; margin: 0.5em;border:1px #90999f solid;border-collapse:collapse'><img style='max-width: 100px; max-height:100px;display:inline' src=\"data:image/png;base64,iVBORw0KGgoAAAANSUhEUgAAAGkAAABpCAAAAAAc6VLmAAAABGdBTUEAALGPC/xhBQAAACBjSFJNAAB6JgAAgIQAAPoAAACA6AAAdTAAAOpgAAA6mAAAF3CculE8AAAAAmJLR0QA/4ePzL8AAAG+SURBVGje7ZrLTsMwEEUd4iCgQkLqmg3//2WwaaFAoS8Wc7o4koVYpSSa2VxNMs61revpZNLuqZRSSrkPOAY8BHSlYSd5zZBm5FUZy5IpmWx1CNwFIEzE3iv0WyFMcfjl2V1rwAiWTMlkq8h7H4BovwJuFYrK3wKW/3dNyZRMtkraRuVk70MrdBvwEXAXwLH4Q20zx91LpmkwVUvRmj8JUDIHAbEvdLFp72OvKZmSyVbRLvAZgMrRPJn9NcCF/IsmfK0QnpIqT6YLM1Vqb5SMrpHwsy4OirSEyeU1oFNIHXtNyZRMtnPFgoR5w9wrplPIVlN0U8ZtGA+f4+4l0zSYKqJFwlQs6wC/U5L1jy3YawDTJ+v3Y68pmZLJVtEgYqdUQfPk5INCfCwOirTYl/LmuHvJNA2m6loDD2FSdCNocjktxI3u3WjcXpAqT6YLM9VVICkdlfNV6DFgrXuDpuiuirsxLlXmuHvJNA0mGiBnfULct7ydPDI0vwGrAAoXDsniQmtKpmSy1eb3HLS7kef3TTTPKaGaudb0e8Ecdy+ZpsF07pdTQ9NjqfIGXUS0/o8LE/YnpiJvjruXTNNg+gH8UmOPlPsMBgAAAABJRU5ErkJg\"></td><td style='text-align:center;vertical-align:middle; margin: 0.5em;border:1px #90999f solid;border-collapse:collapse'><img style='max-width: 100px; max-height:100px;display:inline' src=\"data:image/png;base64,iVBORw0KGgoAAAANSUhEUgAAAGkAAABpCAAAAAAc6VLmAAAABGdBTUEAALGPC/xhBQAAACBjSFJNAAB6JgAAgIQAAPoAAACA6AAAdTAAAOpgAAA6mAAAF3CculE8AAAAAmJLR0QA/4ePzL8AAAHfSURBVGje7ZrLTgJBEEV7pEFAiaiJGze6Mu78/6/RyEYlEcNDnuLiHhJvQsLKVkjdzQlDzdwpUtRUN1QPKaWU0rUwE26Eo/RT67RFVdqp9baL/abCKZxcuSl+Cgvha9ttTC2yLTR3W1SlcwqncHLluUjDPRaGwrmFjoVH4f7/5hRO4eTKlPdIqAm0bd6jGQ+EvvAmtC3EtTYc4qcXTvvhlFciMwqvqPKl3Q2gwX8IPArqghc75f1eOqdwCidXpjDBi8DEwpTu1Vq3g88Cz4AsNO30fumcwimcXLkr0pPPBHr5k0Cf7wi0+5lhach2lXbpnMIpnFybuZwSpkzpwi07eCqM7Xxv9zMLIYtV6ZzCKZxcmUY9EWjpQ4vxSq4skm/AyuBr2FbpnMIpnFyZ6YLFJJXMQV+ZUvoju8WFgZmdb8CV0CidUziFk2uzx8JvPXRh6vrVQi8EttRZi54IHTt9bpiWzimcwsmVe+ZIRTJY3wkUO8NJ005gHKlbSM8O1krnFE7h5GI22fRdjOnldcPEz5DYeuRRsLbIS7vYIX564bQfTnkgModQwuyVsNNNCTOXTy0E0a/p7F27mP+oVEDhFE6u6lZk+ciowuTButEnj4a9YsfF/69Y+9ucwimcXN/9vHHd1nGU+gAAAABJRU5ErkJg\"></td><td style='text-align:center;vertical-align:middle; margin: 0.5em;border:1px #90999f solid;border-collapse:collapse'><img style='max-width: 100px; max-height:100px;display:inline' src=\"data:image/png;base64,iVBORw0KGgoAAAANSUhEUgAAAGkAAABpCAAAAAAc6VLmAAAABGdBTUEAALGPC/xhBQAAACBjSFJNAAB6JgAAgIQAAPoAAACA6AAAdTAAAOpgAAA6mAAAF3CculE8AAAAAmJLR0QA/4ePzL8AAAG3SURBVGje7ZlBT8JAEEZbWEHloNGrF///PzMxCmoEpOJhXg8vqeLBtLaZuXxZOt3X3Xw7mZb6vqqqqqquQg4h1yF19X0cT6c4c3Y6848iSUlylLPQfchnSKeFm5APbpT8FHXfa0pSkhwF7yJ4fhtyqdRdyCbk5v+uKUlJchSqdyMwo6NScfm7hGPxi95miruXpHGQ2lruVsUut4UZ4fJVyLwrk9j1vaYkJclRjKJVsfWRNXeE0J4/6oEXSuGQbPpeU5KS5CjnofY1n1oedA0L411q+Zse2P0Ls8z7XlOSkuRo+3IsjDEp6e6o/WY6Uwqz7PUjkd9YkjQwqfgTIhZ+6noMV3237j4PtVKylidpYFLbl/OKSLdN2e4s1BwEin+j2bYa3WoxU9y9JI2DVHAy9sbQlN9XjZYhFyE05LxoUudrzeKpp7h7SRoHqaxFxJ9U9ruQF10ruoHRQinPQmTHkqSBSe0/9AeBqcn2p//aJ4U2hoNA/8IhWSlziruXpHGQCk5GaDLwPF0J9sbCtjeep5tZ6PGLpp7i7iVpHKRCm42T+QqOMXE576JLXWPUWag9ylqepIFJXyM0ZnO4puXJAAAAAElFTkSuQmCC\"></td><td style='text-align:center;vertical-align:middle; margin: 0.5em;border:1px #90999f solid;border-collapse:collapse'><img style='max-width: 100px; max-height:100px;display:inline' src=\"data:image/png;base64,iVBORw0KGgoAAAANSUhEUgAAAGkAAABpCAAAAAAc6VLmAAAABGdBTUEAALGPC/xhBQAAACBjSFJNAAB6JgAAgIQAAPoAAACA6AAAdTAAAOpgAAA6mAAAF3CculE8AAAAAmJLR0QA/4ePzL8AAAHESURBVGje7ZpBS8NAEIVTuylaRRShV0/+/78lHqxiabW2qYf5evggYkFImjBzeWQzm7cT3gyzm0yeqqqqquou4DvgIWBS/W6Hv11sFyd7/teSKZlsZRb4FYB2m4CpXMmAXUDN/DOMKZmSyVa2gdRktPsZcC1XPJcBi/ONKZmSyVao3hRqqveuzRXpbwJWAfcBJ/Q2Y3x7yTQMptLoEkXuA5q2GaxtHXAbQHa0in3ddUzJlEy2AhXyRpFuwRH7W8BMLs8BU90DyJVV1zElUzLZyjzQ1ZsW/EX3rF1UTlq4reeKJCldx5RMyWQriBZ9bgU+LUTlGy2xkctWg4eeYkqmZLIdz1gQOzvMdy0D0c51xQQfPU40zwk0xreXTMNgOvblyJs+hLLtmuwzFrTrTmevZy8UzBjfXjINg6m4E3dNpulma3kZQElnT1lrkHnevOZJYjL1zFReA1EyiqRePwbQv5ABtSbUAnS9lEvuPpOpZ6bi85Cp+C80yE8A/qbPILnSaPCmp5iSKZlsxbqmltO/fAQgWn8QpStB8/wLMNPDuGeGDiyZkslWrgKRMK2KDw1pR+jLEa07cS+49RPoGN9eMg2D6QeUOWWFs98vFwAAAABJRU5ErkJg\"></td></tr></tbody></table><div><small>(a vector displayed as a row to save space)</small></div>"
      ],
      "text/plain": [
       "16-element Array{Array{Gray{Float64},2},1}:\n",
       " [Gray{Float64}(0.108916) Gray{Float64}(0.159251) … Gray{Float64}(0.20841) Gray{Float64}(0.206769); Gray{Float64}(0.125133) Gray{Float64}(0.138176) … Gray{Float64}(0.208638) Gray{Float64}(0.208172); … ; Gray{Float64}(0.0502799) Gray{Float64}(0.0545257) … Gray{Float64}(0.0870228) Gray{Float64}(0.0958151); Gray{Float64}(0.0844292) Gray{Float64}(0.0704684) … Gray{Float64}(0.0997687) Gray{Float64}(0.0991515)]        \n",
       " [Gray{Float64}(0.134913) Gray{Float64}(0.214273) … Gray{Float64}(0.285572) Gray{Float64}(0.28362); Gray{Float64}(0.160153) Gray{Float64}(0.186991) … Gray{Float64}(0.285875) Gray{Float64}(0.285316); … ; Gray{Float64}(0.0549321) Gray{Float64}(0.0697672) … Gray{Float64}(0.102454) Gray{Float64}(0.1083); Gray{Float64}(0.0975044) Gray{Float64}(0.0816721) … Gray{Float64}(0.11661) Gray{Float64}(0.115411)]               \n",
       " [Gray{Float64}(0.0) Gray{Float64}(0.0) … Gray{Float64}(0.0) Gray{Float64}(0.0); Gray{Float64}(0.0) Gray{Float64}(0.0) … Gray{Float64}(0.0) Gray{Float64}(0.0); … ; Gray{Float64}(0.0) Gray{Float64}(0.0) … Gray{Float64}(0.0) Gray{Float64}(0.0); Gray{Float64}(0.0) Gray{Float64}(0.0) … Gray{Float64}(0.0) Gray{Float64}(0.0)]                                                                                               \n",
       " [Gray{Float64}(0.0769482) Gray{Float64}(0.113537) … Gray{Float64}(0.138492) Gray{Float64}(0.137373); Gray{Float64}(0.0893135) Gray{Float64}(0.0987809) … Gray{Float64}(0.138645) Gray{Float64}(0.138427); … ; Gray{Float64}(0.054755) Gray{Float64}(0.0555025) … Gray{Float64}(0.0803925) Gray{Float64}(0.0926007); Gray{Float64}(0.0770361) Gray{Float64}(0.0651949) … Gray{Float64}(0.090736) Gray{Float64}(0.0947236)]      \n",
       " [Gray{Float64}(0.109427) Gray{Float64}(0.142818) … Gray{Float64}(0.178457) Gray{Float64}(0.177412); Gray{Float64}(0.123036) Gray{Float64}(0.129386) … Gray{Float64}(0.178718) Gray{Float64}(0.178246); … ; Gray{Float64}(0.0816113) Gray{Float64}(0.0768389) … Gray{Float64}(0.113363) Gray{Float64}(0.123758); Gray{Float64}(0.10287) Gray{Float64}(0.0880692) … Gray{Float64}(0.120655) Gray{Float64}(0.125211)]             \n",
       " [Gray{Float64}(0.123425) Gray{Float64}(0.186161) … Gray{Float64}(0.238883) Gray{Float64}(0.237027); Gray{Float64}(0.143921) Gray{Float64}(0.160075) … Gray{Float64}(0.239137) Gray{Float64}(0.238695); … ; Gray{Float64}(0.0674301) Gray{Float64}(0.0722848) … Gray{Float64}(0.109298) Gray{Float64}(0.122006); Gray{Float64}(0.104161) Gray{Float64}(0.0876998) … Gray{Float64}(0.122983) Gray{Float64}(0.123839)]            \n",
       " [Gray{Float64}(0.118499) Gray{Float64}(0.169054) … Gray{Float64}(0.216763) Gray{Float64}(0.215591); Gray{Float64}(0.137265) Gray{Float64}(0.152005) … Gray{Float64}(0.217042) Gray{Float64}(0.216556); … ; Gray{Float64}(0.0786863) Gray{Float64}(0.07695) … Gray{Float64}(0.115176) Gray{Float64}(0.123375); Gray{Float64}(0.105124) Gray{Float64}(0.0904048) … Gray{Float64}(0.121618) Gray{Float64}(0.123974)]              \n",
       " [Gray{Float64}(0.0) Gray{Float64}(0.0) … Gray{Float64}(0.0) Gray{Float64}(0.0); Gray{Float64}(0.0) Gray{Float64}(0.0) … Gray{Float64}(0.0) Gray{Float64}(0.0); … ; Gray{Float64}(0.0) Gray{Float64}(0.0) … Gray{Float64}(0.0) Gray{Float64}(0.0); Gray{Float64}(0.0) Gray{Float64}(0.0) … Gray{Float64}(0.0) Gray{Float64}(0.0)]                                                                                               \n",
       " [Gray{Float64}(0.100578) Gray{Float64}(0.137044) … Gray{Float64}(0.178305) Gray{Float64}(0.176876); Gray{Float64}(0.112465) Gray{Float64}(0.12133) … Gray{Float64}(0.178536) Gray{Float64}(0.178045); … ; Gray{Float64}(0.0529848) Gray{Float64}(0.0536777) … Gray{Float64}(0.0854882) Gray{Float64}(0.0932958); Gray{Float64}(0.0786329) Gray{Float64}(0.0655878) … Gray{Float64}(0.0945347) Gray{Float64}(0.0948222)]        \n",
       " [Gray{Float64}(0.0492818) Gray{Float64}(0.0672529) … Gray{Float64}(0.0839241) Gray{Float64}(0.0833641); Gray{Float64}(0.0560547) Gray{Float64}(0.0589151) … Gray{Float64}(0.0840262) Gray{Float64}(0.0838349); … ; Gray{Float64}(0.0324054) Gray{Float64}(0.0312097) … Gray{Float64}(0.0461491) Gray{Float64}(0.0515984); Gray{Float64}(0.043102) Gray{Float64}(0.0369976) … Gray{Float64}(0.0493042) Gray{Float64}(0.0513686)]\n",
       " [Gray{Float64}(0.0) Gray{Float64}(0.0) … Gray{Float64}(0.0) Gray{Float64}(0.0); Gray{Float64}(0.0) Gray{Float64}(0.0) … Gray{Float64}(0.0) Gray{Float64}(0.0); … ; Gray{Float64}(0.0) Gray{Float64}(0.0) … Gray{Float64}(0.0) Gray{Float64}(0.0); Gray{Float64}(0.0) Gray{Float64}(0.0) … Gray{Float64}(0.0) Gray{Float64}(0.0)]                                                                                               \n",
       " [Gray{Float64}(0.103265) Gray{Float64}(0.150402) … Gray{Float64}(0.183) Gray{Float64}(0.18119); Gray{Float64}(0.117369) Gray{Float64}(0.126966) … Gray{Float64}(0.183318) Gray{Float64}(0.182928); … ; Gray{Float64}(0.0579557) Gray{Float64}(0.0643286) … Gray{Float64}(0.0930195) Gray{Float64}(0.107485); Gray{Float64}(0.089075) Gray{Float64}(0.0717557) … Gray{Float64}(0.106745) Gray{Float64}(0.110562)]               \n",
       " [Gray{Float64}(0.134681) Gray{Float64}(0.185194) … Gray{Float64}(0.241164) Gray{Float64}(0.239462); Gray{Float64}(0.152657) Gray{Float64}(0.164379) … Gray{Float64}(0.241401) Gray{Float64}(0.240821); … ; Gray{Float64}(0.0795465) Gray{Float64}(0.0777819) … Gray{Float64}(0.122055) Gray{Float64}(0.133827); Gray{Float64}(0.113629) Gray{Float64}(0.0972456) … Gray{Float64}(0.133593) Gray{Float64}(0.135606)]            \n",
       " [Gray{Float64}(0.186276) Gray{Float64}(0.295468) … Gray{Float64}(0.398764) Gray{Float64}(0.396024); Gray{Float64}(0.220865) Gray{Float64}(0.258879) … Gray{Float64}(0.399132) Gray{Float64}(0.398341); … ; Gray{Float64}(0.0677297) Gray{Float64}(0.0939661) … Gray{Float64}(0.133385) Gray{Float64}(0.14028); Gray{Float64}(0.128896) Gray{Float64}(0.10835) … Gray{Float64}(0.153906) Gray{Float64}(0.152034)]               \n",
       " [Gray{Float64}(0.130696) Gray{Float64}(0.189064) … Gray{Float64}(0.238925) Gray{Float64}(0.237196); Gray{Float64}(0.150439) Gray{Float64}(0.163692) … Gray{Float64}(0.239253) Gray{Float64}(0.238736); … ; Gray{Float64}(0.0818656) Gray{Float64}(0.0840327) … Gray{Float64}(0.125036) Gray{Float64}(0.137759); Gray{Float64}(0.11604) Gray{Float64}(0.097442) … Gray{Float64}(0.137076) Gray{Float64}(0.140379)]              \n",
       " [Gray{Float64}(0.144842) Gray{Float64}(0.205917) … Gray{Float64}(0.267141) Gray{Float64}(0.265442); Gray{Float64}(0.167012) Gray{Float64}(0.181642) … Gray{Float64}(0.267366) Gray{Float64}(0.266809); … ; Gray{Float64}(0.090486) Gray{Float64}(0.0877475) … Gray{Float64}(0.135685) Gray{Float64}(0.148775); Gray{Float64}(0.126374) Gray{Float64}(0.109595) … Gray{Float64}(0.146477) Gray{Float64}(0.149348)]              "
      ]
     },
     "execution_count": 50,
     "metadata": {},
     "output_type": "execute_result"
    }
   ],
   "source": [
    "output_conv = m_final(rotated_random_test_example_X_4d);\n",
    "displayChannels(output_conv)"
   ]
  },
  {
   "cell_type": "markdown",
   "metadata": {},
   "source": [
    "# NN"
   ]
  },
  {
   "cell_type": "code",
   "execution_count": 51,
   "metadata": {},
   "outputs": [
    {
     "name": "stdout",
     "output_type": "stream",
     "text": [
      "accuracy_nn(nn_train_x, Y) = 0.3333333333333333\n",
      "accuracy_nn(nn_train_x, Y) = 0.3333333333333333\n",
      "accuracy_nn(nn_train_x, Y) = 0.3333333333333333\n",
      "accuracy_nn(nn_train_x, Y) = 0.3868\n",
      "accuracy_nn(nn_train_x, Y) = 0.3333333333333333\n",
      "accuracy_nn(nn_train_x, Y) = 0.5155333333333333\n",
      "accuracy_nn(nn_train_x, Y) = 0.3473333333333333\n",
      "accuracy_nn(nn_train_x, Y) = 0.48513333333333336\n",
      "accuracy_nn(nn_train_x, Y) = 0.569\n",
      "accuracy_nn(nn_train_x, Y) = 0.5824666666666667\n",
      "accuracy_nn(nn_train_x, Y) = 0.5144\n",
      "accuracy_nn(nn_train_x, Y) = 0.5820666666666666\n",
      "accuracy_nn(nn_train_x, Y) = 0.5966\n",
      "accuracy_nn(nn_train_x, Y) = 0.5668666666666666\n",
      "accuracy_nn(nn_train_x, Y) = 0.578\n",
      "accuracy_nn(nn_train_x, Y) = 0.5978666666666667\n",
      "accuracy_nn(nn_train_x, Y) = 0.6046\n",
      "accuracy_nn(nn_train_x, Y) = 0.6085333333333334\n",
      "accuracy_nn(nn_train_x, Y) = 0.6178\n",
      "accuracy_nn(nn_train_x, Y) = 0.6264666666666666\n",
      "accuracy_nn(nn_train_x, Y) = 0.6361333333333333\n",
      "accuracy_nn(nn_train_x, Y) = 0.6437333333333334\n",
      "accuracy_nn(nn_train_x, Y) = 0.65\n",
      "accuracy_nn(nn_train_x, Y) = 0.6557333333333333\n",
      "accuracy_nn(nn_train_x, Y) = 0.6596\n"
     ]
    }
   ],
   "source": [
    "nn_train_x = MLDatasets.CIFAR10.convert2features(X) ./ 255\n",
    "m_nn = Chain(\n",
    "    Dense(3072, 2000),\n",
    "    Dense(2000, 500, relu),\n",
    "    Dense(500, 10),\n",
    "    softmax\n",
    ")\n",
    "\n",
    "loss_nn(x, y) = crossentropy(m_nn(x), y)\n",
    "\n",
    "accuracy_nn(x, y) = mean(onecold(m_nn(x)) .== onecold(y))\n",
    "\n",
    "dataset_nn = repeated((nn_train_x, Y), 100)\n",
    "evalcb = () -> @show(accuracy_nn(nn_train_x, Y))\n",
    "opt_nn = ADAM(params(m_nn))\n",
    "\n",
    "Flux.train!(loss_nn, dataset_nn, opt_nn, cb = throttle(evalcb, 10))"
   ]
  },
  {
   "cell_type": "code",
   "execution_count": 52,
   "metadata": {},
   "outputs": [
    {
     "data": {
      "image/png": "[encoded data removed]",
      "text/plain": [
       "32×32 Array{RGB{N0f8},2} with eltype RGB{Normed{UInt8,8}}:\n",
       " RGB{N0f8}(0.369,0.38,0.298)   …  RGB{N0f8}(0.6,0.584,0.557)  \n",
       " RGB{N0f8}(0.416,0.427,0.353)     RGB{N0f8}(0.58,0.565,0.537) \n",
       " RGB{N0f8}(0.616,0.62,0.592)      RGB{N0f8}(0.58,0.565,0.537) \n",
       " RGB{N0f8}(0.788,0.788,0.78)      RGB{N0f8}(0.576,0.565,0.537)\n",
       " RGB{N0f8}(0.839,0.847,0.804)     RGB{N0f8}(0.569,0.557,0.529)\n",
       " RGB{N0f8}(0.694,0.698,0.651)  …  RGB{N0f8}(0.569,0.557,0.525)\n",
       " RGB{N0f8}(0.792,0.796,0.78)      RGB{N0f8}(0.537,0.525,0.494)\n",
       " RGB{N0f8}(0.976,0.976,0.976)     RGB{N0f8}(0.51,0.486,0.455) \n",
       " RGB{N0f8}(0.992,0.992,0.992)     RGB{N0f8}(0.518,0.49,0.459) \n",
       " RGB{N0f8}(0.992,0.992,0.992)     RGB{N0f8}(0.51,0.482,0.455) \n",
       " RGB{N0f8}(0.996,0.996,0.992)  …  RGB{N0f8}(0.506,0.478,0.451)\n",
       " RGB{N0f8}(0.996,0.996,0.992)     RGB{N0f8}(0.514,0.486,0.443)\n",
       " RGB{N0f8}(0.996,0.996,0.992)     RGB{N0f8}(0.502,0.471,0.424)\n",
       " ⋮                             ⋱                              \n",
       " RGB{N0f8}(0.996,0.996,0.996)  …  RGB{N0f8}(0.553,0.514,0.455)\n",
       " RGB{N0f8}(0.996,0.996,0.996)     RGB{N0f8}(0.545,0.498,0.427)\n",
       " RGB{N0f8}(0.996,0.996,0.996)     RGB{N0f8}(0.561,0.506,0.427)\n",
       " RGB{N0f8}(0.996,0.996,0.996)     RGB{N0f8}(0.549,0.498,0.435)\n",
       " RGB{N0f8}(0.996,0.996,0.996)     RGB{N0f8}(0.553,0.506,0.443)\n",
       " RGB{N0f8}(0.996,0.996,0.996)  …  RGB{N0f8}(0.561,0.514,0.451)\n",
       " RGB{N0f8}(0.996,0.996,0.996)     RGB{N0f8}(0.545,0.498,0.435)\n",
       " RGB{N0f8}(0.992,0.992,0.992)     RGB{N0f8}(0.545,0.498,0.435)\n",
       " RGB{N0f8}(0.984,0.984,0.984)     RGB{N0f8}(0.541,0.494,0.431)\n",
       " RGB{N0f8}(0.984,0.984,0.984)     RGB{N0f8}(0.533,0.486,0.427)\n",
       " RGB{N0f8}(0.984,0.98,0.984)   …  RGB{N0f8}(0.533,0.486,0.427)\n",
       " RGB{N0f8}(0.988,0.984,1.0)       RGB{N0f8}(0.537,0.486,0.416)"
      ]
     },
     "execution_count": 52,
     "metadata": {},
     "output_type": "execute_result"
    }
   ],
   "source": [
    "imgrgb = float2RGB(random_test_example_X)"
   ]
  },
  {
   "cell_type": "code",
   "execution_count": 57,
   "metadata": {},
   "outputs": [
    {
     "data": {
      "text/plain": [
       "1.0"
      ]
     },
     "execution_count": 57,
     "metadata": {},
     "output_type": "execute_result"
    }
   ],
   "source": [
    "accuracy_nn(MLDatasets.CIFAR10.convert2features(random_test_example_X)./255, random_test_example_Y)"
   ]
  },
  {
   "cell_type": "code",
   "execution_count": 58,
   "metadata": {},
   "outputs": [
    {
     "data": {
      "text/plain": [
       "1.0"
      ]
     },
     "execution_count": 58,
     "metadata": {},
     "output_type": "execute_result"
    }
   ],
   "source": [
    "accuracy_nn(MLDatasets.CIFAR10.convert2features(shifted_random_test_example_X_4d)./255, random_test_example_Y)"
   ]
  },
  {
   "cell_type": "code",
   "execution_count": 59,
   "metadata": {},
   "outputs": [
    {
     "data": {
      "text/plain": [
       "0.0"
      ]
     },
     "execution_count": 59,
     "metadata": {},
     "output_type": "execute_result"
    }
   ],
   "source": [
    "accuracy_nn(MLDatasets.CIFAR10.convert2features(rotated_random_test_example_X_4d)./255, random_test_example_Y)"
   ]
  }
 ],
 "metadata": {
  "kernelspec": {
   "display_name": "Julia 1.0.1",
   "language": "julia",
   "name": "julia-1.0"
  },
  "language_info": {
   "file_extension": ".jl",
   "mimetype": "application/julia",
   "name": "julia",
   "version": "1.0.1"
  },
  "latex_envs": {
   "LaTeX_envs_menu_present": true,
   "autoclose": false,
   "autocomplete": true,
   "bibliofile": "biblio.bib",
   "cite_by": "apalike",
   "current_citInitial": 1,
   "eqLabelWithNumbers": true,
   "eqNumInitial": 1,
   "hotkeys": {
    "equation": "Ctrl-E",
    "itemize": "Ctrl-I"
   },
   "labels_anchors": false,
   "latex_user_defs": false,
   "report_style_numbering": false,
   "user_envs_cfg": false
  }
 },
 "nbformat": 4,
 "nbformat_minor": 2
}
